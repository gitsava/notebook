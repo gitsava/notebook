{
 "cells": [
  {
   "cell_type": "markdown",
   "id": "starting-inflation",
   "metadata": {},
   "source": [
    "# Jadwalkan ujian PCAP-31-03\n",
    "\n",
    "#### Selamat!\n",
    "Setelah menyelesaikan seluruh rangkaian dua kursus Python Essentials, Anda siap untuk mengikuti ujian sertifikasi <b>PCAP - Certified Associate in Python Programming</b>.\n",
    "\n",
    "Sertifikasi memungkinkan Anda untuk terus memperbarui keterampilan Anda, dan untuk menunjukkan keterampilan ini kepada orang lain. Ini memberi Anda kesempatan untuk memeriksa, membuktikan, dan memvalidasi kemampuan pemrograman Python Anda. Yang terpenting, ini mungkin membuka pintu ke pekerjaan yang lebih baik dan gaji yang lebih baik, dan itu adalah motivator yang hebat untuk peningkatan diri dan pengembangan diri.\n",
    "\n",
    "Tingkatkan karir Anda dengan PCAP - Sertifikasi Associate dalam sertifikasi Pemrograman Python - sebuah kredensial yang berharga dan kuat yang akan membantu Anda membawa karir Anda ke tingkat berikutnya.\n",
    "\n",
    "## Apa yang harus dilakukan sekarang? Dapatkan sertifikasi!\n",
    "Gunakan kode diskon untuk mengurangi biaya ujian dan beli voucher ujian PCAP-31-03 Anda dengan diskon 50%:\n",
    "\n",
    " - Pergi ke <a href=\"https://ums.edube.org/store\">Toko Voucher OpenEDG</a>;\n",
    " - Tambahkan voucher PCAP-31-03 ke troli (klik + Tambahkan ke Pesanan )\n",
    " - Klik Tambahkan Kode Promo dan masukkan kode diskon Anda;\n",
    " - Klik Langkah Berikutnya , berikan Informasi Penagihan dan Pengiriman, dan lakukan pemesanan;\n",
    " - Melakukan pembayaran. Voucher Anda akan dikirim ke alamat email yang Anda berikan di bidang Informasi Pengiriman. Faktur akan dikirim ke alamat email yang dijelaskan di bagian Informasi Penagihan.\n",
    " - Anda dapat membayar voucher ujian PCAP-31-03 dengan semua kartu kredit utama (mis., Visa, MasterCard, American Express), Kartu Debit, atau melalui akun PayPal. Anda juga dapat meminta faktur pro forma dan melakukan pembayaran melalui transfer kawat.\n",
    "\n",
    "\n",
    "## Daftar untuk ujian Anda!\n",
    "Anda dapat mengikuti ujian PCAP-31-03 dari kenyamanan rumah Anda (OnVue Online Proctoring) atau duduk di fasilitas pengujian fisik (Pearson VUE Testing Center).\n",
    "\n",
    "Anda dapat mendaftar dan menjadwalkan dengan:\n",
    "\n",
    " - Mengunjungi <a href=\"https://home.pearsonvue.com/pythoninstitute\">Situs Web Kandidat OpenEDG Python Institute</a> (Saluran pengiriman ujian: Pearson VUE Testing Center / OnVUE Online Proctoring)\n",
    " - Memanggil <a href=\"https://home.pearsonvue.com/python/contact\">Pearson VUE Contact Center: Customer Service</a> (delivery channel Ujian: Pearson VUE Pengujian Pusat / OnVUE online Proctoring)\n",
    " - Menghubungi Pusat Tes Resmi Pearson VUE pilihan Anda (Saluran pengiriman ujian: Pusat Pengujian Pearson VUE) - <a href=\"https://wsr.pearsonvue.com/testtaker/registration/SelectTestCenterProximity/CPPINSTITUTE?conversationId=3112879\">Temukan Pusat Pengujian</a>.\n",
    "\n",
    "Layanan Proctoring OnVUE Online tersedia 24 jam sehari, 7 hari seminggu, sepanjang tahun.\n",
    "\n",
    "#### Ujian PCAP-31-03 - tautan berguna :\n",
    "\n",
    " - Baca lebih lanjut tentang <a href=\"https://pythoninstitute.org/pcap-31-03-testing-policies/\">Kebijakan Pengujian</a> ujian PCAP-31-03 .\n",
    " - Kenali Silabus dan Tujuan Ujian PCAP-31-03 .\n",
    " - Lihat tutorial dan panduan referensi (gulir ke bagian bawah halaman) yang telah kami persiapkan untuk Anda agar pengalaman pengujian Anda menjadi positif dan sukses.\n"
   ]
  },
  {
   "cell_type": "code",
   "execution_count": null,
   "id": "conceptual-profit",
   "metadata": {},
   "outputs": [],
   "source": []
  }
 ],
 "metadata": {
  "kernelspec": {
   "display_name": "Python 3",
   "language": "python",
   "name": "python3"
  },
  "language_info": {
   "codemirror_mode": {
    "name": "ipython",
    "version": 3
   },
   "file_extension": ".py",
   "mimetype": "text/x-python",
   "name": "python",
   "nbconvert_exporter": "python",
   "pygments_lexer": "ipython3",
   "version": "3.6.1"
  },
  "toc": {
   "base_numbering": 1,
   "nav_menu": {},
   "number_sections": false,
   "sideBar": false,
   "skip_h1_title": false,
   "title_cell": "Table of Contents",
   "title_sidebar": "Contents",
   "toc_cell": false,
   "toc_position": {},
   "toc_section_display": false,
   "toc_window_display": false
  }
 },
 "nbformat": 4,
 "nbformat_minor": 5
}
