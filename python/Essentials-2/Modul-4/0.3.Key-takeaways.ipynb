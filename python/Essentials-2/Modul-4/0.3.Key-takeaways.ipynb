{
 "cells": [
  {
   "cell_type": "markdown",
   "id": "suffering-aspect",
   "metadata": {},
   "source": [
    "# Key takeaways\n",
    "\n",
    "1. An `iterator` is an object of a class providing at least `two` methods (not counting the constructor!):\n",
    "\n",
    "  - `__iter__()` is invoked once when the iterator is created and returns the iterator's object `itself`;\n",
    "  - `__next__()` is invoked to provide the `next iteration's value` and raises the `StopIteration` exception when the iteration `comes to and end`.\n",
    "\n",
    "2. The `yield` statement can be used only inside functions. The `yield` statement suspends function execution and causes the function to return the yield's argument as a result. Such a function cannot be invoked in a regular way – its only purpose is to be used as a `generator` (i.e. in a context that requires a series of values, like a `for` loop.)\n",
    "\n",
    "3. A `conditional expression` is an expression built using the `if-else` operator. For example:\n",
    "\n",
    "```py\n",
    "print(True if 0 >=0 else False)\n",
    "```\n",
    "\n",
    "outputs `True`.\n",
    "\n",
    "\n",
    "4. A `list comprehension` becomes a `generator` when used inside `parentheses` (used inside brackets, it produces a regular list). For example:\n",
    "\n",
    "```py\n",
    "for x in (el * 2 for el in range(5)):\n",
    "    print(x)\n",
    "```\n",
    "outputs `02468`.\n",
    "\n",
    "\n",
    "4. A `lambda function` is a tool for creating `anonymous functions`. For example:\n",
    "\n",
    "```py\n",
    "def foo(x,f):\n",
    "    return f(x)\n",
    "\n",
    "print(foo(9, lambda x: x ** 0.5))\n",
    "```\n",
    "\n",
    "outputs `3.0`.\n",
    "\n",
    "\n",
    "5. The `map(fun, list)` function creates a `copy` of a `list` argument, and applies the `fun` function to all of its elements, returning a `generator` that provides the new list content element by element. For example:\n",
    "\n",
    "```py\n",
    "short_list = ['mython', 'python', 'fell', 'on', 'the', 'floor']\n",
    "new_list = list(map(lambda s: s.title(), short_list))\n",
    "print(new_list)\n",
    "```\n",
    "\n",
    "outputs `['Mython', 'Python', 'Fell', 'On', 'The', 'Floor']`.\n",
    "\n",
    "\n",
    "6. The `filter(fun, list)` function creates a `copy` of those `list` elements, which cause the `fun` function to return `True`. The function's result is a `generator` providing the new list content element by element. For example:\n",
    "\n",
    "```py\n",
    "short_list = [1, \"Python\", -1, \"Monty\"]\n",
    "new_list = list(filter(lambda s: isinstance(s, str), short_list))\n",
    "print(new_list)\n",
    "```\n",
    "\n",
    "outputs `['Python', 'Monty']`.\n",
    "\n",
    "\n",
    "7. A closure is a technique which allows the `storing of values` in spite of the fact that the `context` in which they have been created `does not exist anymore`. For example:\n",
    "\n",
    "```py\n",
    "def tag(tg):\n",
    "    tg2 = tg\n",
    "    tg2 = tg[0] + '/' + tg[1:]\n",
    "\n",
    "    def inner(str):\n",
    "        return tg + str + tg2\n",
    "    return inner\n",
    "\n",
    "\n",
    "b_tag = tag('<b>')\n",
    "print(b_tag('Monty Python'))\n",
    "```\n",
    "\n",
    "outputs `<b>Monty Python</b>`\n",
    "\n"
   ]
  },
  {
   "cell_type": "markdown",
   "id": "toxic-carry",
   "metadata": {},
   "source": [
    "## Exercise 1\n",
    "What is the expected output of the following code?"
   ]
  },
  {
   "cell_type": "code",
   "execution_count": 1,
   "id": "daily-seminar",
   "metadata": {},
   "outputs": [
    {
     "name": "stdout",
     "output_type": "stream",
     "text": [
      "a e i o u y   "
     ]
    }
   ],
   "source": [
    "class Vowels:\n",
    "    def __init__(self):\n",
    "        self.vow = \"aeiouy \"  # Yes, we know that y is not always considered a vowel.\n",
    "        self.pos = 0\n",
    "\n",
    "    def __iter__(self):\n",
    "        return self\n",
    "\n",
    "    def __next__(self):\n",
    "        if self.pos == len(self.vow):\n",
    "            raise StopIteration\n",
    "        self.pos += 1\n",
    "        return self.vow[self.pos - 1]\n",
    "\n",
    "\n",
    "vowels = Vowels()\n",
    "for v in vowels:\n",
    "    print(v, end=' ')"
   ]
  },
  {
   "cell_type": "markdown",
   "id": "front-display",
   "metadata": {},
   "source": [
    "## Exercise 2\n",
    "Write a `lambda` function, setting the least significant bit of its integer argument, and apply it to the `map()` function to produce the string `1 3 3 5` on the console."
   ]
  },
  {
   "cell_type": "code",
   "execution_count": 2,
   "id": "flexible-anxiety",
   "metadata": {},
   "outputs": [
    {
     "ename": "SyntaxError",
     "evalue": "invalid syntax (<ipython-input-2-04ab1f9de673>, line 2)",
     "output_type": "error",
     "traceback": [
      "\u001b[1;36m  File \u001b[1;32m\"<ipython-input-2-04ab1f9de673>\"\u001b[1;36m, line \u001b[1;32m2\u001b[0m\n\u001b[1;33m    even_list = # Complete the line here.\u001b[0m\n\u001b[1;37m                                         ^\u001b[0m\n\u001b[1;31mSyntaxError\u001b[0m\u001b[1;31m:\u001b[0m invalid syntax\n"
     ]
    }
   ],
   "source": [
    "any_list = [1, 2, 3, 4]\n",
    "even_list = # Complete the line here.\n",
    "print(even_list)"
   ]
  },
  {
   "cell_type": "markdown",
   "id": "recent-ethnic",
   "metadata": {},
   "source": [
    "```py\n",
    "any_list = [1, 2, 3, 4]\n",
    "even_list = # Complete the line here.\n",
    "print(even_list)\n",
    "```\n",
    "```s\n",
    "list(map(lambda n: n | 1, any_list))\n",
    "```"
   ]
  },
  {
   "cell_type": "code",
   "execution_count": 3,
   "id": "apparent-sydney",
   "metadata": {},
   "outputs": [
    {
     "name": "stdout",
     "output_type": "stream",
     "text": [
      "[1, 3, 3, 5]\n"
     ]
    }
   ],
   "source": [
    "any_list = [1, 2, 3, 4]\n",
    "even_list = list(map(lambda n: n | 1, any_list))\n",
    "print(even_list)"
   ]
  },
  {
   "cell_type": "markdown",
   "id": "governing-bonus",
   "metadata": {},
   "source": [
    "## Exercise 3\n",
    "What is the expected output of the following code?"
   ]
  },
  {
   "cell_type": "code",
   "execution_count": 5,
   "id": "hispanic-ribbon",
   "metadata": {},
   "outputs": [
    {
     "name": "stdout",
     "output_type": "stream",
     "text": [
      "And*Now*for*Something*Completely*Different\n"
     ]
    }
   ],
   "source": [
    "def replace_spaces(replacement='*'):\n",
    "    def new_replacement(text):\n",
    "        return text.replace(' ', replacement)\n",
    "    return new_replacement\n",
    "\n",
    "\n",
    "stars = replace_spaces()\n",
    "print(stars(\"And Now for Something Completely Different\"))"
   ]
  },
  {
   "cell_type": "markdown",
   "id": "alien-infrastructure",
   "metadata": {},
   "source": [
    "### Note\n",
    "\n",
    "<a href=\"https://www.python.org/dev/peps/pep-0008/#programming-recommendations\">PEP 8</a>, the Style Guide for Python Code, recommends that `lambdas should not be assigned to variables, but rather they should be defined as functions`.\n",
    "\n",
    "This means that it is better to use a `def` statement, and avoid using an assignment statement that binds a lambda expression to an identifer. For example:\n",
    "```py\n",
    "# Recommended:\n",
    "def f(x): return 3*x\n",
    "\n",
    "\n",
    "# Not recommended:\n",
    "f = lambda x: 3*x\n",
    "```\n",
    "\n",
    "Binding lambdas to identifiers generally duplicates the functionality of the `def` statement. Using `def` statements, on the other hand, generates more lines of code.\n",
    "\n",
    "It is important to understand that reality often likes to draw its own scenarios, which do not necessarily follow the conventions or formal recommendations. Whether you decide to follow them or not will depend on many things: your preferences, other conventions adopted, company internal guidelines, compatibility with existing code, etc. Be aware of this."
   ]
  },
  {
   "cell_type": "code",
   "execution_count": null,
   "id": "quarterly-canon",
   "metadata": {},
   "outputs": [],
   "source": []
  }
 ],
 "metadata": {
  "kernelspec": {
   "display_name": "Python 3",
   "language": "python",
   "name": "python3"
  },
  "language_info": {
   "codemirror_mode": {
    "name": "ipython",
    "version": 3
   },
   "file_extension": ".py",
   "mimetype": "text/x-python",
   "name": "python",
   "nbconvert_exporter": "python",
   "pygments_lexer": "ipython3",
   "version": "3.6.1"
  },
  "toc": {
   "base_numbering": 1,
   "nav_menu": {},
   "number_sections": false,
   "sideBar": false,
   "skip_h1_title": false,
   "title_cell": "Table of Contents",
   "title_sidebar": "Contents",
   "toc_cell": false,
   "toc_position": {},
   "toc_section_display": false,
   "toc_window_display": false
  }
 },
 "nbformat": 4,
 "nbformat_minor": 5
}
