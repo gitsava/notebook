{
 "cells": [
  {
   "cell_type": "markdown",
   "id": "beneficial-bacteria",
   "metadata": {},
   "source": [
    "# Generators - where to find them\n",
    "`Generator` - what do you associate this word with? Perhaps it refers to some electronic device. Or perhaps it refers to a heavy and serious machine designed to produce power, electrical or other.\n",
    "\n",
    "A Python generator is `a piece of specialized code able to produce a series of values, and to control the iteration process`. This is why generators are very often called `iterators`, and although some may find a very subtle distinction between these two, we'll treat them as one.\n",
    "\n",
    "You may not realize it, but you've encountered generators many, many times before. Take a look at the very simple snippet:"
   ]
  },
  {
   "cell_type": "code",
   "execution_count": null,
   "id": "soviet-cheese",
   "metadata": {},
   "outputs": [],
   "source": [
    "for i in range(5):\n",
    "    print(i)"
   ]
  }
 ],
 "metadata": {
  "kernelspec": {
   "display_name": "Python 3",
   "language": "python",
   "name": "python3"
  },
  "language_info": {
   "codemirror_mode": {
    "name": "ipython",
    "version": 3
   },
   "file_extension": ".py",
   "mimetype": "text/x-python",
   "name": "python",
   "nbconvert_exporter": "python",
   "pygments_lexer": "ipython3",
   "version": "3.6.1"
  },
  "toc": {
   "base_numbering": 1,
   "nav_menu": {},
   "number_sections": false,
   "sideBar": false,
   "skip_h1_title": false,
   "title_cell": "Table of Contents",
   "title_sidebar": "Contents",
   "toc_cell": false,
   "toc_position": {},
   "toc_section_display": false,
   "toc_window_display": false
  }
 },
 "nbformat": 4,
 "nbformat_minor": 5
}
