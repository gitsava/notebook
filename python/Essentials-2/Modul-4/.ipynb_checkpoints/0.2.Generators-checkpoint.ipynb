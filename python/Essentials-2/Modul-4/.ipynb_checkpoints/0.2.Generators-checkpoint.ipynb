{
 "cells": [
  {
   "cell_type": "markdown",
   "id": "colonial-prompt",
   "metadata": {},
   "source": [
    "# Lambdas and the map() function\n",
    "In the simplest of all possible cases, the `map()` function:\n",
    "```py\n",
    "map(function, list)\n",
    "```\n",
    "\n",
    "takes two arguments:\n",
    "\n",
    "  - a function;\n",
    "  - a list.\n",
    "  \n",
    "The above description is extremely simplified, as:\n",
    "\n",
    "  - the second `map()` argument may be any entity that can be iterated (e.g., a tuple, or just a generator)\n",
    "  - `map()` can accept more than two arguments.\n",
    "  \n",
    "The `map() function applies the function passed by its first argument to all its second argument's elements, and returns an iterator delivering all subsequent function results`.\n",
    "\n",
    "You can use the resulting iterator in a loop, or convert it into a list using the `list()` function.\n",
    "\n",
    "Can you see a role for any lambda here?\n",
    "\n",
    "Look at the code in the editor - we've used two lambdas in it."
   ]
  },
  {
   "cell_type": "code",
   "execution_count": 1,
   "id": "nonprofit-donna",
   "metadata": {},
   "outputs": [
    {
     "name": "stdout",
     "output_type": "stream",
     "text": [
      "[1, 2, 4, 8, 16]\n",
      "1 4 16 64 256 \n"
     ]
    }
   ],
   "source": [
    "list_1 = [x for x in range(5)]\n",
    "list_2 = list(map(lambda x: 2 ** x, list_1))\n",
    "print(list_2)\n",
    "\n",
    "for x in map(lambda x: x * x, list_2):\n",
    "    print(x, end=' ')\n",
    "print()"
   ]
  },
  {
   "cell_type": "markdown",
   "id": "worthy-straight",
   "metadata": {},
   "source": [
    "This is the intrigue:\n",
    "\n",
    "  - build the `list_1` with values from `0` to `4`;\n",
    "  - next, use `map` along with the first `lambda` to create a new list in which all elements have been evaluated as `2` raised to the power taken from the corresponding element from `list_1`;\n",
    "  - `list_2` is printed then;\n",
    "  - in the next step, use the `map()` function again to make use of the generator it returns and to directly print all the values it delivers; as you can see, we've engaged the second `lambda` here - it just squares each element from `list_2`.\n",
    "  \n",
    "Try to imagine the same code without lambdas. Would it be any better? It's unlikely."
   ]
  },
  {
   "cell_type": "markdown",
   "id": "oriented-there",
   "metadata": {},
   "source": [
    "# Lambdas and the filter() function\n",
    "Another Python function which can be significantly beautified by the application of a lambda is `filter()`.\n",
    "\n",
    "It expects the same kind of arguments as `map()`, but does something different - it `filters its second argument while being guided by directions flowing from the function specified as the first argument` (the function is invoked for each list element, just like in `map()`).\n",
    "\n",
    "The elements which return `True` from the function `pass the filter` - the others are rejected.\n",
    "\n",
    "The example in the editor shows the `filter()` function in action.\n",
    "\n",
    "Note: we've made use of the `random` module to initialize the random number generator (not to be confused with the generators we've just talked about) with the `seed()` function, and to produce five random integer values from `-10` to `10` using the `randint()` function.\n",
    "\n",
    "The list is then filtered, and only the numbers which are even and greater than zero are accepted.\n",
    "\n",
    "Of course, it's not likely that you'll receive the same results, but this is what our results looked like:\n",
    "```s\n",
    "[6, 3, 3, 2, -7]\n",
    "[6, 2]\n",
    "```"
   ]
  },
  {
   "cell_type": "code",
   "execution_count": 2,
   "id": "contemporary-african",
   "metadata": {},
   "outputs": [
    {
     "name": "stdout",
     "output_type": "stream",
     "text": [
      "[-4, -6, 10, 5, 9]\n",
      "[10]\n"
     ]
    }
   ],
   "source": [
    "from random import seed, randint\n",
    "\n",
    "seed()\n",
    "data = [randint(-10,10) for x in range(5)]\n",
    "filtered = list(filter(lambda x: x > 0 and x % 2 == 0, data))\n",
    "\n",
    "print(data)\n",
    "print(filtered)"
   ]
  },
  {
   "cell_type": "markdown",
   "id": "hearing-stand",
   "metadata": {},
   "source": [
    "# A brief look at closures\n",
    "Let's start with a definition: `closure is a technique which allows the storing of values in spite of the fact that the context in which they have been created does not exist anymore`. Intricate? A bit.\n",
    "\n",
    "Let's analyze a simple example:\n",
    "```py\n",
    "def outer(par):\n",
    "    loc = par\n",
    "\n",
    "\n",
    "var = 1\n",
    "outer(var)\n",
    "\n",
    "print(var)\n",
    "print(loc)\n",
    "```\n",
    "\n",
    "The example is obviously erroneous.\n",
    "\n",
    "The last two lines will cause a NameError exception - neither `par` nor `loc` is accessible outside the function. Both the variables exist when and only when the `outer()` function is being executed.\n",
    "\n",
    "Look at the example in the editor. We've modified the code significantly.\n",
    "\n",
    "There is a brand new element in it - a function (named `inner`) inside another function (named `outer`).\n",
    "\n",
    "How does it work? Just like any other function except for the fact that `inner()` may be invoked only from within `outer()`. We can say that `inner()` is `outer()`'s private tool - no other part of the code can access it.\n",
    "\n",
    "Look carefully:\n",
    "\n",
    "  - the `inner()` function returns the value of the variable accessible inside its scope, as `inner()` can use any of the entities at the disposal of `outer()`\n",
    "  - the `outer()` function returns the `inner()` function itself; more precisely, it returns a copy of the `inner()` function, the one which was frozen at the moment of `outer()`'s invocation; the frozen function contains its full environment, including the state of all local variables, which also means that the value of `loc` is successfully retained, although `outer()` ceased to exist a long time ago.\n",
    "In effect, the code is fully valid, and outputs:\n",
    "```s\n",
    "1\n",
    "```\n",
    "The function returned during the outer() invocation is a closure."
   ]
  }
 ],
 "metadata": {
  "kernelspec": {
   "display_name": "Python 3",
   "language": "python",
   "name": "python3"
  },
  "language_info": {
   "codemirror_mode": {
    "name": "ipython",
    "version": 3
   },
   "file_extension": ".py",
   "mimetype": "text/x-python",
   "name": "python",
   "nbconvert_exporter": "python",
   "pygments_lexer": "ipython3",
   "version": "3.6.1"
  },
  "toc": {
   "base_numbering": 1,
   "nav_menu": {},
   "number_sections": false,
   "sideBar": false,
   "skip_h1_title": false,
   "title_cell": "Table of Contents",
   "title_sidebar": "Contents",
   "toc_cell": false,
   "toc_position": {},
   "toc_section_display": false,
   "toc_window_display": false
  }
 },
 "nbformat": 4,
 "nbformat_minor": 5
}
