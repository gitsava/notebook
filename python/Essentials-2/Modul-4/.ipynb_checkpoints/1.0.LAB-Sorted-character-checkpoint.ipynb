{
 "cells": [
  {
   "cell_type": "markdown",
   "id": "innocent-juvenile",
   "metadata": {},
   "source": [
    "# LAB: Sorted character frequency histogram\n",
    "\n",
    "## Estimated time\n",
    "15-30 minutes\n",
    "\n",
    "## Level of difficulty\n",
    "Medium\n",
    "\n",
    "## Prerequisites\n",
    "4.3.1.15\n",
    "\n",
    "## Objectives\n",
    "  - improve the student's skills in operating with files (reading/writing)\n",
    "  - using lambdas to change the sort order.\n",
    "  \n",
    "## Scenario\n",
    "The previous code needs to be improved. It's okay, but it has to be better.\n",
    "\n",
    "Your task is to make some amendments, which generate the following results:\n",
    "\n",
    "  - the output histogram will be sorted based on the characters' frequency (the bigger counter should be presented first)\n",
    "  - the histogram should be sent to a file with the same name as the input one, but with the suffix '.hist' (it should be concatenated to the original name)\n",
    "  \n",
    "Assuming that the input file contains just one line filled with:\n",
    "```\n",
    "cBabAa\n",
    "```\n",
    "samplefile.txt\n",
    "\n",
    "the expected output should look as follows:\n",
    "```s\n",
    "a -> 3\n",
    "b -> 2\n",
    "c -> 1\n",
    "```\n",
    "\n",
    "Tip: Use a `lambda` to change the sort order."
   ]
  },
  {
   "cell_type": "code",
   "execution_count": null,
   "id": "cardiovascular-violence",
   "metadata": {},
   "outputs": [],
   "source": []
  }
 ],
 "metadata": {
  "kernelspec": {
   "display_name": "Python 3",
   "language": "python",
   "name": "python3"
  },
  "language_info": {
   "codemirror_mode": {
    "name": "ipython",
    "version": 3
   },
   "file_extension": ".py",
   "mimetype": "text/x-python",
   "name": "python",
   "nbconvert_exporter": "python",
   "pygments_lexer": "ipython3",
   "version": "3.6.1"
  },
  "toc": {
   "base_numbering": 1,
   "nav_menu": {},
   "number_sections": false,
   "sideBar": false,
   "skip_h1_title": false,
   "title_cell": "Table of Contents",
   "title_sidebar": "Contents",
   "toc_cell": false,
   "toc_position": {},
   "toc_section_display": false,
   "toc_window_display": false
  }
 },
 "nbformat": 4,
 "nbformat_minor": 5
}
