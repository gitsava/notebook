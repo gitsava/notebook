{
 "cells": [
  {
   "cell_type": "markdown",
   "id": "advanced-confusion",
   "metadata": {},
   "source": [
    "# Key takeaways\n",
    "\n",
    "1. To read a file’s contents, the following stream methods can be used:\n",
    "\n",
    "  - `read(number)` – reads the `number` characters/bytes from the file and returns them as a string; is able to read the whole file at once;\n",
    "  - `readline()` – reads a single line from the text file;\n",
    "  - `readlines(number)` – reads the `number` lines from the text file; is able to read all lines at once;\n",
    "  - `readinto(bytearray)` – reads the bytes from the file and fills the `bytearray` with them;\n",
    "\n",
    "2. To write new content into a file, the following stream methods can be used:\n",
    "\n",
    "  - `write(string)` – writes a `string` to a text file;\n",
    "  - `write(bytearray)` – writes all the bytes of `bytearray` to a file;\n",
    "\n",
    "3. The `open()` method returns an iterable object which can be used to iterate through all the file's lines inside a for loop. For example:\n",
    "```py\n",
    "for line in open(\"file\", \"rt\"):\n",
    "    print(line, end='')\n",
    "```\n",
    "\n",
    "The code copies the file's contents to the console, line by line. `Note`: the stream closes itself `automatically` when it reaches the end of the file."
   ]
  },
  {
   "cell_type": "markdown",
   "id": "engaged-quilt",
   "metadata": {},
   "source": [
    "## Exercise 1\n",
    "What do we expect from the `readlines()` method when the stream is associated with an empty file?\n",
    "\n",
    "A: An empty list (a zero-length list).\n"
   ]
  },
  {
   "cell_type": "markdown",
   "id": "weighted-stretch",
   "metadata": {},
   "source": [
    "## Exercise 2\n",
    "What is the following code intended to do?"
   ]
  },
  {
   "cell_type": "code",
   "execution_count": 1,
   "id": "dirty-fight",
   "metadata": {},
   "outputs": [
    {
     "ename": "FileNotFoundError",
     "evalue": "[Errno 2] No such file or directory: 'file'",
     "output_type": "error",
     "traceback": [
      "\u001b[1;31m---------------------------------------------------------------------------\u001b[0m",
      "\u001b[1;31mFileNotFoundError\u001b[0m                         Traceback (most recent call last)",
      "\u001b[1;32m<ipython-input-1-47791daaaf1f>\u001b[0m in \u001b[0;36m<module>\u001b[1;34m\u001b[0m\n\u001b[1;32m----> 1\u001b[1;33m \u001b[1;32mfor\u001b[0m \u001b[0mline\u001b[0m \u001b[1;32min\u001b[0m \u001b[0mopen\u001b[0m\u001b[1;33m(\u001b[0m\u001b[1;34m\"file\"\u001b[0m\u001b[1;33m,\u001b[0m \u001b[1;34m\"rt\"\u001b[0m\u001b[1;33m)\u001b[0m\u001b[1;33m:\u001b[0m\u001b[1;33m\u001b[0m\u001b[0m\n\u001b[0m\u001b[0;32m      2\u001b[0m     \u001b[1;32mfor\u001b[0m \u001b[0mchar\u001b[0m \u001b[1;32min\u001b[0m \u001b[0mline\u001b[0m\u001b[1;33m:\u001b[0m\u001b[1;33m\u001b[0m\u001b[0m\n\u001b[0;32m      3\u001b[0m         \u001b[1;32mif\u001b[0m \u001b[0mchar\u001b[0m\u001b[1;33m.\u001b[0m\u001b[0mlower\u001b[0m\u001b[1;33m(\u001b[0m\u001b[1;33m)\u001b[0m \u001b[1;32mnot\u001b[0m \u001b[1;32min\u001b[0m \u001b[1;34m\"aeiouy \"\u001b[0m\u001b[1;33m:\u001b[0m\u001b[1;33m\u001b[0m\u001b[0m\n\u001b[0;32m      4\u001b[0m             \u001b[0mprint\u001b[0m\u001b[1;33m(\u001b[0m\u001b[0mchar\u001b[0m\u001b[1;33m,\u001b[0m \u001b[0mend\u001b[0m\u001b[1;33m=\u001b[0m\u001b[1;34m''\u001b[0m\u001b[1;33m)\u001b[0m\u001b[1;33m\u001b[0m\u001b[0m\n",
      "\u001b[1;31mFileNotFoundError\u001b[0m: [Errno 2] No such file or directory: 'file'"
     ]
    }
   ],
   "source": [
    "for line in open(\"file\", \"rt\"):\n",
    "    for char in line:\n",
    "        if char.lower() not in \"aeiouy \":\n",
    "            print(char, end='')"
   ]
  },
  {
   "cell_type": "markdown",
   "id": "developing-pressing",
   "metadata": {},
   "source": [
    "A: It copies the file's contents to the console, ignoring all vowels."
   ]
  },
  {
   "cell_type": "markdown",
   "id": "suburban-karaoke",
   "metadata": {},
   "source": [
    "## Exercise 3\n",
    "You're going to process a bitmap stored in a file named image.png, and you want to read its contents as a whole into a bytearray variable named image. Add a line to the following code to achieve this goal."
   ]
  },
  {
   "cell_type": "code",
   "execution_count": 2,
   "id": "oriented-annotation",
   "metadata": {},
   "outputs": [
    {
     "name": "stdout",
     "output_type": "stream",
     "text": [
      "failed\n"
     ]
    }
   ],
   "source": [
    "try:\n",
    "    stream = open(\"image.png\", \"rb\")\n",
    "    # Insert a line here.\n",
    "    stream.close()\n",
    "except IOError:\n",
    "    print(\"failed\")\n",
    "else:\n",
    "    print(\"success\")"
   ]
  },
  {
   "cell_type": "markdown",
   "id": "bright-vehicle",
   "metadata": {},
   "source": [
    "A: `image = bytearray(stream.read())`"
   ]
  },
  {
   "cell_type": "code",
   "execution_count": null,
   "id": "mechanical-webcam",
   "metadata": {},
   "outputs": [],
   "source": []
  }
 ],
 "metadata": {
  "kernelspec": {
   "display_name": "Python 3",
   "language": "python",
   "name": "python3"
  },
  "language_info": {
   "codemirror_mode": {
    "name": "ipython",
    "version": 3
   },
   "file_extension": ".py",
   "mimetype": "text/x-python",
   "name": "python",
   "nbconvert_exporter": "python",
   "pygments_lexer": "ipython3",
   "version": "3.6.1"
  },
  "toc": {
   "base_numbering": 1,
   "nav_menu": {},
   "number_sections": false,
   "sideBar": false,
   "skip_h1_title": false,
   "title_cell": "Table of Contents",
   "title_sidebar": "Contents",
   "toc_cell": false,
   "toc_position": {},
   "toc_section_display": false,
   "toc_window_display": false
  }
 },
 "nbformat": 4,
 "nbformat_minor": 5
}
