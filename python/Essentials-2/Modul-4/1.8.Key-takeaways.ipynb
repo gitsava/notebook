{
 "cells": [
  {
   "cell_type": "markdown",
   "id": "macro-petroleum",
   "metadata": {},
   "source": [
    "# Key takeaways\n",
    "1. To create a `date` object, you must pass the year, month, and day arguments as follows:"
   ]
  },
  {
   "cell_type": "code",
   "execution_count": 1,
   "id": "explicit-renaissance",
   "metadata": {},
   "outputs": [
    {
     "name": "stdout",
     "output_type": "stream",
     "text": [
      "Year: 2020\n",
      "Month: 9\n",
      "Day: 29\n"
     ]
    }
   ],
   "source": [
    "from datetime import date\n",
    "\n",
    "my_date = date(2020, 9, 29)\n",
    "print(\"Year:\", my_date.year) # Year: 2020\n",
    "print(\"Month:\", my_date.month) # Month: 9\n",
    "print(\"Day:\", my_date.day) # Day: 29"
   ]
  },
  {
   "cell_type": "markdown",
   "id": "visible-stock",
   "metadata": {},
   "source": [
    "   The `date` object has three (read-only) attributes: year, month, and day.\n",
    "\n",
    "2. The `today` method returns a date object representing the current local date:"
   ]
  },
  {
   "cell_type": "code",
   "execution_count": 2,
   "id": "friendly-production",
   "metadata": {},
   "outputs": [
    {
     "name": "stdout",
     "output_type": "stream",
     "text": [
      "Today: 2021-04-01\n"
     ]
    }
   ],
   "source": [
    "from datetime import date\n",
    "print(\"Today:\", date.today()) # Displays: Today: 2020-09-29\n"
   ]
  },
  {
   "cell_type": "markdown",
   "id": "curious-glasgow",
   "metadata": {},
   "source": [
    "3. In Unix, the timestamp expresses the number of seconds since January 1, 1970, 00:00:00 (UTC). This date is called the \"Unix epoch\", because it began the counting of time on Unix systems. The timestamp is actually the difference between a particular date (including time) and January 1, 1970, 00:00:00 (UTC), expressed in seconds. To create a date object from a timestamp, we must pass a Unix timestamp to the `fromtimestamp` method:"
   ]
  },
  {
   "cell_type": "code",
   "execution_count": 3,
   "id": "homeless-prairie",
   "metadata": {},
   "outputs": [],
   "source": [
    "from datetime import date\n",
    "import time\n",
    "\n",
    "timestamp = time.time()\n",
    "d = date.fromtimestamp(timestamp)"
   ]
  },
  {
   "cell_type": "markdown",
   "id": "binary-devices",
   "metadata": {},
   "source": [
    "<b>Note</b>: The `time` function returns the number of seconds from January 1, 1970 to the current moment in the form of a float number.\n",
    "\n",
    "4. The constructor of the `time` class accepts six arguments (hour, minute, second, microsecond, tzinfo, and fold). Each of these arguments is optional."
   ]
  },
  {
   "cell_type": "code",
   "execution_count": 4,
   "id": "variable-investment",
   "metadata": {},
   "outputs": [
    {
     "name": "stdout",
     "output_type": "stream",
     "text": [
      "Hour: 13\n",
      "Minute: 22\n",
      "Second: 20\n"
     ]
    }
   ],
   "source": [
    "from datetime import time\n",
    "\n",
    "t = time(13, 22, 20)\n",
    "\n",
    "print(\"Hour:\", t.hour) # Hour: 13\n",
    "print(\"Minute:\", t.minute) # Minute: 22\n",
    "print(\"Second:\", t.second) # Second: 20"
   ]
  },
  {
   "cell_type": "markdown",
   "id": "graphic-reach",
   "metadata": {},
   "source": [
    "5. The `time` module contains the `sleep` function, which suspends program execution for a given number of seconds, e.g.:"
   ]
  },
  {
   "cell_type": "code",
   "execution_count": 5,
   "id": "fifty-gamma",
   "metadata": {},
   "outputs": [
    {
     "name": "stdout",
     "output_type": "stream",
     "text": [
      "Hello world!\n"
     ]
    }
   ],
   "source": [
    "import time\n",
    "\n",
    "time.sleep(10)\n",
    "print(\"Hello world!\") # This text will be displayed after 10 seconds."
   ]
  },
  {
   "cell_type": "markdown",
   "id": "thrown-motivation",
   "metadata": {},
   "source": [
    "6. In the `datetime` module, date and time can be represented either as separate objects, or as one object. The class that combines date and time is called datetime. All arguments passed to the constructor go to read-only class attributes. They are year, month, day, hour, minute, second, microsecond, tzinfo, and fold:"
   ]
  },
  {
   "cell_type": "code",
   "execution_count": 6,
   "id": "economic-internship",
   "metadata": {},
   "outputs": [
    {
     "name": "stdout",
     "output_type": "stream",
     "text": [
      "Datetime: 2020-09-29 13:51:00\n"
     ]
    }
   ],
   "source": [
    "from datetime import datetime\n",
    "\n",
    "dt = datetime(2020, 9, 29, 13, 51)\n",
    "print(\"Datetime:\", dt) # Displays: Datetime: 2020-09-29 13:51:00"
   ]
  },
  {
   "cell_type": "markdown",
   "id": "disciplinary-backing",
   "metadata": {},
   "source": [
    "7. The `strftime` method takes only one argument in the form of a string specifying a format that can consist of directives. A directive is a string consisting of the character % (percent) and a lowercase or uppercase letter. Below are some useful directives:\n",
    "\n",
    "  - `%Y` – returns the year with the century as a decimal number;\n",
    "  - `%m` – returns the month as a zero-padded decimal number;\n",
    "  - `%d` – returns the day as a zero-padded decimal number;\n",
    "  - `%H` – returns the hour as a zero-padded decimal number;\n",
    "  - `%M` – returns the minute as a zero-padded decimal number;\n",
    "  - `%S` – returns the second as a zero-padded decimal number.\n",
    "  \n",
    "Example:"
   ]
  },
  {
   "cell_type": "code",
   "execution_count": 7,
   "id": "coordinated-management",
   "metadata": {},
   "outputs": [
    {
     "name": "stdout",
     "output_type": "stream",
     "text": [
      "2020/09/29\n"
     ]
    }
   ],
   "source": [
    "from datetime import date\n",
    "\n",
    "d = date(2020, 9, 29)\n",
    "print(d.strftime('%Y/%m/%d')) # Displays: 2020/09/29"
   ]
  },
  {
   "cell_type": "markdown",
   "id": "moving-intention",
   "metadata": {},
   "source": [
    "8. It's possible to perform calculations on `date` and `datetime` objects, e.g.:"
   ]
  },
  {
   "cell_type": "code",
   "execution_count": 8,
   "id": "careful-design",
   "metadata": {},
   "outputs": [
    {
     "name": "stdout",
     "output_type": "stream",
     "text": [
      "366 days, 0:00:00\n",
      "732 days, 0:00:00\n"
     ]
    }
   ],
   "source": [
    "from datetime import date\n",
    "\n",
    "d1 = date(2020, 11, 4)\n",
    "d2 = date(2019, 11, 4)\n",
    "\n",
    "d = d1 - d2\n",
    "print(d) # Displays: 366 days, 0:00:00.\n",
    "print(d * 2) # Displays: 732 days, 0:00:00."
   ]
  },
  {
   "cell_type": "markdown",
   "id": "insured-screen",
   "metadata": {},
   "source": [
    "The result of the subtraction is returned as a `timedelta` object that expresses the difference in days between the two dates in the example above.\n",
    "\n",
    "<b>Note</b> that the difference in hours, minutes, and seconds is also displayed. The `timedelta` object can be used for further calculations (e.g. you can multiply it by 2)."
   ]
  },
  {
   "cell_type": "markdown",
   "id": "racial-audit",
   "metadata": {},
   "source": [
    "## Exercise 1\n",
    "\n",
    "What is the output of the following snippet?"
   ]
  },
  {
   "cell_type": "code",
   "execution_count": 9,
   "id": "informed-stevens",
   "metadata": {},
   "outputs": [
    {
     "name": "stdout",
     "output_type": "stream",
     "text": [
      "14:39:00\n"
     ]
    }
   ],
   "source": [
    "from datetime import time\n",
    "\n",
    "t = time(14, 39)\n",
    "print(t.strftime(\"%H:%M:%S\"))"
   ]
  },
  {
   "cell_type": "markdown",
   "id": "fitted-polyester",
   "metadata": {},
   "source": [
    "## Exercise 2\n",
    "What is the output of the following snippet?"
   ]
  },
  {
   "cell_type": "code",
   "execution_count": 10,
   "id": "agricultural-dietary",
   "metadata": {},
   "outputs": [
    {
     "name": "stdout",
     "output_type": "stream",
     "text": [
      "1 day, 0:00:00\n"
     ]
    }
   ],
   "source": [
    "from datetime import datetime\n",
    "\n",
    "dt1 = datetime(2020, 9, 29, 14, 41, 0)\n",
    "dt2 = datetime(2020, 9, 28, 14, 41, 0)\n",
    "\n",
    "print(dt1 - dt2)"
   ]
  },
  {
   "cell_type": "code",
   "execution_count": null,
   "id": "productive-patrick",
   "metadata": {},
   "outputs": [],
   "source": []
  }
 ],
 "metadata": {
  "kernelspec": {
   "display_name": "Python 3",
   "language": "python",
   "name": "python3"
  },
  "language_info": {
   "codemirror_mode": {
    "name": "ipython",
    "version": 3
   },
   "file_extension": ".py",
   "mimetype": "text/x-python",
   "name": "python",
   "nbconvert_exporter": "python",
   "pygments_lexer": "ipython3",
   "version": "3.6.1"
  },
  "toc": {
   "base_numbering": 1,
   "nav_menu": {},
   "number_sections": false,
   "sideBar": false,
   "skip_h1_title": false,
   "title_cell": "Table of Contents",
   "title_sidebar": "Contents",
   "toc_cell": false,
   "toc_position": {},
   "toc_section_display": false,
   "toc_window_display": false
  }
 },
 "nbformat": 4,
 "nbformat_minor": 5
}
