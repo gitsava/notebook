{
 "cells": [
  {
   "cell_type": "markdown",
   "id": "beneficial-bacteria",
   "metadata": {},
   "source": [
    "# Generators - where to find them\n",
    "`Generator` - what do you associate this word with? Perhaps it refers to some electronic device. Or perhaps it refers to a heavy and serious machine designed to produce power, electrical or other.\n",
    "\n",
    "A Python generator is `a piece of specialized code able to produce a series of values, and to control the iteration process`. This is why generators are very often called `iterators`, and although some may find a very subtle distinction between these two, we'll treat them as one.\n",
    "\n",
    "You may not realize it, but you've encountered generators many, many times before. Take a look at the very simple snippet:"
   ]
  },
  {
   "cell_type": "code",
   "execution_count": null,
   "id": "digital-episode",
   "metadata": {},
   "outputs": [],
   "source": [
    "for i in range(5):\n",
    "    print(i)"
   ]
  },
  {
   "cell_type": "markdown",
   "id": "stuck-intake",
   "metadata": {},
   "source": [
    "The `range()` function is, in fact, a generator, which is (in fact, again) an iterator.\n",
    "\n",
    "What is the difference?\n",
    "\n",
    "A function returns one, well-defined value - it may be the result of a more or less complex evaluation of, e.g., a polynomial, and is invoked once - only once.\n",
    "\n",
    "A generator `returns a series of values`, and in general, is (implicitly) invoked more than once.\n",
    "\n",
    "In the example, the `range()` generator is invoked six times, providing five subsequent values from zero to four, and finally signaling that the series is complete.\n",
    "\n",
    "The above process is completely transparent. Let's shed some light on it. Let's show you the `iterator protocol`."
   ]
  },
  {
   "cell_type": "markdown",
   "id": "common-chicago",
   "metadata": {},
   "source": [
    "# Generators - where to find them: continued\n",
    "The `iterator protocol is a way in which an object should behave to conform to the rules imposed by the context of the for and in statements`. An object conforming to the iterator protocol is called an `iterator`.\n",
    "\n",
    "An iterator must provide two methods:\n",
    "\n",
    "  - `__iter__()` which should `return the object itself` and which is invoked once (it's needed for Python to successfully start the iteration)\n",
    "  - `__next__()` which is intended to `return the next value` (first, second, and so on) of the desired series - it will be invoked by the `for`/`in` statements in order to pass through the next iteration; if there are no more values to provide, the method should `raise the StopIteration exception`.\n",
    "Does it sound strange? Not at all. Look at the example in the editor.\n",
    "\n",
    "We've built a class able to iterate through the first `n` values (where `n` is a constructor parameter) of the Fibonacci numbers.\n",
    "\n",
    "Let us remind you - the Fibonacci numbers ($Fib_{i}$) are defined as follows:\n",
    "\n",
    "$Fib_{1}$ = 1\n",
    "\n",
    "$Fib_{2}$ = 1\n",
    "\n",
    "$Fib_{i}$ = $Fib_{i-1}$ + $Fib_{i-2}$\n",
    "\n",
    "In other words:\n",
    "\n",
    "  - the first two Fibonacci numbers are equal to 1;\n",
    "  - any other Fibonacci number is the sum of the two previous ones (e.g., $Fib_{3}$ = 2, $Fib_{4}$ = 3, $Fib_{5}$ = 5, and so on)\n",
    "  \n"
   ]
  },
  {
   "cell_type": "code",
   "execution_count": 2,
   "id": "speaking-asian",
   "metadata": {},
   "outputs": [
    {
     "name": "stdout",
     "output_type": "stream",
     "text": [
      "__init__\n",
      "__iter__\n",
      "__next__\n",
      "1\n",
      "__next__\n",
      "1\n",
      "__next__\n",
      "2\n",
      "__next__\n",
      "3\n",
      "__next__\n",
      "5\n",
      "__next__\n",
      "8\n",
      "__next__\n",
      "13\n",
      "__next__\n",
      "21\n",
      "__next__\n",
      "34\n",
      "__next__\n",
      "55\n",
      "__next__\n"
     ]
    }
   ],
   "source": [
    "class Fib:\n",
    "    def __init__(self, nn):\n",
    "        print(\"__init__\")\n",
    "        self.__n = nn\n",
    "        self.__i = 0\n",
    "        self.__p1 = self.__p2 = 1\n",
    "\n",
    "    def __iter__(self):\n",
    "        print(\"__iter__\")\n",
    "        return self\n",
    "\n",
    "    def __next__(self):\n",
    "        print(\"__next__\")\t\t\t\t\n",
    "        self.__i += 1\n",
    "        if self.__i > self.__n:\n",
    "            raise StopIteration\n",
    "        if self.__i in [1, 2]:\n",
    "            return 1\n",
    "        ret = self.__p1 + self.__p2\n",
    "        self.__p1, self.__p2 = self.__p2, ret\n",
    "        return ret\n",
    "\n",
    "\n",
    "for i in Fib(10):\n",
    "    print(i)"
   ]
  },
  {
   "cell_type": "markdown",
   "id": "rough-array",
   "metadata": {},
   "source": [
    "Let's dive into the code:\n",
    "\n",
    "  - lines 2 through 6: the class constructor prints a message (we'll use this to trace the class's behavior), prepares some variables (`__n` to store the series limit, `__i` to track the current Fibonacci number to provide, and `__p1` along with `__p2` to save the two previous numbers);\n",
    "\n",
    "  - lines 8 through 10: the `__iter__` method is obliged to return the iterator object itself; its purpose may be a bit ambiguous here, but there's no mystery; try to imagine an object which is not an iterator (e.g., it's a collection of some entities), but one of its components is an iterator able to scan the collection; the `__iter__` method should `extract the iterator and entrust it with the execution of the iteration protocol`; as you can see, the method starts its action by printing a message;\n",
    "\n",
    "  - lines 12 through 21: the `__next__` method is responsible for creating the sequence; it's somewhat wordy, but this should make it more readable; first, it prints a message, then it updates the number of desired values, and if it reaches the end of the sequence, the method breaks the iteration by raising the StopIteration exception; the rest of the code is simple, and it precisely reflects the definition we showed you earlier;\n",
    "\n",
    "  - lines 24 and 25 make use of the iterator.\n",
    "\n",
    "The code produces the following output:\n",
    "```s\n",
    "__init__\n",
    "__iter__\n",
    "__next__\n",
    "1\n",
    "__next__\n",
    "1\n",
    "__next__\n",
    "2\n",
    "__next__\n",
    "3\n",
    "__next__\n",
    "5\n",
    "__next__\n",
    "8\n",
    "__next__\n",
    "13\n",
    "__next__\n",
    "21\n",
    "__next__\n",
    "34\n",
    "__next__\n",
    "55\n",
    "__next__\n",
    "```\n",
    "\n",
    "Look:\n",
    "\n",
    "  - the iterator object is instantiated first;\n",
    "  - next, Python invokes the `__iter__` method to get access to the actual iterator;\n",
    "  - the `__next__` method is invoked eleven times - the first ten times produce useful values, while the eleventh terminates the iteration.\n"
   ]
  },
  {
   "cell_type": "markdown",
   "id": "directed-float",
   "metadata": {},
   "source": [
    "# Generators - where to find them: continued\n",
    "The previous example shows you a solution where the `iterator object is a part of a more complex class`.\n",
    "\n",
    "The code isn't really sophisticated, but it presents the concept in a clear way.\n",
    "\n",
    "Take a look at the code in the editor."
   ]
  },
  {
   "cell_type": "code",
   "execution_count": 1,
   "id": "regulation-implementation",
   "metadata": {},
   "outputs": [
    {
     "name": "stdout",
     "output_type": "stream",
     "text": [
      "Class iter\n",
      "1\n",
      "1\n",
      "2\n",
      "3\n",
      "5\n",
      "8\n",
      "13\n",
      "21\n"
     ]
    }
   ],
   "source": [
    "class Fib:\n",
    "    def __init__(self, nn):\n",
    "        self.__n = nn\n",
    "        self.__i = 0\n",
    "        self.__p1 = self.__p2 = 1\n",
    "\n",
    "    def __iter__(self):\n",
    "        print(\"Fib iter\")\n",
    "        return self\n",
    "\n",
    "    def __next__(self):\n",
    "        self.__i += 1\n",
    "        if self.__i > self.__n:\n",
    "            raise StopIteration\n",
    "        if self.__i in [1, 2]:\n",
    "            return 1\n",
    "        ret = self.__p1 + self.__p2\n",
    "        self.__p1, self.__p2 = self.__p2, ret\n",
    "        return ret\n",
    "\n",
    "class Class:\n",
    "    def __init__(self, n):\n",
    "        self.__iter = Fib(n)\n",
    "\n",
    "    def __iter__(self):\n",
    "        print(\"Class iter\")\n",
    "        return self.__iter;\n",
    "\n",
    "\n",
    "object = Class(8)\n",
    "\n",
    "for i in object:\n",
    "    print(i)"
   ]
  },
  {
   "cell_type": "markdown",
   "id": "certain-constant",
   "metadata": {},
   "source": [
    "We've built the `Fib` iterator into another class (we can say that we've composed it into the `Class` class). It's instantiated along with `Class`'s object.\n",
    "\n",
    "The object of the class may be used as an iterator when (and only when) it positively answers to the `__iter__` invocation - this class can do it, and if it's invoked in this way, it provides an object able to obey the iteration protocol.\n",
    "\n",
    "This is why the output of the code is the same as previously, although the object of the `Fib` class isn't used explicitly inside the `for` loop's context."
   ]
  },
  {
   "cell_type": "markdown",
   "id": "disabled-transfer",
   "metadata": {},
   "source": [
    "# The yield statement\n",
    "The iterator protocol isn't particularly difficult to understand and use, but it is also indisputable that the `protocol is rather inconvenient`.\n",
    "\n",
    "The main discomfort it brings is `the need to save the state of the iteration between subsequent __iter__ invocations`.\n",
    "\n",
    "For example, the `Fib` iterator is forced to precisely store the place in which the last invocation has been stopped (i.e., the evaluated number and the values of the two previous elements). This makes the code larger and less comprehensible.\n",
    "\n",
    "This is why Python offers a much more effective, convenient, and elegant way of writing iterators.\n",
    "\n",
    "The concept is fundamentally based on a very specific and powerful mechanism provided by the yield keyword.\n",
    "\n",
    "You may think of the `yield` keyword as a smarter sibling of the `return` statement, with one essential difference.\n",
    "\n",
    "Take a look at this function:\n",
    "```py\n",
    "def fun(n):\n",
    "    for i in range(n):\n",
    "        return i\n",
    "```\n",
    "\n",
    "It looks strange, doesn't it? It's clear that the `for` loop has no chance to finish its first execution, as the `return` will break it irrevocably.\n",
    "\n",
    "Moreover, invoking the function won't change anything - the `for` loop will start from scratch and will be broken immediately.\n",
    "\n",
    "We can say that such a function is not able to save and restore its state between subsequent invocations.\n",
    "\n",
    "This also means that a function like this `cannot be used as a generator`.\n",
    "\n",
    "We've replaced exactly one word in the code - can you see it?\n",
    "```py\n",
    "def fun(n):\n",
    "    for i in range(n):\n",
    "        yield i\n",
    "```\n",
    "\n",
    "We've added `yield` instead of `return`. This little amendment `turns the function into a generator`, and executing the `yield` statement has some very interesting effects.\n",
    "\n",
    "First of all, it provides the value of the expression specified after the `yield` keyword, just like `return`, but doesn't lose the state of the function.\n",
    "\n",
    "All the variables' values are frozen, and wait for the next invocation, when the execution is resumed (not taken from scratch, like after `return`).\n",
    "\n",
    "There is one important limitation: such a `function should not be invoked explicitly` as - in fact - it isn't a function anymore; `it's a generator object`.\n",
    "\n",
    "The invocation will `return the object's identifier`, not the series we expect from the generator.\n",
    "\n",
    "Due to the same reasons, the previous function (the one with the `return` statement) may only be invoked explicitly, and must not be used as a generator.\n",
    "\n",
    "# How to build a generator\n",
    "Let us show you the new generator in action.\n",
    "\n",
    "This is how we can use it:\n",
    "```py\n",
    "def fun(n):\n",
    "    for i in range(n):\n",
    "        yield i\n",
    "\n",
    "\n",
    "for v in fun(5):\n",
    "    print(v)\n",
    "```\n",
    "\n",
    "Can you guess the output?\n",
    "\n",
    "A:\n",
    "```s\n",
    "0\n",
    "1\n",
    "2\n",
    "3\n",
    "4\n",
    "```"
   ]
  },
  {
   "cell_type": "markdown",
   "id": "lesser-vertex",
   "metadata": {},
   "source": [
    "# How to build your own generator\n",
    "What if you need a `generator to produce the first n powers of 2`?\n",
    "\n",
    "Nothing easier. Just look at the code below:"
   ]
  },
  {
   "cell_type": "code",
   "execution_count": 3,
   "id": "liked-tokyo",
   "metadata": {},
   "outputs": [
    {
     "name": "stdout",
     "output_type": "stream",
     "text": [
      "1\n",
      "2\n",
      "4\n",
      "8\n",
      "16\n",
      "32\n",
      "64\n",
      "128\n"
     ]
    }
   ],
   "source": [
    "def powers_of_2(n):\n",
    "    power = 1\n",
    "    for i in range(n):\n",
    "        yield power\n",
    "        power *= 2\n",
    "\n",
    "\n",
    "for v in powers_of_2(8):\n",
    "    print(v)"
   ]
  },
  {
   "cell_type": "markdown",
   "id": "cellular-meditation",
   "metadata": {},
   "source": [
    "Can you guess the output? Copy the code to the editor and run it to check your guesses.\n",
    "\n",
    "### List comprehensions`\n",
    "\n",
    "Generators may also be used within `list comprehensions`, just like here:"
   ]
  },
  {
   "cell_type": "code",
   "execution_count": 4,
   "id": "grave-commander",
   "metadata": {},
   "outputs": [
    {
     "name": "stdout",
     "output_type": "stream",
     "text": [
      "[1, 2, 4, 8, 16]\n"
     ]
    }
   ],
   "source": [
    "def powers_of_2(n):\n",
    "    power = 1\n",
    "    for i in range(n):\n",
    "        yield power\n",
    "        power *= 2\n",
    "\n",
    "\n",
    "t = [x for x in powers_of_2(5)]\n",
    "print(t)"
   ]
  },
  {
   "cell_type": "markdown",
   "id": "typical-breath",
   "metadata": {},
   "source": [
    "Run the example and check the output.\n",
    "\n",
    "### The list() function\n",
    "\n",
    "The `list()` function can transform a series of subsequent generator invocations into `a real list`:"
   ]
  },
  {
   "cell_type": "code",
   "execution_count": 5,
   "id": "promising-seattle",
   "metadata": {},
   "outputs": [
    {
     "name": "stdout",
     "output_type": "stream",
     "text": [
      "[1, 2, 4]\n"
     ]
    }
   ],
   "source": [
    "def powers_of_2(n):\n",
    "    power = 1\n",
    "    for i in range(n):\n",
    "        yield power\n",
    "        power *= 2\n",
    "\n",
    "\n",
    "t = list(powers_of_2(3))\n",
    "print(t)"
   ]
  },
  {
   "cell_type": "markdown",
   "id": "tutorial-wireless",
   "metadata": {},
   "source": [
    "Again, try to predict the output and run the code to check your predictions.\n",
    "\n",
    "### The in operator\n",
    "\n",
    "Moreover, the context created by the `in` operator allows you to use a generator, too.\n",
    "\n",
    "The example shows how to do it:"
   ]
  },
  {
   "cell_type": "code",
   "execution_count": 6,
   "id": "excessive-ordinance",
   "metadata": {},
   "outputs": [
    {
     "name": "stdout",
     "output_type": "stream",
     "text": [
      "1\n",
      "2\n",
      "4\n",
      "8\n"
     ]
    }
   ],
   "source": [
    "def powers_of_2(n):\n",
    "    power = 1\n",
    "    for i in range(n):\n",
    "        yield power\n",
    "        power *= 2\n",
    "\n",
    "\n",
    "for i in range(20):\n",
    "    if i in powers_of_2(4):\n",
    "        print(i)"
   ]
  },
  {
   "cell_type": "markdown",
   "id": "minute-interstate",
   "metadata": {},
   "source": [
    "What's the code's output? Run the program and check.\n",
    "\n",
    "### The Fibanacci number generator\n",
    "\n",
    "Now let's see a `Fibonacci number generator`, and ensure that it looks much better than the objective version based on the direct iterator protocol implementation.\n",
    "\n",
    "Here it is:"
   ]
  },
  {
   "cell_type": "code",
   "execution_count": 7,
   "id": "textile-vintage",
   "metadata": {},
   "outputs": [
    {
     "name": "stdout",
     "output_type": "stream",
     "text": [
      "[1, 1, 2, 3, 5, 8, 13, 21, 34, 55]\n"
     ]
    }
   ],
   "source": [
    "def fibonacci(n):\n",
    "    p = pp = 1\n",
    "    for i in range(n):\n",
    "        if i in [0, 1]:\n",
    "            yield 1\n",
    "        else:\n",
    "            n = p + pp\n",
    "            pp, p = p, n\n",
    "            yield n\n",
    "\n",
    "fibs = list(fibonacci(10))\n",
    "print(fibs)\n"
   ]
  },
  {
   "cell_type": "markdown",
   "id": "bright-relaxation",
   "metadata": {},
   "source": [
    "Guess the output (a list) produced by the generator, and run the code to check if you were right."
   ]
  },
  {
   "cell_type": "markdown",
   "id": "romantic-hybrid",
   "metadata": {},
   "source": [
    "# More about list comprehensions\n",
    "You should be able to remember the rules governing the creation and use of a very special Python phenomenon named `list comprehension - a simple and very impressive way of creating lists and their contents`.\n",
    "\n",
    "In case you need it, we've provided a quick reminder in the editor.\n",
    "```py\n",
    "list_1 = []\n",
    "\n",
    "for ex in range(6):\n",
    "    list_1.append(10 ** ex)\n",
    "\n",
    "list_2 = [10 ** ex for ex in range(6)]\n",
    "\n",
    "print(list_1)\n",
    "print(list_2)\n",
    "```\n",
    "There are two parts inside the code, both creating a list containing a few of the first natural powers of ten.\n",
    "\n",
    "The former uses a routine way of utilizing the `for` loop, while the latter makes use of the list comprehension and builds the list in situ, without needing a loop, or any other extended code.\n",
    "\n",
    "It looks like the list is created inside itself - it's not true, of course, as Python has to perform nearly the same operations as in the first snippet, but it is indisputable that the second formalism is simply more elegant, and lets the reader avoid any unnecessary details.\n",
    "\n",
    "The example outputs two identical lines containing the following text:\n",
    "```s\n",
    "[1, 10, 100, 1000, 10000, 100000]\n",
    "[1, 10, 100, 1000, 10000, 100000]\n",
    "```\n",
    "Run the code to check if we're right."
   ]
  }
 ],
 "metadata": {
  "kernelspec": {
   "display_name": "Python 3",
   "language": "python",
   "name": "python3"
  },
  "language_info": {
   "codemirror_mode": {
    "name": "ipython",
    "version": 3
   },
   "file_extension": ".py",
   "mimetype": "text/x-python",
   "name": "python",
   "nbconvert_exporter": "python",
   "pygments_lexer": "ipython3",
   "version": "3.6.1"
  },
  "toc": {
   "base_numbering": 1,
   "nav_menu": {},
   "number_sections": false,
   "sideBar": false,
   "skip_h1_title": false,
   "title_cell": "Table of Contents",
   "title_sidebar": "Contents",
   "toc_cell": false,
   "toc_position": {},
   "toc_section_display": false,
   "toc_window_display": false
  }
 },
 "nbformat": 4,
 "nbformat_minor": 5
}
