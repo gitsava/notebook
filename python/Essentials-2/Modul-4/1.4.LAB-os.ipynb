{
 "cells": [
  {
   "cell_type": "markdown",
   "id": "neutral-toyota",
   "metadata": {},
   "source": [
    "# LAB: The os module\n",
    "\n",
    "## Estimated time\n",
    "15-30 min\n",
    "\n",
    "## Level of difficulty\n",
    "Easy\n",
    "\n",
    "## Objectives\n",
    "  - improving the student's skills in interacting with the operating system;\n",
    "  - practical use of known functions provided by the os module.\n",
    "\n",
    "## Scenario\n",
    "It goes without saying that operating systems allow you to search for files and directories. While studying this part of the course, you learned about the functions of the os module, which have everything you need to write a program that will search for directories in a given location.\n",
    "\n",
    "To make your task easier, we have prepared a test directory structure for you:\n",
    "\n",
    "<img src=\"img/dir.png\">\n",
    "\n",
    "Your program should meet the following requirements:\n",
    "\n",
    "  - Write a function or method called find that takes two arguments called path and dir. The path argument should accept a relative or absolute path to a directory where the search should start, while the dir argument should be the name of a directory that you want to find in the given path. Your program should display the absolute paths if it finds a directory with the given name.\n",
    "  - The directory search should be done recursively. This means that the search should also include all subdirectories in the given path.\n",
    "  \n",
    "## Example input:\n",
    "```py\n",
    "path=\"./tree\", dir=\"python\"\n",
    "```\n",
    "\n",
    "## Example output:\n",
    "```s\n",
    ".../tree/python\n",
    ".../tree/cpp/other_courses/python\n",
    ".../tree/c/other_courses/python\n",
    "```"
   ]
  },
  {
   "cell_type": "code",
   "execution_count": null,
   "id": "dramatic-render",
   "metadata": {},
   "outputs": [],
   "source": []
  }
 ],
 "metadata": {
  "kernelspec": {
   "display_name": "Python 3",
   "language": "python",
   "name": "python3"
  },
  "language_info": {
   "codemirror_mode": {
    "name": "ipython",
    "version": 3
   },
   "file_extension": ".py",
   "mimetype": "text/x-python",
   "name": "python",
   "nbconvert_exporter": "python",
   "pygments_lexer": "ipython3",
   "version": "3.6.1"
  },
  "toc": {
   "base_numbering": 1,
   "nav_menu": {},
   "number_sections": false,
   "sideBar": false,
   "skip_h1_title": false,
   "title_cell": "Table of Contents",
   "title_sidebar": "Contents",
   "toc_cell": false,
   "toc_position": {},
   "toc_section_display": false,
   "toc_window_display": false
  }
 },
 "nbformat": 4,
 "nbformat_minor": 5
}
