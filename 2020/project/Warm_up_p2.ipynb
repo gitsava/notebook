{
  "nbformat": 4,
  "nbformat_minor": 0,
  "metadata": {
    "colab": {
      "name": "Warm up p2.ipynb",
      "provenance": [],
      "collapsed_sections": [],
      "authorship_tag": "ABX9TyPtB0axxpeDte5vqMaCHWkY",
      "include_colab_link": true
    },
    "kernelspec": {
      "name": "python3",
      "display_name": "Python 3"
    }
  },
  "cells": [
    {
      "cell_type": "markdown",
      "metadata": {
        "id": "view-in-github",
        "colab_type": "text"
      },
      "source": [
        "<a href=\"https://colab.research.google.com/github/sykrn/py-dts/blob/master/project/Warm_up_p2.ipynb\" target=\"_parent\"><img src=\"https://colab.research.google.com/assets/colab-badge.svg\" alt=\"Open In Colab\"/></a>"
      ]
    },
    {
      "cell_type": "code",
      "metadata": {
        "id": "O_9uYC7p_Crg",
        "colab_type": "code",
        "outputId": "da295c13-10db-4133-a2e4-26b877ccd1e7",
        "colab": {
          "base_uri": "https://localhost:8080/",
          "height": 34
        }
      },
      "source": [
        "x = 1\n",
        "\n",
        "# fungsi ini bisa mengakses sebuah variable yang sudah di define sebelumnya\n",
        "# gampangnya dalam satu file\n",
        "def fungsicoba(a,b):\n",
        "  return a+b+x\n",
        "\n",
        "#print(a) #--->error scope variable a ada hanya di dalam fungsicoba\n",
        "\n",
        "print(fungsicoba(2,3))\n"
      ],
      "execution_count": 0,
      "outputs": [
        {
          "output_type": "stream",
          "text": [
            "6\n"
          ],
          "name": "stdout"
        }
      ]
    },
    {
      "cell_type": "code",
      "metadata": {
        "id": "hHexHx3XAIJY",
        "colab_type": "code",
        "outputId": "b3a1827c-070c-437a-cc1d-da72cfe121d1",
        "colab": {
          "base_uri": "https://localhost:8080/",
          "height": 68
        }
      },
      "source": [
        "import random\n",
        "\n",
        "# random.seed(0)\n",
        "\n",
        "#random uniform dari interval 0,1 float\n",
        "print(random.random())\n",
        "\n",
        "#random uniform dari interval -1,1 float\n",
        "print(random.uniform(-1,1))\n",
        "\n",
        "#random integer\n",
        "print(random.randint(0,11))"
      ],
      "execution_count": 24,
      "outputs": [
        {
          "output_type": "stream",
          "text": [
            "0.1456692551041303\n",
            "-0.0901459909719573\n",
            "2\n"
          ],
          "name": "stdout"
        }
      ]
    },
    {
      "cell_type": "code",
      "metadata": {
        "id": "pRWyvpHRBLho",
        "colab_type": "code",
        "outputId": "e560d51d-6556-4894-b001-e49661c9b1bf",
        "colab": {
          "base_uri": "https://localhost:8080/",
          "height": 34
        }
      },
      "source": [
        "if random.random() > 0.5:\n",
        "  print('kanan')\n",
        "else:\n",
        "  print('kiri')\n"
      ],
      "execution_count": 0,
      "outputs": [
        {
          "output_type": "stream",
          "text": [
            "kiri\n"
          ],
          "name": "stdout"
        }
      ]
    }
  ]
}