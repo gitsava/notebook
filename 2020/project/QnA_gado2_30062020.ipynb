{
  "nbformat": 4,
  "nbformat_minor": 0,
  "metadata": {
    "colab": {
      "name": "QnA gado2.ipynb",
      "provenance": [],
      "authorship_tag": "ABX9TyMgnf+jPOyxReYFJYuUPJyC",
      "include_colab_link": true
    },
    "kernelspec": {
      "name": "python3",
      "display_name": "Python 3"
    }
  },
  "cells": [
    {
      "cell_type": "markdown",
      "metadata": {
        "id": "view-in-github",
        "colab_type": "text"
      },
      "source": [
        "<a href=\"https://colab.research.google.com/github/sykrn/py-dts/blob/master/project/QnA_gado2_30062020.ipynb\" target=\"_parent\"><img src=\"https://colab.research.google.com/assets/colab-badge.svg\" alt=\"Open In Colab\"/></a>"
      ]
    },
    {
      "cell_type": "code",
      "metadata": {
        "id": "IKyBr9hiUXBW",
        "colab_type": "code",
        "colab": {
          "base_uri": "https://localhost:8080/",
          "height": 85
        },
        "outputId": "bb7f5cba-f347-4d0d-b33a-45e9ffa418f2"
      },
      "source": [
        "import pandas as pd\n",
        "\n",
        "df = pd.DataFrame({'Animal': ['Falcon', 'Falcon',\n",
        "                              'Parrot', 'Parrot'],\n",
        "                   'Max Speed': ['380.', '370.', '24.', '26.'],\n",
        "                   'items':[1,2,3,4]})\n",
        "df.dtypes"
      ],
      "execution_count": null,
      "outputs": [
        {
          "output_type": "execute_result",
          "data": {
            "text/plain": [
              "Animal       object\n",
              "Max Speed    object\n",
              "items         int64\n",
              "dtype: object"
            ]
          },
          "metadata": {
            "tags": []
          },
          "execution_count": 10
        }
      ]
    },
    {
      "cell_type": "code",
      "metadata": {
        "id": "yNEhm-9jU2Df",
        "colab_type": "code",
        "colab": {
          "base_uri": "https://localhost:8080/",
          "height": 204
        },
        "outputId": "1f151171-f691-4bd1-98c4-6bc390598658"
      },
      "source": [
        "df.groupby(['Max Speed']).mean()"
      ],
      "execution_count": null,
      "outputs": [
        {
          "output_type": "execute_result",
          "data": {
            "text/html": [
              "<div>\n",
              "<style scoped>\n",
              "    .dataframe tbody tr th:only-of-type {\n",
              "        vertical-align: middle;\n",
              "    }\n",
              "\n",
              "    .dataframe tbody tr th {\n",
              "        vertical-align: top;\n",
              "    }\n",
              "\n",
              "    .dataframe thead th {\n",
              "        text-align: right;\n",
              "    }\n",
              "</style>\n",
              "<table border=\"1\" class=\"dataframe\">\n",
              "  <thead>\n",
              "    <tr style=\"text-align: right;\">\n",
              "      <th></th>\n",
              "      <th>items</th>\n",
              "    </tr>\n",
              "    <tr>\n",
              "      <th>Max Speed</th>\n",
              "      <th></th>\n",
              "    </tr>\n",
              "  </thead>\n",
              "  <tbody>\n",
              "    <tr>\n",
              "      <th>24.</th>\n",
              "      <td>3</td>\n",
              "    </tr>\n",
              "    <tr>\n",
              "      <th>26.</th>\n",
              "      <td>4</td>\n",
              "    </tr>\n",
              "    <tr>\n",
              "      <th>370.</th>\n",
              "      <td>2</td>\n",
              "    </tr>\n",
              "    <tr>\n",
              "      <th>380.</th>\n",
              "      <td>1</td>\n",
              "    </tr>\n",
              "  </tbody>\n",
              "</table>\n",
              "</div>"
            ],
            "text/plain": [
              "           items\n",
              "Max Speed       \n",
              "24.            3\n",
              "26.            4\n",
              "370.           2\n",
              "380.           1"
            ]
          },
          "metadata": {
            "tags": []
          },
          "execution_count": 12
        }
      ]
    },
    {
      "cell_type": "code",
      "metadata": {
        "id": "hdFJEmbZX5A0",
        "colab_type": "code",
        "colab": {}
      },
      "source": [
        "a = int ('34')"
      ],
      "execution_count": null,
      "outputs": []
    },
    {
      "cell_type": "code",
      "metadata": {
        "id": "9XRbuBujX8P8",
        "colab_type": "code",
        "colab": {
          "base_uri": "https://localhost:8080/",
          "height": 68
        },
        "outputId": "e58c4478-b9f4-4bce-c13c-eb1be58b0cb6"
      },
      "source": [
        "#function berisikan rumus utama untuk memproses input lower dan upper bound\n",
        "#dengan operasi modulo pada main function atau sub program utama dibawah sub program ini\n",
        "def rumus(): \n",
        "    for i in range(lower, upper+1):\n",
        "        if(i%3==0 or i%5==0): \n",
        "            print(str(i) + \" \", end= \"\")\n",
        "\n",
        "#main function\n",
        "# if __name__ == \"__main__\":\n",
        "print(\"Please enter lower and upper range limit in sequence order: \")\n",
        "lower, upper=map(int,input().strip().split()) #input lower dan upper value dalam 1 line\n",
        "rumus() #memanggil function yang sudah di declare setelah/jika input berhasil"
      ],
      "execution_count": null,
      "outputs": [
        {
          "output_type": "stream",
          "text": [
            "Please enter lower and upper range limit in sequence order: \n",
            "2 12\n",
            "3 5 6 9 10 12 "
          ],
          "name": "stdout"
        }
      ]
    },
    {
      "cell_type": "code",
      "metadata": {
        "id": "2CEU57SY_GO6",
        "colab_type": "code",
        "colab": {
          "base_uri": "https://localhost:8080/",
          "height": 34
        },
        "outputId": "bedc440b-d69a-45e5-ce0c-d28659acf7d7"
      },
      "source": [
        "class sesuatu:\n",
        "  def __init__(self,x):\n",
        "    self.x = x\n",
        "  def __add__(self,y):     \n",
        "    return sesuatu(self.x + y.x)\n",
        "  def __str__(self): #representing the printing ouput of the class\n",
        "    return str(self.x)\n",
        "\n",
        "\n",
        "ob = sesuatu(2)\n",
        "ob2 = sesuatu(4)\n",
        "c = ob + ob2\n",
        "print(ob,ob2,c)\n",
        "\n"
      ],
      "execution_count": null,
      "outputs": [
        {
          "output_type": "stream",
          "text": [
            "2 4 6\n"
          ],
          "name": "stdout"
        }
      ]
    },
    {
      "cell_type": "code",
      "metadata": {
        "id": "MGu32aVzBm8t",
        "colab_type": "code",
        "colab": {
          "base_uri": "https://localhost:8080/",
          "height": 51
        },
        "outputId": "47ffb469-0880-4131-cbaf-084d7599ff34"
      },
      "source": [
        "class sesuatu: \n",
        "  \n",
        "  # constructor --> untuk menginisiasikan atribut dari kelas tersebut \n",
        "  def __init__(self,atr1,atr2):\n",
        "    # apa itu atribut?\n",
        "    # atribute, bisa dikatakan sebagai data di kelas tersebut.\n",
        "    self.__atr1 = atr1 #private\n",
        "    self.atr2 = atr2\n",
        "    # return self #eksplisit return\n",
        "\n",
        "  # apa itu method?\n",
        "  # method itu untuk mengolah si data\n",
        "  # method ini mengubah si atribut atr1\n",
        "  def method1(self,x):\n",
        "    self.__atr1+=x\n",
        "  \n",
        "  def get_atr1(self): # getter\n",
        "    self.method1(2)\n",
        "    return self.__atr1\n",
        "  \n",
        "  def cmethod(cls,x):\n",
        "    pass\n",
        "\n",
        "\n",
        "\n",
        "def f(obb):\n",
        "  obb.method1(2)\n",
        "\n",
        "\n",
        "  \n",
        "ob = sesuatu(1,2) #atr1 = 1\n",
        "# ob.method1(2) # atr1 = 3'\n",
        "# f(ob)\n",
        "ob.atr2 = 100\n",
        "ob.__atr1 =200\n",
        "\n",
        "a = ob.get_atr1() # a = ob.atr1\n",
        "a = ob.get_atr1() # a = ob.atr1\n",
        "\n",
        "print(ob.__dict__)\n",
        "print(ob.atr2,a)"
      ],
      "execution_count": null,
      "outputs": [
        {
          "output_type": "stream",
          "text": [
            "{'_sesuatu__atr1': 5, 'atr2': 100, '__atr1': 200}\n",
            "100 5\n"
          ],
          "name": "stdout"
        }
      ]
    },
    {
      "cell_type": "code",
      "metadata": {
        "id": "jK0a-pCvBvvK",
        "colab_type": "code",
        "colab": {}
      },
      "source": [
        ""
      ],
      "execution_count": null,
      "outputs": []
    }
  ]
}