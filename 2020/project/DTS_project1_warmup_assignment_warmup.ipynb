{
  "nbformat": 4,
  "nbformat_minor": 0,
  "metadata": {
    "colab": {
      "name": "DTS project assignment warmup.ipynb",
      "provenance": [],
      "collapsed_sections": [],
      "toc_visible": true,
      "include_colab_link": true
    },
    "kernelspec": {
      "name": "python3",
      "display_name": "Python 3"
    }
  },
  "cells": [
    {
      "cell_type": "markdown",
      "metadata": {
        "id": "view-in-github",
        "colab_type": "text"
      },
      "source": [
        "<a href=\"https://colab.research.google.com/github/sykrn/py-dts/blob/master/project/DTS_project1_warmup_assignment_warmup.ipynb\" target=\"_parent\"><img src=\"https://colab.research.google.com/assets/colab-badge.svg\" alt=\"Open In Colab\"/></a>"
      ]
    },
    {
      "cell_type": "markdown",
      "metadata": {
        "id": "9swpmvv_IFlg",
        "colab_type": "text"
      },
      "source": [
        "# string"
      ]
    },
    {
      "cell_type": "code",
      "metadata": {
        "id": "_bnHG70h11tS",
        "colab_type": "code",
        "outputId": "f8c3a163-4de7-4a6d-ffa4-7f73c653bb7f",
        "colab": {
          "base_uri": "https://localhost:8080/",
          "height": 34
        }
      },
      "source": [
        "# materi 30 menit terakhir di video\n",
        "# string itu imutable\n",
        "s='abc'\n",
        "print(s[0])\n",
        "\n"
      ],
      "execution_count": 0,
      "outputs": [
        {
          "output_type": "stream",
          "text": [
            "a\n"
          ],
          "name": "stdout"
        }
      ]
    },
    {
      "cell_type": "markdown",
      "metadata": {
        "id": "MuQJs_7oIhIb",
        "colab_type": "text"
      },
      "source": [
        "# Collection\n",
        "1. List\n",
        "2. Tuple\n",
        "3. Dictionary\n",
        "\n"
      ]
    },
    {
      "cell_type": "code",
      "metadata": {
        "id": "8M_YJckJIFVO",
        "colab_type": "code",
        "outputId": "be94e262-6f0d-43d2-9599-195888d43264",
        "colab": {
          "base_uri": "https://localhost:8080/",
          "height": 105
        }
      },
      "source": [
        "ls = [7,1,2,3,4,5]\n",
        "print(sum(ls))\n",
        "\n",
        "ls = ['asd','a7,1,2,3,4,5']\n",
        "print('sebelum di sort:',ls)\n",
        "print(ls[1]<ls[0])\n",
        "\n",
        "#ascending\n",
        "ls = sorted(ls)\n",
        "print('setelah di sort:',ls)\n",
        "\n",
        "ls2 = [1,3,4,2,5]\n",
        "#decending\n",
        "ls2 = sorted(ls2,reverse=True)\n",
        "print(ls2)\n",
        "\n",
        "\n"
      ],
      "execution_count": 0,
      "outputs": [
        {
          "output_type": "stream",
          "text": [
            "22\n",
            "sebelum di sort: ['asd', 'a7,1,2,3,4,5']\n",
            "True\n",
            "setelah di sort: ['a7,1,2,3,4,5', 'asd']\n",
            "[5, 4, 3, 2, 1]\n"
          ],
          "name": "stdout"
        }
      ]
    },
    {
      "cell_type": "code",
      "metadata": {
        "id": "pE4zH6V8KVsQ",
        "colab_type": "code",
        "outputId": "4fbc59ff-4488-4516-a07e-e5e797114d7c",
        "colab": {
          "base_uri": "https://localhost:8080/",
          "height": 34
        }
      },
      "source": [
        "# list comprehension\n",
        "\n",
        "ls3 = [[ii,ii**2] for ii in range(10) if ii % 2==0]\n",
        "print(tuple(ls3))"
      ],
      "execution_count": 0,
      "outputs": [
        {
          "output_type": "stream",
          "text": [
            "([0, 0], [2, 4], [4, 16], [6, 36], [8, 64])\n"
          ],
          "name": "stdout"
        }
      ]
    },
    {
      "cell_type": "code",
      "metadata": {
        "id": "7XAgLaZ9HTE0",
        "colab_type": "code",
        "colab": {
          "base_uri": "https://localhost:8080/",
          "height": 52
        },
        "outputId": "486e83a8-e9fc-4f3a-c6e1-695aa4187c9f"
      },
      "source": [
        "ls = [] #{} #()\n",
        "\n",
        "for i in range(10):\n",
        "  if i % 2 == 0:\n",
        "    ls.append(i)\n",
        "\n",
        "print(ls)\n",
        "ls4 =[i*j for i in range(10) for j in range(2)]\n",
        "print(ls4)"
      ],
      "execution_count": 23,
      "outputs": [
        {
          "output_type": "stream",
          "text": [
            "[0, 2, 4, 6, 8]\n",
            "[0, 0, 0, 1, 0, 2, 0, 3, 0, 4, 0, 5, 0, 6, 0, 7, 0, 8, 0, 9]\n"
          ],
          "name": "stdout"
        }
      ]
    },
    {
      "cell_type": "code",
      "metadata": {
        "id": "AZ20nQhVIvYL",
        "colab_type": "code",
        "colab": {
          "base_uri": "https://localhost:8080/",
          "height": 34
        },
        "outputId": "00484724-875d-4249-aec3-90059061092c"
      },
      "source": [
        "ls5 = [i for i in range(20)]\n",
        "\n",
        "def flmb(i):\n",
        "  return i % 2 == 0\n",
        "# ls5 = list(filter(lambda i: i % 2==0, ls5))\n",
        "ls5 = list(filter(flmb, ls5))\n",
        "\n",
        "print(ls5)"
      ],
      "execution_count": 29,
      "outputs": [
        {
          "output_type": "stream",
          "text": [
            "[0, 2, 4, 6, 8, 10, 12, 14, 16, 18]\n"
          ],
          "name": "stdout"
        }
      ]
    },
    {
      "cell_type": "code",
      "metadata": {
        "id": "ASMrNnhDLggU",
        "colab_type": "code",
        "outputId": "880a533f-777d-4ef9-ea4a-0fbcf2824a35",
        "colab": {
          "base_uri": "https://localhost:8080/",
          "height": 52
        }
      },
      "source": [
        "# Dictiorany \n",
        "dc = {'a':2,'b':3}\n",
        "print(dc['b'])\n",
        "\n",
        "print(dc.get('a','gak ada bos'))\n"
      ],
      "execution_count": 0,
      "outputs": [
        {
          "output_type": "stream",
          "text": [
            "3\n",
            "2\n"
          ],
          "name": "stdout"
        }
      ]
    },
    {
      "cell_type": "code",
      "metadata": {
        "id": "rxa1fAkvMYiy",
        "colab_type": "code",
        "outputId": "f65182b3-ac1d-4148-8c57-a33eaec3fc45",
        "colab": {
          "base_uri": "https://localhost:8080/",
          "height": 52
        }
      },
      "source": [
        "# function\n",
        "\n",
        "#positional argument\n",
        "def func(a,b,c):\n",
        "  pass\n",
        "  return 'halo'\n",
        "\n",
        "\n",
        "print(func(1,2,3))\n",
        "\n",
        "#keyword argument\n",
        "def func2(a,b,c,d=4,e=2,f=100):\n",
        "  print(a,b,c,d,e,f)\n",
        "  pass\n",
        "\n",
        "func2(1,2,3,10,f=200)"
      ],
      "execution_count": 1,
      "outputs": [
        {
          "output_type": "stream",
          "text": [
            "None\n",
            "1 2 3 10 2 200\n"
          ],
          "name": "stdout"
        }
      ]
    },
    {
      "cell_type": "code",
      "metadata": {
        "id": "lR5Hu9V7CtSn",
        "colab_type": "code",
        "colab": {
          "base_uri": "https://localhost:8080/",
          "height": 52
        },
        "outputId": "34679a3c-efc3-481e-9248-df33853a27e8"
      },
      "source": [
        "\n",
        "# Komponen fungsi\n",
        "# 1. nama fungsinya\n",
        "# 2. inputan/argumentnya\n",
        "# 3. block statement / logika / code \n",
        "# 4. return value\n",
        "\n",
        "print(func(1,2,3))\n",
        "\n",
        "\n",
        "def func3():\n",
        "  return 123\n",
        "\n",
        "var = func(1,2,3)\n",
        "print(var)"
      ],
      "execution_count": 8,
      "outputs": [
        {
          "output_type": "stream",
          "text": [
            "None\n",
            "None\n"
          ],
          "name": "stdout"
        }
      ]
    },
    {
      "cell_type": "code",
      "metadata": {
        "id": "_LrYLwpbHAZ4",
        "colab_type": "code",
        "colab": {
          "base_uri": "https://localhost:8080/",
          "height": 34
        },
        "outputId": "f2fa0bfd-cf50-41df-fbe4-688d8449cbda"
      },
      "source": [
        "a"
      ],
      "execution_count": 18,
      "outputs": [
        {
          "output_type": "execute_result",
          "data": {
            "text/plain": [
              "100"
            ]
          },
          "metadata": {
            "tags": []
          },
          "execution_count": 18
        }
      ]
    },
    {
      "cell_type": "code",
      "metadata": {
        "id": "_ol5nJ5mESK0",
        "colab_type": "code",
        "colab": {
          "base_uri": "https://localhost:8080/",
          "height": 34
        },
        "outputId": "6e3aa1b1-d019-4bb4-b134-339bbaf5ea92"
      },
      "source": [
        "a=100\n",
        "b=200\n",
        "print(a)"
      ],
      "execution_count": 17,
      "outputs": [
        {
          "output_type": "stream",
          "text": [
            "100\n"
          ],
          "name": "stdout"
        }
      ]
    },
    {
      "cell_type": "code",
      "metadata": {
        "id": "vbxzE34VEaAB",
        "colab_type": "code",
        "colab": {
          "base_uri": "https://localhost:8080/",
          "height": 52
        },
        "outputId": "b2d252a6-910d-4eaa-ab1e-8797a17eba07"
      },
      "source": [
        "print(a)\n",
        "b"
      ],
      "execution_count": 15,
      "outputs": [
        {
          "output_type": "stream",
          "text": [
            "100\n"
          ],
          "name": "stdout"
        },
        {
          "output_type": "execute_result",
          "data": {
            "text/plain": [
              "200"
            ]
          },
          "metadata": {
            "tags": []
          },
          "execution_count": 15
        }
      ]
    },
    {
      "cell_type": "code",
      "metadata": {
        "id": "ZkY39JGrG0sP",
        "colab_type": "code",
        "colab": {}
      },
      "source": [
        ""
      ],
      "execution_count": 0,
      "outputs": []
    }
  ]
}