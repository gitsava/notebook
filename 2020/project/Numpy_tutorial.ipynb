{
  "nbformat": 4,
  "nbformat_minor": 0,
  "metadata": {
    "kernelspec": {
      "display_name": "Python 3",
      "language": "python",
      "name": "python3"
    },
    "language_info": {
      "codemirror_mode": {
        "name": "ipython",
        "version": 3
      },
      "file_extension": ".py",
      "mimetype": "text/x-python",
      "name": "python",
      "nbconvert_exporter": "python",
      "pygments_lexer": "ipython3",
      "version": "3.7.4"
    },
    "colab": {
      "name": "Numpy tutorial.ipynb",
      "provenance": [],
      "include_colab_link": true
    }
  },
  "cells": [
    {
      "cell_type": "markdown",
      "metadata": {
        "id": "view-in-github",
        "colab_type": "text"
      },
      "source": [
        "<a href=\"https://colab.research.google.com/github/sykrn/py-dts/blob/master/project/Numpy_tutorial.ipynb\" target=\"_parent\"><img src=\"https://colab.research.google.com/assets/colab-badge.svg\" alt=\"Open In Colab\"/></a>"
      ]
    },
    {
      "cell_type": "markdown",
      "metadata": {
        "id": "CRS2GeLCQNxo",
        "colab_type": "text"
      },
      "source": [
        "# Pengenalan `Numpy` library\n",
        "<br/>\n",
        "<br/>\n",
        "<br/>\n",
        "\n",
        "\n",
        "### Dr. Syukron Abu Ishaq Alfarozi\n",
        "Source: https://numpy.org/devdocs/user/absolute_beginners.html\n",
        "\n"
      ]
    },
    {
      "cell_type": "markdown",
      "metadata": {
        "id": "SEDMk76AQNxt",
        "colab_type": "text"
      },
      "source": [
        "## Apa itu numpy?\n",
        "Numpy merupakan suatu library open source di python untuk membuat/memanipulasi suatu multi-dimensional array. \n",
        "\n",
        "### Apa keuntungannya mengunakan numpy?\n",
        "Numpy mendukung operasi-operasi yang lebih cepat dan eficient dibandingkan dengan operasi python biasa pada list.\n",
        "> menggunakan openBLAS atau intel MKL untuk mempercepat pemrosesan array.\n",
        "\n",
        "### Kenapa diperlukan pemrosesan yang lebih eficient?\n",
        "* Python merupakan bahasa pemrograman berbasis interpreter. -> Lambat.\n",
        "* Data yang besar akan sangat terasa lambat kalau menggunakan python tipe data.\n",
        "* Numpy memfalitasi untuk menggunakan compiled library untuk pemrosesan array.\n"
      ]
    },
    {
      "cell_type": "markdown",
      "metadata": {
        "id": "7s0fm4UBQNxx",
        "colab_type": "text"
      },
      "source": [
        "## Instalasi\n",
        "1. `pip install numpy`\n",
        "2. `conda install numpy`\n"
      ]
    },
    {
      "cell_type": "markdown",
      "metadata": {
        "id": "8DZFA5IGQNx0",
        "colab_type": "text"
      },
      "source": [
        "## Numpy basic"
      ]
    },
    {
      "cell_type": "code",
      "metadata": {
        "id": "7WybozwAQNx3",
        "colab_type": "code",
        "colab": {}
      },
      "source": [
        "import numpy as np"
      ],
      "execution_count": null,
      "outputs": []
    },
    {
      "cell_type": "code",
      "metadata": {
        "id": "c9nBRSNiQNyL",
        "colab_type": "code",
        "colab": {}
      },
      "source": [
        "a = np.array([1, 2, 3, 4, 5, 6])\n",
        "b = np.array([[1, 2, 3, 4], [5, 6, 7, 8], [9, 10, 11, 12]])\n"
      ],
      "execution_count": null,
      "outputs": []
    },
    {
      "cell_type": "code",
      "metadata": {
        "id": "I2wRjYwWQNyb",
        "colab_type": "code",
        "colab": {},
        "outputId": "32b6737f-667b-4db7-d41e-3c9b49d503e0"
      },
      "source": [
        "ls = [1, 2, 3, 4, 5, 6]\n",
        "# print(ls**2) #error unsupported operand\n",
        "print(a**2)\n",
        "print(a*a - a)"
      ],
      "execution_count": null,
      "outputs": [
        {
          "output_type": "stream",
          "text": [
            "[ 1  4  9 16 25 36]\n",
            "[ 0  2  6 12 20 30]\n"
          ],
          "name": "stdout"
        }
      ]
    },
    {
      "cell_type": "code",
      "metadata": {
        "id": "Cm50sM3WQNyu",
        "colab_type": "code",
        "colab": {},
        "outputId": "3b06c141-3baf-4cec-a393-f5ef5083d061"
      },
      "source": [
        "a = list(range(1000))\n",
        "\n",
        "print('list', end=': ')\n",
        "%timeit [i**2 for i in a]\n",
        "\n",
        "print('numpy', end=': ')\n",
        "a = np.array(a)\n",
        "%timeit a**2"
      ],
      "execution_count": null,
      "outputs": [
        {
          "output_type": "stream",
          "text": [
            "list: 331 µs ± 13.6 µs per loop (mean ± std. dev. of 7 runs, 1000 loops each)\n",
            "numpy: 1.58 µs ± 11.4 ns per loop (mean ± std. dev. of 7 runs, 1000000 loops each)\n"
          ],
          "name": "stdout"
        }
      ]
    },
    {
      "cell_type": "markdown",
      "metadata": {
        "id": "8Y9dot_HQNy_",
        "colab_type": "text"
      },
      "source": [
        "### Basic Array\n",
        "![array](https://numpy.org/devdocs/_images/np_array.png)"
      ]
    },
    {
      "cell_type": "code",
      "metadata": {
        "id": "MCyrMQQXQNzC",
        "colab_type": "code",
        "colab": {}
      },
      "source": [
        "a = np.zeros(2)\n",
        "b = np.ones(2)\n",
        "c = np.empty(2)\n",
        "d = np.arange(4)"
      ],
      "execution_count": null,
      "outputs": []
    },
    {
      "cell_type": "code",
      "metadata": {
        "id": "DRJVBuPTQNzL",
        "colab_type": "code",
        "colab": {}
      },
      "source": [
        "a = np.arange(2, 9, 2) # first number, last number, and the step size\n",
        "b = np.linspace(0, 10, num=5) # first number, last number, and number of points"
      ],
      "execution_count": null,
      "outputs": []
    },
    {
      "cell_type": "code",
      "metadata": {
        "id": "M4-pvPzHQNzZ",
        "colab_type": "code",
        "colab": {}
      },
      "source": [
        "x = np.ones(2, dtype=np.int64) #add data type"
      ],
      "execution_count": null,
      "outputs": []
    },
    {
      "cell_type": "markdown",
      "metadata": {
        "id": "ESIXRE9WQNzh",
        "colab_type": "text"
      },
      "source": [
        "## Adding, removing, and sorting elements¶\n",
        "`np.sort()`, `np.concatenate()`\n",
        "\n",
        "\n"
      ]
    },
    {
      "cell_type": "code",
      "metadata": {
        "id": "_YqE4RImQNzj",
        "colab_type": "code",
        "colab": {}
      },
      "source": [
        "arr = np.array([2, 1, 5, 3, 7, 4, 6, 8])\n",
        "np.sort(arr)"
      ],
      "execution_count": null,
      "outputs": []
    },
    {
      "cell_type": "code",
      "metadata": {
        "id": "qMPUsIxsQNzq",
        "colab_type": "code",
        "colab": {}
      },
      "source": [
        "a = np.array([1, 2, 3, 4])\n",
        "b = np.array([5, 6, 7, 8])\n",
        "np.concatenate((a, b))"
      ],
      "execution_count": null,
      "outputs": []
    },
    {
      "cell_type": "code",
      "metadata": {
        "id": "_w9YIafCQNzx",
        "colab_type": "code",
        "colab": {}
      },
      "source": [
        "x = np.array([[1, 2], [3, 4]])\n",
        "y = np.array([[5, 6]])\n",
        "np.concatenate((x, y), axis=0)"
      ],
      "execution_count": null,
      "outputs": []
    },
    {
      "cell_type": "markdown",
      "metadata": {
        "id": "1JCBeZGMQNz7",
        "colab_type": "text"
      },
      "source": [
        "## Array properties\n",
        "`ndarray.ndim`, `ndarray.size`, `ndarray.shape`"
      ]
    },
    {
      "cell_type": "code",
      "metadata": {
        "id": "VaUxI00VQNz9",
        "colab_type": "code",
        "colab": {},
        "outputId": "7e2ec554-ed64-43d2-bc29-3d50ba6aa887"
      },
      "source": [
        "arr = np.array([[[0, 1, 2, 3],\n",
        "                   [4, 5, 6, 7]],\n",
        "\n",
        "                  [[0, 1, 2, 3],\n",
        "                   [4, 5, 6, 7]],\n",
        "\n",
        "                  [[0 ,1 ,2, 3],\n",
        "                   [4, 5, 6, 7]]])\n",
        "print(arr.ndim,arr.size,arr.shape,sep='__')"
      ],
      "execution_count": null,
      "outputs": [
        {
          "output_type": "stream",
          "text": [
            "3__24__(3, 2, 4)\n"
          ],
          "name": "stdout"
        }
      ]
    },
    {
      "cell_type": "code",
      "metadata": {
        "id": "JScm3LcRQN0H",
        "colab_type": "code",
        "colab": {}
      },
      "source": [
        "# change the shape using reshape\n",
        "a = np.arange(6)\n",
        "print(a)\n",
        "\n",
        "b = a.reshape(3, 2)\n",
        "print(b)\n",
        "\n",
        "c=np.reshape(a, newshape=(1, 6), order='C')\n",
        "print(callable)\n",
        "\n"
      ],
      "execution_count": null,
      "outputs": []
    },
    {
      "cell_type": "code",
      "metadata": {
        "id": "e3gtyMzPQN0P",
        "colab_type": "code",
        "colab": {}
      },
      "source": [
        "# add new axis\n",
        "a = np.array([1, 2, 3, 4, 5, 6])\n",
        "print(a.shape)\n",
        "a2 = a[np.newaxis, :]\n",
        "print(a2)\n",
        "b = np.expand_dims(a, axis=1) \n",
        "b.shape"
      ],
      "execution_count": null,
      "outputs": []
    },
    {
      "cell_type": "markdown",
      "metadata": {
        "id": "oWMX8NypQN0Z",
        "colab_type": "text"
      },
      "source": [
        "## Indexing and Slicing"
      ]
    },
    {
      "cell_type": "code",
      "metadata": {
        "id": "3o-FePL5QN0b",
        "colab_type": "code",
        "colab": {},
        "outputId": "fec6d4df-9485-4420-ed6b-e112470c82b8"
      },
      "source": [
        "data = np.array([1, 2, 3])\n",
        "print(data[1])\n",
        "print(data[0:2])\n",
        "print(data[1:])\n",
        "print(data[-2:])"
      ],
      "execution_count": null,
      "outputs": [
        {
          "output_type": "stream",
          "text": [
            "2\n",
            "[1 2]\n",
            "[2 3]\n",
            "[2 3]\n"
          ],
          "name": "stdout"
        }
      ]
    },
    {
      "cell_type": "markdown",
      "metadata": {
        "id": "PPdHYG9FQN0j",
        "colab_type": "text"
      },
      "source": [
        "![indexing](https://numpy.org/devdocs/_images/np_indexing.png)"
      ]
    },
    {
      "cell_type": "code",
      "metadata": {
        "id": "SNajadWsQN0k",
        "colab_type": "code",
        "colab": {},
        "outputId": "1b80a774-a71f-420c-e546-fb665b0592b3"
      },
      "source": [
        "#Boolean index\n",
        "print(data[[False,True,False]])"
      ],
      "execution_count": null,
      "outputs": [
        {
          "output_type": "stream",
          "text": [
            "[2]\n"
          ],
          "name": "stdout"
        }
      ]
    },
    {
      "cell_type": "code",
      "metadata": {
        "id": "yg4CUh6gQN0u",
        "colab_type": "code",
        "colab": {},
        "outputId": "8d6a981e-62d0-4bcd-f646-845b3afb058f"
      },
      "source": [
        "a = np.array([[1 , 2, 3, 4], [1, 6, 7, 8], [9, 10, 11, 2]])\n",
        "print(a<5)\n",
        "print(a[a<5])"
      ],
      "execution_count": null,
      "outputs": [
        {
          "output_type": "stream",
          "text": [
            "[[ True  True  True  True]\n",
            " [ True False False False]\n",
            " [False False False  True]]\n",
            "[1 2 3 4 1 2]\n"
          ],
          "name": "stdout"
        }
      ]
    },
    {
      "cell_type": "code",
      "metadata": {
        "id": "IW_gsw7XQN03",
        "colab_type": "code",
        "colab": {},
        "outputId": "2c3210b8-7504-4c14-cb5e-87c7448a96ca"
      },
      "source": [
        "# logical operators\n",
        "c = a[(a > 2) & (a < 11)]\n",
        "print(c)"
      ],
      "execution_count": null,
      "outputs": [
        {
          "output_type": "stream",
          "text": [
            "[ 3  4  6  7  8  9 10]\n"
          ],
          "name": "stdout"
        }
      ]
    },
    {
      "cell_type": "markdown",
      "metadata": {
        "id": "6Q8e--u-QN0_",
        "colab_type": "text"
      },
      "source": [
        "## How to create an array from existing data\n",
        "This section covers slicing and indexing, `np.vstack()`, `np.hstack()`, `np.hsplit()`, `.view()`, `copy()`\n",
        "\n"
      ]
    },
    {
      "cell_type": "code",
      "metadata": {
        "id": "9rBvcbmXQN1A",
        "colab_type": "code",
        "colab": {}
      },
      "source": [
        "a = np.array([1,  2,  3,  4,  5,  6,  7,  8,  9, 10])\n",
        "arr1 = a[3:8]\n",
        "arr1"
      ],
      "execution_count": null,
      "outputs": []
    },
    {
      "cell_type": "code",
      "metadata": {
        "id": "OCh0tNOmQN1H",
        "colab_type": "code",
        "colab": {}
      },
      "source": [
        "a1 = np.array([[1, 1],\n",
        "               [2, 2]])\n",
        "\n",
        "a2 = np.array([[3, 3],\n",
        "               [4, 4]])\n",
        "np.vstack((a1, a2))\n"
      ],
      "execution_count": null,
      "outputs": []
    },
    {
      "cell_type": "code",
      "metadata": {
        "id": "c51TSrk6QN1N",
        "colab_type": "code",
        "colab": {}
      },
      "source": [
        "np.hstack((a1, a2))\n"
      ],
      "execution_count": null,
      "outputs": []
    },
    {
      "cell_type": "code",
      "metadata": {
        "id": "lUp_LemgQN1U",
        "colab_type": "code",
        "colab": {}
      },
      "source": [
        "x = np.arange(1, 25).reshape(2, 12)\n",
        "print(x)\n",
        "np.hsplit(x, 3)\n"
      ],
      "execution_count": null,
      "outputs": []
    },
    {
      "cell_type": "code",
      "metadata": {
        "id": "J5fry53CQN1a",
        "colab_type": "code",
        "colab": {}
      },
      "source": [
        "np.hsplit(x, (3, 4))"
      ],
      "execution_count": null,
      "outputs": []
    },
    {
      "cell_type": "code",
      "metadata": {
        "id": "zxm6eKBoQN1i",
        "colab_type": "code",
        "colab": {}
      },
      "source": [
        "a = np.array([[1, 2, 3, 4], [5, 6, 7, 8], [9, 10, 11, 12]])\n",
        "c = a.view()\n",
        "c is a"
      ],
      "execution_count": null,
      "outputs": []
    },
    {
      "cell_type": "code",
      "metadata": {
        "id": "zOMK0YqSQN1q",
        "colab_type": "code",
        "colab": {}
      },
      "source": [
        "# Slicing an array returns a view of it\n",
        "b1 = a[0, :]\n",
        "print(b1)\n",
        "b1[0] = 99\n",
        "print(b1)"
      ],
      "execution_count": null,
      "outputs": []
    },
    {
      "cell_type": "code",
      "metadata": {
        "id": "d_035cqVQN1y",
        "colab_type": "code",
        "colab": {}
      },
      "source": [
        "print(a)"
      ],
      "execution_count": null,
      "outputs": []
    },
    {
      "cell_type": "markdown",
      "metadata": {
        "id": "QG7hSjIAQN14",
        "colab_type": "text"
      },
      "source": [
        "## Basic array operations\n",
        "addition, subtraction, multiplication, division, sum, min, max and more"
      ]
    },
    {
      "cell_type": "code",
      "metadata": {
        "id": "kWLBzyMtQN15",
        "colab_type": "code",
        "colab": {},
        "outputId": "f276e587-4bc3-43b8-cbf2-53f5a8110e6b"
      },
      "source": [
        "data = np.array([1, 2])\n",
        "ones = np.ones(2, dtype=int)\n",
        "\n",
        "#elementwise operations\n",
        "print(data + ones)\n",
        "print(data - ones)\n",
        "print(data * ones)\n",
        "print(data / ones)\n",
        "print(data % (ones*2))"
      ],
      "execution_count": null,
      "outputs": [
        {
          "output_type": "stream",
          "text": [
            "[2 3]\n",
            "[0 1]\n",
            "[1 2]\n",
            "[1. 2.]\n",
            "[1 0]\n"
          ],
          "name": "stdout"
        }
      ]
    },
    {
      "cell_type": "markdown",
      "metadata": {
        "id": "rv1VYdg1QN1_",
        "colab_type": "text"
      },
      "source": [
        "## More ...\n"
      ]
    },
    {
      "cell_type": "code",
      "metadata": {
        "id": "zXAuBWxuQN2A",
        "colab_type": "code",
        "colab": {}
      },
      "source": [
        ""
      ],
      "execution_count": null,
      "outputs": []
    }
  ]
}