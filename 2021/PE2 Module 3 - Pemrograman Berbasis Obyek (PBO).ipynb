{
  "nbformat": 4,
  "nbformat_minor": 0,
  "metadata": {
    "celltoolbar": "Slideshow",
    "kernelspec": {
      "name": "python3",
      "display_name": "Python 3.8.2 64-bit",
      "metadata": {
        "interpreter": {
          "hash": "965ba1120b0c101b3f715b6e258a73742ec1cf86f2c8b04492724c87d9f112c3"
        }
      }
    },
    "language_info": {
      "codemirror_mode": {
        "name": "ipython",
        "version": 3
      },
      "file_extension": ".py",
      "mimetype": "text/x-python",
      "name": "python",
      "nbconvert_exporter": "python",
      "pygments_lexer": "ipython3",
      "version": "3.8.2-final"
    },
    "rise": {
      "auto_select": "none",
      "auto_select_fragment": false,
      "scroll": true,
      "theme": "serif",
      "width": "90%"
    },
    "colab": {
      "name": "Python OOP .ipynb",
      "provenance": [],
      "toc_visible": true,
      "include_colab_link": true
    }
  },
  "cells": [
    {
      "cell_type": "markdown",
      "metadata": {
        "id": "v1glAk2VJek9",
        "colab_type": "text"
      },
      "source": [
        "# <center> Pemrograman Berbasis Obyek </center>\n",
        "\n",
        "## DTS-Pro Python 2021\n",
        "##### oleh:\n",
        "- Dr. Syukron Abu Ishaq Alfarozi\n",
        "- Wisang Jati Anggoro, S.T.\n",
        "- Netacad\n"
      ]
    },
    {
      "source": [
        "## Materi Modul\n",
        "\n",
        "\n",
        "- Basic concepts of object-oriented programming (OOP)\n",
        "- The differences between the procedural and object approaches (motivations and profits)\n",
        "- Classes, objects, properties, and methods;\n",
        "- Designing reusable classes and creating objects;\n",
        "- Inheritance and polymorphism;\n",
        "- Exceptions as objects.\n"
      ],
      "cell_type": "markdown",
      "metadata": {}
    },
    {
      "source": [
        "## 3.1 Konsep dasar dari pendekatan berorientasi objek\n",
        "\n",
        "Gaya prosedural pemrograman adalah pendekatan dominan untuk pengembangan perangkat lunak selama beberapa dekade TI, dan masih digunakan sampai sekarang. Selain itu, ini tidak akan hilang di masa mendatang, karena berfungsi sangat baik untuk jenis proyek tertentu (umumnya, tidak terlalu rumit dan tidak besar, tetapi ada banyak pengecualian untuk aturan itu).\n",
        "\n",
        "Pendekatan objek cukup muda (jauh lebih muda dari pendekatan prosedural) dan sangat berguna ketika diterapkan pada proyek besar dan kompleks yang dilakukan oleh tim besar yang terdiri dari banyak pengembang.\n",
        "\n",
        "Pemahaman tentang struktur proyek semacam ini membuat banyak tugas penting menjadi lebih mudah, misalnya, membagi proyek menjadi bagian-bagian kecil dan independen, dan pengembangan independen berbagai elemen proyek.\n",
        "\n",
        "<bold>Python adalah alat universal untuk pemrograman objek dan prosedural</bold>.\n",
        "\n",
        "Selain itu, Anda dapat membuat banyak aplikasi yang berguna, meskipun Anda tidak tahu apa-apa tentang kelas dan objek, tetapi Anda harus ingat bahwa beberapa masalah (misalnya, penanganan antarmuka pengguna grafis) mungkin memerlukan pendekatan objek yang ketat."
      ],
      "cell_type": "markdown",
      "metadata": {}
    },
    {
      "cell_type": "markdown",
      "metadata": {
        "id": "Re058XbIJelH",
        "colab_type": "text"
      },
      "source": [
        "Class hierarchies\n",
        "\n",
        "Kelas kata memiliki banyak arti, tetapi tidak semuanya sesuai dengan gagasan yang ingin kita bahas di sini. Kelas yang kita perhatikan adalah seperti kategori, sebagai hasil dari persamaan yang didefinisikan dengan tepat.\n",
        "\n",
        "Kami akan mencoba menunjukkan beberapa kelas yang merupakan contoh bagus dari konsep ini.\n",
        " \n",
        "![class1.JPG](https://github.com/sykrn/py-dts/blob/master/class1.JPG?raw=1)\n",
        "\n",
        "Mari kita lihat sejenak kendaraan. Semua kendaraan yang ada (dan yang belum ada) terkait dengan satu fitur penting: kemampuan untuk bergerak. Anda mungkin berpendapat bahwa seekor anjing juga bergerak; apakah anjing adalah kendaraan? Tidak, tidak. Kita harus meningkatkan definisi, yaitu memperkaya dengan kriteria lain, membedakan kendaraan dari makhluk lain, dan menciptakan hubungan yang lebih kuat. Mari kita pertimbangkan keadaan berikut: kendaraan adalah entitas yang dibuat secara artifisial yang digunakan untuk transportasi, digerakkan oleh kekuatan alam, dan diarahkan (digerakkan) oleh manusia.\n",
        "\n",
        "Berdasarkan definisi ini, anjing bukanlah kendaraan.\n",
        "\n",
        "Kelas kendaraan sangat luas. Terlalu luas. Kita harus mendefinisikan beberapa kelas yang lebih khusus. Kelas khusus adalah subkelas. Kelas kendaraan akan menjadi superclass untuk semuanya.\n",
        "\n",
        "Catatan: hierarki tumbuh dari atas ke bawah, seperti akar pohon, bukan cabang. Kelas yang paling umum dan terluas selalu berada di atas (superclass) sedangkan turunannya berada di bawah (subclass).\n",
        "\n",
        "Sekarang, Anda mungkin bisa menunjukkan beberapa subclass potensial untuk superclass Kendaraan. Ada banyak kemungkinan klasifikasi. Kami telah memilih subkelas berdasarkan lingkungan, dan mengatakan bahwa ada (setidaknya) empat subkelas:\n",
        "\n",
        "-  kendaraan darat;\n",
        "-  kendaraan air;\n",
        "-  kendaraan udara;\n",
        "-  kendaraan luar angkasa.\n",
        "\n",
        "Dalam contoh ini, kita akan membahas subclass pertama saja - kendaraan darat. Jika mau, Anda dapat melanjutkan dengan kelas yang tersisa.\n",
        "\n",
        "Kendaraan darat dapat dibagi lagi, tergantung pada metode pengaruhnya ke tanah. Jadi, kita bisa menghitung:\n",
        "\n",
        "-   kendaraan pribadi\n",
        "-   kendaraan umum\n",
        "-   Kendaraan kargo\n",
        "\n",
        "Hierarki yang kami buat diilustrasikan oleh gambar.\n",
        "\n",
        "Perhatikan arah panah - mereka selalu menunjuk ke superclass. Kelas tingkat atas adalah pengecualian - ia tidak memiliki kelas supernya sendiri. "
      ]
    },
    {
      "cell_type": "markdown",
      "metadata": {
        "cell_style": "split",
        "id": "q6LFiqjqJelJ",
        "colab_type": "text"
      },
      "source": [
        "### Inheritance (Pewarisan sifat)\n",
        "\n",
        "* `superclass/Parent` lebih bersifat umum dari pada `subclass`.\n",
        "* `subclass` mewarisi sifat dari `superclass/Parent` \n",
        "\n",
        "Contoh lainnya adalah hierarki kerajaan taksonomi hewan.\n",
        "\n",
        "Kita dapat mengatakan bahwa semua hewan dapat dibagi menjadi lima subkelas:\n",
        "\n",
        "-    mamalia;\n",
        "-    reptil;\n",
        "-    burung-burung;\n",
        "-    ikan;\n",
        "-    amfibi.\n",
        "\n",
        "Kami akan mengambil yang pertama untuk analisis lebih lanjut.\n",
        "\n",
        "Kami telah mengidentifikasi subclass berikut:\n",
        "\n",
        "-    mamalia liar;\n",
        "-    mamalia yang dijinakkan. \n",
        "\n",
        "![class2.JPG](https://github.com/sykrn/py-dts/blob/master/class2.JPG?raw=1)"
      ]
    },
    {
      "source": [
        "## Apakah object itu?\n",
        "\n",
        "Kelas (di antara definisi lainnya) adalah sekumpulan objek. Objek adalah makhluk yang termasuk dalam kelas.\n",
        "\n",
        "Objek adalah penjelmaan dari persyaratan, sifat, dan kualitas yang ditetapkan ke kelas tertentu. Ini mungkin terdengar sederhana, tetapi perhatikan keadaan penting berikut ini. Kelas membentuk hierarki.\n",
        "\n",
        "Ini mungkin berarti bahwa objek yang termasuk dalam kelas tertentu menjadi milik semua kelas super pada saat yang sama. Ini juga dapat berarti bahwa objek apa pun yang termasuk dalam kelas super mungkin bukan milik subkelasnya.\n",
        "\n",
        "Misal: setiap mobil pribadi merupakan suatu benda milik kelas kendaraan beroda. Ini juga berarti bahwa mobil yang sama dimiliki oleh semua kelas super di kelas rumahnya; oleh karena itu, ini adalah anggota kelas kendaraan juga.\n",
        "\n",
        "Anjing Anda (atau kucing Anda) adalah objek yang termasuk dalam kelas mamalia peliharaan, yang secara eksplisit berarti termasuk dalam kelas hewan juga.\n",
        "\n",
        "Setiap subclass lebih terspesialisasi (atau lebih spesifik) daripada superclassnya. Sebaliknya, setiap superkelas lebih umum (lebih abstrak) daripada subkelasnya.\n",
        "\n",
        "Perhatikan bahwa kami telah mengasumsikan bahwa sebuah kelas mungkin hanya memiliki satu kelas super - ini tidak selalu benar, tetapi kami akan membahas masalah ini lebih lanjut nanti. "
      ],
      "cell_type": "markdown",
      "metadata": {}
    },
    {
      "cell_type": "markdown",
      "metadata": {
        "cell_style": "split",
        "id": "fu9rAwT-JelK",
        "colab_type": "text"
      },
      "source": [
        "Mari kita definisikan salah satu konsep dasar pemrograman objek, bernama pewarisan. Objek apa pun yang terikat ke tingkat tertentu dari hierarki kelas mewarisi semua sifat  yang ditentukan di dalam salah satu kelas super.\n",
        "\n",
        "Kelas rumah objek dapat menentukan ciri-ciri baru yang akan diwarisi oleh salah satu subkelasnya.\n",
        "Konsep warisan\n",
        "\n",
        "![inheritance.JPG](https://github.com/sykrn/py-dts/blob/master/inheritance.JPG?raw=1)\n",
        "\n",
        "Anda seharusnya tidak memiliki masalah dalam mencocokkan aturan ini dengan contoh spesifik, baik itu berlaku untuk hewan, atau kendaraan. "
      ]
    },
    {
      "source": [
        "## Apa yang dimiliki suatu objek?\n",
        "\n",
        "Konvensi pemrograman objek mengasumsikan bahwa setiap objek yang ada dapat dilengkapi dengan tiga kelompok atribut:\n",
        "\n",
        "- sebuah objek memiliki nama yang secara unik mengidentifikasinya dalam namespace rumahnya (meskipun mungkin ada beberapa objek anonim juga)\n",
        "- sebuah objek memiliki sekumpulan properti individual yang membuatnya orisinal, unik, atau luar biasa (meskipun mungkin beberapa objek mungkin tidak memiliki properti sama sekali)\n",
        "- sebuah objek memiliki sekumpulan kemampuan untuk melakukan aktivitas tertentu, mampu mengubah objek itu sendiri, atau beberapa objek lainnya.\n",
        "\n",
        "Ada petunjuk (meskipun ini tidak selalu berhasil) yang dapat membantu Anda mengidentifikasi salah satu dari tiga bidang di atas. Setiap kali Anda mendeskripsikan suatu objek dan Anda menggunakan:\n",
        "-   sebuah kata benda - Anda mungkin mendefinisikan nama objek;\n",
        "-   sebuah kata sifat - Anda mungkin mendefinisikan properti objek;\n",
        "-   kata kerja - Anda mungkin mendefinisikan aktivitas objek.\n",
        "\n",
        "Dua contoh frase harus menjadi contoh yang baik:\n",
        "\n",
        "-   Cadillac pink melaju dengan cepat.\n",
        "\n",
        "    -  Nama objek = Cadillac\n",
        "    -  Kelas = Kendaraan roda\n",
        "    -  Properti = Warna (pink)\n",
        "    -  Aktivitas = Pergi (cepat)\n",
        "\n",
        "-   Max adalah kucing besar yang tidur sepanjang hari.\n",
        "\n",
        "    - Nama objek = Max\n",
        "    - Kelas = Kucing\n",
        "    - Properti = Ukuran (besar)\n",
        "    - Aktivitas = Tidur (sepanjang hari) \n",
        "![max](../asets/max.png)"
      ],
      "cell_type": "markdown",
      "metadata": {}
    },
    {
      "cell_type": "code",
      "metadata": {
        "cell_style": "split",
        "id": "5gmFkM38JelL",
        "colab_type": "code",
        "colab": {}
      },
      "source": [
        "# Contoh pendifinisian class\n",
        "\n",
        "class Hewan:\n",
        "    def __init__(self,nama):\n",
        "        self.nama = nama\n",
        "    def gerak(self):\n",
        "        print('gerak-gerak!!!')\n",
        "\n",
        "class HewanDarat(Hewan):\n",
        "    def __init__(self,nama,kaki=0):\n",
        "        super().__init__(nama)     # Inheritence\n",
        "        self.kaki = kaki         # properti/sifat baru\n",
        "        \n",
        "    def gerak(self):             # Polymorphism\n",
        "        print(self.nama,'gerak di darat dengan kaki',self.kaki)\n",
        "\n",
        "class HewanAir(Hewan):\n",
        "    def __init__(self,nama,sirip='kecil'):\n",
        "        super().__init__(nama)     # Inheritence\n",
        "        self.sirip = sirip       # properti/sifat baru\n",
        "        \n",
        "    def gerak(self):             # Polymorphism\n",
        "        print(self.nama,'gerak di air dengan sirip', self.sirip)\n",
        "\n"
      ],
      "execution_count": null,
      "outputs": []
    },
    {
      "cell_type": "code",
      "metadata": {
        "cell_style": "split",
        "id": "9NembN9UJelP",
        "colab_type": "code",
        "colab": {}
      },
      "source": [
        "hewan = Hewan('pokoknya hewan')\n",
        "kambing = HewanDarat('kambing',kaki=4)\n",
        "hiu = HewanAir('hiu',sirip='lebar')\n",
        "\n",
        "hewan.gerak()\n",
        "kambing.gerak()\n",
        "hiu.gerak()\n"
      ],
      "execution_count": null,
      "outputs": []
    },
    {
      "source": [
        "## 3.2 Stack: Pendekatan Prosedural vs OOP\n",
        "![stack](../asets/stack.png)"
      ],
      "cell_type": "markdown",
      "metadata": {}
    },
    {
      "cell_type": "code",
      "metadata": {
        "cell_style": "split",
        "id": "B0e6TwquJelT",
        "colab_type": "code",
        "colab": {}
      },
      "source": [
        "stack = []\n",
        "\n",
        "def push(val):\n",
        "    stack.append(val)\n",
        "\n",
        "def pop():\n",
        "    val = stack[-1]\n",
        "    del stack[-1]\n",
        "    return val\n",
        "\n",
        "push(3)\n",
        "push(2)\n",
        "push(1)\n",
        "\n",
        "print(pop())\n",
        "print(pop())\n",
        "print(pop())"
      ],
      "execution_count": null,
      "outputs": []
    },
    {
      "cell_type": "code",
      "metadata": {
        "cell_style": "split",
        "id": "hxevKJydJelW",
        "colab_type": "code",
        "colab": {}
      },
      "source": [
        "class Stack:\n",
        "    def __init__(self):\n",
        "        self.stackList = []\n",
        "\n",
        "stackObject = Stack()\n",
        "print(len(stackObject.stackList))\n"
      ],
      "execution_count": null,
      "outputs": []
    },
    {
      "cell_type": "markdown",
      "metadata": {
        "id": "Y2P7fZUyJelS",
        "colab_type": "text"
      },
      "source": [
        "### Enkapsulasi\n",
        "\n",
        "Menyembunyikan atribut dan behavior yang bersifat private dari kelas lainnya.\n",
        "Enkapsulasi di python sangat sederhana, menyembunyikan atribut (tidak sepenuhnya) yaitu dengan menggunakan `__` (dua garis bawah) di awal penamaan atribut.\n",
        "\n",
        "> Di bahasa pemrograman yang lain mungkin anda akan menemukan hal yang lebih kompleks, cth: `public`,`virtual`, `private`, `protected`.\n",
        "\n"
      ]
    },
    {
      "cell_type": "code",
      "metadata": {
        "cell_style": "split",
        "id": "N0IggmFVJela",
        "colab_type": "code",
        "colab": {}
      },
      "source": [
        "class Stack:\n",
        "    def __init__(self):\n",
        "        self.__stackList = [] # __ membuat private\n",
        "\n",
        "stackObject = Stack()\n",
        "print(len(stackObject.__stackList))"
      ],
      "execution_count": null,
      "outputs": []
    },
    {
      "cell_type": "code",
      "metadata": {
        "cell_style": "split",
        "id": "_2AIqa50Jele",
        "colab_type": "code",
        "colab": {}
      },
      "source": [
        "class Stack:\n",
        "    def __init__(self):\n",
        "        self.__stackList = []\n",
        "\n",
        "    def push(self, val):\n",
        "        self.__stackList.append(val)\n",
        "\n",
        "    def pop(self):\n",
        "        val = self.__stackList[-1]\n",
        "        del self.__stackList[-1]\n",
        "        return val\n",
        "\n",
        "littleStack = Stack()\n",
        "anotherStack = Stack()\n",
        "funnyStack = Stack()\n",
        "\n",
        "littleStack.push(1)\n",
        "anotherStack.push(littleStack.pop() + 1)\n",
        "funnyStack.push(anotherStack.pop() - 2)\n",
        "\n",
        "print(funnyStack.pop()) "
      ],
      "execution_count": null,
      "outputs": []
    },
    {
      "cell_type": "code",
      "metadata": {
        "cell_style": "split",
        "id": "XrDxE2ZeJelh",
        "colab_type": "code",
        "colab": {}
      },
      "source": [
        "class AddingStack(Stack):\n",
        "    def __init__(self):\n",
        "        Stack.__init__(self)\n",
        "        self.__sum = 0\n",
        "\n",
        "    def getSum(self):\n",
        "        return self.__sum\n",
        "\n",
        "    def push(self, val):\n",
        "        self.__sum += val\n",
        "        Stack.push(self, val)\n",
        "\n",
        "    def pop(self):\n",
        "        val = Stack.pop(self)\n",
        "        self.__sum -= val\n",
        "        return val\n",
        "\n",
        "\n",
        "stackObject = AddingStack()\n",
        "\n",
        "for i in range(5):\n",
        "    stackObject.push(i)\n",
        "print(stackObject.getSum())\n",
        "\n",
        "for i in range(5):\n",
        "    print(stackObject.pop())"
      ],
      "execution_count": null,
      "outputs": []
    },
    {
      "source": [
        "## 3.3 Properties (instance variable, class variables, attributs)"
      ],
      "cell_type": "markdown",
      "metadata": {}
    },
    {
      "source": [
        "### Instance Variable\n",
        "\n",
        "- objek berbeda dari kelas yang sama mungkin memiliki nilai instance variable yang berbeda;\n",
        "- setiap objek membawa set nilai instance variablenya sendiri - mereka tidak mengganggu satu sama lain dengan cara apa pun."
      ],
      "cell_type": "markdown",
      "metadata": {}
    },
    {
      "cell_type": "code",
      "execution_count": null,
      "metadata": {},
      "outputs": [],
      "source": [
        "class ExampleClass:\n",
        "    def __init__(self, val = 1):\n",
        "        self.first = val\n",
        "\n",
        "    def set_second(self, val):\n",
        "        self.second = val\n",
        "\n",
        "\n",
        "example_object_1 = ExampleClass()\n",
        "example_object_2 = ExampleClass(2)\n",
        "\n",
        "example_object_2.set_second(3)\n",
        "\n",
        "example_object_3 = ExampleClass(4)\n",
        "example_object_3.third = 5\n",
        "\n",
        "print(example_object_1.__dict__)\n",
        "print(example_object_2.__dict__)\n",
        "print(example_object_3.__dict__)"
      ]
    },
    {
      "cell_type": "code",
      "execution_count": null,
      "metadata": {},
      "outputs": [],
      "source": [
        "class ExampleClass:\n",
        "    def __init__(self, val = 1):\n",
        "        self.__first = val\n",
        "\n",
        "    def set_second(self, val = 2):\n",
        "        self.__second = val\n",
        "\n",
        "\n",
        "example_object_1 = ExampleClass()\n",
        "example_object_2 = ExampleClass(2)\n",
        "\n",
        "example_object_2.set_second(3)\n",
        "\n",
        "example_object_3 = ExampleClass(4)\n",
        "example_object_3.__third = 5\n",
        "\n",
        "\n",
        "print(example_object_1.__dict__)\n",
        "print(example_object_2.__dict__)\n",
        "print(example_object_3.__dict__)"
      ]
    },
    {
      "source": [
        "### Class Variable\n",
        "\n",
        "Class Variable adalah properti yang hanya ada dalam satu salinan dalam sebuah class dan disimpan di luar objek.\n",
        "\n",
        "Catatan: tidak ada instance variabel jika tidak ada objek di kelas, sedangkan variabel kelas ada meskipun tidak ada objek yang dibuat dari suatu class."
      ],
      "cell_type": "markdown",
      "metadata": {}
    },
    {
      "cell_type": "code",
      "execution_count": null,
      "metadata": {},
      "outputs": [],
      "source": [
        "class ExampleClass:\n",
        "    counter = 0\n",
        "    def __init__(self, val = 1):\n",
        "        self.__first = val\n",
        "        ExampleClass.counter += 1\n",
        "\n",
        "\n",
        "example_object_1 = ExampleClass()\n",
        "example_object_2 = ExampleClass(2)\n",
        "example_object_3 = ExampleClass(4)\n",
        "\n",
        "print(example_object_1.__dict__, example_object_1.counter)\n",
        "print(example_object_2.__dict__, example_object_2.counter)\n",
        "print(example_object_3.__dict__, example_object_3.counter)"
      ]
    },
    {
      "cell_type": "code",
      "execution_count": null,
      "metadata": {},
      "outputs": [],
      "source": [
        "class ExampleClass:\n",
        "    varia = 1\n",
        "    def __init__(self, val):\n",
        "        ExampleClass.varia = val\n",
        "\n",
        "\n",
        "print(ExampleClass.__dict__)\n",
        "example_object = ExampleClass(2)\n",
        "\n",
        "print(ExampleClass.__dict__)\n",
        "print(example_object.__dict__)"
      ]
    },
    {
      "source": [
        "### Attribute"
      ],
      "cell_type": "markdown",
      "metadata": {}
    },
    {
      "cell_type": "code",
      "execution_count": null,
      "metadata": {},
      "outputs": [],
      "source": [
        "class ExampleClass:\n",
        "    def __init__(self, val):\n",
        "        if val % 2 != 0:\n",
        "            self.a = 1\n",
        "        else:\n",
        "            self.b = 1\n",
        "\n",
        "\n",
        "example_object = ExampleClass(1)\n",
        "\n",
        "print(example_object.a)\n",
        "print(example_object.b)\n"
      ]
    },
    {
      "cell_type": "code",
      "execution_count": null,
      "metadata": {},
      "outputs": [],
      "source": [
        "class ExampleClass:\n",
        "    def __init__(self, val):\n",
        "        if val % 2 != 0:\n",
        "            self.a = 1\n",
        "        else:\n",
        "            self.b = 1\n",
        "\n",
        "\n",
        "example_object = ExampleClass(1)\n",
        "print(example_object.a)\n",
        "\n",
        "try:\n",
        "    print(example_object.b)\n",
        "except AttributeError:\n",
        "    pass\n"
      ]
    },
    {
      "cell_type": "code",
      "execution_count": null,
      "metadata": {},
      "outputs": [],
      "source": [
        "class ExampleClass:\n",
        "    attr = 1\n",
        "\n",
        "print(hasattr(ExampleClass, 'attr'))\n",
        "print(hasattr(ExampleClass, 'prop'))\n"
      ]
    },
    {
      "source": [
        "## 3.4 Methods (class and object methods, constructors, parameters, properties)"
      ],
      "cell_type": "markdown",
      "metadata": {}
    },
    {
      "cell_type": "code",
      "execution_count": null,
      "metadata": {},
      "outputs": [],
      "source": [
        "class Classy:\n",
        "    def method(self):\n",
        "        print(\"method\")\n",
        "\n",
        "\n",
        "obj = Classy()\n",
        "obj.method()"
      ]
    },
    {
      "source": [
        "#### Use <code>self</code> to access to the object's instance and class variables."
      ],
      "cell_type": "markdown",
      "metadata": {}
    },
    {
      "cell_type": "code",
      "execution_count": null,
      "metadata": {},
      "outputs": [],
      "source": [
        "class Classy:\n",
        "    varia = 2\n",
        "    def method(self):\n",
        "        print(self.varia, self.var)\n",
        "\n",
        "\n",
        "obj = Classy()\n",
        "obj.var = 3\n",
        "obj.method()"
      ]
    },
    {
      "source": [
        "#### <code>__init__</code>\n",
        "bukan method biasa, digunakan untuk pendefinisian constructor.\n",
        "\n",
        "Constructor:\n",
        "- wajib memiliki parameter diri (disetel otomatis, seperti biasa);\n",
        "- mungkin (tetapi tidak perlu) memiliki lebih banyak parameter daripada hanya diri sendiri; jika ini terjadi, cara di mana nama kelas digunakan untuk membuat objek harus mencerminkan definisi __init__;\n",
        "- dapat digunakan untuk menyiapkan objek, yaitu, menginisialisasi keadaan internalnya dengan benar, membuat variabel instan, membuat instance objek lain jika keberadaannya diperlukan, dll. variables, instantiate any other objects if their existence is needed, etc.\n"
      ],
      "cell_type": "markdown",
      "metadata": {}
    },
    {
      "cell_type": "code",
      "execution_count": null,
      "metadata": {},
      "outputs": [],
      "source": [
        "class Classy:\n",
        "    def __init__(self, value):\n",
        "        self.var = value\n",
        "\n",
        "\n",
        "obj_1 = Classy(\"object\")\n",
        "\n",
        "print(obj_1.var)\n"
      ]
    },
    {
      "cell_type": "code",
      "execution_count": null,
      "metadata": {},
      "outputs": [],
      "source": [
        "class Classy:\n",
        "    def __init__(self, value = None):\n",
        "        self.var = value\n",
        "\n",
        "\n",
        "obj_1 = Classy(\"object\")\n",
        "obj_2 = Classy()\n",
        "\n",
        "print(obj_1.var)\n",
        "print(obj_2.var)\n"
      ]
    },
    {
      "source": [
        "#### <code>__str__</code>\n",
        "output ketika instance masuk ke dalam fungsi print."
      ],
      "cell_type": "markdown",
      "metadata": {}
    },
    {
      "cell_type": "code",
      "execution_count": null,
      "metadata": {},
      "outputs": [],
      "source": [
        "class Classy:\n",
        "    def __init__(self, value = None):\n",
        "        self.var = value\n",
        "    \n",
        "    def __str__(self, value = None):\n",
        "        return self.var                     #output harus berupa string\n",
        "\n",
        "\n",
        "obj_1 = Classy(\"object1\")\n",
        "obj_2 = Classy(\"object2\")\n",
        "\n",
        "print(obj_1)\n",
        "print(obj_2)"
      ]
    },
    {
      "cell_type": "code",
      "execution_count": null,
      "metadata": {},
      "outputs": [],
      "source": [
        "obj_3 = Classy()\n",
        "print(obj_3)"
      ]
    },
    {
      "source": [
        "#### <code>__dict__</code> \n",
        "cek params life dari class dan objek"
      ],
      "cell_type": "markdown",
      "metadata": {}
    },
    {
      "cell_type": "code",
      "execution_count": null,
      "metadata": {},
      "outputs": [],
      "source": [
        "class Classy:\n",
        "    varia = 1\n",
        "    def __init__(self):\n",
        "        self.var = 2\n",
        "\n",
        "    def method(self):\n",
        "        pass\n",
        "\n",
        "    def __hidden(self):\n",
        "        pass\n",
        "\n",
        "\n",
        "obj = Classy()\n",
        "\n",
        "print(obj.__dict__)\n",
        "print(Classy.__dict__)"
      ]
    },
    {
      "source": [
        "#### <code>__name__</code> \n",
        "cek nama dari class dan tipe objek"
      ],
      "cell_type": "markdown",
      "metadata": {}
    },
    {
      "cell_type": "code",
      "execution_count": null,
      "metadata": {},
      "outputs": [],
      "source": [
        "class Classy:\n",
        "    pass\n",
        "\n",
        "print(Classy.__name__)\n",
        "obj = Classy()\n",
        "print(type(obj).__name__)\n"
      ]
    },
    {
      "source": [
        "#### <code>__module__</code> \n",
        "cek nama module tempat pendefinisian class maupun objek"
      ],
      "cell_type": "markdown",
      "metadata": {}
    },
    {
      "cell_type": "code",
      "execution_count": null,
      "metadata": {},
      "outputs": [],
      "source": [
        "class Classy:\n",
        "    pass\n",
        "\n",
        "print(Classy.__module__)\n",
        "obj = Classy()\n",
        "print(obj.__module__)\n"
      ]
    },
    {
      "source": [
        "#### <code>__bases__</code> \n",
        "return class parent"
      ],
      "cell_type": "markdown",
      "metadata": {}
    },
    {
      "cell_type": "code",
      "execution_count": null,
      "metadata": {},
      "outputs": [],
      "source": [
        "class SuperOne:\n",
        "    pass\n",
        "\n",
        "class SuperTwo:\n",
        "    pass\n",
        "\n",
        "class Sub(SuperOne, SuperTwo):\n",
        "    pass\n",
        "\n",
        "def printBases(cls):\n",
        "    print('( ', end='')\n",
        "\n",
        "    for x in cls.__bases__:\n",
        "        print(x.__name__, end=' ')\n",
        "    print(')')\n",
        "\n",
        "printBases(SuperOne)\n",
        "printBases(SuperTwo)\n",
        "printBases(Sub)\n"
      ]
    },
    {
      "source": [
        "#### Menginvestigasi classes\n",
        "\n",
        "Baik refleksi dan introspeksi memungkinkan seorang programmer untuk melakukan apa saja dengan setiap objek, tidak peduli dari mana asalnya. \n",
        "\n",
        "Fungsi bernama <code>incIntsI()</code> pada code setelah ini mendapatkan objek dari kelas apa pun, memindai isinya untuk menemukan semua atribut bilangan bulat dengan nama yang dimulai dengan i, dan menambahkannya satu per satu. "
      ],
      "cell_type": "markdown",
      "metadata": {}
    },
    {
      "cell_type": "code",
      "execution_count": null,
      "metadata": {},
      "outputs": [],
      "source": [
        "class MyClass:\n",
        "    pass\n",
        "\n",
        "obj = MyClass()\n",
        "obj.a = 1\n",
        "obj.b = 2\n",
        "obj.i = 3\n",
        "obj.ireal = 3.5\n",
        "obj.integer = 4\n",
        "obj.z = 5\n",
        "\n",
        "\n",
        "def incIntsI(obj):\n",
        "    for name in obj.__dict__.keys():\n",
        "        if name.startswith('i'):\n",
        "            val = getattr(obj, name)\n",
        "            if isinstance(val, int):\n",
        "                setattr(obj, name, val + 1)\n",
        "\n",
        "\n",
        "print(obj.__dict__)\n",
        "incIntsI(obj)\n",
        "print(obj.__dict__)\n"
      ]
    },
    {
      "source": [
        "## Lab 3.4.1.12 Timer"
      ],
      "cell_type": "markdown",
      "metadata": {}
    },
    {
      "cell_type": "code",
      "execution_count": null,
      "metadata": {},
      "outputs": [],
      "source": [
        "class Timer:\n",
        "    def __init__( self, a,b,c ):\n",
        "        self.num = a*60*60 + b*60 + c \n",
        "\n",
        "    def __str__(self):\n",
        "        return str(int(self.num/(60*60)))+\":\"+str(int(self.num/60%60))+\":\"+str(self.num%60)\n",
        "\n",
        "    def next_second(self):\n",
        "        self.num = self.num + 1\n",
        "        if(self.num >= 60*60*24):\n",
        "            self.num = 0\n",
        "\n",
        "    def prev_second(self):\n",
        "        self.num = self.num - 1\n",
        "        if(self.num < 0):\n",
        "            self.num = 60*60*24 - 1\n"
      ]
    },
    {
      "cell_type": "code",
      "execution_count": null,
      "metadata": {},
      "outputs": [],
      "source": [
        "timer = Timer(23, 59, 59)\n",
        "print(timer)\n",
        "timer.next_second()\n",
        "print(timer)\n",
        "timer.prev_second()\n",
        "print(timer)"
      ]
    },
    {
      "source": [
        "## Lab  3.4.1.14 Points on a plane"
      ],
      "cell_type": "markdown",
      "metadata": {}
    },
    {
      "cell_type": "code",
      "execution_count": null,
      "metadata": {},
      "outputs": [],
      "source": [
        "import math\n",
        "\n",
        "\n",
        "class Point:\n",
        "    def __init__(self, x=0.0, y=0.0):\n",
        "        self.x = x\n",
        "        self.y = y\n",
        "\n",
        "    def getx(self):\n",
        "        return self.x\n",
        "\n",
        "    def gety(self):\n",
        "        return self.y\n",
        "\n",
        "    def distance_from_xy(self, x, y):\n",
        "        return math.sqrt((self.y-y)**2+(self.x-x)**2)\n",
        "\n",
        "    def distance_from_point(self, point):\n",
        "        return math.sqrt((self.y-point.y)**2+(self.x-point.x)**2)\n",
        "\n",
        "\n",
        "point1 = Point(0, 0)\n",
        "point2 = Point(1, 1)\n",
        "print(point1.distance_from_point(point2))\n",
        "print(point2.distance_from_xy(2, 0))"
      ]
    },
    {
      "source": [
        "expected output:\n",
        "<code><br>\n",
        "1.4142135623730951<br>\n",
        "1.4142135623730951<br>\n",
        "</code>"
      ],
      "cell_type": "markdown",
      "metadata": {}
    },
    {
      "source": [
        "## Lab 3.4.1.15 Triangle"
      ],
      "cell_type": "markdown",
      "metadata": {}
    },
    {
      "cell_type": "code",
      "execution_count": null,
      "metadata": {},
      "outputs": [],
      "source": [
        "import math\n",
        "\n",
        "class Point:\n",
        "    def __init__(self, x=0.0, y=0.0):\n",
        "        self.x = x\n",
        "        self.y = y\n",
        "\n",
        "    def getx(self):\n",
        "        return self.x\n",
        "\n",
        "    def gety(self):\n",
        "        return self.y\n",
        "\n",
        "    def distance_from_xy(self, x, y):\n",
        "        return math.sqrt((self.y-y)**2+(self.x-x)**2)\n",
        "\n",
        "    def distance_from_point(self, point):\n",
        "        return math.sqrt((self.y-point.y)**2+(self.x-point.x)**2)\n",
        "\n",
        "class Triangle:\n",
        "    def __init__(self, vertice1, vertice2, vertice3):\n",
        "        self.a = vertice1\n",
        "        self.b = vertice2\n",
        "        self.c = vertice3\n",
        "    def perimeter(self):\n",
        "        return (\n",
        "            self.a.distance_from_point(self.b) + \n",
        "            self.b.distance_from_point(self.c) + \n",
        "            self.a.distance_from_point(self.c)\n",
        "        )\n",
        "        \n",
        "\n",
        "\n",
        "triangle = Triangle(Point(0, 0), Point(1, 0), Point(0, 1))\n",
        "print(triangle.perimeter())\n"
      ]
    },
    {
      "source": [
        "Expected output:\n",
        "<code><br>3.414213562373095</code>"
      ],
      "cell_type": "markdown",
      "metadata": {}
    },
    {
      "source": [
        "## 3.5. Inheritance (functions, methods, class hierarchies, polymorphism, composition, single vs multiple inheritance) "
      ],
      "cell_type": "markdown",
      "metadata": {}
    },
    {
      "source": [
        "### Inheritance - why and how?\n",
        "\n",
        "Pewarisan adalah praktik umum (dalam pemrograman objek) untuk meneruskan atribut dan metode dari superclass (ditentukan dan sudah ada) ke kelas yang baru dibuat, yang disebut subclass. \n",
        "\n",
        "![inheritance](../asets/inheritance.png)\n"
      ],
      "cell_type": "markdown",
      "metadata": {}
    },
    {
      "cell_type": "code",
      "execution_count": null,
      "metadata": {},
      "outputs": [],
      "source": [
        "class Vehicle:\n",
        "    pass\n",
        "\n",
        "\n",
        "class LandVehicle(Vehicle):\n",
        "    pass\n",
        "\n",
        "\n",
        "class TrackedVehicle(LandVehicle):\n",
        "    pass\n"
      ]
    },
    {
      "cell_type": "code",
      "execution_count": null,
      "metadata": {},
      "outputs": [],
      "source": []
    },
    {
      "cell_type": "markdown",
      "metadata": {
        "id": "vhc4wBzAJelm",
        "colab_type": "text"
      },
      "source": [
        "### Multiple Inheritance"
      ]
    },
    {
      "cell_type": "code",
      "metadata": {
        "id": "Lz1Hso6hJelm",
        "colab_type": "code",
        "colab": {}
      },
      "source": [
        "class Left:\n",
        "    var = \"L\"\n",
        "    varLeft = \"LL\"\n",
        "    def fun(self):\n",
        "        return \"Left\"\n",
        "\n",
        "\n",
        "class Right:\n",
        "    var = \"R\"\n",
        "    varRight = \"RR\"\n",
        "    def fun(self):\n",
        "        return \"Right\"\n",
        "\n",
        "class Sub(Left, Right):\n",
        "    pass\n",
        "\n",
        "obj = Sub()\n",
        "\n",
        "print(obj.var, obj.varLeft, obj.varRight, obj.fun())"
      ],
      "execution_count": null,
      "outputs": []
    },
    {
      "source": [
        "### issubclass() dan isinstance()\n",
        "#### issubclass()\n",
        "apakah suatu class adalah turunan/sub dari class lain?\n",
        "#### isinstance()\n",
        "apakah suatu objek adalah instance dari suatu class?"
      ],
      "cell_type": "markdown",
      "metadata": {}
    },
    {
      "cell_type": "code",
      "execution_count": null,
      "metadata": {},
      "outputs": [],
      "source": [
        "print(issubclass(Sub, Left))\n",
        "print(issubclass(Sub, Right))\n",
        "print(isinstance(obj, Left))\n",
        "print(isinstance(obj, Right))"
      ]
    },
    {
      "cell_type": "code",
      "execution_count": null,
      "metadata": {},
      "outputs": [],
      "source": [
        "class SubSub(Sub):\n",
        "    pass\n",
        "\n",
        "obj_SubSub = SubSub()\n",
        "\n",
        "print(issubclass(SubSub, Sub))\n",
        "print(issubclass(SubSub, Right))\n",
        "\n",
        "print(isinstance(obj_SubSub, Right))"
      ]
    },
    {
      "source": [
        "### is Operator\n",
        "is operator memperlihatkan apakah dua variable (object_one and object_two here) mengacu ke object yang sama."
      ],
      "cell_type": "markdown",
      "metadata": {}
    },
    {
      "cell_type": "code",
      "execution_count": null,
      "metadata": {},
      "outputs": [],
      "source": [
        "string_1 = \"Mary had a little \"\n",
        "string_2 = \"Mary had a little lamb\"\n",
        "string_1 += \"lamb\"\n",
        "\n",
        "print(string_1 == string_2, string_1 is string_2)"
      ]
    },
    {
      "cell_type": "code",
      "execution_count": null,
      "metadata": {},
      "outputs": [],
      "source": [
        "class SampleClass:\n",
        "    def __init__(self, val):\n",
        "        self.val = val\n",
        "\n",
        "\n",
        "object_1 = SampleClass(0)\n",
        "object_2 = SampleClass(2)\n",
        "object_3 = object_1\n",
        "object_3.val += 1\n",
        "\n",
        "print(object_1 is object_2)\n",
        "print(object_2 is object_3)\n",
        "print(object_3 is object_1)\n",
        "print(object_1.val, object_2.val, object_3.val)"
      ]
    },
    {
      "source": [
        "### Deeper about inheritance: using parent constructor"
      ],
      "cell_type": "markdown",
      "metadata": {}
    },
    {
      "cell_type": "code",
      "execution_count": null,
      "metadata": {},
      "outputs": [],
      "source": [
        "class Super:\n",
        "    def __init__(self, name):\n",
        "        self.name = name\n",
        "\n",
        "    def __str__(self):\n",
        "        return \"My name is \" + self.name + \".\"\n",
        "\n",
        "\n",
        "class Sub(Super):\n",
        "    def __init__(self, name):\n",
        "        Super.__init__(name) #pakai Super\n",
        "\n",
        "\n",
        "obj = Sub(\"Andy\")\n",
        "\n",
        "print(obj)"
      ]
    },
    {
      "cell_type": "code",
      "execution_count": null,
      "metadata": {},
      "outputs": [],
      "source": [
        "class Super:\n",
        "    def __init__(self, name):\n",
        "        self.name = name\n",
        "\n",
        "    def __str__(self):\n",
        "        return \"My name is \" + self.name + \".\"\n",
        "\n",
        "class Sub(Super):\n",
        "    def __init__(self, name):\n",
        "        super().__init__(name) #pakai super(), nama superclass tidak perlu diketahui\n",
        "\n",
        "obj = Sub(\"Andy\")\n",
        "\n",
        "print(obj)\n"
      ]
    },
    {
      "source": [
        "### Deeper about inheritance: Testing class variables."
      ],
      "cell_type": "markdown",
      "metadata": {}
    },
    {
      "cell_type": "code",
      "execution_count": null,
      "metadata": {},
      "outputs": [],
      "source": [
        "class Super:\n",
        "    supVar = 1\n",
        "\n",
        "\n",
        "class Sub(Super):\n",
        "    subVar = 2\n",
        "\n",
        "\n",
        "obj = Sub()\n",
        "\n",
        "print(obj.subVar)\n",
        "print(obj.supVar)\n"
      ]
    },
    {
      "source": [
        "### Deeper about inheritance: Testing instance variables."
      ],
      "cell_type": "markdown",
      "metadata": {}
    },
    {
      "cell_type": "code",
      "execution_count": null,
      "metadata": {},
      "outputs": [],
      "source": [
        "class Super:\n",
        "    def __init__(self):\n",
        "        self.supVar = 11\n",
        "\n",
        "\n",
        "class Sub(Super):\n",
        "    def __init__(self):\n",
        "        super().__init__()\n",
        "        self.subVar = 12\n",
        "\n",
        "\n",
        "obj = Sub()\n",
        "\n",
        "print(obj.subVar)\n",
        "print(obj.supVar)\n"
      ]
    },
    {
      "source": [
        "### Bagaimana Python mencari properties dan methods?\n",
        "\n",
        "- mencarinya dalam objek itu sendiri\n",
        "- mencari pada classes yang terlibat dalam pembuatan object inheritance dari bawah ke atas\n",
        "- jika terdapat satu atau lebih class dalam tingkatan jalur inheritanceh, Python mencari dari kiri ke kanan\n"
      ],
      "cell_type": "markdown",
      "metadata": {}
    },
    {
      "cell_type": "code",
      "execution_count": null,
      "metadata": {},
      "outputs": [],
      "source": [
        "class Level1:\n",
        "    var = 100\n",
        "    def fun(self):\n",
        "        return 101\n",
        "\n",
        "class Level2(Level1):\n",
        "    var = 200\n",
        "    def fun(self):\n",
        "        return 201\n",
        "\n",
        "class Level3(Level2):\n",
        "    pass\n",
        "\n",
        "obj = Level3()\n",
        "\n",
        "print(obj.var, obj.fun())\n"
      ]
    },
    {
      "cell_type": "code",
      "execution_count": null,
      "metadata": {},
      "outputs": [],
      "source": [
        "class Level1:\n",
        "    var = 100\n",
        "    def fun(self):\n",
        "        return 101\n",
        "\n",
        "class Level2:\n",
        "    var = 200\n",
        "    def fun(self):\n",
        "        return 201\n",
        "\n",
        "class Level3(Level1, Level2):\n",
        "    pass\n",
        "\n",
        "obj = Level3()\n",
        "\n",
        "print(obj.var, obj.fun())"
      ]
    },
    {
      "source": [
        "### Method Resolution Order "
      ],
      "cell_type": "markdown",
      "metadata": {}
    },
    {
      "cell_type": "code",
      "execution_count": null,
      "metadata": {},
      "outputs": [],
      "source": [
        "class Top:\n",
        "    def m_top(self):\n",
        "        print(\"top\")\n",
        "\n",
        "class Middle(Top):\n",
        "    def m_middle(self):\n",
        "        print(\"middle\")"
      ]
    },
    {
      "cell_type": "code",
      "execution_count": null,
      "metadata": {},
      "outputs": [],
      "source": [
        "# MRO Problem\n",
        "class Bottom(Top, Middle):\n",
        "    def m_bottom(self):\n",
        "        print(\"bottom\")\n",
        "\n",
        "object = Bottom()\n",
        "object.m_bottom()\n",
        "object.m_middle()\n",
        "object.m_top()"
      ]
    },
    {
      "cell_type": "code",
      "execution_count": null,
      "metadata": {},
      "outputs": [],
      "source": [
        "class Bottom(Middle, Top):\n",
        "    def m_bottom(self):\n",
        "        print(\"bottom\")\n",
        "\n",
        "object = Bottom()\n",
        "object.m_bottom()\n",
        "object.m_middle()\n",
        "object.m_top()"
      ]
    },
    {
      "source": [
        "### Diamond Problem\n",
        "\n",
        "![diamond](../asets/diamond.png)"
      ],
      "cell_type": "markdown",
      "metadata": {}
    },
    {
      "cell_type": "code",
      "execution_count": null,
      "metadata": {},
      "outputs": [],
      "source": [
        "# Diamond Problem\n",
        "class Top:\n",
        "    def m_top(self):\n",
        "        print(\"top\")\n",
        "\n",
        "class Middle_Left(Top):\n",
        "    def m_middle(self):\n",
        "        print(\"middle_left\")\n",
        "\n",
        "class Middle_Right(Top):\n",
        "    def m_middle(self):\n",
        "        print(\"middle_right\")\n",
        "\n",
        "class Bottom(Middle_Left, Middle_Right):\n",
        "    def m_bottom(self):\n",
        "        print(\"bottom\")\n",
        "\n",
        "object = Bottom()\n",
        "object.m_bottom()\n",
        "object.m_middle()\n",
        "object.m_top()"
      ]
    },
    {
      "source": [
        "## 3.6. The objective nature of Python exceptions "
      ],
      "cell_type": "markdown",
      "metadata": {
        "id": "plh19QJ3Jelo",
        "colab_type": "text"
      }
    },
    {
      "cell_type": "code",
      "metadata": {
        "cell_style": "split",
        "id": "fNu-nWx4Jelp",
        "colab_type": "code",
        "colab": {}
      },
      "source": [
        "def reciprocal(n):\n",
        "    try:\n",
        "        n = 1 / n\n",
        "    except ZeroDivisionError:\n",
        "        print(\"Division failed\")\n",
        "        n = None\n",
        "    else:\n",
        "        print(\"Everything went fine\")\n",
        "    finally:\n",
        "        print(\"It's time to say goodbye\")\n",
        "        return n\n",
        "\n",
        "print(reciprocal(2))\n",
        "print(reciprocal(0))"
      ],
      "execution_count": null,
      "outputs": []
    },
    {
      "cell_type": "code",
      "metadata": {
        "cell_style": "split",
        "id": "XgkMMSnpJelr",
        "colab_type": "code",
        "colab": {}
      },
      "source": [
        "try:\n",
        "    i = int(\"Hello!\")\n",
        "except Exception as e:\n",
        "    print(e)\n",
        "    print(e.__str__())"
      ],
      "execution_count": null,
      "outputs": []
    },
    {
      "cell_type": "code",
      "metadata": {
        "id": "_mJWYItaJelt",
        "colab_type": "code",
        "colab": {}
      },
      "source": [
        "def printExcTree(thisclass, nest = 0):\n",
        "    if nest > 1:\n",
        "        print(\"   |\" * (nest - 1), end=\"\")\n",
        "    if nest > 0:\n",
        "        print(\"   +---\", end=\"\")\n",
        "\n",
        "    print(thisclass.__name__)\n",
        "\n",
        "    for subclass in thisclass.__subclasses__():\n",
        "        printExcTree(subclass, nest + 1)\n",
        "\n",
        "printExcTree(BaseException)"
      ],
      "execution_count": null,
      "outputs": []
    },
    {
      "cell_type": "code",
      "metadata": {
        "id": "ix4CfK2AJelv",
        "colab_type": "code",
        "colab": {}
      },
      "source": [
        "try:\n",
        "\traise Exception(\"my exception\")\n",
        "except Exception as e:\n",
        "\tprint(e, e.__str__(), sep=' : ', end=' : ')\n",
        "\tprint(e.args)\n",
        " "
      ],
      "execution_count": null,
      "outputs": []
    },
    {
      "cell_type": "code",
      "execution_count": null,
      "metadata": {},
      "outputs": [],
      "source": [
        "def print_exception_tree(thisclass, nest = 0):\n",
        "    if nest > 1:\n",
        "        print(\"   |\" * (nest - 1), end=\"\")\n",
        "    if nest > 0:\n",
        "        print(\"   +---\", end=\"\")\n",
        "\n",
        "    print(thisclass.__name__)\n",
        "\n",
        "    for subclass in thisclass.__subclasses__():\n",
        "        print_exception_tree(subclass, nest + 1)\n",
        "\n",
        "\n",
        "print_exception_tree(BaseException)"
      ]
    },
    {
      "cell_type": "code",
      "execution_count": null,
      "metadata": {},
      "outputs": [],
      "source": [
        "def print_args(args):\n",
        "    lng = len(args)\n",
        "    if lng == 0:\n",
        "        print(\"\")\n",
        "    elif lng == 1:\n",
        "        print(args[0])\n",
        "    else:\n",
        "        print(str(args))\n",
        "\n",
        "\n",
        "try:\n",
        "    raise Exception\n",
        "except Exception as e:\n",
        "    print(e, e.__str__(), sep=' : ' ,end=' : ')\n",
        "    print_args(e.args)\n",
        "\n",
        "try:\n",
        "    raise Exception(\"my exception\")\n",
        "except Exception as e:\n",
        "    print(e, e.__str__(), sep=' : ', end=' : ')\n",
        "    print_args(e.args)\n",
        "\n",
        "try:\n",
        "    raise Exception(\"my\", \"exception\")\n",
        "except Exception as e:\n",
        "    print(e, e.__str__(), sep=' : ', end=' : ')\n",
        "    print_args(e.args)\n"
      ]
    },
    {
      "cell_type": "code",
      "execution_count": null,
      "metadata": {},
      "outputs": [],
      "source": [
        "def print_args(args):\n",
        "    lng = len(args)\n",
        "    if lng == 0:\n",
        "        print(\"\")\n",
        "    elif lng == 1:\n",
        "        print(args[0])\n",
        "    else:\n",
        "        print(str(args))\n",
        "\n",
        "\n",
        "try:\n",
        "    raise Exception\n",
        "except Exception as e:\n",
        "    print(e, e.__str__(), sep=' : ' ,end=' : ')\n",
        "    print_args(e.args)\n",
        "\n",
        "try:\n",
        "    raise Exception(\"my exception\")\n",
        "except Exception as e:\n",
        "    print(e, e.__str__(), sep=' : ', end=' : ')\n",
        "    print_args(e.args)\n",
        "\n",
        "try:\n",
        "    raise Exception(\"my\", \"exception\")\n",
        "except Exception as e:\n",
        "    print(e, e.__str__(), sep=' : ', end=' : ')\n",
        "    print_args(e.args)\n"
      ]
    },
    {
      "source": [
        "### Make your own exception"
      ],
      "cell_type": "markdown",
      "metadata": {}
    },
    {
      "cell_type": "code",
      "execution_count": null,
      "metadata": {},
      "outputs": [],
      "source": [
        "class MyZeroDivisionError(ZeroDivisionError):\t\n",
        "    pass\n",
        "\n",
        "\n",
        "def do_the_division(mine):\n",
        "    if mine:\n",
        "        raise MyZeroDivisionError(\"some worse news\")\n",
        "    else:\t\t\n",
        "        raise ZeroDivisionError(\"some bad news\")\n",
        "\n",
        "\n",
        "for mode in [False, True]:\n",
        "    try:\n",
        "        do_the_division(mode)\n",
        "    except ZeroDivisionError:\n",
        "        print('Division by zero')\n",
        "\n",
        "for mode in [False, True]:\n",
        "    try:\n",
        "        do_the_division(mode)\n",
        "    except MyZeroDivisionError:\n",
        "        print('My division by zero')\n",
        "    except ZeroDivisionError:\n",
        "        print('Original division by zero')\n"
      ]
    },
    {
      "cell_type": "code",
      "execution_count": null,
      "metadata": {},
      "outputs": [],
      "source": [
        "class PizzaError(Exception):\n",
        "    def __init__(self, pizza, message):\n",
        "        Exception.__init__(self, message)\n",
        "        self.pizza = pizza\n",
        "\n",
        "\n",
        "class TooMuchCheeseError(PizzaError):\n",
        "    def __init__(self, pizza, cheese, message):\n",
        "        PizzaError._init__(self, pizza, message)\n",
        "        self.cheese = cheese\n"
      ]
    },
    {
      "cell_type": "code",
      "execution_count": null,
      "metadata": {},
      "outputs": [],
      "source": [
        "class PizzaError(Exception):\n",
        "    def __init__(self, pizza, message):\n",
        "        Exception.__init__(self, message)\n",
        "        self.pizza = pizza\n",
        "\n",
        "\n",
        "class TooMuchCheeseError(PizzaError):\n",
        "    def __init__(self, pizza, cheese, message):\n",
        "        PizzaError.__init__(self, pizza, message)\n",
        "        self.cheese = cheese\n",
        "\n",
        "\n",
        "def make_pizza(pizza, cheese):\n",
        "    if pizza not in ['margherita', 'capricciosa', 'calzone']:\n",
        "        raise PizzaError(pizza, \"no such pizza on the menu\")\n",
        "    if cheese > 100:\n",
        "        raise TooMuchCheeseError(pizza, cheese, \"too much cheese\")\n",
        "    print(\"Pizza ready!\")\n",
        "\n",
        "for (pz, ch) in [('calzone', 0), ('margherita', 110), ('mafia', 20)]:\n",
        "    try:\n",
        "        make_pizza(pz, ch)\n",
        "    except TooMuchCheeseError as tmce:\n",
        "        print(tmce, ':', tmce.cheese)\n",
        "    except PizzaError as pe:\n",
        "        print(pe, ':', pe.pizza)\n"
      ]
    }
  ]
}