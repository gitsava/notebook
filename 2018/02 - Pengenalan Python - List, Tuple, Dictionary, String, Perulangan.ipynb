{
 "cells": [
  {
   "cell_type": "markdown",
   "metadata": {},
   "source": [
    "# 1. Perulangan / Looping\n",
    "Sintaks yang digunakan untuk menjalankan sebuah kode program secara berulang kali hingga step yang ditentukan"
   ]
  },
  {
   "cell_type": "code",
   "execution_count": 2,
   "metadata": {},
   "outputs": [
    {
     "name": "stdout",
     "output_type": "stream",
     "text": [
      "5 3125\n",
      "6 46656\n",
      "7 823543\n",
      "8 16777216\n",
      "9 387420489\n"
     ]
    }
   ],
   "source": [
    "#SINTAKS FOR\n",
    "for i in range(5,10):\n",
    "    print(i,i**i)"
   ]
  },
  {
   "cell_type": "code",
   "execution_count": null,
   "metadata": {},
   "outputs": [],
   "source": [
    "#SINTAKS WHILE\n",
    "i=5\n",
    "while(i<10):\n",
    "    print(i,i**i)\n"
   ]
  },
  {
   "cell_type": "markdown",
   "metadata": {},
   "source": [
    "# 2. List\n",
    "Tipe data yang digunakan untuk menyimpan beberapa nilai dalam satu variabel"
   ]
  },
  {
   "cell_type": "code",
   "execution_count": 12,
   "metadata": {},
   "outputs": [
    {
     "name": "stdout",
     "output_type": "stream",
     "text": [
      "[30, 40, 50, 60, 70, 80, 90]\n",
      "['Ani', 'Budi', 'Catra', 'Desi']\n",
      "['Big', 2.5, 90, 'Data']\n"
     ]
    }
   ],
   "source": [
    "# Deklarasi List\n",
    "\n",
    "#Dapat Berisi Angka\n",
    "nilai = [30,40,50,60,70,80,90]\n",
    "print(nilai)\n",
    "\n",
    "#Dapat berisi String\n",
    "peserta = ['Ani','Budi','Catra','Desi']\n",
    "print(peserta)\n",
    "\n",
    "#Dapat juga berisi campuran tipe data\n",
    "campuran = ['Big',2.5, 90, 'Data']\n",
    "print(campuran)"
   ]
  },
  {
   "cell_type": "markdown",
   "metadata": {},
   "source": [
    "## 2.1 List Index\n",
    "Untuk mengakses elemen tertentu di dalam list, kita dapat menggunakan list index. Index list dimulai dari 0. Index di dalam python juga dapat dibuat negatif, yang artinya index akan ditelusuri dari belakang\n",
    "\n",
    "| 30 | 40 | 50 | 60 | 70 | 80 | 90 |\n",
    "|----|----|----|----|----|----|----|\n",
    "| 0 | 1 | 2 | 3 | 4 | 5 | 6 | 7 |"
   ]
  },
  {
   "cell_type": "code",
   "execution_count": 13,
   "metadata": {},
   "outputs": [
    {
     "name": "stdout",
     "output_type": "stream",
     "text": [
      "30\n",
      "70\n",
      "90\n",
      "70\n"
     ]
    }
   ],
   "source": [
    "print(nilai[0])\n",
    "print(nilai[4])\n",
    "print(nilai[-1])\n",
    "print(nilai[-3])\n"
   ]
  },
  {
   "cell_type": "markdown",
   "metadata": {},
   "source": [
    "## 2.2 Menambah Elemen ke Dalam List"
   ]
  },
  {
   "cell_type": "code",
   "execution_count": 14,
   "metadata": {},
   "outputs": [
    {
     "name": "stdout",
     "output_type": "stream",
     "text": [
      "[30, 40, 50, 60, 70, 80, 90, 90, 10, 20, 30, 40]\n"
     ]
    }
   ],
   "source": [
    "nilai.append(90)\n",
    "nilai.extend([10,20,30,40])\n",
    "\n",
    "print(nilai)\n",
    "\n",
    "#MENGHAPUS ELEMEN PADA LIST\n",
    "del nilai[0]\n",
    "\n",
    "# List Function in Python"
   ]
  },
  {
   "cell_type": "markdown",
   "metadata": {},
   "source": [
    "## 2.3 Slicing List\n",
    "Slicing digunakan untuk memilih beberapa kelompok nilai dari list dengan memanfaatkan range index"
   ]
  },
  {
   "cell_type": "code",
   "execution_count": 15,
   "metadata": {},
   "outputs": [
    {
     "name": "stdout",
     "output_type": "stream",
     "text": [
      "[40, 50, 60, 70, 80, 90, 90, 10, 20, 30, 40]\n",
      "[60, 70, 80]\n",
      "[40, 50, 60, 70, 80, 90, 90, 10, 20]\n",
      "[90, 90, 10, 20, 30, 40]\n",
      "[40, 50, 60, 70, 80, 90, 90, 10, 20, 30, 40]\n"
     ]
    }
   ],
   "source": [
    "print(nilai)\n",
    "\n",
    "# elemen ke 3 sampai ke 5\n",
    "print(nilai[2:5])\n",
    "\n",
    "# ...\n",
    "print(nilai[:-2])\n",
    "\n",
    "# ...\n",
    "print(nilai[5:])\n",
    "\n",
    "# ...\n",
    "print(nilai[:])"
   ]
  },
  {
   "cell_type": "markdown",
   "metadata": {},
   "source": [
    "## 2.4 Perulangan dalam List\n",
    "Dalam mengakses setiap elemen dalam list, kita dapat menggunakan sintaks perulangan for yang telah kita pelajari sebelumnya"
   ]
  },
  {
   "cell_type": "code",
   "execution_count": 16,
   "metadata": {},
   "outputs": [
    {
     "name": "stdout",
     "output_type": "stream",
     "text": [
      "1600\n",
      "2500\n",
      "3600\n",
      "4900\n",
      "6400\n",
      "8100\n",
      "8100\n",
      "100\n",
      "400\n",
      "900\n",
      "1600\n"
     ]
    }
   ],
   "source": [
    "for n in nilai:\n",
    "    print(n**2)\n",
    "\n"
   ]
  },
  {
   "cell_type": "markdown",
   "metadata": {},
   "source": [
    "### Contoh\n",
    "Berapakah rata-rata nilai dari list tersebut?"
   ]
  },
  {
   "cell_type": "code",
   "execution_count": 17,
   "metadata": {},
   "outputs": [
    {
     "name": "stdout",
     "output_type": "stream",
     "text": [
      "[40, 50, 60, 70, 80, 90, 90, 10, 20, 30, 40]\n",
      "52.72727272727273\n"
     ]
    }
   ],
   "source": [
    "# ALGORITMA RATA-RATA\n",
    "total = 0.0\n",
    "print(nilai)\n",
    "for n in nilai:\n",
    "    total = total + float(n)\n",
    "    \n",
    "rata = total / len(nilai)\n",
    "print(rata)"
   ]
  },
  {
   "cell_type": "markdown",
   "metadata": {},
   "source": [
    "## Lookup Nilai dalam List"
   ]
  },
  {
   "cell_type": "code",
   "execution_count": 19,
   "metadata": {},
   "outputs": [
    {
     "name": "stdout",
     "output_type": "stream",
     "text": [
      "90 ada dalam list\n"
     ]
    }
   ],
   "source": [
    "n = 90\n",
    "if n in nilai:\n",
    "    print(n, \"ada dalam list\")\n",
    "else:\n",
    "    print(n, \"tidak ada dalam list\")"
   ]
  },
  {
   "cell_type": "markdown",
   "metadata": {},
   "source": [
    "## 2.5 Latihan\n",
    "Tampilkan Nilai dari list nilai yang Lebih dari sama dengan (>=) rata-ratanya.\n",
    "\n",
    "tugas = [66,77,88,99,55,54]\n",
    "\n",
    "Tampilkan nilai dari list tugas yang Genap "
   ]
  },
  {
   "cell_type": "code",
   "execution_count": 21,
   "metadata": {},
   "outputs": [
    {
     "name": "stdout",
     "output_type": "stream",
     "text": [
      "66\n",
      "88\n",
      "54\n"
     ]
    }
   ],
   "source": [
    "tugas = [66,77,88,99,55,54]\n",
    "for n in tugas:\n",
    "    if n%2==0:\n",
    "        print(n)"
   ]
  },
  {
   "cell_type": "markdown",
   "metadata": {},
   "source": [
    "# 3. Tuple\n",
    "Tuple merupakan tipe data yang mirip dengan list, namun berifat immutable atau tidak dapat ditambah dan diubah nilainya. Keuntungan dari penggunaan tuple adalah, pengaksesan datanya lebih cepat."
   ]
  },
  {
   "cell_type": "code",
   "execution_count": null,
   "metadata": {},
   "outputs": [],
   "source": [
    "# Deklarasi Tuple\n",
    "bulan = (\"Januari\",\"Februari\",\"Maret\",\"April\",\"Mei\",\"Juni\",\"Juli\",\"Agustus\",\"September\",\"Oktober\",\"November\",\"Desember\")\n",
    "print(bulan)"
   ]
  },
  {
   "cell_type": "markdown",
   "metadata": {},
   "source": [
    "## 3.1 Akses Elemen dan Slicing\n",
    "Konsep dalam melakukan akses elemen dan slicing sama persis dengan di list"
   ]
  },
  {
   "cell_type": "code",
   "execution_count": null,
   "metadata": {},
   "outputs": [],
   "source": [
    "print(bulan[0])\n",
    "print(bulan[4])\n",
    "print(bulan[-1])\n",
    "print(bulan[-3])"
   ]
  },
  {
   "cell_type": "code",
   "execution_count": null,
   "metadata": {},
   "outputs": [],
   "source": [
    "print(bulan[2:5])\n",
    "\n",
    "print(bulan[:-5])\n",
    "\n",
    "print(bulan[5:])\n",
    "\n",
    "print(bulan[:])"
   ]
  },
  {
   "cell_type": "markdown",
   "metadata": {},
   "source": [
    "## 3.2 Perulangan dalam Tuple\n",
    "Konsep perulangan juga sama dengan list"
   ]
  },
  {
   "cell_type": "code",
   "execution_count": null,
   "metadata": {},
   "outputs": [],
   "source": [
    "for b in bulan:\n",
    "    print(b)"
   ]
  },
  {
   "cell_type": "markdown",
   "metadata": {},
   "source": [
    "# 4. Dictionary\n",
    "Dictionary dalam Python berbeda dengan List ataupun Tuple. Karena setiap urutanya berisi key dan value. Setiap key dipisahkan dari value-nya oleh titik dua (:), item dipisahkan oleh koma, dan semuanya tertutup dalam kurung kurawal. Dictionary kosong tanpa barang ditulis hanya dengan dua kurung kurawal, seperti ini: {}."
   ]
  },
  {
   "cell_type": "markdown",
   "metadata": {},
   "source": [
    "## 4.1 Membuat dan Mengakses Dictionary"
   ]
  },
  {
   "cell_type": "code",
   "execution_count": null,
   "metadata": {},
   "outputs": [],
   "source": [
    "hasil = \n",
    "print(siswa)\n",
    "print(siswa['Nama'])\n",
    "print(siswa['Umur'])\n",
    "print(siswa['JenisKelamin'])\n",
    "\n",
    "list_siswa = []\n",
    "list_siswa.append(siswa)\n",
    "list_siswa.append(siswa2)\n",
    "print(list_siswa)\n",
    "\n"
   ]
  },
  {
   "cell_type": "code",
   "execution_count": null,
   "metadata": {},
   "outputs": [],
   "source": [
    "for k,v in siswa.items():\n",
    "    print(k,v)"
   ]
  },
  {
   "cell_type": "markdown",
   "metadata": {},
   "source": [
    "## 4.2 Mengubah nilai Dictionary"
   ]
  },
  {
   "cell_type": "code",
   "execution_count": null,
   "metadata": {},
   "outputs": [],
   "source": [
    "siswa['Nama'] = 'Deni'\n",
    "print(siswa)"
   ]
  },
  {
   "cell_type": "markdown",
   "metadata": {},
   "source": [
    "# 4.3 Menambahkan Elemen"
   ]
  },
  {
   "cell_type": "code",
   "execution_count": null,
   "metadata": {},
   "outputs": [],
   "source": [
    "siswa['Alamat'] = \"Jl. Kaliurang KM 5\"\n",
    "print(siswa)"
   ]
  },
  {
   "cell_type": "code",
   "execution_count": null,
   "metadata": {},
   "outputs": [],
   "source": [
    "# List sebagai nilai dari elemen Dictionary\n",
    "siswa[\"Nilai\"] = nilai\n",
    "print(siswa)\n",
    "\n",
    "for n in siswa[\"Nilai\"]:\n",
    "   print(n)"
   ]
  },
  {
   "cell_type": "code",
   "execution_count": null,
   "metadata": {},
   "outputs": [],
   "source": [
    "for l in list_siswa:\n",
    "    print(\"============\")\n",
    "    for k,v in l.items():\n",
    "        print(k,v)"
   ]
  },
  {
   "cell_type": "markdown",
   "metadata": {},
   "source": [
    "# 5. Operasi String\n",
    "Pada pertemuan sebelumnya telah dijelaskan mengenai string. Dalam python cukup banyak operasi yang dikenakan pada string, yang akan berguna dalam analisis data.\n",
    "\n",
    "## 5.1 Slicing dan Akses per Karakter"
   ]
  },
  {
   "cell_type": "code",
   "execution_count": null,
   "metadata": {},
   "outputs": [],
   "source": [
    "nama = \"Tutorial Bahasa Pemrograman Python\"\n",
    "print(nama[0:6])\n",
    "print(nama[20:30])\n",
    "print(nama[-6:])"
   ]
  },
  {
   "cell_type": "code",
   "execution_count": null,
   "metadata": {},
   "outputs": [],
   "source": [
    "for n in nama:\n",
    "    print(n)"
   ]
  },
  {
   "cell_type": "markdown",
   "metadata": {},
   "source": [
    "## 5.2 Merubah String menjadi list Kata\n",
    "Menggunakan fungsi split. Fungsi split dapat diberikan parameter berupa karakter pemisahnya. Jika tidak diberikan parameter maka secara default, pemisahnya adalah spasi."
   ]
  },
  {
   "cell_type": "code",
   "execution_count": null,
   "metadata": {},
   "outputs": [],
   "source": [
    "# kata = nama.split()\n",
    "# print(kata)\n",
    "# print(kata[0])\n",
    "# print(kata[2])\n",
    "\n",
    "paragraf = \"Pada hari minggu kuturut ayah ke kota. Naik Delman istimewa kududuk di muka. Duduk disamping pak kusir yang sedang bekerja\"\n",
    "kalimat = paragraf.split(\".\")\n",
    "print(kalimat)\n",
    "\n",
    "for k in kalimat:\n",
    "    print(k.split())"
   ]
  },
  {
   "cell_type": "markdown",
   "metadata": {},
   "source": [
    "## 5.3 Pencarian kata dalam String"
   ]
  },
  {
   "cell_type": "code",
   "execution_count": null,
   "metadata": {},
   "outputs": [],
   "source": [
    "cari = 'Python'\n",
    "if cari in nama:\n",
    "    print(\"Found!\")\n",
    "else:\n",
    "    print(\"Not Found!\")\n",
    "    \n",
    "cari = ['Python','Java','C++']\n",
    "for c in cari:\n",
    "    if c in nama:\n",
    "        print(c,\"Found!\")\n",
    "    else:\n",
    "        print(c,\"Not Found!\")"
   ]
  },
  {
   "cell_type": "markdown",
   "metadata": {},
   "source": [
    "# 5.4 Replace String"
   ]
  },
  {
   "cell_type": "code",
   "execution_count": null,
   "metadata": {},
   "outputs": [],
   "source": [
    "paragraf = \"Pd hr ini saya BljR\"\n",
    "paragraf = paragraf.lower()\n",
    "paragraf = paragraf.replace('pd','pada')\n",
    "paragraf = paragraf.replace('hr','hari')\n",
    "paragraf = paragraf.replace('bljr','belajar')\n",
    "print(paragraf)\n"
   ]
  },
  {
   "cell_type": "markdown",
   "metadata": {},
   "source": [
    "# 5.5 Panjang String, Lowercase, Uppercase"
   ]
  },
  {
   "cell_type": "code",
   "execution_count": null,
   "metadata": {},
   "outputs": [],
   "source": [
    "print(len(nama))\n",
    "print(nama.upper())\n",
    "print(nama.lower())"
   ]
  },
  {
   "cell_type": "markdown",
   "metadata": {},
   "source": [
    "# LATIHAN 2 - Tugas List Nilai\n",
    "\n",
    "Diberikan sekumpulan Nilai Random antara 0 sampai dengan 100 sebanyak 250 nilai. Buatlah program untuk melakukan hal berikut:\n",
    "1. Tampilkan Angka Ganjil dari ke 250 nilai tersebut\n",
    "2. Tampilkan berapa banyak yang mendapatkan nilai lebih dari 70\n",
    "3. Tampilkan standar deviasi dari sekumpulan nilai tersebut\n",
    "4. Tampilkan nilai maksimum dan minimum\n",
    "5. Tampilkan modus dari sekumpulan nilai tersebut"
   ]
  },
  {
   "cell_type": "code",
   "execution_count": null,
   "metadata": {},
   "outputs": [],
   "source": [
    "import random\n",
    "\n",
    "# GENERATE RANDOM\n",
    "nilaiTugas = []\n",
    "for i in range(250):\n",
    "    nilaiTugas.append(random.randrange(1,100,1))\n",
    "\n",
    "print(nilaiTugas)\n",
    "\n",
    "# TAMPILKAN:\n",
    "# ganjil\n",
    "# nilai > 70\n",
    "# standar deviasi\n",
    "# maksimum\n",
    "# minimum\n",
    "# modus"
   ]
  },
  {
   "cell_type": "markdown",
   "metadata": {},
   "source": [
    "# LATIHAN 3 - Word Count\n",
    "Diberikan sebuah paragraf, hitunglah banyak kemunculan masing-masing kata.\n",
    "Contoh : \"Presiden pagi ini melakukan kunjungan ke Jogja\"\n",
    "\n",
    "- presiden: 1\n",
    "- pagi: 1\n",
    "- ini: 1\n",
    "- melakukan: 1\n",
    "- kunjungan: 1\n",
    "- ke: 1\n",
    "- jogja: 1\n",
    "\n",
    "hints: Gunakan Dictionary dalam menyimpan word count. Gunakan kata sebagai key, dan jumlah kemunculan sebagai value"
   ]
  },
  {
   "cell_type": "code",
   "execution_count": null,
   "metadata": {},
   "outputs": [],
   "source": [
    "paragraf = \"Barcelona berhasil merebut posisi puncak klasemen La Liga Spanyol seusai menang 4-2 atas Sevilla pada pertandingan pekan kesembilan di Stadion Camp Nou, Sabtu (20/10/2018) atau Minggu dini hari WIB. Barcelona membuka keunggulan pada menit ke-2 melalui gol yang dicetak oleh Philippe Coutinho. Lionel Messi menggandakan keunggulan Barcelona, 10 menit berselang.  Namun, nahas bagi Barcelona, karena Messi harus ditarik keluar pada menit ke-26 setelah mengalami cedera. Tanpa Messi, skor 2-0 bertahan hingga babak pertama berakhir.\"\n",
    "paragraf = paragraf.replace(\"/\",\" \")\n",
    "paragraf = paragraf.replace(\"(\",\" \")\n",
    "paragraf = paragraf.replace(\")\",\" \")\n",
    "paragraf = paragraf.replace(\"-\",\" \")\n",
    "print(paragraf.split())"
   ]
  },
  {
   "cell_type": "code",
   "execution_count": null,
   "metadata": {},
   "outputs": [],
   "source": []
  }
 ],
 "metadata": {
  "kernelspec": {
   "display_name": "Python 3",
   "language": "python",
   "name": "python3"
  }
 },
 "nbformat": 4,
 "nbformat_minor": 2
}
