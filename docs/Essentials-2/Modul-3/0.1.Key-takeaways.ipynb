{
 "cells": [
  {
   "cell_type": "markdown",
   "id": "light-accident",
   "metadata": {},
   "source": [
    "# Key takeaways\n",
    "\n",
    "1. A `class` is an idea (more or less abstract) which can be used to create a number of incarnations – such an incarnation is called an `object`.\n",
    "\n",
    "\n",
    "2. When a class is derived from another class, their relation is named `inheritance`. The class which derives from the other class is named a `subclass`. The second side of this relation is named `superclass`. A way to present such a relation is an `inheritance diagram`, where:\n",
    "\n",
    "  - superclasses are always presented `above` their subclasses;\n",
    "  - relations between classes are shown as arrows directed `from the subclass toward its superclass`.\n",
    "\n",
    "3. Objects are equipped with:\n",
    "\n",
    "  - a `name` which identifies them and allows us to distinguish between them;\n",
    "  - a set of `properties` (the set can be empty)\n",
    "  - a set of `methods` (can be empty, too)\n",
    "\n",
    "4. To define a Python class, you need to use the `class` keyword. For example:\n",
    "```py\n",
    "class This_Is_A_Class:\n",
    "     pass\n",
    "```\n",
    "\n",
    "5. To create an object of the previously defined class, you need to use the class as if it were a function. For example:\n",
    "```py\n",
    "this_is_an_object = This_Is_A_Class()\n",
    "```\n",
    "\n",
    "## Exercise 1\n",
    "If we assume that pythons, vipers, and cobras are subclasses of the same superclass, how would you call it?\n",
    "\n",
    "A: Snake, reptile, vertebrate, animal – all these answers are acceptable.\n",
    "\n",
    "## Exercise 2\n",
    "Try to name a few python class subclasses.\n",
    "\n",
    "A: Indian python, African rock python, ball python, Burmese python – the list is long.\n",
    "\n",
    "## Exercise 3\n",
    "Can you name one of your classes just \"class\"?\n",
    "\n",
    "A: No, you can't – class is a keyword!\n"
   ]
  },
  {
   "cell_type": "code",
   "execution_count": null,
   "id": "original-angel",
   "metadata": {},
   "outputs": [],
   "source": []
  }
 ],
 "metadata": {
  "kernelspec": {
   "display_name": "Python 3",
   "language": "python",
   "name": "python3"
  },
  "language_info": {
   "codemirror_mode": {
    "name": "ipython",
    "version": 3
   },
   "file_extension": ".py",
   "mimetype": "text/x-python",
   "name": "python",
   "nbconvert_exporter": "python",
   "pygments_lexer": "ipython3",
   "version": "3.6.1"
  },
  "toc": {
   "base_numbering": 1,
   "nav_menu": {},
   "number_sections": false,
   "sideBar": false,
   "skip_h1_title": false,
   "title_cell": "Table of Contents",
   "title_sidebar": "Contents",
   "toc_cell": false,
   "toc_position": {},
   "toc_section_display": false,
   "toc_window_display": false
  }
 },
 "nbformat": 4,
 "nbformat_minor": 5
}
