{
 "cells": [
  {
   "cell_type": "markdown",
   "id": "acquired-qatar",
   "metadata": {},
   "source": [
    "###### 1. What is the expected result of the following code?"
   ]
  },
  {
   "cell_type": "code",
   "execution_count": 1,
   "id": "fundamental-jaguar",
   "metadata": {},
   "outputs": [
    {
     "name": "stdout",
     "output_type": "stream",
     "text": [
      "Sun Mon Tue Wed Thu Fri Sat\n"
     ]
    }
   ],
   "source": [
    "import calendar\n",
    "\n",
    "calendar.setfirstweekday(calendar.SUNDAY)\n",
    "print(calendar.weekheader(3))"
   ]
  },
  {
   "cell_type": "markdown",
   "id": "smooth-enlargement",
   "metadata": {},
   "source": [
    "###### 2. The following line of code:"
   ]
  },
  {
   "cell_type": "code",
   "execution_count": 2,
   "id": "mineral-encoding",
   "metadata": {},
   "outputs": [
    {
     "ename": "SyntaxError",
     "evalue": "unexpected EOF while parsing (<ipython-input-2-76e1de6a36d7>, line 1)",
     "output_type": "error",
     "traceback": [
      "\u001b[1;36m  File \u001b[1;32m\"<ipython-input-2-76e1de6a36d7>\"\u001b[1;36m, line \u001b[1;32m1\u001b[0m\n\u001b[1;33m    for line in open('text.txt', 'rt'):\u001b[0m\n\u001b[1;37m                                       ^\u001b[0m\n\u001b[1;31mSyntaxError\u001b[0m\u001b[1;31m:\u001b[0m unexpected EOF while parsing\n"
     ]
    }
   ],
   "source": [
    "for line in open('text.txt', 'rt'):"
   ]
  },
  {
   "cell_type": "markdown",
   "id": "julian-equivalent",
   "metadata": {},
   "source": [
    "###### 3. The following statement:\n",
    "Python has built-in assert statement to use `assertion` condition in the program. `assert` statement has a condition or expression which is supposed to be always true. If the condition is false assert halts the program and gives an `AssertionError`."
   ]
  },
  {
   "cell_type": "code",
   "execution_count": 6,
   "id": "designing-payroll",
   "metadata": {},
   "outputs": [
    {
     "ename": "AssertionError",
     "evalue": "",
     "output_type": "error",
     "traceback": [
      "\u001b[1;31m---------------------------------------------------------------------------\u001b[0m",
      "\u001b[1;31mAssertionError\u001b[0m                            Traceback (most recent call last)",
      "\u001b[1;32m<ipython-input-6-2a08a96cd4b9>\u001b[0m in \u001b[0;36m<module>\u001b[1;34m\u001b[0m\n\u001b[0;32m      1\u001b[0m \u001b[0mvar\u001b[0m \u001b[1;33m=\u001b[0m \u001b[1;36m0\u001b[0m\u001b[1;33m\u001b[0m\u001b[0m\n\u001b[1;32m----> 2\u001b[1;33m \u001b[1;32massert\u001b[0m \u001b[0mvar\u001b[0m \u001b[1;33m!=\u001b[0m \u001b[1;36m0\u001b[0m\u001b[1;33m\u001b[0m\u001b[0m\n\u001b[0m",
      "\u001b[1;31mAssertionError\u001b[0m: "
     ]
    }
   ],
   "source": [
    "var = 0\n",
    "assert var != 0"
   ]
  },
  {
   "cell_type": "markdown",
   "id": "contrary-current",
   "metadata": {},
   "source": [
    "###### 4. Look at the code below:\n",
    "Expection ouput: 6 81 0"
   ]
  },
  {
   "cell_type": "code",
   "execution_count": 7,
   "id": "lucky-bridges",
   "metadata": {},
   "outputs": [
    {
     "name": "stdout",
     "output_type": "stream",
     "text": [
      "74 70 0\n"
     ]
    }
   ],
   "source": [
    "import random\n",
    "\n",
    "a = random.randint(0, 100)\n",
    "b = random.randrange(10, 100, 3)\n",
    "c = random.choice((0, 100, 3))\n",
    "print(a, b, c)"
   ]
  },
  {
   "cell_type": "markdown",
   "id": "weird-feeling",
   "metadata": {},
   "source": [
    "###### 5. What is the expected result of the following code?"
   ]
  },
  {
   "cell_type": "code",
   "execution_count": 8,
   "id": "utility-portland",
   "metadata": {},
   "outputs": [
    {
     "name": "stdout",
     "output_type": "stream",
     "text": [
      "11:27:22\n"
     ]
    }
   ],
   "source": [
    "from datetime import datetime\n",
    "\n",
    "date_1 = datetime(2019, 11, 27, 11, 27, 22)\n",
    "date_2 = datetime(2019, 11, 27, 0, 0, 0)\n",
    "\n",
    "print(date_1 - date_2)"
   ]
  },
  {
   "cell_type": "markdown",
   "id": "patient-interface",
   "metadata": {},
   "source": [
    "###### 6. Assuming that the `open()` invocation has gone successfully, the following snippet: will output?\n",
    "T: read the file line by line"
   ]
  },
  {
   "cell_type": "code",
   "execution_count": 9,
   "id": "patent-intermediate",
   "metadata": {},
   "outputs": [
    {
     "name": "stdout",
     "output_type": "stream",
     "text": [
      "mosi\n",
      "\n",
      "mosi\n"
     ]
    }
   ],
   "source": [
    "for x in open('file', 'rt'):\n",
    "    print(x)"
   ]
  },
  {
   "cell_type": "markdown",
   "id": "successful-group",
   "metadata": {},
   "source": [
    "###### 7. If there are more than one `except:` branches after the `try:` cluase, we can say that:\n",
    "T: one or more `except:` blocks will be executed"
   ]
  },
  {
   "cell_type": "markdown",
   "id": "arabic-bunch",
   "metadata": {},
   "source": [
    "##### 8. knowing that a function named `fun()` resides in a module named `mod`, and was imported using the following statement:\n",
    "```py\n",
    "from mod import fun\n",
    "```\n",
    "Choose the right way to invoke the `fun()` function:\n",
    "\n",
    "T: mod.fun()"
   ]
  },
  {
   "cell_type": "markdown",
   "id": "continent-surfing",
   "metadata": {},
   "source": [
    "##### 9. What is the expected result of the following snippet?\n",
    "T: The code will couse a syntax error"
   ]
  },
  {
   "cell_type": "code",
   "execution_count": 10,
   "id": "deadly-draft",
   "metadata": {},
   "outputs": [
    {
     "ename": "SyntaxError",
     "evalue": "default 'except:' must be last (<ipython-input-10-772829e4238d>, line 5)",
     "output_type": "error",
     "traceback": [
      "\u001b[1;36m  File \u001b[1;32m\"<ipython-input-10-772829e4238d>\"\u001b[1;36m, line \u001b[1;32m5\u001b[0m\n\u001b[1;33m    print(\"c\")\u001b[0m\n\u001b[1;37m              \n^\u001b[0m\n\u001b[1;31mSyntaxError\u001b[0m\u001b[1;31m:\u001b[0m default 'except:' must be last\n"
     ]
    }
   ],
   "source": [
    "try:\n",
    "    raise Exception\n",
    "\n",
    "except:\n",
    "    print(\"c\")\n",
    "    \n",
    "except BaseException:\n",
    "    print(\"a\")\n",
    "\n",
    "except Exception:\n",
    "    print(\"b\")"
   ]
  },
  {
   "cell_type": "markdown",
   "id": "caroline-stopping",
   "metadata": {},
   "source": [
    "##### 10.Look at the following code:\n",
    "Expected output?\n",
    "\n",
    "[1, 9]"
   ]
  },
  {
   "cell_type": "code",
   "execution_count": 11,
   "id": "completed-jaguar",
   "metadata": {},
   "outputs": [
    {
     "name": "stdout",
     "output_type": "stream",
     "text": [
      "[1, 9]\n"
     ]
    }
   ],
   "source": [
    "num = [i*i for i in range(5)]\n",
    "\n",
    "foo = list(filter(lambda x: x % 2, num))\n",
    "print(foo)"
   ]
  },
  {
   "cell_type": "markdown",
   "id": "outside-quick",
   "metadata": {},
   "source": [
    "###### 11. If the class contructor is declared in the following way:\n",
    "```py\n",
    "class Class:\n",
    "    def __init__(self, val=0):\n",
    "        pass\n",
    "```\n",
    "which one of the assignments is `invalid`?\n",
    "\n",
    "T: object = Class(1, 2)"
   ]
  },
  {
   "cell_type": "markdown",
   "id": "bright-shift",
   "metadata": {},
   "source": [
    "##### 12. If you want to fill a byte array with data read in from a stream, which method can you use?\n",
    "T: The `read()` method"
   ]
  },
  {
   "cell_type": "markdown",
   "id": "promising-comment",
   "metadata": {},
   "source": [
    "##### 13. Look at the following code:\n",
    "Expected output?\n",
    "\n",
    "[0, 4, 49, 81, 100]"
   ]
  },
  {
   "cell_type": "code",
   "execution_count": 12,
   "id": "applied-ribbon",
   "metadata": {},
   "outputs": [
    {
     "name": "stdout",
     "output_type": "stream",
     "text": [
      "[0, 4, 49, 81, 100]\n"
     ]
    }
   ],
   "source": [
    "num = [0, 2, 7, 9, 10]\n",
    "\n",
    "foo = map(lambda x: x**2, num)\n",
    "\n",
    "print(list(foo))"
   ]
  },
  {
   "cell_type": "markdown",
   "id": "identified-finish",
   "metadata": {},
   "source": [
    "##### 14. What is the expected result of executing the following code?"
   ]
  },
  {
   "cell_type": "code",
   "execution_count": 13,
   "id": "oriented-interference",
   "metadata": {},
   "outputs": [
    {
     "name": "stdout",
     "output_type": "stream",
     "text": [
      "***\n"
     ]
    }
   ],
   "source": [
    "def o(p):\n",
    "    def q():\n",
    "        return '*' * p\n",
    "    return q\n",
    "\n",
    "r = o(1)\n",
    "s = o(2)\n",
    "print(r() + s())"
   ]
  },
  {
   "cell_type": "markdown",
   "id": "flying-cooperative",
   "metadata": {},
   "source": [
    "##### 15. What will be the output of the following code, located in the p.py file?"
   ]
  },
  {
   "cell_type": "code",
   "execution_count": 14,
   "id": "surrounded-canyon",
   "metadata": {},
   "outputs": [
    {
     "name": "stdout",
     "output_type": "stream",
     "text": [
      "__main__\n"
     ]
    }
   ],
   "source": [
    "print(__name__)"
   ]
  },
  {
   "cell_type": "markdown",
   "id": "collect-crossing",
   "metadata": {},
   "source": []
  },
  {
   "cell_type": "markdown",
   "id": "controversial-timeline",
   "metadata": {},
   "source": []
  },
  {
   "cell_type": "markdown",
   "id": "compound-application",
   "metadata": {},
   "source": []
  },
  {
   "cell_type": "markdown",
   "id": "fifteen-sapphire",
   "metadata": {},
   "source": []
  },
  {
   "cell_type": "markdown",
   "id": "heard-turkey",
   "metadata": {},
   "source": []
  },
  {
   "cell_type": "markdown",
   "id": "hungry-fellowship",
   "metadata": {},
   "source": []
  }
 ],
 "metadata": {
  "kernelspec": {
   "display_name": "Python 3",
   "language": "python",
   "name": "python3"
  },
  "language_info": {
   "codemirror_mode": {
    "name": "ipython",
    "version": 3
   },
   "file_extension": ".py",
   "mimetype": "text/x-python",
   "name": "python",
   "nbconvert_exporter": "python",
   "pygments_lexer": "ipython3",
   "version": "3.6.1"
  },
  "toc": {
   "base_numbering": 1,
   "nav_menu": {},
   "number_sections": false,
   "sideBar": false,
   "skip_h1_title": false,
   "title_cell": "Table of Contents",
   "title_sidebar": "Contents",
   "toc_cell": false,
   "toc_position": {},
   "toc_section_display": false,
   "toc_window_display": false
  }
 },
 "nbformat": 4,
 "nbformat_minor": 5
}
