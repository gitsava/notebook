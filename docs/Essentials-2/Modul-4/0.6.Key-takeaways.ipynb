{
 "cells": [
  {
   "cell_type": "markdown",
   "id": "finished-vision",
   "metadata": {},
   "source": [
    "# Key takeaways\n",
    "\n",
    "1. A file needs to be `open` before it can be processed by a program, and it should be `closed` when the processing is finished.\n",
    "\n",
    "Opening the file associates it with the `stream`, which is an abstract representation of the physical data stored on the media. The way in which the stream is processed is called `open mode`. `Three` open modes exist:\n",
    "\n",
    "  - `read mode` – only read operations are allowed;\n",
    "  - `write mode` – only write operations are allowed;\n",
    "  - `update mode` – both writes and reads are allowed.\n",
    "\n",
    "2. Depending on the physical file content, different Python classes can be used to process files. In general, the `BufferedIOBase` is able to process any file, while `TextIOBase` is a specialized class dedicated to processing text files (i.e. files containing human-visible texts divided into lines using new-line markers). Thus, the streams can be divided into `binary` and `text` ones.\n",
    "\n",
    "\n",
    "3. The following `open()` function syntax is used to open a file:\n",
    "```s\n",
    "open(file_name, mode=open_mode, encoding=text_encoding)\n",
    "```\n",
    "The invocation creates a stream object and associates it with the file named `file_name`, using the specified `open_mode` and setting the specified `text_encoding`, or it `raises an exception in the case of an error`.\n",
    "\n",
    "\n",
    "4. Three `predefined` streams are already open when the program starts:\n",
    "\n",
    "  - `sys.stdin` – standard input;\n",
    "  - `sys.stdout` – standard output;\n",
    "  - `sys.stderr` – standard error output.\n",
    "\n",
    "\n",
    "4. The `IOError` exception object, created when any file operations fails (including open operations), contains a property named `errno`, which contains the completion code of the failed action. Use this value to diagnose the problem.\n"
   ]
  },
  {
   "cell_type": "markdown",
   "id": "exciting-baptist",
   "metadata": {},
   "source": [
    "## Exercise 1\n",
    "How do you encode an `open()` function’s `mode` argument value if you're going to create a new text file to only fill it with an article?\n",
    "\n",
    "A: `\"wt\"` or `\"w\"`\n"
   ]
  },
  {
   "cell_type": "markdown",
   "id": "after-startup",
   "metadata": {},
   "source": [
    "## Exercise 2\n",
    "What is the meaning of the value represented by errno.EACESS?\n",
    "\n",
    "A: `Permission denied`: you're not allowed to access the file's content.\n"
   ]
  },
  {
   "cell_type": "markdown",
   "id": "found-senator",
   "metadata": {},
   "source": [
    "## Exercise 3\n",
    "What is the expected output of the following code, assuming that the file named file does not exist?"
   ]
  },
  {
   "cell_type": "code",
   "execution_count": 2,
   "id": "fundamental-gilbert",
   "metadata": {},
   "outputs": [
    {
     "name": "stdout",
     "output_type": "stream",
     "text": [
      "absent\n"
     ]
    }
   ],
   "source": [
    "import errno\n",
    "\n",
    "try:\n",
    "    stream = open(\"file\", \"rb\")\n",
    "    print(\"exists\")\n",
    "    stream.close()\n",
    "except IOError as error:\n",
    "    if error.errno == errno.ENOENT:\n",
    "        print(\"absent\")\n",
    "    else:\n",
    "        print(\"unknown\")"
   ]
  },
  {
   "cell_type": "code",
   "execution_count": null,
   "id": "limited-funeral",
   "metadata": {},
   "outputs": [],
   "source": []
  }
 ],
 "metadata": {
  "kernelspec": {
   "display_name": "Python 3",
   "language": "python",
   "name": "python3"
  },
  "language_info": {
   "codemirror_mode": {
    "name": "ipython",
    "version": 3
   },
   "file_extension": ".py",
   "mimetype": "text/x-python",
   "name": "python",
   "nbconvert_exporter": "python",
   "pygments_lexer": "ipython3",
   "version": "3.6.1"
  },
  "toc": {
   "base_numbering": 1,
   "nav_menu": {},
   "number_sections": false,
   "sideBar": false,
   "skip_h1_title": false,
   "title_cell": "Table of Contents",
   "title_sidebar": "Contents",
   "toc_cell": false,
   "toc_position": {},
   "toc_section_display": false,
   "toc_window_display": false
  }
 },
 "nbformat": 4,
 "nbformat_minor": 5
}
