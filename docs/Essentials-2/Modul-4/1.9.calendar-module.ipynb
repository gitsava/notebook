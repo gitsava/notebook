{
 "cells": [
  {
   "cell_type": "markdown",
   "id": "formed-fundamentals",
   "metadata": {},
   "source": [
    "# Introduction to the calendar module\n",
    "In addition to the `datetime` and `time` modules, the Python standard library provides a module called `calendar` which, as the name suggests, offers `calendar-related functions`.\n",
    "\n",
    "One of them is of course displaying the calendar. It's important that the days of the week are displayed from Monday to Sunday, and each day of the week has its representation in the form of an integer:\n",
    "\n",
    "| Day of the week | Integer value  | Constant |\n",
    "| ----------------- | --------------- | --------- |\n",
    "| Monday | `0` | calendar.MONDAY |\n",
    "| Tuesday | `1` | calendar.TUESDAY |\n",
    "| Wednesday\t| `2` | |\tcalendar.WEDNESDAY |\n",
    "| Thursday | `3` | calendar.THURSDAY |\n",
    "| Friday | `4` | calendar.FRIDAY |\n",
    "| Saturday | `5` | calendar.SATURDAY |\n",
    "| Sunday | `6` | calendar.SUNDAY |\n",
    "\n",
    "The table above shows the representation of the days of the week in the `calendar` module. The first day of the week (Monday) is represented by the value 0 and the calendar.MONDAY constant, while the last day of the week (Sunday) is represented by the value 6 and the calendar.SUNDAY constant.\n",
    "\n",
    "For months, integer values are indexed from 1, i.e., January is represented by 1, and December by 12. Unfortunately, there aren't constants that express the months.\n",
    "\n",
    "The above information will be useful to you when working with the calendar module in this part of the course, but first let's start with some simple `calendar` examples."
   ]
  },
  {
   "cell_type": "markdown",
   "id": "female-synthetic",
   "metadata": {},
   "source": [
    "# Your first calendar\n",
    "You will start your adventure with the `calendar` module with a simple function called `calendar`, which allows you to `display the calendar for the whole year`. Let's look at how to use it to display the calendar for 2020. Run the code in the editor and see what happens."
   ]
  },
  {
   "cell_type": "code",
   "execution_count": 1,
   "id": "secondary-alignment",
   "metadata": {},
   "outputs": [
    {
     "name": "stdout",
     "output_type": "stream",
     "text": [
      "                                  2020\n",
      "\n",
      "      January                   February                   March\n",
      "Mo Tu We Th Fr Sa Su      Mo Tu We Th Fr Sa Su      Mo Tu We Th Fr Sa Su\n",
      "       1  2  3  4  5                      1  2                         1\n",
      " 6  7  8  9 10 11 12       3  4  5  6  7  8  9       2  3  4  5  6  7  8\n",
      "13 14 15 16 17 18 19      10 11 12 13 14 15 16       9 10 11 12 13 14 15\n",
      "20 21 22 23 24 25 26      17 18 19 20 21 22 23      16 17 18 19 20 21 22\n",
      "27 28 29 30 31            24 25 26 27 28 29         23 24 25 26 27 28 29\n",
      "                                                    30 31\n",
      "\n",
      "       April                      May                       June\n",
      "Mo Tu We Th Fr Sa Su      Mo Tu We Th Fr Sa Su      Mo Tu We Th Fr Sa Su\n",
      "       1  2  3  4  5                   1  2  3       1  2  3  4  5  6  7\n",
      " 6  7  8  9 10 11 12       4  5  6  7  8  9 10       8  9 10 11 12 13 14\n",
      "13 14 15 16 17 18 19      11 12 13 14 15 16 17      15 16 17 18 19 20 21\n",
      "20 21 22 23 24 25 26      18 19 20 21 22 23 24      22 23 24 25 26 27 28\n",
      "27 28 29 30               25 26 27 28 29 30 31      29 30\n",
      "\n",
      "        July                     August                  September\n",
      "Mo Tu We Th Fr Sa Su      Mo Tu We Th Fr Sa Su      Mo Tu We Th Fr Sa Su\n",
      "       1  2  3  4  5                      1  2          1  2  3  4  5  6\n",
      " 6  7  8  9 10 11 12       3  4  5  6  7  8  9       7  8  9 10 11 12 13\n",
      "13 14 15 16 17 18 19      10 11 12 13 14 15 16      14 15 16 17 18 19 20\n",
      "20 21 22 23 24 25 26      17 18 19 20 21 22 23      21 22 23 24 25 26 27\n",
      "27 28 29 30 31            24 25 26 27 28 29 30      28 29 30\n",
      "                          31\n",
      "\n",
      "      October                   November                  December\n",
      "Mo Tu We Th Fr Sa Su      Mo Tu We Th Fr Sa Su      Mo Tu We Th Fr Sa Su\n",
      "          1  2  3  4                         1          1  2  3  4  5  6\n",
      " 5  6  7  8  9 10 11       2  3  4  5  6  7  8       7  8  9 10 11 12 13\n",
      "12 13 14 15 16 17 18       9 10 11 12 13 14 15      14 15 16 17 18 19 20\n",
      "19 20 21 22 23 24 25      16 17 18 19 20 21 22      21 22 23 24 25 26 27\n",
      "26 27 28 29 30 31         23 24 25 26 27 28 29      28 29 30 31\n",
      "                          30\n",
      "\n"
     ]
    }
   ],
   "source": [
    "import calendar\n",
    "print(calendar.calendar(2020))"
   ]
  },
  {
   "cell_type": "markdown",
   "id": "vietnamese-miracle",
   "metadata": {},
   "source": [
    "The result displayed is similar to the result of the cal command available in Unix. If you want to change the default calendar formatting, you can use the following parameters:\n",
    "\n",
    "  - `w` – date column width (default 2)\n",
    "  - `l` – number of lines per week (default 1)\n",
    "  - `c` – number of spaces between month columns (default 6)\n",
    "  - `m` – number of columns (default 3)\n",
    "  \n",
    "The calendar function requires you to specify the year, while the other parameters responsible for formatting are optional. We encourage you to try these parameters yourself.\n",
    "\n",
    "A good alternative to the above function is the function called prcal, which also takes the same parameters as the `calendar` function, but doesn't require the use of the `print` function to display the calendar. Its use looks like this:"
   ]
  },
  {
   "cell_type": "code",
   "execution_count": 2,
   "id": "adjustable-thompson",
   "metadata": {},
   "outputs": [
    {
     "name": "stdout",
     "output_type": "stream",
     "text": [
      "                                  2020\n",
      "\n",
      "      January                   February                   March\n",
      "Mo Tu We Th Fr Sa Su      Mo Tu We Th Fr Sa Su      Mo Tu We Th Fr Sa Su\n",
      "       1  2  3  4  5                      1  2                         1\n",
      " 6  7  8  9 10 11 12       3  4  5  6  7  8  9       2  3  4  5  6  7  8\n",
      "13 14 15 16 17 18 19      10 11 12 13 14 15 16       9 10 11 12 13 14 15\n",
      "20 21 22 23 24 25 26      17 18 19 20 21 22 23      16 17 18 19 20 21 22\n",
      "27 28 29 30 31            24 25 26 27 28 29         23 24 25 26 27 28 29\n",
      "                                                    30 31\n",
      "\n",
      "       April                      May                       June\n",
      "Mo Tu We Th Fr Sa Su      Mo Tu We Th Fr Sa Su      Mo Tu We Th Fr Sa Su\n",
      "       1  2  3  4  5                   1  2  3       1  2  3  4  5  6  7\n",
      " 6  7  8  9 10 11 12       4  5  6  7  8  9 10       8  9 10 11 12 13 14\n",
      "13 14 15 16 17 18 19      11 12 13 14 15 16 17      15 16 17 18 19 20 21\n",
      "20 21 22 23 24 25 26      18 19 20 21 22 23 24      22 23 24 25 26 27 28\n",
      "27 28 29 30               25 26 27 28 29 30 31      29 30\n",
      "\n",
      "        July                     August                  September\n",
      "Mo Tu We Th Fr Sa Su      Mo Tu We Th Fr Sa Su      Mo Tu We Th Fr Sa Su\n",
      "       1  2  3  4  5                      1  2          1  2  3  4  5  6\n",
      " 6  7  8  9 10 11 12       3  4  5  6  7  8  9       7  8  9 10 11 12 13\n",
      "13 14 15 16 17 18 19      10 11 12 13 14 15 16      14 15 16 17 18 19 20\n",
      "20 21 22 23 24 25 26      17 18 19 20 21 22 23      21 22 23 24 25 26 27\n",
      "27 28 29 30 31            24 25 26 27 28 29 30      28 29 30\n",
      "                          31\n",
      "\n",
      "      October                   November                  December\n",
      "Mo Tu We Th Fr Sa Su      Mo Tu We Th Fr Sa Su      Mo Tu We Th Fr Sa Su\n",
      "          1  2  3  4                         1          1  2  3  4  5  6\n",
      " 5  6  7  8  9 10 11       2  3  4  5  6  7  8       7  8  9 10 11 12 13\n",
      "12 13 14 15 16 17 18       9 10 11 12 13 14 15      14 15 16 17 18 19 20\n",
      "19 20 21 22 23 24 25      16 17 18 19 20 21 22      21 22 23 24 25 26 27\n",
      "26 27 28 29 30 31         23 24 25 26 27 28 29      28 29 30 31\n",
      "                          30\n",
      "\n"
     ]
    }
   ],
   "source": [
    "import calendar\n",
    "calendar.prcal(2020)"
   ]
  },
  {
   "cell_type": "markdown",
   "id": "national-badge",
   "metadata": {},
   "source": [
    "# Calendar for a specific month\n",
    "The `calendar` module has a function called `month`, which allows you to display a calendar for a specific month. Its use is really simple, you just need to specify the year and month - check out the code in the editor."
   ]
  },
  {
   "cell_type": "code",
   "execution_count": 3,
   "id": "desperate-chick",
   "metadata": {},
   "outputs": [
    {
     "name": "stdout",
     "output_type": "stream",
     "text": [
      "   November 2020\n",
      "Mo Tu We Th Fr Sa Su\n",
      "                   1\n",
      " 2  3  4  5  6  7  8\n",
      " 9 10 11 12 13 14 15\n",
      "16 17 18 19 20 21 22\n",
      "23 24 25 26 27 28 29\n",
      "30\n",
      "\n"
     ]
    }
   ],
   "source": [
    "import calendar\n",
    "print(calendar.month(2020, 11))"
   ]
  },
  {
   "cell_type": "markdown",
   "id": "third-confirmation",
   "metadata": {},
   "source": [
    "The example displays the calendar for November 2020. As in the `calendar` function, you can change the default formatting using the following parameters:\n",
    "\n",
    "  - `w` – date column width (default 2)\n",
    "  - `l` – number of lines per week (default 1)\n",
    "  \n",
    "<b>Note</b>: You can also use the `prmonth` function, which has the same parameters as the `month` function, but doesn't require you to use the `print` function to display the calendar."
   ]
  },
  {
   "cell_type": "markdown",
   "id": "activated-zoning",
   "metadata": {},
   "source": [
    "# The setfirstweekday() function\n",
    "As you already know, by default in the `calendar` module, the first day of the week is Monday. However, you can change this behavior using a function called `setfirstweekday`.\n",
    "\n",
    "Do you remember the table showing the days of the week and their representation in the form of integer values? It's time to use it, because the `setfirstweekday` method requires a parameter expressing the day of the week in the form of an integer value. Take a look at the example in the editor."
   ]
  },
  {
   "cell_type": "code",
   "execution_count": 4,
   "id": "thousand-australian",
   "metadata": {},
   "outputs": [
    {
     "name": "stdout",
     "output_type": "stream",
     "text": [
      "   December 2020\n",
      "Su Mo Tu We Th Fr Sa\n",
      "       1  2  3  4  5\n",
      " 6  7  8  9 10 11 12\n",
      "13 14 15 16 17 18 19\n",
      "20 21 22 23 24 25 26\n",
      "27 28 29 30 31\n"
     ]
    }
   ],
   "source": [
    "import calendar\n",
    "\n",
    "calendar.setfirstweekday(calendar.SUNDAY)\n",
    "calendar.prmonth(2020, 12)"
   ]
  },
  {
   "cell_type": "markdown",
   "id": "durable-stand",
   "metadata": {},
   "source": [
    "The example uses the `calendar.SUNDAY` constant, which contains a value of 6. Of course, you could pass this value directly to the `setfirstweekday` function, but the version with a constant is more elegant.\n",
    "\n",
    "As a result, we get a calendar showing the month of December 2020, in which the first day of all the weeks is Sunday.\n"
   ]
  },
  {
   "cell_type": "markdown",
   "id": "suspended-orchestra",
   "metadata": {},
   "source": [
    "# The weekday() function\n",
    "Another useful function provided by the `calendar` module is the function called `weekday`, which returns the day of the week as an integer value for the given year, month, and day. Let's see it in practice."
   ]
  },
  {
   "cell_type": "code",
   "execution_count": 5,
   "id": "limiting-housing",
   "metadata": {},
   "outputs": [
    {
     "name": "stdout",
     "output_type": "stream",
     "text": [
      "3\n"
     ]
    }
   ],
   "source": [
    "import calendar\n",
    "print(calendar.weekday(2020, 12, 24))"
   ]
  },
  {
   "cell_type": "markdown",
   "id": "downtown-christmas",
   "metadata": {},
   "source": [
    "Result:\n",
    "```\n",
    "3\n",
    "```\n",
    "The `weekday` function returns 3, which means that December 24, 2020 is a Thursday."
   ]
  },
  {
   "cell_type": "markdown",
   "id": "separate-midnight",
   "metadata": {},
   "source": [
    "# The weekheader() function\n",
    "You've probably noticed that the calendar contains weekly headers in a shortened form. If needed, you can get short weekday names using the `weekheader` method.\n",
    "\n",
    "The `weekheader` method requires you to specify the width in characters for one day of the week. If the width you provide is greater than 3, you'll still get the abbreviated weekday names consisting of three characters."
   ]
  },
  {
   "cell_type": "code",
   "execution_count": 7,
   "id": "laden-plain",
   "metadata": {},
   "outputs": [
    {
     "name": "stdout",
     "output_type": "stream",
     "text": [
      "Su Mo Tu We Th Fr Sa\n"
     ]
    }
   ],
   "source": [
    "import calendar\n",
    "print(calendar.weekheader(2))"
   ]
  },
  {
   "cell_type": "markdown",
   "id": "functional-seventh",
   "metadata": {},
   "source": [
    "So let's look at how to get a smaller header. Run the code in the editor.\n",
    "\n",
    "Result:\n",
    "```\n",
    "Mo Tu We Th Fr Sa Su\n",
    "```\n",
    "\n",
    "<b>Note</b>: If you change the first day of the week, e.g., using the `setfirstweekday` function, it'll affect the result of the `weekheader` function."
   ]
  },
  {
   "cell_type": "markdown",
   "id": "funny-firmware",
   "metadata": {},
   "source": [
    "# How do we check if a year is a leap year?\n",
    "The `calendar` module provides two useful functions to check whether years are leap years.\n",
    "\n",
    "The first one, called `isleap`, returns True if the passed year is leap, or False otherwise. The second one, called `leapdays`, returns the number of leap years in the given range of years.\n",
    "\n",
    "Run the code in the editor."
   ]
  },
  {
   "cell_type": "code",
   "execution_count": 8,
   "id": "falling-blackjack",
   "metadata": {},
   "outputs": [
    {
     "name": "stdout",
     "output_type": "stream",
     "text": [
      "True\n",
      "3\n"
     ]
    }
   ],
   "source": [
    "import calendar\n",
    "\n",
    "print(calendar.isleap(2020))\n",
    "print(calendar.leapdays(2010, 2021))  "
   ]
  },
  {
   "cell_type": "markdown",
   "id": "blocked-progress",
   "metadata": {},
   "source": [
    "Result:\n",
    "```\n",
    "True\n",
    "3\n",
    "```\n",
    "\n",
    "In the example, we obtain the result 3, because in the period from 2010 to 2020 there are only three leap years (note: 2021 is not included). They are the years 2012, 2016, and 2020."
   ]
  },
  {
   "cell_type": "markdown",
   "id": "sufficient-psychology",
   "metadata": {},
   "source": [
    "# Classes for creating calendars\n",
    "The presented functions aren't everything the `calendar` module offers. In addition to them, we can use the following classes:\n",
    "\n",
    "  - `calendar.Calendar` – provides methods to prepare calendar data for formatting;\n",
    "  - `calendar.TextCalendar` – is used to create regular text calendars;\n",
    "  - `calendar.HTMLCalendar` – is used to create HTML calendars;\n",
    "  - `calendar.LocalTextCalendar` – is a subclass of the `calendar.TextCalendar` class. The constructor of this class takes the locale parameter, which is used to return the appropriate months and weekday names.\n",
    "  - `calendar.LocalHTMLCalendar` – is a subclass of the `calendar.HTMLCalendar` class. The constructor of this class takes the locale parameter, which is used to return the appropriate months and weekday names.\n",
    "\n",
    "During this course, you've already had the opportunity to create text calendars when discussing the functions of the `calendar` module.\n",
    "\n",
    "Time to try something new. Let's take a closer look at the methods of the `calendar` class.\n",
    "\n",
    "<img src=\"img/calender.png\">"
   ]
  },
  {
   "cell_type": "markdown",
   "id": "optional-calibration",
   "metadata": {},
   "source": [
    "# Creating a Calendar object\n",
    "The `Calendar` class constructor takes one optional parameter named `firstweekday`, by default equal to 0 (Monday).\n",
    "\n",
    "The `firstweekday` parameter must be an integer between 0-6. For this purpose, we can use the already-known constants - look at the code in the editor."
   ]
  },
  {
   "cell_type": "code",
   "execution_count": 9,
   "id": "indirect-pitch",
   "metadata": {},
   "outputs": [
    {
     "name": "stdout",
     "output_type": "stream",
     "text": [
      "6 0 1 2 3 4 5 "
     ]
    }
   ],
   "source": [
    "import calendar  \n",
    "\n",
    "c = calendar.Calendar(calendar.SUNDAY)\n",
    "\n",
    "for weekday in c.iterweekdays():\n",
    "    print(weekday, end=\" \")"
   ]
  },
  {
   "cell_type": "markdown",
   "id": "clean-foster",
   "metadata": {},
   "source": [
    "The program will output the following result:\n",
    "```\n",
    "6 0 1 2 3 4 5\n",
    "```\n",
    "\n",
    "The code example uses the `Calendar` class method named `iterweekdays`, which returns an iterator for week day numbers.\n",
    "\n",
    "The first value returned is always equal to the value of the `firstweekday` property. Because in our example the first value returned is 6, it means that the week starts on a Sunday."
   ]
  },
  {
   "cell_type": "markdown",
   "id": "everyday-yugoslavia",
   "metadata": {},
   "source": [
    "# The itermonthdates() method\n",
    "The `Calendar` class has several methods that return an iterator. One of them is the `itermonthdates` method, which requires specifying the year and month.\n",
    "\n",
    "As a result, all days in the specified month and year are returned, as well as all days before the beginning of the month or the end of the month that are necessary to get a complete week.\n",
    "\n",
    "Each day is represented by a `datetime.date` object. Take a look at the example in the editor."
   ]
  },
  {
   "cell_type": "code",
   "execution_count": 10,
   "id": "acknowledged-danger",
   "metadata": {},
   "outputs": [
    {
     "name": "stdout",
     "output_type": "stream",
     "text": [
      "2019-10-28 2019-10-29 2019-10-30 2019-10-31 2019-11-01 2019-11-02 2019-11-03 2019-11-04 2019-11-05 2019-11-06 2019-11-07 2019-11-08 2019-11-09 2019-11-10 2019-11-11 2019-11-12 2019-11-13 2019-11-14 2019-11-15 2019-11-16 2019-11-17 2019-11-18 2019-11-19 2019-11-20 2019-11-21 2019-11-22 2019-11-23 2019-11-24 2019-11-25 2019-11-26 2019-11-27 2019-11-28 2019-11-29 2019-11-30 2019-12-01 "
     ]
    }
   ],
   "source": [
    "import calendar  \n",
    "\n",
    "c = calendar.Calendar()\n",
    "\n",
    "for date in c.itermonthdates(2019, 11):\n",
    "    print(date, end=\" \")"
   ]
  },
  {
   "cell_type": "markdown",
   "id": "every-qualification",
   "metadata": {},
   "source": [
    "The code displays all days in November 2019. Because the first day of November 2019 was a Friday, the following days are also returned to get the complete week: 10/28/2019 (Monday) 10/29/2019 (Tuesday) 10/30/2019 (Wednesday) 10/31/2019 (Thursday).\n",
    "\n",
    "The last day of November 2019 was a Saturday, so in order to keep the complete week, one more day is returned 12/01/2019 (Friday)."
   ]
  },
  {
   "cell_type": "markdown",
   "id": "accompanied-retail",
   "metadata": {},
   "source": [
    "# Other methods that return iterators\n",
    "Another useful method in the `Calendar` class is the method called `itermonthdates`, which takes year and month as parameters, and then returns the iterator to the days of the week represented by numbers.\n",
    "\n",
    "Take a look at the example in the editor."
   ]
  },
  {
   "cell_type": "code",
   "execution_count": 11,
   "id": "presidential-mambo",
   "metadata": {},
   "outputs": [
    {
     "name": "stdout",
     "output_type": "stream",
     "text": [
      "0 0 0 0 1 2 3 4 5 6 7 8 9 10 11 12 13 14 15 16 17 18 19 20 21 22 23 24 25 26 27 28 29 30 0 "
     ]
    }
   ],
   "source": [
    "import calendar  \n",
    "\n",
    "c = calendar.Calendar()\n",
    "\n",
    "for iter in c.itermonthdays(2019, 11):\n",
    "    print(iter, end=\" \")\n"
   ]
  },
  {
   "cell_type": "markdown",
   "id": "republican-neutral",
   "metadata": {},
   "source": [
    "You’ll have certainly noticed the large number of 0s returned as a result of the example code. These are days outside the specified month range that are added to keep the complete week.\n",
    "\n",
    "The first four zeros represent 10/28/2019 (Monday) 10/29/2019 (Tuesday) 10/30/2019 (Wednesday) 10/31/2019 (Thursday). The remaining numbers are days in the month, except the last value of 0, which replaces the date 12/01/2019 (Sunday).\n",
    "\n",
    "There are four other similar methods in the `Calendar` class that differ in data returned:\n",
    "\n",
    "  - `itermonthdates2` – returns days in the form of tuples consisting of a day of the month number and a week day number;\n",
    "  - `itermonthdates3` – returns days in the form of tuples consisting of a year, a month, and a day of the month numbers. This method has been available since version 3.7;\n",
    "  - `itermonthdates4` – returns days in the form of tuples consisting of a year, a month, a day of the month, and a day of the week numbers. This method has been available since Python version 3.7.\n",
    "\n",
    "For testing purposes, use the example above and see how the return values of the described methods look in practice."
   ]
  },
  {
   "cell_type": "markdown",
   "id": "breathing-weapon",
   "metadata": {},
   "source": [
    "# The monthdays2calendar() method\n",
    "The `Calendar` class has several other useful methods that you can learn more about in the documentation (https://docs.python.org/3/library/calendar.html).\n",
    "\n",
    "One of them is the `monthdays2calendar` method, which takes the year and month, and then returns a list of weeks in a specific month. Each week is a tuple consisting of day numbers and weekday numbers. Look at the code in the editor."
   ]
  },
  {
   "cell_type": "code",
   "execution_count": 12,
   "id": "similar-sampling",
   "metadata": {},
   "outputs": [
    {
     "name": "stdout",
     "output_type": "stream",
     "text": [
      "[(0, 0), (1, 1), (2, 2), (3, 3), (4, 4), (5, 5), (6, 6)]\n",
      "[(7, 0), (8, 1), (9, 2), (10, 3), (11, 4), (12, 5), (13, 6)]\n",
      "[(14, 0), (15, 1), (16, 2), (17, 3), (18, 4), (19, 5), (20, 6)]\n",
      "[(21, 0), (22, 1), (23, 2), (24, 3), (25, 4), (26, 5), (27, 6)]\n",
      "[(28, 0), (29, 1), (30, 2), (31, 3), (0, 4), (0, 5), (0, 6)]\n"
     ]
    }
   ],
   "source": [
    "import calendar  \n",
    "\n",
    "c = calendar.Calendar()\n",
    "\n",
    "for data in c.monthdays2calendar(2020, 12):\n",
    "    print(data)"
   ]
  },
  {
   "cell_type": "markdown",
   "id": "actual-scanning",
   "metadata": {},
   "source": [
    "<b>Note</b> that the days numbers outside the month are represented by 0, while the weekday numbers are a number from 0-6, where 0 is Monday and 6 is Sunday.\n",
    "\n",
    "In a moment, this method may be useful for you to complete a laboratory task. Are you ready?"
   ]
  },
  {
   "cell_type": "code",
   "execution_count": null,
   "id": "directed-brain",
   "metadata": {},
   "outputs": [],
   "source": []
  }
 ],
 "metadata": {
  "kernelspec": {
   "display_name": "Python 3",
   "language": "python",
   "name": "python3"
  },
  "language_info": {
   "codemirror_mode": {
    "name": "ipython",
    "version": 3
   },
   "file_extension": ".py",
   "mimetype": "text/x-python",
   "name": "python",
   "nbconvert_exporter": "python",
   "pygments_lexer": "ipython3",
   "version": "3.6.1"
  },
  "toc": {
   "base_numbering": 1,
   "nav_menu": {},
   "number_sections": false,
   "sideBar": false,
   "skip_h1_title": false,
   "title_cell": "Table of Contents",
   "title_sidebar": "Contents",
   "toc_cell": false,
   "toc_position": {},
   "toc_section_display": false,
   "toc_window_display": false
  }
 },
 "nbformat": 4,
 "nbformat_minor": 5
}
