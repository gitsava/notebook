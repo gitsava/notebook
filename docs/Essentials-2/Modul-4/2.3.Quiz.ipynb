{
 "cells": [
  {
   "cell_type": "code",
   "execution_count": 2,
   "id": "likely-webcam",
   "metadata": {},
   "outputs": [
    {
     "name": "stdout",
     "output_type": "stream",
     "text": [
      "19/November/27 11:27:22\n"
     ]
    }
   ],
   "source": [
    "from datetime import datetime\n",
    "datetime = datetime(2019, 11,27, 11, 27, 22)\n",
    "print(datetime.strftime('%y/%B/%d %H:%M:%S'))"
   ]
  },
  {
   "cell_type": "code",
   "execution_count": 2,
   "id": "progressive-switch",
   "metadata": {},
   "outputs": [
    {
     "name": "stdout",
     "output_type": "stream",
     "text": [
      "0 1 2 3 4 5 6 "
     ]
    }
   ],
   "source": [
    "import calendar\n",
    "\n",
    "c = calendar.Calendar()\n",
    "\n",
    "for weekday in c.iterweekdays():\n",
    "    print(weekday, end=\" \")"
   ]
  },
  {
   "cell_type": "code",
   "execution_count": 1,
   "id": "supported-blowing",
   "metadata": {},
   "outputs": [
    {
     "name": "stdout",
     "output_type": "stream",
     "text": [
      "++++++"
     ]
    }
   ],
   "source": [
    "def fun(n):\n",
    "    s = '+'\n",
    "    for i in range(n):\n",
    "        s += s\n",
    "        yield s\n",
    "\n",
    "for x in fun(2):\n",
    "    print(x, end='')"
   ]
  },
  {
   "cell_type": "code",
   "execution_count": 2,
   "id": "informal-ghana",
   "metadata": {},
   "outputs": [
    {
     "name": "stdout",
     "output_type": "stream",
     "text": [
      "***\n"
     ]
    }
   ],
   "source": [
    "def o(p):\n",
    "    def q():\n",
    "        return '*' * p\n",
    "    return q\n",
    "\n",
    "r = o(1)\n",
    "s = o(2)\n",
    "print(r() + s())"
   ]
  },
  {
   "cell_type": "code",
   "execution_count": 4,
   "id": "finite-province",
   "metadata": {},
   "outputs": [
    {
     "name": "stdout",
     "output_type": "stream",
     "text": [
      "ace"
     ]
    }
   ],
   "source": [
    "def I():\n",
    "    s = 'abcdef'\n",
    "    for c in s[::2]:\n",
    "        yield c\n",
    "\n",
    "for x in I():\n",
    "    print(x, end='')"
   ]
  },
  {
   "cell_type": "code",
   "execution_count": 6,
   "id": "temporal-chart",
   "metadata": {},
   "outputs": [
    {
     "name": "stdout",
     "output_type": "stream",
     "text": [
      "345 days, 0:00:00\n"
     ]
    }
   ],
   "source": [
    "from datetime import date\n",
    "\n",
    "date_1 = date(1992, 1, 16)\n",
    "date_2 = date(1991, 2, 5)\n",
    "\n",
    "print(date_1 - date_2)"
   ]
  },
  {
   "cell_type": "code",
   "execution_count": 7,
   "id": "continent-israel",
   "metadata": {},
   "outputs": [
    {
     "name": "stdout",
     "output_type": "stream",
     "text": [
      "bytearray(b'\\x00\\x00\\x00')\n"
     ]
    }
   ],
   "source": [
    "b = bytearray(3)\n",
    "print(b)"
   ]
  },
  {
   "cell_type": "code",
   "execution_count": 1,
   "id": "finished-beast",
   "metadata": {},
   "outputs": [
    {
     "name": "stdout",
     "output_type": "stream",
     "text": [
      "(2, 3, 4, 5, 6)\n"
     ]
    }
   ],
   "source": [
    "myt = (0, 1, 2, 3, 4, 5,6)\n",
    "foo = tuple(filter(lambda x: x-0 and x-1, myt))\n",
    "\n",
    "print(foo)"
   ]
  },
  {
   "cell_type": "code",
   "execution_count": 4,
   "id": "compact-stamp",
   "metadata": {},
   "outputs": [
    {
     "name": "stdout",
     "output_type": "stream",
     "text": [
      "C:\\dev\\programming-docs\\Python\\Essentials-2\\Modul-4\\pictures\n"
     ]
    }
   ],
   "source": [
    "import os\n",
    "\n",
    "os.mkdir('pictures')\n",
    "os.chdir('pictures')\n",
    "os.mkdir('thumbnails')\n",
    "os.chdir('thumbnails')\n",
    "os.mkdir('tmp')\n",
    "os.chdir('../')\n",
    "\n",
    "print(os.getcwd())"
   ]
  },
  {
   "cell_type": "code",
   "execution_count": 7,
   "id": "announced-consciousness",
   "metadata": {},
   "outputs": [
    {
     "name": "stdout",
     "output_type": "stream",
     "text": [
      "Mo Tu We Th Fr Sa Su\n"
     ]
    }
   ],
   "source": [
    "import calendar\n",
    "\n",
    "print(calendar.weekheader(2))"
   ]
  },
  {
   "cell_type": "code",
   "execution_count": 8,
   "id": "weighted-clock",
   "metadata": {},
   "outputs": [
    {
     "name": "stdout",
     "output_type": "stream",
     "text": [
      "[1, 4, 27]\n"
     ]
    }
   ],
   "source": [
    "myl = [1, 2, 3]\n",
    "\n",
    "foo = list(map(lambda x: x**x, myl))\n",
    "\n",
    "print(foo)"
   ]
  },
  {
   "cell_type": "code",
   "execution_count": 1,
   "id": "sublime-robert",
   "metadata": {},
   "outputs": [
    {
     "name": "stdout",
     "output_type": "stream",
     "text": [
      "['large', 'medium', 'small']\n"
     ]
    }
   ],
   "source": [
    "import os\n",
    "\n",
    "os.mkdir('thumbnails')\n",
    "os.chdir('thumbnails')\n",
    "\n",
    "sizes = ['small','medium','large']\n",
    "\n",
    "for size in sizes:\n",
    "    os.mkdir(size)\n",
    "    \n",
    "print(os.listdir())"
   ]
  },
  {
   "cell_type": "code",
   "execution_count": 2,
   "id": "fitted-maker",
   "metadata": {},
   "outputs": [
    {
     "ename": "SyntaxError",
     "evalue": "default 'except:' must be last (<ipython-input-2-10f098ea5abf>, line 5)",
     "output_type": "error",
     "traceback": [
      "\u001b[1;36m  File \u001b[1;32m\"<ipython-input-2-10f098ea5abf>\"\u001b[1;36m, line \u001b[1;32m5\u001b[0m\n\u001b[1;33m    except BaseException:\u001b[0m\n\u001b[1;37m                     ^\u001b[0m\n\u001b[1;31mSyntaxError\u001b[0m\u001b[1;31m:\u001b[0m default 'except:' must be last\n"
     ]
    }
   ],
   "source": [
    "try:\n",
    "    raise Exception\n",
    "except:\n",
    "    print('c')\n",
    "except BaseException:\n",
    "    print('a')\n",
    "except Exception:\n",
    "    print('b')"
   ]
  },
  {
   "cell_type": "code",
   "execution_count": 3,
   "id": "formed-chick",
   "metadata": {},
   "outputs": [
    {
     "name": "stdout",
     "output_type": "stream",
     "text": [
      "3\n"
     ]
    }
   ],
   "source": [
    "try:\n",
    "    raise Exception(1, 2, 3)\n",
    "    \n",
    "except Exception as e:\n",
    "    print(len(e.args))"
   ]
  },
  {
   "cell_type": "code",
   "execution_count": 2,
   "id": "ruled-roman",
   "metadata": {},
   "outputs": [
    {
     "name": "stdout",
     "output_type": "stream",
     "text": [
      "b\n"
     ]
    }
   ],
   "source": [
    "class A:\n",
    "    def a(self):\n",
    "        print('a')\n",
    "class B:\n",
    "    def a(self):\n",
    "        print('b')\n",
    "class C(B, A):\n",
    "    def c(self):\n",
    "        self.a()\n",
    "\n",
    "o = C()\n",
    "o.c()"
   ]
  },
  {
   "cell_type": "code",
   "execution_count": 1,
   "id": "extreme-reward",
   "metadata": {},
   "outputs": [
    {
     "name": "stdout",
     "output_type": "stream",
     "text": [
      "[1, 9]\n"
     ]
    }
   ],
   "source": [
    "num = [i*i for i in range(5)]\n",
    "\n",
    "foo = list(filter(lambda x: x % 2, num))\n",
    "print(foo)"
   ]
  },
  {
   "cell_type": "code",
   "execution_count": null,
   "id": "strong-meter",
   "metadata": {},
   "outputs": [],
   "source": []
  }
 ],
 "metadata": {
  "kernelspec": {
   "display_name": "Python 3",
   "language": "python",
   "name": "python3"
  },
  "language_info": {
   "codemirror_mode": {
    "name": "ipython",
    "version": 3
   },
   "file_extension": ".py",
   "mimetype": "text/x-python",
   "name": "python",
   "nbconvert_exporter": "python",
   "pygments_lexer": "ipython3",
   "version": "3.6.1"
  },
  "toc": {
   "base_numbering": 1,
   "nav_menu": {},
   "number_sections": false,
   "sideBar": false,
   "skip_h1_title": false,
   "title_cell": "Table of Contents",
   "title_sidebar": "Contents",
   "toc_cell": false,
   "toc_position": {},
   "toc_section_display": false,
   "toc_window_display": false
  }
 },
 "nbformat": 4,
 "nbformat_minor": 5
}
