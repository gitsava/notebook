{
 "cells": [
  {
   "cell_type": "markdown",
   "id": "employed-flood",
   "metadata": {},
   "source": [
    "# LAB: the calendar module\n",
    "## Estimated time\n",
    "30-60 minutes\n",
    "\n",
    "## Level of difficulty\n",
    "Easy\n",
    "\n",
    "## Objectives\n",
    "  - Improving the student's skills in using the Calendar class.\n",
    "\n",
    "## Scenario\n",
    "During this course, we looked at the `Calendar` class a bit. Your task is to extend its functionality with a new method called `count_weekday_in_year`, which takes a year and a weekday as parameters, and then returns the number of occurrences of a specific weekday in the year.\n",
    "\n",
    "Use the following tips:\n",
    "\n",
    "  - Create a class called `MyCalendar` that extends the `Calendar` class;\n",
    "  - create the `count_weekday_in_year` method with the year and weekday parameters. The weekday parameter should be a value between 0-6, where 0 is Monday and 6 is Sunday. The method should return the number of days as an integer;\n",
    "  - in your implementation, use the `monthdays2calendar` method of the `Calendar` class.\n",
    "  \n",
    "The following are the expected results:\n",
    "\n",
    "#### Sample arguments\n",
    "```py\n",
    "year=2019, weekday=0\n",
    "```\n",
    "Expected output\n",
    "```s\n",
    "52\n",
    "```\n",
    "\n",
    "#### Sample arguments\n",
    "```py\n",
    "year=2000, weekday=6\n",
    "```\n",
    "Expected output\n",
    "```s\n",
    "53\n",
    "```"
   ]
  },
  {
   "cell_type": "code",
   "execution_count": null,
   "id": "frequent-canal",
   "metadata": {},
   "outputs": [],
   "source": []
  }
 ],
 "metadata": {
  "kernelspec": {
   "display_name": "Python 3",
   "language": "python",
   "name": "python3"
  },
  "language_info": {
   "codemirror_mode": {
    "name": "ipython",
    "version": 3
   },
   "file_extension": ".py",
   "mimetype": "text/x-python",
   "name": "python",
   "nbconvert_exporter": "python",
   "pygments_lexer": "ipython3",
   "version": "3.6.1"
  },
  "toc": {
   "base_numbering": 1,
   "nav_menu": {},
   "number_sections": false,
   "sideBar": false,
   "skip_h1_title": false,
   "title_cell": "Table of Contents",
   "title_sidebar": "Contents",
   "toc_cell": false,
   "toc_position": {},
   "toc_section_display": false,
   "toc_window_display": false
  }
 },
 "nbformat": 4,
 "nbformat_minor": 5
}
