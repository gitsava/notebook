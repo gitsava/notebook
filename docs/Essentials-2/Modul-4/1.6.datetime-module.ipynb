{
 "cells": [
  {
   "cell_type": "markdown",
   "id": "turkish-toner",
   "metadata": {},
   "source": [
    "# Introduction to the datetime module\n",
    "In this section, you'll learn about a Python module called datetime.\n",
    "\n",
    "As you can guess, it provides `classes for working with date and time`. If you think you don't need to delve into this topic, let's talk about examples of using date and time in programming.\n",
    "\n",
    "Date and time have countless uses and it's probably hard to find a production application that doesn't use them. Here are some examples:\n",
    "\n",
    "  - `event logging` — thanks to the knowledge of date and time, we are able to determine when exactly a critical error occurs in our application. When creating logs, you can specify the date and time format;\n",
    "  - `tracking changes in the database` — sometimes it's necessary to store information about when a record was created or modified. The datetime module will be perfect for this case;\n",
    "  - `data validation` — you'll soon learn how to read the current date and time in Python. Knowing the current date and time, we're able to validate various types of data, e.g., whether a discount coupon entered by a user in our application is still valid;\n",
    "  - `storing important information` — can you imagine bank transfers without storing the information of when they were made? The date and time of certain actions must be preserved, and we must deal with it.\n",
    "\n",
    "Date and time are used in almost every area of our lives, so it's important to familiarize yourself with the Python datetime module. Are you ready for a new dose of knowledge?"
   ]
  },
  {
   "cell_type": "markdown",
   "id": "weekly-experiment",
   "metadata": {},
   "source": [
    "# Getting the current local date and creating date objects\n",
    "One of the classes provided by the `datetime` module is a class called `date`. Objects of this class represent a date consisting of the year, month, and day. Look at the code in the editor to see what it looks like in practice and get the current local date using the `today` method."
   ]
  },
  {
   "cell_type": "code",
   "execution_count": 1,
   "id": "particular-montgomery",
   "metadata": {},
   "outputs": [
    {
     "name": "stdout",
     "output_type": "stream",
     "text": [
      "Today: 2021-04-01\n",
      "Year: 2021\n",
      "Month: 4\n",
      "Day: 1\n"
     ]
    }
   ],
   "source": [
    "from datetime import date\n",
    "\n",
    "today = date.today()\n",
    "\n",
    "print(\"Today:\", today)\n",
    "print(\"Year:\", today.year)\n",
    "print(\"Month:\", today.month)\n",
    "print(\"Day:\", today.day)"
   ]
  },
  {
   "cell_type": "markdown",
   "id": "extreme-medicare",
   "metadata": {},
   "source": [
    "Run the code to see what happens.\n",
    "\n",
    "The `today` method returns a `date` object representing the current local date. Note that the `date` object has three attributes: year, month, and day.\n",
    "\n",
    "Be careful, because these attributes are read-only. To create a `date` object, you must pass the year, month, and day parameters as follows:"
   ]
  },
  {
   "cell_type": "code",
   "execution_count": 2,
   "id": "returning-mounting",
   "metadata": {},
   "outputs": [
    {
     "name": "stdout",
     "output_type": "stream",
     "text": [
      "2019-11-04\n"
     ]
    }
   ],
   "source": [
    "from datetime import date\n",
    "\n",
    "my_date = date(2019, 11, 4)\n",
    "print(my_date)"
   ]
  },
  {
   "cell_type": "markdown",
   "id": "generous-tobacco",
   "metadata": {},
   "source": [
    "Run the example to see what happens.\n",
    "\n",
    "When creating a date object, keep the following restrictions in mind:\n",
    "\n",
    "<img src=\"img/date.png\">\n",
    "\n",
    "<b>Note</b>: Later in this course you'll learn how to change the default date format."
   ]
  },
  {
   "cell_type": "markdown",
   "id": "equal-sudan",
   "metadata": {},
   "source": [
    "# Creating a date object from a timestamp\n",
    "The `date` class gives us the ability to create a date object from a timestamp.\n",
    "\n",
    "In Unix, the timestamp expresses the number of seconds since January 1, 1970, 00:00:00 (UTC). This date is called the `Unix epoch`, because this is when the counting of time began on Unix systems.\n",
    "\n",
    "The timestamp is actually the difference between a particular date (including time) and January 1, 1970, 00:00:00 (UTC), expressed in seconds.\n",
    "\n",
    "To create a date object from a timestamp, we must pass a Unix timestamp to the `fromtimestamp` method.\n",
    "\n",
    "For this purpose, we can use the `time` module, which provides time-related functions. One of them is a function called `time()` that returns the number of seconds from January 1, 1970 to the current moment in the form of a float number. Take a look at the example in the editor."
   ]
  },
  {
   "cell_type": "code",
   "execution_count": 3,
   "id": "atmospheric-narrow",
   "metadata": {},
   "outputs": [
    {
     "name": "stdout",
     "output_type": "stream",
     "text": [
      "Timestamp: 1617220789.4122593\n",
      "Date: 2021-04-01\n"
     ]
    }
   ],
   "source": [
    "from datetime import date\n",
    "import time\n",
    "\n",
    "timestamp = time.time()\n",
    "print(\"Timestamp:\", timestamp)\n",
    "\n",
    "d = date.fromtimestamp(timestamp)\n",
    "print(\"Date:\", d)"
   ]
  },
  {
   "cell_type": "markdown",
   "id": "mighty-reunion",
   "metadata": {},
   "source": [
    "Run the code to see the output.\n",
    "\n",
    "If you run the sample code several times, you'll be able to see how the timestamp increments itself. It's worth adding that the result of the `time` function depends on the platform, because `in Unix and Windows systems, leap seconds aren't counted`.\n",
    "\n",
    "<b>Note</b>: In this part of the course we'll also talk about the time module."
   ]
  },
  {
   "cell_type": "markdown",
   "id": "engaged-argument",
   "metadata": {},
   "source": [
    "# Creating a date object using the ISO format\n",
    "The `datetime` module provides several methods to create a `date` object. One of them is the `fromisoformat` method, which takes a date in the `YYYY-MM-DD` format compliant with the ISO 8601 standard.\n",
    "\n",
    "The ISO 8601 standard defines how the date and time are represented. It's often used, so it's worth taking a moment to familiarize yourself with it. Take a look at the picture describing the values required by the format:\n",
    "```\n",
    "yyyy-mm-00\n",
    "\n",
    "YYYY - year (i.e., 1990)\n",
    "MM - month (i.e., 11)\n",
    "DD - day (i.e., 18)\n",
    "```"
   ]
  },
  {
   "cell_type": "code",
   "execution_count": 4,
   "id": "subjective-angola",
   "metadata": {},
   "outputs": [
    {
     "ename": "AttributeError",
     "evalue": "type object 'datetime.date' has no attribute 'fromisoformat'",
     "output_type": "error",
     "traceback": [
      "\u001b[1;31m---------------------------------------------------------------------------\u001b[0m",
      "\u001b[1;31mAttributeError\u001b[0m                            Traceback (most recent call last)",
      "\u001b[1;32m<ipython-input-4-f6f7a8087ba5>\u001b[0m in \u001b[0;36m<module>\u001b[1;34m\u001b[0m\n\u001b[0;32m      1\u001b[0m \u001b[1;32mfrom\u001b[0m \u001b[0mdatetime\u001b[0m \u001b[1;32mimport\u001b[0m \u001b[0mdate\u001b[0m\u001b[1;33m\u001b[0m\u001b[0m\n\u001b[0;32m      2\u001b[0m \u001b[1;33m\u001b[0m\u001b[0m\n\u001b[1;32m----> 3\u001b[1;33m \u001b[0md\u001b[0m \u001b[1;33m=\u001b[0m \u001b[0mdate\u001b[0m\u001b[1;33m.\u001b[0m\u001b[0mfromisoformat\u001b[0m\u001b[1;33m(\u001b[0m\u001b[1;34m'2019-11-04'\u001b[0m\u001b[1;33m)\u001b[0m\u001b[1;33m\u001b[0m\u001b[0m\n\u001b[0m\u001b[0;32m      4\u001b[0m \u001b[0mprint\u001b[0m\u001b[1;33m(\u001b[0m\u001b[0md\u001b[0m\u001b[1;33m)\u001b[0m\u001b[1;33m\u001b[0m\u001b[0m\n",
      "\u001b[1;31mAttributeError\u001b[0m: type object 'datetime.date' has no attribute 'fromisoformat'"
     ]
    }
   ],
   "source": [
    "from datetime import date\n",
    "\n",
    "d = date.fromisoformat('2019-11-04')\n",
    "print(d)"
   ]
  },
  {
   "cell_type": "markdown",
   "id": "fluid-heavy",
   "metadata": {},
   "source": [
    "Now look at the code in the editor and run it.\n",
    "\n",
    "In our example, YYYY is 2019, MM is 11 (November), and DD is 04 (fourth day of November).\n",
    "\n",
    "When substituting the date, be sure to add 0 before a month or a day that is expressed by a number less than 10.\n",
    "\n",
    "<b>Note</b>: The `fromisoformat` method has been available in Python since version 3.7."
   ]
  },
  {
   "cell_type": "markdown",
   "id": "center-biodiversity",
   "metadata": {},
   "source": [
    "# The replace() method\n",
    "Sometimes you may need to replace the year, month, or day with a different value. You can’t do this with the year, month, and day attributes because they're read-only. In this case, you can use the method named `replace`."
   ]
  },
  {
   "cell_type": "code",
   "execution_count": 5,
   "id": "light-collins",
   "metadata": {},
   "outputs": [
    {
     "name": "stdout",
     "output_type": "stream",
     "text": [
      "1991-02-05\n",
      "1992-01-16\n"
     ]
    }
   ],
   "source": [
    "from datetime import date\n",
    "\n",
    "d = date(1991, 2, 5)\n",
    "print(d)\n",
    "\n",
    "d = d.replace(year=1992, month=1, day=16)\n",
    "print(d)"
   ]
  },
  {
   "cell_type": "markdown",
   "id": "independent-defeat",
   "metadata": {},
   "source": [
    "Run the code in the editor.\n",
    "\n",
    "Result:\n",
    "```s\n",
    "1991-02-05\n",
    "1992-01-16\n",
    "```\n",
    "\n",
    "The year, month, and day parameters are optional. You can pass only one parameter to the `replace` method, e.g., year, or all three as in the example.\n",
    "\n",
    "The `replace` method returns a changed date object, so you must remember to assign it to some variable."
   ]
  },
  {
   "cell_type": "markdown",
   "id": "numerical-retirement",
   "metadata": {},
   "source": [
    "# What day of the week is it?\n",
    "One of the more helpful methods that makes working with dates easier is the method called `weekday`. It returns the day of the week as an integer, where 0 is Monday and 6 is Sunday. Run the code in the editor."
   ]
  },
  {
   "cell_type": "code",
   "execution_count": 7,
   "id": "integrated-dakota",
   "metadata": {},
   "outputs": [
    {
     "name": "stdout",
     "output_type": "stream",
     "text": [
      "0\n"
     ]
    }
   ],
   "source": [
    "from datetime import date\n",
    "\n",
    "d = date(2019, 11, 4)\n",
    "print(d.weekday())"
   ]
  },
  {
   "cell_type": "markdown",
   "id": "undefined-bolivia",
   "metadata": {},
   "source": [
    "Result:\n",
    "```\n",
    "0\n",
    "```\n",
    "The `date` class has a similar method called `isoweekday`, which also returns the day of the week as an integer, but 1 is Monday, and 7 is Sunday:"
   ]
  },
  {
   "cell_type": "code",
   "execution_count": 8,
   "id": "hidden-dealer",
   "metadata": {},
   "outputs": [
    {
     "name": "stdout",
     "output_type": "stream",
     "text": [
      "1\n"
     ]
    }
   ],
   "source": [
    "from datetime import date\n",
    "\n",
    "d = date(2019, 11, 4)\n",
    "print(d.isoweekday())"
   ]
  },
  {
   "cell_type": "markdown",
   "id": "monthly-april",
   "metadata": {},
   "source": [
    "Result:\n",
    "```\n",
    "1\n",
    "```\n",
    "\n",
    "As you can see, for the same date we get a different integer, but expressing the same day of the week. The integer returned by the `isodayweek` method follows the ISO 85601 specification.\n",
    "\n"
   ]
  },
  {
   "cell_type": "markdown",
   "id": "homeless-engine",
   "metadata": {},
   "source": [
    "# Creating time objects\n",
    "You already know how to present a date using the `date` object. The `datetime` module also has a class that allows you to present time. Can you guess its name? Yes, it's called `time`:\n",
    "```py\n",
    "time(hour, minute, second, microsecond, tzinfo, fold)\n",
    "```\n",
    "The `time` class constructor accepts the following optional parameters:\n",
    "\n",
    "<img src=\"img/date1.png\">\n",
    "\n",
    "The tzinfo parameter is associated with time zones, while fold with wall times. We won't use them during this course, but we encourage you to familiarize yourself with them.\n",
    "\n",
    "Let's look at how to create a time object in practice. Run the code in the editor."
   ]
  },
  {
   "cell_type": "code",
   "execution_count": 9,
   "id": "universal-berry",
   "metadata": {},
   "outputs": [
    {
     "name": "stdout",
     "output_type": "stream",
     "text": [
      "Time: 14:53:20.000001\n",
      "Hour: 14\n",
      "Minute: 53\n",
      "Second: 20\n",
      "Microsecond: 1\n"
     ]
    }
   ],
   "source": [
    "from datetime import time\n",
    "\n",
    "t = time(14, 53, 20, 1)\n",
    "\n",
    "print(\"Time:\", t)\n",
    "print(\"Hour:\", t.hour)\n",
    "print(\"Minute:\", t.minute)\n",
    "print(\"Second:\", t.second)\n",
    "print(\"Microsecond:\", t.microsecond)"
   ]
  },
  {
   "cell_type": "markdown",
   "id": "elegant-approval",
   "metadata": {},
   "source": [
    "Result:\n",
    "```\n",
    "Time: 14:53:20.000001\n",
    "Hour: 14\n",
    "Minute: 53\n",
    "Second: 20\n",
    "Microsecond: 1\n",
    "```\n",
    "\n",
    "In the example, we passed four parameters to the class constructor: hour, minute, second, and microsecond. Each of them can be accessed using the class attributes.\n",
    "\n",
    "<b>Note</b>: Soon we'll tell you how you can change the default time formatting."
   ]
  },
  {
   "cell_type": "markdown",
   "id": "miniature-north",
   "metadata": {},
   "source": [
    "# The time module\n",
    "In addition to the `time` class, the Python standard library offers a module called `time`, which provides a time-related function. You already had the opportunity to learn the function called `time` when discussing the `date` class. Now we'll look at another useful function available in this module.\n",
    "\n",
    "You must spend many hours in front of a computer while doing this course. Sometimes you may feel the need to take a nap. Why not? Let's write a program that simulates a student's short nap. Have a look at the code in the editor."
   ]
  },
  {
   "cell_type": "code",
   "execution_count": 10,
   "id": "conscious-relevance",
   "metadata": {},
   "outputs": [
    {
     "name": "stdout",
     "output_type": "stream",
     "text": [
      "I'm very tired. I have to take a nap. See you later.\n",
      "I slept well! I feel great!\n"
     ]
    }
   ],
   "source": [
    "import time\n",
    "\n",
    "class Student:\n",
    "    def take_nap(self, seconds):\n",
    "        print(\"I'm very tired. I have to take a nap. See you later.\")\n",
    "        time.sleep(seconds)\n",
    "        print(\"I slept well! I feel great!\")\n",
    "\n",
    "student = Student()\n",
    "student.take_nap(5)"
   ]
  },
  {
   "cell_type": "markdown",
   "id": "inner-foundation",
   "metadata": {},
   "source": [
    "Result:\n",
    "```\n",
    "I'm very tired. I have to take a nap. See you later.\n",
    "I slept well! I feel great!\n",
    "```\n",
    "\n",
    "The most important part of the sample code is the use of the `sleep` function (yes, you may remember it from one of the previous labs earlier in the course), which suspends program execution for the given number of seconds.\n",
    "\n",
    "In our example it's 5 seconds. You're right, it's a very short nap.\n",
    "\n",
    "Extend the student's sleep by changing the number of seconds. Note that the `sleep` function accepts only an integer or a floating point number.\n",
    "\n"
   ]
  },
  {
   "cell_type": "markdown",
   "id": "coastal-entrance",
   "metadata": {},
   "source": [
    "# The ctime() function\n",
    "The `time` module provides a function called `ctime`, which `converts the time in seconds since January 1, 1970 (Unix epoch) to a string`.\n",
    "\n",
    "Do you remember the result of the `time` function? That's what you need to pass to `ctime`. Take a look at the example in the editor."
   ]
  },
  {
   "cell_type": "code",
   "execution_count": 11,
   "id": "bottom-ethernet",
   "metadata": {},
   "outputs": [
    {
     "name": "stdout",
     "output_type": "stream",
     "text": [
      "Mon Nov  4 21:53:00 2019\n"
     ]
    }
   ],
   "source": [
    "import time\n",
    "\n",
    "timestamp = 1572879180\n",
    "print(time.ctime(timestamp))"
   ]
  },
  {
   "cell_type": "markdown",
   "id": "suspected-ecuador",
   "metadata": {},
   "source": [
    "Result:\n",
    "```\n",
    "Mon Nov  4 14:53:00 2019\n",
    "```\n",
    "\n",
    "The `ctime` function returns a string for the passed timestamp. In our example, the timestamp expresses November 4, 2019 at 14:53:00.\n",
    "\n",
    "It's also possible to call the `ctime` function without specifying the time in seconds. In this case, the current time will be returned:"
   ]
  },
  {
   "cell_type": "code",
   "execution_count": 12,
   "id": "acknowledged-calvin",
   "metadata": {},
   "outputs": [
    {
     "name": "stdout",
     "output_type": "stream",
     "text": [
      "Thu Apr  1 11:20:59 2021\n"
     ]
    }
   ],
   "source": [
    "import time\n",
    "print(time.ctime())"
   ]
  },
  {
   "cell_type": "markdown",
   "id": "perceived-anatomy",
   "metadata": {},
   "source": [
    "# The gmtime() and localtime() functions\n",
    "Some of the functions available in the `time` module require knowledge of the struct_time class, but before we get to know them, let's see what the class looks like:\n",
    "```py\n",
    "time.struct_time:\n",
    "    tm_year   # specifies the year\n",
    "    tm_mon    # specifies the month (value from 1 to 12)\n",
    "    tm_mday   # specifies the day of the month (value from 1 to 31)\n",
    "    tm_hour   # specifies the hour (value from 0 to 23)\n",
    "    tm_min    # specifies the minute (value from 0 to 59)\n",
    "    tm_sec    # specifies the second (value from 0 to 61 )\n",
    "    tm_wday   # specifies the weekday (value from 0 to 6)\n",
    "    tm_yday   # specifies the year day (value from 1 to 366)\n",
    "    tm_isdst  # specifies whether daylight saving time applies (1 – yes, 0 – no, -1 – it isn't known)\n",
    "    tm_zone   # specifies the timezone name (value in an abbreviated form)\n",
    "    tm_gmtoff # specifies the offset east of UTC (value in seconds)\n",
    "```\n",
    "\n",
    "The struct_time class also allows access to values using indexes. Index `0` returns the value in tm_year, while `8` returns the value in tm_isdst.\n",
    "\n",
    "The exceptions are tm_zone and tm_gmoff, which cannot be accessed using indexes. Let's look at how to use the struct_time class in practice. Run the code in the editor."
   ]
  },
  {
   "cell_type": "code",
   "execution_count": 13,
   "id": "dressed-cleanup",
   "metadata": {},
   "outputs": [
    {
     "name": "stdout",
     "output_type": "stream",
     "text": [
      "time.struct_time(tm_year=2019, tm_mon=11, tm_mday=4, tm_hour=14, tm_min=53, tm_sec=0, tm_wday=0, tm_yday=308, tm_isdst=0)\n",
      "time.struct_time(tm_year=2019, tm_mon=11, tm_mday=4, tm_hour=21, tm_min=53, tm_sec=0, tm_wday=0, tm_yday=308, tm_isdst=0)\n"
     ]
    }
   ],
   "source": [
    "import time\n",
    "\n",
    "timestamp = 1572879180\n",
    "print(time.gmtime(timestamp))\n",
    "print(time.localtime(timestamp))"
   ]
  },
  {
   "cell_type": "markdown",
   "id": "metropolitan-hungary",
   "metadata": {},
   "source": [
    "Result:\n",
    "```s\n",
    "time.struct_time(tm_year=2019, tm_mon=11, tm_mday=4, tm_hour=14, tm_min=53, tm_sec=0, tm_wday=0, tm_yday=308, tm_isdst=0)\n",
    "time.struct_time(tm_year=2019, tm_mon=11, tm_mday=4, tm_hour=14, tm_min=53, tm_sec=0, tm_wday=0, tm_yday=308, tm_isdst=0)\n",
    "```\n",
    "\n",
    "The example shows two functions that convert the elapsed time from the Unix epoch to the struct_time object. The difference between them is that the `gmtime` function returns the struct_time object in UTC, while the `localtime` function returns local time. For the `gmtime` function, the tm_isdst attribute is always 0.\n",
    "\n"
   ]
  },
  {
   "cell_type": "markdown",
   "id": "illegal-repository",
   "metadata": {},
   "source": [
    "# The asctime() and mktime() functions\n",
    "The `time` module has functions that expect a struct_time object or a tuple that stores values according to the indexes presented when discussing the struct_time class. Run the example in the editor."
   ]
  },
  {
   "cell_type": "code",
   "execution_count": 14,
   "id": "concerned-responsibility",
   "metadata": {},
   "outputs": [
    {
     "name": "stdout",
     "output_type": "stream",
     "text": [
      "Mon Nov  4 14:53:00 2019\n",
      "1572853980.0\n"
     ]
    }
   ],
   "source": [
    "import time\n",
    "\n",
    "timestamp = 1572879180\n",
    "st = time.gmtime(timestamp)\n",
    "\n",
    "print(time.asctime(st))\n",
    "print(time.mktime((2019, 11, 4, 14, 53, 0, 0, 308, 0)))"
   ]
  },
  {
   "cell_type": "markdown",
   "id": "patient-showcase",
   "metadata": {},
   "source": [
    "Result:\n",
    "```s\n",
    "Mon Nov  4 14:53:00 2019\n",
    "1572879180.0\n",
    "```\n",
    "\n",
    "The first of the functions, called `asctime`, converts a struct_time object or a tuple to a string. Note that the familiar `gmtime` function is used to get the struct_time object. If you don't provide an argument to the `asctime` function, the time returned by the `localtime` function will be used.\n",
    "\n",
    "The second function called `mktime` converts a struct_time object or a tuple that expresses the local time to the number of seconds since the Unix epoch. In our example, we passed a tuple to it, which consists of the following values:\n",
    "```\n",
    "2019 => tm_year\n",
    "11 => tm_mon\n",
    "4 => tm_mday\n",
    "14 => tm_hour\n",
    "53 => tm_min\n",
    "0 => tm_sec\n",
    "0 => tm_wday\n",
    "308 => tm_yday\n",
    "0 => tm_isdst\n",
    "```"
   ]
  },
  {
   "cell_type": "markdown",
   "id": "south-jurisdiction",
   "metadata": {},
   "source": [
    "# Creating datetime objects\n",
    "In the `datetime` module, date and time can be represented as separate objects or as one. The class that combines date and time is called `datetime`.\n",
    "```py\n",
    "datetime(year, month, day, hour, minute, second, microsecond, tzinfo, fold)\n",
    "```\n",
    "Its constructor accepts the following parameters:\n",
    "\n",
    "| Parameter | Restrictions |\n",
    "| --- | ----------- |\n",
    "| `year` | The year parameter must be greater than or equal to 1 (MINYEAR constant) and less than or equal to 9999 (MAXYEAR constant). |\n",
    "| `month` | The month parameter must be greater than or equal to 1 and less than or equal to 12. |\n",
    "| `day` | The day parameter must be greater than or equal to 1 and less than or equal to the last day of the given month and year. |\n",
    "| `hour` | The hour parameter must be greater than or equal to 0 and less than 23. |\n",
    "| `minute` | The minute parameter must be greater than or equal to 0 and less than 59. |\n",
    "| `second` | The second parameter must be greater than or equal to 0 and less than 59. |\n",
    "| `microsecond` | The microsecond parameter must be greater than or equal to 0 and less than 1000000. |\n",
    "| `tzinfo` | The tzinfo parameter must be a tzinfo subclass object or None (default). |\n",
    "| `fold` | The fold parameter must be 0 or 1 (default 0). |\n",
    "\n",
    "Now let's have a look at the code in the editor to see how we create a datetime object."
   ]
  },
  {
   "cell_type": "code",
   "execution_count": 15,
   "id": "second-illustration",
   "metadata": {},
   "outputs": [
    {
     "name": "stdout",
     "output_type": "stream",
     "text": [
      "Datetime: 2019-11-04 14:53:00\n",
      "Date: 2019-11-04\n",
      "Time: 14:53:00\n"
     ]
    }
   ],
   "source": [
    "from datetime import datetime\n",
    "\n",
    "dt = datetime(2019, 11, 4, 14, 53)\n",
    "\n",
    "print(\"Datetime:\", dt)\n",
    "print(\"Date:\", dt.date())\n",
    "print(\"Time:\", dt.time())"
   ]
  },
  {
   "cell_type": "markdown",
   "id": "sharp-background",
   "metadata": {},
   "source": [
    "Result:\n",
    "```\n",
    "Datetime: 2019-11-04 14:53:00\n",
    "Date: 2019-11-04\n",
    "Time: 14:53:00\n",
    "```\n",
    "\n",
    "The example creates a `datetime` object representing November 4, 2019 at 14:53:00. All parameters passed to the constructor go to read-only class attributes. They're year, month, day, hour, minute, second, microsecond, tzinfo, and fold.\n",
    "\n",
    "The example shows two methods that return two different objects. The method called `date` returns the date object with the given year, month, and day, while the method called `time` returns the time object with the given hour and minute."
   ]
  },
  {
   "cell_type": "markdown",
   "id": "outer-federation",
   "metadata": {},
   "source": [
    "# Methods that return the current date and time\n",
    "The datetime class has several methods that return the current date and time. These methods are:\n",
    "\n",
    "  - `today()` — returns the current local date and time with the tzinfo attribute set to None;\n",
    "  - `now()` — returns the current local date and time the same as the today method, unless we pass the optional argument tz to it. The argument of this method must be an object of the tzinfo subclass;\n",
    "  - `utcnow()` — returns the current UTC date and time with the tzinfo attribute set to None.\n",
    "  \n",
    "Run the code in the editor to see them all in practice. What can you say about the output?"
   ]
  },
  {
   "cell_type": "code",
   "execution_count": 16,
   "id": "strong-hobby",
   "metadata": {},
   "outputs": [
    {
     "name": "stdout",
     "output_type": "stream",
     "text": [
      "today: 2021-04-01 13:26:20.658908\n",
      "now: 2021-04-01 13:26:20.658907\n",
      "utcnow: 2021-04-01 06:26:20.658907\n"
     ]
    }
   ],
   "source": [
    "from datetime import datetime\n",
    "\n",
    "print(\"today:\", datetime.today())\n",
    "print(\"now:\", datetime.now())\n",
    "print(\"utcnow:\", datetime.utcnow())"
   ]
  },
  {
   "cell_type": "markdown",
   "id": "chicken-christian",
   "metadata": {},
   "source": [
    "As you can see, the result of all the three methods is the same. The small differences are caused by the time elapsed between subsequent calls.\n",
    "\n",
    "<b>Note</b>: You can read more about tzinfo objects in the documentation."
   ]
  },
  {
   "cell_type": "markdown",
   "id": "suburban-witness",
   "metadata": {},
   "source": [
    "# Getting a timestamp\n",
    "There are many converters available on the Internet that can calculate a timestamp based on a given date and time, but how can we do it in the `datetime` module?\n",
    "\n",
    "This is possible thanks to the `timestamp` method provided by the `datetime` class. Look at the code in the editor."
   ]
  },
  {
   "cell_type": "code",
   "execution_count": 17,
   "id": "obvious-resolution",
   "metadata": {},
   "outputs": [
    {
     "name": "stdout",
     "output_type": "stream",
     "text": [
      "Timestamp: 1601798100.0\n"
     ]
    }
   ],
   "source": [
    "from datetime import datetime\n",
    "\n",
    "dt = datetime(2020, 10, 4, 14, 55)\n",
    "print(\"Timestamp:\", dt.timestamp())"
   ]
  },
  {
   "cell_type": "markdown",
   "id": "caring-turkey",
   "metadata": {},
   "source": [
    "Result:\n",
    "```\n",
    "Timestamp: 1601823300.0\n",
    "```\n",
    "\n",
    "The `timestamp` method returns a float value expressing the number of seconds elapsed between the date and time indicated by the datetime object and January 1, 1970, 00:00:00 (UTC)."
   ]
  },
  {
   "cell_type": "markdown",
   "id": "classical-china",
   "metadata": {},
   "source": [
    "# Date and time formatting (part 1)\n",
    "All `datetime` module classes presented so far have a method called `strftime`. This is a very important method, because it allows us to return the date and time in the format we specify.\n",
    "\n",
    "The `strftime` method takes only one argument in the form of a string specifying the format that can consist of directives.\n",
    "\n",
    "A directive is a string consisting of the character `%` (percent) and a lowercase or uppercase letter, e.g., the directive `%Y` means the year with the century as a decimal number. Let's see it in an example. Run the code in the editor."
   ]
  },
  {
   "cell_type": "code",
   "execution_count": 18,
   "id": "interior-colorado",
   "metadata": {},
   "outputs": [
    {
     "name": "stdout",
     "output_type": "stream",
     "text": [
      "2020/01/04\n"
     ]
    }
   ],
   "source": [
    "from datetime import date\n",
    "\n",
    "d = date(2020, 1, 4)\n",
    "print(d.strftime('%Y/%m/%d'))\n"
   ]
  },
  {
   "cell_type": "markdown",
   "id": "freelance-rochester",
   "metadata": {},
   "source": [
    "Result:\n",
    "```\n",
    "2020/01/04\n",
    "```\n",
    "\n",
    "In the example, we passed a format consisting of three directives separated by `/` (slash) to the `strftime` method. Of course, the separator character can be replaced by another character, or even by a string.\n",
    "\n",
    "You can put any characters in the format, but only recognizable directives will be replaced with the appropriate values. In our format we've used the following directives:\n",
    "\n",
    "  - `%Y` – returns the year with the century as a decimal number. In our example, this is 2020.\n",
    "  - `%m` – returns the month as a zero-padded decimal number. In our example, it's 01.\n",
    "  - `%d` – returns the day as a zero-padded decimal number. In our example, it's 04.\n",
    "  \n",
    "<b>Note</b>: You can find all available directives <a href=\"https://docs.python.org/3/library/datetime.html#strftime-and-strptime-format-codes\">here</a>."
   ]
  },
  {
   "cell_type": "markdown",
   "id": "working-software",
   "metadata": {},
   "source": [
    "# Date and time formatting (part 2)\n",
    "Time formatting works in the same way as date formatting, but requires the use of appropriate directives. Let's take a closer look at a few of them in the editor."
   ]
  },
  {
   "cell_type": "code",
   "execution_count": 19,
   "id": "retired-throat",
   "metadata": {},
   "outputs": [
    {
     "name": "stdout",
     "output_type": "stream",
     "text": [
      "14:53:00\n",
      "20/November/04 14:53:00\n"
     ]
    }
   ],
   "source": [
    "from datetime import time\n",
    "from datetime import datetime\n",
    "\n",
    "t = time(14, 53)\n",
    "print(t.strftime(\"%H:%M:%S\"))\n",
    "\n",
    "dt = datetime(2020, 11, 4, 14, 53)\n",
    "print(dt.strftime(\"%y/%B/%d %H:%M:%S\"))"
   ]
  },
  {
   "cell_type": "markdown",
   "id": "adverse-broadcasting",
   "metadata": {},
   "source": [
    "Result:\n",
    "```\n",
    "14:53:00\n",
    "20/November/04 14:53:00\n",
    "```\n",
    "\n",
    "The first of the formats used concerns only time. As you can guess, `%H` returns the hour as a zero-padded decimal number, `%M` returns the minute as a zero-padded decimal number, while `%S` returns the second as a zero-padded decimal number. In our example, `%H` is replaced by 14, `%M` by 53, and `%S` by 00.\n",
    "\n",
    "The second format used combines date and time directives. There are two new directives, `%Y` and `%B`. The directive `%Y` returns the year without a century as a zero-padded decimal number (in our example it's 20). The `%B` directive returns the month as the locale’s full name (in our example, it's November).\n",
    "\n",
    "In general, you've got a lot of freedom in creating formats, but you must remember to use the directives properly. As an exercise, you can check what happens if, for example, you try to use the `%Y` directive in the format passed to the time object's strftime method. Try to find out why you got this result yourself. Good luck!"
   ]
  },
  {
   "cell_type": "markdown",
   "id": "honey-belarus",
   "metadata": {},
   "source": [
    "# The strftime() function in the time module\n",
    "You probably won't be surprised to learn that the `strftime` function is available in the `time` module. It differs slightly from the `strftime` methods in the classes provided by the `datetime` module because, in addition to the format argument, it can also take (optionally) a tuple or struct_time object.\n",
    "\n",
    "If you don't pass a tuple or struct_time object, the formatting will be done using the current local time. Take a look at the example in the editor."
   ]
  },
  {
   "cell_type": "code",
   "execution_count": 20,
   "id": "military-entertainment",
   "metadata": {},
   "outputs": [
    {
     "name": "stdout",
     "output_type": "stream",
     "text": [
      "2019/11/04 14:53:00\n",
      "2021/04/01 13:44:09\n"
     ]
    }
   ],
   "source": [
    "import time\n",
    "\n",
    "timestamp = 1572879180\n",
    "st = time.gmtime(timestamp)\n",
    "\n",
    "print(time.strftime(\"%Y/%m/%d %H:%M:%S\", st))\n",
    "print(time.strftime(\"%Y/%m/%d %H:%M:%S\"))"
   ]
  },
  {
   "cell_type": "markdown",
   "id": "alike-banana",
   "metadata": {},
   "source": [
    "Our result looks as follows:\n",
    "```\n",
    "2019/11/04 14:53:00\n",
    "2020/10/12 12:19:40\n",
    "```\n",
    "\n",
    "Creating a format looks the same as for the `strftime` methods in the `datetime` module. In our example, we use the `%Y`, `%m`, `%d`, `%H`, `%M`, and `%S` directives that you already know.\n",
    "\n",
    "In the first function call, we format the struct_time object, while in the second call (without the optional argument), we format the local time. You can find all available directives in the `time` module <a href=\"https://docs.python.org/3/library/time.html#time.strftime\">here</a>.\n"
   ]
  },
  {
   "cell_type": "markdown",
   "id": "pending-authority",
   "metadata": {},
   "source": [
    "# The strptime() method\n",
    "Knowing how to create a format can be helpful when using a method called `strptime` in the `datetime` class. Unlike the `strftime` method, it creates a `datetime` object from a string representing a date and time.\n",
    "\n",
    "The `strptime` method requires you to specify the format in which you saved the date and time. Let's see it in an example. Take a look at the code in the editor."
   ]
  },
  {
   "cell_type": "code",
   "execution_count": 21,
   "id": "documented-austin",
   "metadata": {},
   "outputs": [
    {
     "name": "stdout",
     "output_type": "stream",
     "text": [
      "2019-11-04 14:53:00\n"
     ]
    }
   ],
   "source": [
    "from datetime import datetime\n",
    "print(datetime.strptime(\"2019/11/04 14:53:00\", \"%Y/%m/%d %H:%M:%S\"))\n"
   ]
  },
  {
   "cell_type": "markdown",
   "id": "foster-violence",
   "metadata": {},
   "source": [
    "Result:\n",
    "```\n",
    "2019-11-04 14:53:00\n",
    "```\n",
    "\n",
    "In the example, we've specified two required arguments. The first is a date and time as a string: `\"2019/11/04 14:53:00\"`, while the second is a format that facilitates parsing to a `datetime` object. Be careful, because if the format you specify doesn't match the date and time in the string, it'll raise a ValueError.\n",
    "\n",
    "<b>Note</b>: In the `time` module, you can find a function called `strptime`, which parses a string representing a time to a struct_time object. Its use is analogous to the `strptime` method in the `datetime` class:"
   ]
  },
  {
   "cell_type": "code",
   "execution_count": 22,
   "id": "breathing-escape",
   "metadata": {},
   "outputs": [
    {
     "name": "stdout",
     "output_type": "stream",
     "text": [
      "time.struct_time(tm_year=2019, tm_mon=11, tm_mday=4, tm_hour=14, tm_min=53, tm_sec=0, tm_wday=0, tm_yday=308, tm_isdst=-1)\n"
     ]
    }
   ],
   "source": [
    "import time\n",
    "print(time.strptime(\"2019/11/04 14:53:00\", \"%Y/%m/%d %H:%M:%S\"))"
   ]
  },
  {
   "cell_type": "markdown",
   "id": "infrared-cursor",
   "metadata": {},
   "source": [
    "Its result will be as follows:\n",
    "```\n",
    "time.struct_time(tm_year=2019, tm_mon=11, tm_mday=4, tm_hour=14, tm_min=53, tm_sec=0, tm_wday=0, tm_yday=308, tm_isdst=-1)\n",
    "```"
   ]
  },
  {
   "cell_type": "markdown",
   "id": "unlimited-stereo",
   "metadata": {},
   "source": [
    "# Date and time operations\n",
    "Sooner or later you'll have to perform some calculations on the date and time. Fortunately, there's a class called `timedelta` in the `datetime` module that was created for just such a purpose.\n",
    "\n",
    "To create a `timedelta` object, just do subtraction on the `date` or `datetime` objects, just like we did in the example in the editor. Run it."
   ]
  },
  {
   "cell_type": "code",
   "execution_count": 23,
   "id": "patent-collaboration",
   "metadata": {},
   "outputs": [
    {
     "name": "stdout",
     "output_type": "stream",
     "text": [
      "366 days, 0:00:00\n",
      "365 days, 9:07:00\n"
     ]
    }
   ],
   "source": [
    "from datetime import date\n",
    "from datetime import datetime\n",
    "\n",
    "d1 = date(2020, 11, 4)\n",
    "d2 = date(2019, 11, 4)\n",
    "\n",
    "print(d1 - d2)\n",
    "\n",
    "dt1 = datetime(2020, 11, 4, 0, 0, 0)\n",
    "dt2 = datetime(2019, 11, 4, 14, 53, 0)\n",
    "\n",
    "print(dt1 - dt2)"
   ]
  },
  {
   "cell_type": "markdown",
   "id": "atomic-function",
   "metadata": {},
   "source": [
    "Result:\n",
    "```\n",
    "366 days, 0:00:00\n",
    "365 days, 9:07:00\n",
    "```\n",
    "\n",
    "The example shows subtraction for both the `date` and `datetime` objects. In the first case, we receive the difference in days, which is 366 days. Note that the difference in hours, minutes, and seconds is also displayed. In the second case, we receive a different result, because we specified the time that was included in the calculations. As a result, we receive 365 days, 9 hours, and 7 minutes.\n",
    "\n",
    "In a moment you'll learn more about creating `timedelta` objects and about the operations you can do with them.\n"
   ]
  },
  {
   "cell_type": "markdown",
   "id": "beautiful-overall",
   "metadata": {},
   "source": [
    "# Creating timedelta objects\n",
    "You've already learned that a `timedelta` object can be returned as a result of subtracting two `date` or `datetime` objects.\n",
    "\n",
    "Of course, you can also create an object yourself. For this purpose, let's get acquainted with the arguments accepted by the class constructor, which are: `days`, `seconds`, `microseconds`, `milliseconds`, `minutes`, `hours`, and `weeks`. Each of them is optional and defaults to 0.\n",
    "\n",
    "The arguments should be integers or floating point numbers, and can be either positive or negative. Let's look at a simple example in the editor."
   ]
  },
  {
   "cell_type": "code",
   "execution_count": 24,
   "id": "committed-envelope",
   "metadata": {},
   "outputs": [
    {
     "name": "stdout",
     "output_type": "stream",
     "text": [
      "16 days, 3:00:00\n"
     ]
    }
   ],
   "source": [
    "from datetime import timedelta\n",
    "\n",
    "delta = timedelta(weeks=2, days=2, hours=3)\n",
    "print(delta)"
   ]
  },
  {
   "cell_type": "markdown",
   "id": "exceptional-indication",
   "metadata": {},
   "source": [
    "Result:\n",
    "```\n",
    "16 days, 3:00:00\n",
    "```\n",
    "\n",
    "The result of 16 days is obtained by converting the `weeks` argument to `days` (2 weeks = 14 days) and adding the days argument (2 days). This is normal behavior, because the `timedelta` object only stores `days`, `seconds`, and `microseconds` internally. Similarly, the `hour` argument is converted to minutes. Take a look at the example below:"
   ]
  },
  {
   "cell_type": "code",
   "execution_count": 25,
   "id": "saving-capacity",
   "metadata": {},
   "outputs": [
    {
     "name": "stdout",
     "output_type": "stream",
     "text": [
      "Days: 16\n",
      "Seconds: 10800\n",
      "Microseconds: 0\n"
     ]
    }
   ],
   "source": [
    "from datetime import timedelta\n",
    "\n",
    "delta = timedelta(weeks=2, days=2, hours=3)\n",
    "print(\"Days:\", delta.days)\n",
    "print(\"Seconds:\", delta.seconds)\n",
    "print(\"Microseconds:\", delta.microseconds)"
   ]
  },
  {
   "cell_type": "markdown",
   "id": "pacific-cornwall",
   "metadata": {},
   "source": [
    "Result:\n",
    "```\n",
    "Days: 16\n",
    "Seconds: 10800\n",
    "Microseconds: 0\n",
    "```\n",
    "\n",
    "The result of 10800 is obtained by converting 3 hours into seconds. In this way the `timedelta` object stores the arguments passed during its creation. Weeks are converted to days, hours and minutes to seconds, and milliseconds to microseconds."
   ]
  },
  {
   "cell_type": "markdown",
   "id": "pacific-jungle",
   "metadata": {},
   "source": [
    "# Creating timedelta objects: continued\n",
    "You already know how the `timedelta` object stores the passed arguments internally. It's time to see how it can be used in practice.\n",
    "\n",
    "Let's look at some operations supported by the `datetime` module classes. Run the code we've provided in the editor."
   ]
  },
  {
   "cell_type": "code",
   "execution_count": 26,
   "id": "herbal-brand",
   "metadata": {},
   "outputs": [
    {
     "name": "stdout",
     "output_type": "stream",
     "text": [
      "16 days, 2:00:00\n",
      "32 days, 4:00:00\n",
      "2019-11-05\n",
      "2019-11-05 18:53:00\n"
     ]
    }
   ],
   "source": [
    "from datetime import timedelta\n",
    "from datetime import date\n",
    "from datetime import datetime\n",
    "\n",
    "delta = timedelta(weeks=2, days=2, hours=2)\n",
    "print(delta)\n",
    "\n",
    "delta2 = delta * 2\n",
    "print(delta2)\n",
    "\n",
    "d = date(2019, 10, 4) + delta2\n",
    "print(d)\n",
    "\n",
    "dt = datetime(2019, 10, 4, 14, 53) + delta2\n",
    "print(dt)"
   ]
  },
  {
   "cell_type": "markdown",
   "id": "worthy-force",
   "metadata": {},
   "source": [
    "Result:\n",
    "```\n",
    "16 days, 2:00:00\n",
    "32 days, 4:00:00\n",
    "2019-11-05\n",
    "2019-11-05 18:53:00\n",
    "```\n",
    "\n",
    "The `timedelta` object can be multiplied by an integer. In our example, we multiply the object representing 16 days and 2 hours by 2. As a result, we receive a `timedelta` object representing 32 days and 4 hours.\n",
    "\n",
    "Note that both days and hours have been multiplied by 2. Another interesting operation using the `timedelta` object is adding. In the example, we've added the `timedelta` object to the date and `datetime` objects.\n",
    "\n",
    "As a result of these operations, we receive date and `datetime` objects increased by days and hours stored in the `timedelta` object.\n",
    "\n",
    "The presented multiplication operation allows you to quickly increase the value of the `timedelta` object, while multiplication can also help you get a date from the future.\n",
    "\n",
    "Of course, the `timedelta`, `date`, and `datetime` classes support many more operations. We encourage you to familiarize yourself with them in the documentation."
   ]
  },
  {
   "cell_type": "code",
   "execution_count": null,
   "id": "union-valley",
   "metadata": {},
   "outputs": [],
   "source": []
  }
 ],
 "metadata": {
  "kernelspec": {
   "display_name": "Python 3",
   "language": "python",
   "name": "python3"
  },
  "language_info": {
   "codemirror_mode": {
    "name": "ipython",
    "version": 3
   },
   "file_extension": ".py",
   "mimetype": "text/x-python",
   "name": "python",
   "nbconvert_exporter": "python",
   "pygments_lexer": "ipython3",
   "version": "3.6.1"
  },
  "toc": {
   "base_numbering": 1,
   "nav_menu": {},
   "number_sections": false,
   "sideBar": false,
   "skip_h1_title": false,
   "title_cell": "Table of Contents",
   "title_sidebar": "Contents",
   "toc_cell": false,
   "toc_position": {},
   "toc_section_display": false,
   "toc_window_display": false
  }
 },
 "nbformat": 4,
 "nbformat_minor": 5
}
