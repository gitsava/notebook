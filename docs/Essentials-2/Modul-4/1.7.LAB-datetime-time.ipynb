{
 "cells": [
  {
   "cell_type": "markdown",
   "id": "harmful-insight",
   "metadata": {},
   "source": [
    "# LAB: The datetime and time modules\n",
    "\n",
    "## Estimated time\n",
    "15-45 min\n",
    "\n",
    "## Level of difficulty\n",
    "Easy\n",
    "\n",
    "## Objectives\n",
    "  - improving the student's skills in date and time formatting;\n",
    "  - improving the student's skills in using the `strftime` method.\n",
    "\n",
    "## Scenario\n",
    "During this course, you learned about the `strftime` method, which requires knowledge of directives to create a format. It's time to put the known directives into practice.\n",
    "\n",
    "By the way, you'll have the opportunity to practice working with documentation, because you'll have to find directives that you don't yet know.\n",
    "\n",
    "#### Here's your task:\n",
    "Write a program that creates a `datetime` object for November 4, 2020 , 14:53:00. The object created should call the `strftime` method with the appropriate format to display the following result:\n",
    "\n",
    "## expected output\n",
    "```\n",
    "2020/11/04 14:53:00\n",
    "20/November/04 14:53:00 PM\n",
    "Wed, 2020 Nov 04\n",
    "Wednesday, 2020 November 04\n",
    "Weekday: 3\n",
    "Day of the year: 309\n",
    "Week number of the year: 44\n",
    "```\n",
    "<b>Note</b>: Each result line should be created by calling the strftime method with at least one directive in the format argument."
   ]
  },
  {
   "cell_type": "code",
   "execution_count": null,
   "id": "naked-camping",
   "metadata": {},
   "outputs": [],
   "source": []
  }
 ],
 "metadata": {
  "kernelspec": {
   "display_name": "Python 3",
   "language": "python",
   "name": "python3"
  },
  "language_info": {
   "codemirror_mode": {
    "name": "ipython",
    "version": 3
   },
   "file_extension": ".py",
   "mimetype": "text/x-python",
   "name": "python",
   "nbconvert_exporter": "python",
   "pygments_lexer": "ipython3",
   "version": "3.6.1"
  },
  "toc": {
   "base_numbering": 1,
   "nav_menu": {},
   "number_sections": false,
   "sideBar": false,
   "skip_h1_title": false,
   "title_cell": "Table of Contents",
   "title_sidebar": "Contents",
   "toc_cell": false,
   "toc_position": {},
   "toc_section_display": false,
   "toc_window_display": false
  }
 },
 "nbformat": 4,
 "nbformat_minor": 5
}
