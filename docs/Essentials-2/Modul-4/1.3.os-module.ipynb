{
 "cells": [
  {
   "cell_type": "markdown",
   "id": "amended-budget",
   "metadata": {},
   "source": [
    "# Introduction to the os module\n",
    "In this section, you'll learn about a module called os, which lets you `interact with the operating system using Python`.\n",
    "\n",
    "It provides functions that are available on Unix and/or Windows systems. If you're familiar with the command console, you'll see that some functions give the same results as the commands available on the operating systems.\n",
    "\n",
    "A good example of this is the `mkdir` function, which allows you to create a directory just like the mkdir command in Unix and Windows. If you don't know this command, don't worry.\n",
    "\n",
    "You'll soon have the opportunity to learn the functions of the os module, to perform operations on files and directories along with the corresponding commands.\n",
    "\n",
    "In addition to file and directory operations, the os module enables you to:\n",
    "\n",
    "  - get information about the operating system;\n",
    "  - manage processes;\n",
    "  - operate on I/O streams using file descriptors.\n",
    "  \n",
    "In a moment, you'll see how to get basic information about your operating system, although process management and working with file descriptors won't be discussed here, because these are more advanced topics that require knowledge of operating system mechanisms.\n",
    "\n",
    "Ready?"
   ]
  },
  {
   "cell_type": "markdown",
   "id": "collectible-arlington",
   "metadata": {},
   "source": [
    "# Getting information about the operating system\n",
    "Before you create your first directory structure, you'll see how you can get information about the current operating system. This is really easy because the os module provides a function called uname, which returns an object containing the following attributes:\n",
    "\n",
    "  - `systemname` — stores the name of the operating system;\n",
    "  - `nodename` — stores the machine name on the network;\n",
    "  - `release` — stores the operating system release;\n",
    "  - `version` — stores the operating system version;\n",
    "  - `machine` — stores the hardware identifier, e.g., x86_64.\n",
    "  \n",
    "Let's look at how it is in practice:"
   ]
  },
  {
   "cell_type": "markdown",
   "id": "unavailable-expression",
   "metadata": {},
   "source": [
    "import os\n",
    "print(os.uname())"
   ]
  },
  {
   "cell_type": "code",
   "execution_count": 2,
   "id": "native-teaching",
   "metadata": {},
   "outputs": [
    {
     "ename": "TypeError",
     "evalue": "'str' object is not callable",
     "output_type": "error",
     "traceback": [
      "\u001b[1;31m---------------------------------------------------------------------------\u001b[0m",
      "\u001b[1;31mTypeError\u001b[0m                                 Traceback (most recent call last)",
      "\u001b[1;32m<ipython-input-2-3e969c98204f>\u001b[0m in \u001b[0;36m<module>\u001b[1;34m\u001b[0m\n\u001b[0;32m      1\u001b[0m \u001b[1;32mimport\u001b[0m \u001b[0mos\u001b[0m\u001b[1;33m\u001b[0m\u001b[0m\n\u001b[1;32m----> 2\u001b[1;33m \u001b[0mprint\u001b[0m\u001b[1;33m(\u001b[0m\u001b[0mos\u001b[0m\u001b[1;33m.\u001b[0m\u001b[0mname\u001b[0m\u001b[1;33m(\u001b[0m\u001b[1;33m)\u001b[0m\u001b[1;33m)\u001b[0m\u001b[1;33m\u001b[0m\u001b[0m\n\u001b[0m",
      "\u001b[1;31mTypeError\u001b[0m: 'str' object is not callable"
     ]
    }
   ],
   "source": [
    "import os\n",
    "print(os.name())"
   ]
  },
  {
   "cell_type": "markdown",
   "id": "monthly-hypothetical",
   "metadata": {},
   "source": [
    "Result on OS Linux:\n",
    "```s\n",
    "posix.uname_result(sysname='Linux', nodename='192d19f04766', release='4.4.0-164-generic', version='#192-Ubuntu SMP Fri Sep 13 12:02:50 UTC 2019', machine='x86_64')\n",
    "```\n",
    "output\n",
    "\n",
    "As you can see, the uname function returns an object containing information about the operating system. The above code was launched on Ubuntu 16.04.6 LTS, so don't be surprised if you get a different result, because it depends on your operating system.\n",
    "\n",
    "Unfortunately, the uname function only works on some Unix systems. If you use Windows, you can use the uname function in the platform module, which returns a similar result.\n",
    "\n",
    "The os module allows you to quickly distinguish the operating system using the name attribute, which supports one of the following names:\n",
    "\n",
    "  - `posix` — you'll get this name if you use Unix;\n",
    "  - `nt` — you'll get this name if you use Windows;\n",
    "  - `java` — you'll get this name if your code is written in Jython.\n",
    "  \n",
    "For Ubuntu 16.04.6 LTS, the name attribute returns the name posix:\n",
    "```py\n",
    "import os\n",
    "print(os.name)\n",
    "```\n",
    "\n",
    "Result:\n",
    "```s\n",
    "posix\n",
    "```\n",
    "\n",
    "<b>NOTE</b>: On Unix systems, there's a command called uname that returns the same information (if you run it with the -a option) as the uname function."
   ]
  },
  {
   "cell_type": "markdown",
   "id": "bibliographic-omaha",
   "metadata": {},
   "source": [
    "# Creating directories in Python\n",
    "The os module provides a function called mkdir, which, like the mkdir command in Unix and Windows, allows you to create a directory. The mkdir function requires a path that can be relative or absolute. Let's recall what both paths look like in practice:\n",
    "\n",
    "  - `my_first_directory` — this is a relative path which will create the my_first_directory directory in the current working directory;\n",
    "  -  `./my_first_directory` — this is a relative path that explicitly points to the current working directory. It has the same effect as the path above;\n",
    "  - `../my_first_directory` — this is a relative path that will create the my_first_directory directory in the parent directory of the current working directory;\n",
    "  - /python/my_first_directory — this is the absolute path that will create the my_first_directory directory, which in turn is in the python directory in the root directory.\n",
    "  \n",
    "Look at the code in the editor. It shows an example of how to create the my_first_directory directory using a relative path. This is the simplest variant of the relative path, which consists of passing only the directory name."
   ]
  },
  {
   "cell_type": "code",
   "execution_count": 3,
   "id": "greek-catch",
   "metadata": {},
   "outputs": [
    {
     "name": "stdout",
     "output_type": "stream",
     "text": [
      "['.ipynb_checkpoints', '0.0.Generators.ipynb', '0.1.Generators.ipynb', '0.2.Generators.ipynb', '0.3.Key-takeaways.ipynb', '0.4.Processing-files.ipynb', '0.5.Processing-files.ipynb', '0.6.Key-takeaways.ipynb', '0.7.Processing-text.ipynb', '0.8.Processing-text.ipynb', '0.9.LAB-Character.ipynb', '1.0.LAB-Sorted-character.ipynb', '1.1.LAB-Evaluating.ipynb', '1.2.Key-takeaways.ipynb', 'file.bin', 'file.txt', 'img', 'my_first_directory', 'newtext.txt', 'README.ipynb', 'text.txt', 'tzop', 'Untitled.ipynb']\n"
     ]
    }
   ],
   "source": [
    "import os\n",
    "\n",
    "os.mkdir(\"my_first_directory\")\n",
    "print(os.listdir())"
   ]
  },
  {
   "cell_type": "markdown",
   "id": "substantial-society",
   "metadata": {},
   "source": [
    "If you test your code here, it will output the newly created `['my_first_directory']` directory (and the entire content of the current working catalog).\n",
    "\n",
    "The mkdir function creates a directory in the specified path. Note that running the program twice will raise a FileExistsError.\n",
    "\n",
    "This means that we cannot create a directory if it already exists. In addition to the path argument, the mkdir function can optionally take the mode argument, which specifies directory permissions. However, on some systems, the mode argument is ignored.\n",
    "\n",
    "To change the directory permissions, we recommend the chmod function, which works similarly to the chmod command on Unix systems. You can find more information about it in the documentation.\n",
    "\n",
    "In the above example, another function provided by the os module named listdir is used. The listdir function returns a list containing the names of the files and directories that are in the path passed as an argument.\n",
    "\n",
    "If no argument is passed to it, the current working directory will be used (as in the example above). It's important that the result of the listdir function omits the entries '.' and '..', which are displayed, e.g., when using the ls -a command on Unix systems.\n",
    "\n",
    "<b>NOTE</b>: In both Windows and Unix, there's a command called mkdir, which requires a directory path. The equivalent of the above code that creates the my_first_directory directory is the mkdir my_first_directory command."
   ]
  },
  {
   "cell_type": "markdown",
   "id": "unauthorized-chrome",
   "metadata": {},
   "source": [
    "# Recursive directory creation\n",
    "The `mkdir` function is very useful, but what if you need to create another directory in the directory you've just created. Of course, you can go to the created directory and create another directory inside it, but fortunately the os module provides a function called `makedirs`, which makes this task easier.\n",
    "\n",
    "The makedirs function enables recursive directory creation, which means that all directories in the path will be created. Let's look at the code in the editor and see how it is in practice."
   ]
  },
  {
   "cell_type": "code",
   "execution_count": 4,
   "id": "turkish-hours",
   "metadata": {},
   "outputs": [
    {
     "name": "stdout",
     "output_type": "stream",
     "text": [
      "['my_second_directory']\n"
     ]
    }
   ],
   "source": [
    "import os\n",
    "\n",
    "os.makedirs(\"my_first_directory/my_second_directory\")\n",
    "os.chdir(\"my_first_directory\")\n",
    "print(os.listdir())"
   ]
  },
  {
   "cell_type": "markdown",
   "id": "broadband-guess",
   "metadata": {},
   "source": [
    "The code should produce the following result:\n",
    "```s\n",
    "['my_second_directory']\n",
    "```\n",
    "\n",
    "The code creates two directories. The first of them is created in the current working directory, while the second in the my_first_directory directory.\n",
    "\n",
    "You don't have to go to the my_first_directory directory to create the my_second_directory directory, because the makedirs function does this for you. In the example above, we go to the my_first_directory directory to show that the makedirs command creates the my_second_directory subdirectory.\n",
    "\n",
    "To move between directories, you can use a function called chdir, which changes the current working directory to the specified path. As an argument, it takes any relative or absolute path. In our example, we pass the first directory name to it.\n",
    "\n",
    "<b>NOTE</b>: The equivalent of the makedirs function on Unix systems is the mkdir command with the -p flag, while in Windows, simply the mkdir command with the path:\n",
    "\n",
    "  - Unix-like systems:\n",
    "\n",
    "    `mkdir -p my_first_directory/my_second_directory`\n",
    "\n",
    "  - Windows:\n",
    "\n",
    "    `mkdir my_first_directory/my_second_directory`"
   ]
  },
  {
   "cell_type": "markdown",
   "id": "breeding-marijuana",
   "metadata": {},
   "source": [
    "# Where am I now?\n",
    "You already know how to create directories and how to move between them. Sometimes, when you have a really large directory structure that you navigate, you may not know which directory you're currently working in.\n",
    "\n",
    "As you’ve probably guessed, the os module provides a function that returns information about the current working directory. It's called `getcwd`. Look at the code in the editor to see how to use it in practice."
   ]
  },
  {
   "cell_type": "code",
   "execution_count": 5,
   "id": "pointed-hobby",
   "metadata": {},
   "outputs": [
    {
     "name": "stdout",
     "output_type": "stream",
     "text": [
      "C:\\dev\\programming-docs\\Python\\Essentials-2\\Modul-4\\my_first_directory\\my_first_directory\n",
      "C:\\dev\\programming-docs\\Python\\Essentials-2\\Modul-4\\my_first_directory\\my_first_directory\\my_second_directory\n"
     ]
    }
   ],
   "source": [
    "import os\n",
    "\n",
    "os.makedirs(\"my_first_directory/my_second_directory\")\n",
    "os.chdir(\"my_first_directory\")\n",
    "print(os.getcwd())\n",
    "os.chdir(\"my_second_directory\")\n",
    "print(os.getcwd())"
   ]
  },
  {
   "cell_type": "markdown",
   "id": "developed-witness",
   "metadata": {},
   "source": [
    "Result:\n",
    "```s\n",
    ".../my_first_directory\n",
    ".../my_first_directory/my_second_directory\n",
    "```\n",
    "\n",
    "In the example, we create the my_first_directory directory, and the my_second_directory directory inside it. In the next step, we change the current working directory to the my_first_directory directory, and then display the current working directory (first line of the result).\n",
    "\n",
    "Next, we go to the my_second_directory directory and again display the current working directory (second line of the result). As you can see, the getcwd function returns the absolute path to the directories.\n",
    "\n",
    "<b>NOTE</b>: On Unix-like systems, the equivalent of the getcwd function is the pwd command, which prints the name of the current working directory."
   ]
  },
  {
   "cell_type": "markdown",
   "id": "advisory-dictionary",
   "metadata": {},
   "source": [
    "# Deleting directories in Python\n",
    "The os module also allows you to delete directories. It gives you the option of deleting a single directory or a directory with its subdirectories. To delete a single directory, you can use a function called `rmdir`, which takes the path as its argument. Look at the code in the editor.\n",
    "\n",
    "The above example is really simple. First, the my_first_directory directory is created, and then it's removed using the rmdir function. The listdir function is used as proof that the directory has been removed successfully. In this case, it returns an empty list. When deleting a directory, make sure it exists and is empty, otherwise an exception will be raised."
   ]
  },
  {
   "cell_type": "code",
   "execution_count": 7,
   "id": "regional-mitchell",
   "metadata": {},
   "outputs": [
    {
     "name": "stdout",
     "output_type": "stream",
     "text": [
      "['my_first_directory']\n",
      "[]\n"
     ]
    }
   ],
   "source": [
    "import os\n",
    "\n",
    "os.mkdir(\"my_first_directory\")\n",
    "print(os.listdir())\n",
    "os.rmdir(\"my_first_directory\")\n",
    "print(os.listdir())"
   ]
  },
  {
   "cell_type": "markdown",
   "id": "union-boring",
   "metadata": {},
   "source": [
    "To remove a directory and its subdirectories, you can use the `removedirs` function, which requires you to specify a path containing all directories that should be removed:"
   ]
  },
  {
   "cell_type": "code",
   "execution_count": 6,
   "id": "beautiful-circulation",
   "metadata": {},
   "outputs": [
    {
     "name": "stdout",
     "output_type": "stream",
     "text": [
      "[]\n"
     ]
    }
   ],
   "source": [
    "import os\n",
    "\n",
    "os.makedirs(\"my_first_directory/my_second_directory\")\n",
    "os.removedirs(\"my_first_directory/my_second_directory\")\n",
    "print(os.listdir())"
   ]
  },
  {
   "cell_type": "markdown",
   "id": "republican-assignment",
   "metadata": {},
   "source": [
    "As with the rmdir function, if one of the directories doesn't exist or isn't empty, an exception will be raised.\n",
    "\n",
    "<b>NOTE</b>: In both Windows and Unix, there's a command called rmdir, which, just like the rmdir function, removes directories. What's more, both systems have commands to delete a directory and its contents. In Unix, this is the rm command with the -r flag."
   ]
  },
  {
   "cell_type": "markdown",
   "id": "exotic-wallet",
   "metadata": {},
   "source": [
    "# The system() function\n",
    "All functions presented in this part of the course can be replaced by a function called system, which executes a command passed to it as a string.\n",
    "\n",
    "The `system` function is available in both Windows and Unix. Depending on the system, it returns a different result.\n",
    "\n",
    "In Windows, it returns the value returned by the shell after running the command given, while in Unix, it returns the exit status of the process.\n",
    "\n",
    "Let's look at the code in the editor and see how it is in practice."
   ]
  },
  {
   "cell_type": "code",
   "execution_count": 8,
   "id": "personalized-depression",
   "metadata": {},
   "outputs": [
    {
     "name": "stdout",
     "output_type": "stream",
     "text": [
      "0\n"
     ]
    }
   ],
   "source": [
    "import os\n",
    "\n",
    "returned_value = os.system(\"mkdir my_first_directory\")\n",
    "print(returned_value)"
   ]
  },
  {
   "cell_type": "markdown",
   "id": "sunrise-wisconsin",
   "metadata": {},
   "source": [
    "Result:\n",
    "```s\n",
    "0\n",
    "```\n",
    "\n",
    "The above example will work in both Windows and Unix. In our case, we receive exit status 0, which indicates success on Unix systems.\n",
    "\n",
    "This means that the my_first_directory directory has been created. As part of the exercise, try to list the contents of the directory where you created the my_first_directory directory."
   ]
  },
  {
   "cell_type": "code",
   "execution_count": null,
   "id": "sunrise-radius",
   "metadata": {},
   "outputs": [],
   "source": []
  }
 ],
 "metadata": {
  "kernelspec": {
   "display_name": "Python 3",
   "language": "python",
   "name": "python3"
  },
  "language_info": {
   "codemirror_mode": {
    "name": "ipython",
    "version": 3
   },
   "file_extension": ".py",
   "mimetype": "text/x-python",
   "name": "python",
   "nbconvert_exporter": "python",
   "pygments_lexer": "ipython3",
   "version": "3.6.1"
  },
  "toc": {
   "base_numbering": 1,
   "nav_menu": {},
   "number_sections": false,
   "sideBar": false,
   "skip_h1_title": false,
   "title_cell": "Table of Contents",
   "title_sidebar": "Contents",
   "toc_cell": false,
   "toc_position": {},
   "toc_section_display": false,
   "toc_window_display": false
  }
 },
 "nbformat": 4,
 "nbformat_minor": 5
}
