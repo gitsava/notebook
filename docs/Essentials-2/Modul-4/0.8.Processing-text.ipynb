{
 "cells": [
  {
   "cell_type": "markdown",
   "id": "peripheral-front",
   "metadata": {},
   "source": [
    "# Processing text files: continued\n",
    "The last example we want to present shows a very interesting trait of the object returned by the `open()` function in text mode.\n",
    "\n",
    "We think it may surprise you - `the object is an instance of the iterable class`.\n",
    "\n",
    "Strange? Not at all. Usable? Yes, absolutely.\n",
    "\n",
    "The `iteration protocol defined for the file object` is very simple - its `__next__` method just `returns the next line read in from the file`.\n",
    "\n",
    "Moreover, you can expect that the object automatically invokes `close()` when any of the file reads reaches the end of the file.\n",
    "\n",
    "Look at the editor and see how simple and clear the code has now become."
   ]
  },
  {
   "cell_type": "code",
   "execution_count": 1,
   "id": "biological-stephen",
   "metadata": {},
   "outputs": [
    {
     "name": "stdout",
     "output_type": "stream",
     "text": [
      "Beautiful is better than ugly.\n",
      "Explicit is better than implicit.\n",
      "Simple is better than complex.\n",
      "Complex is better than complicated.\n",
      "\n",
      "Characters in file: 131\n",
      "Lines in file:      4\n"
     ]
    }
   ],
   "source": [
    "from os import strerror\n",
    "\n",
    "try:\n",
    "\tccnt = lcnt = 0\n",
    "\tfor line in open('text.txt', 'rt'):\n",
    "\t\tlcnt += 1\n",
    "\t\tfor ch in line:\n",
    "\t\t\tprint(ch, end='')\n",
    "\t\t\tccnt += 1\n",
    "\tprint(\"\\n\\nCharacters in file:\", ccnt)\n",
    "\tprint(\"Lines in file:     \", lcnt)\n",
    "except IOError as e:\n",
    "\tprint(\"I/O error occurred: \", strerror(e.errno))\n"
   ]
  },
  {
   "cell_type": "markdown",
   "id": "ranking-protocol",
   "metadata": {},
   "source": [
    "# Dealing with text files: write()\n",
    "Writing text files seems to be simpler, as in fact there is one method that can be used to perform such a task."
   ]
  },
  {
   "cell_type": "code",
   "execution_count": 2,
   "id": "featured-prisoner",
   "metadata": {},
   "outputs": [],
   "source": [
    "from os import strerror\n",
    "\n",
    "try:\n",
    "\tfo = open('newtext.txt', 'wt') # A new file (newtext.txt) is created.\n",
    "\tfor i in range(10):\n",
    "\t\ts = \"line #\" + str(i+1) + \"\\n\"\n",
    "\t\tfor ch in s:\n",
    "\t\t\tfo.write(ch)\n",
    "\tfo.close()\n",
    "except IOError as e:\n",
    "\tprint(\"I/O error occurred: \", strerror(e.errno))"
   ]
  },
  {
   "cell_type": "markdown",
   "id": "renewable-impact",
   "metadata": {},
   "source": [
    "The method is named `write()` and it expects just one argument - a string that will be transferred to an open file (don't forget - the open mode should reflect the way in which the data is transferred - `writing a file opened in read mode won't succeed`).\n",
    "\n",
    "No newline character is added to the `write()`'s argument, so you have to add it yourself if you want the file to be filled with a number of lines.\n",
    "\n",
    "The example in the editor shows a very simple code that creates a file named newtext.txt (note: the open mode `w` ensures that `the file will be created from scratch`, even if it exists and contains data) and then puts ten lines into it.\n",
    "\n",
    "The string to be recorded consists of the word line, followed by the line number. We've decided to write the string's contents character by character (this is done by the inner `for` loop) but you're not obliged to do it in this way.\n",
    "\n",
    "We just wanted to show you that `write()` is able to operate on single characters.\n",
    "\n",
    "The code creates a file filled with the following text:\n",
    "```s\n",
    "line #1\n",
    "line #2\n",
    "line #3\n",
    "line #4\n",
    "line #5\n",
    "line #6\n",
    "line #7\n",
    "line #8\n",
    "line #9\n",
    "line #10\n",
    "```\n",
    "newtext.txt\n",
    "\n",
    "Can you print the file's contents to the console?\n",
    "\n",
    "We encourage you to test the behavior of the `write()` method locally on your machine.\n",
    "\n"
   ]
  },
  {
   "cell_type": "markdown",
   "id": "endangered-reader",
   "metadata": {},
   "source": [
    "# Dealing with text files: continued\n",
    "Look at the example in the editor. We've modified the previous code to write whole lines to the text file.\n",
    "\n",
    "The contents of the newly created file are the same.\n",
    "\n",
    "Note: you can use the same method to write to the `stderr` stream, but don't try to open it, as it's always open implicitly.\n",
    "\n",
    "For example, if you want to send a message string to `stderr` to distinguish it from normal program output, it may look like this:\n",
    "```py\n",
    "import sys\n",
    "sys.stderr.write(\"Error message\")\n",
    "```"
   ]
  },
  {
   "cell_type": "code",
   "execution_count": 3,
   "id": "virtual-expression",
   "metadata": {},
   "outputs": [],
   "source": [
    "from os import strerror\n",
    "\n",
    "try:\n",
    "    fo = open('newtext.txt', 'wt')\n",
    "    for i in range(10):\n",
    "        fo.write(\"line #\" + str(i+1) + \"\\n\")\n",
    "    fo.close()\n",
    "except IOError as e:\n",
    "    print(\"I/O error occurred: \", strerror(e.errno))\n"
   ]
  },
  {
   "cell_type": "markdown",
   "id": "precious-meter",
   "metadata": {},
   "source": [
    "# What is a bytearray?\n",
    "Before we start talking about binary files, we have to tell you about one of the `specialized classes Python uses to store amorphous data`.\n",
    "\n",
    "`Amorphous data is data which have no specific shape or form` - they are just a series of bytes.\n",
    "\n",
    "This doesn't mean that these bytes cannot have their own meaning, or cannot represent any useful object, e.g., bitmap graphics.\n",
    "\n",
    "The most important aspect of this is that in the place where we have contact with the data, we are not able to, or simply don't want to, know anything about it.\n",
    "\n",
    "Amorphous data cannot be stored using any of the previously presented means - they are neither strings nor lists.\n",
    "\n",
    "There should be a special container able to handle such data.\n",
    "\n",
    "Python has more than one such container - one of them is `a specialized class name bytearray` - as the name suggests, it's `an array containing (amorphous) bytes`.\n",
    "\n",
    "If you want to have such a container, e.g., in order to read in a bitmap image and process it in any way, you need to create it explicitly, using one of available constructors.\n",
    "\n",
    "Take a look:\n",
    "```py\n",
    "data = bytearray(10)\n",
    "```\n",
    "\n",
    "Such an invocation creates a bytearray object able to store ten bytes.\n",
    "\n",
    "Note: such a constructor `fills the whole array with zeros`.\n",
    "\n"
   ]
  },
  {
   "cell_type": "markdown",
   "id": "experienced-cursor",
   "metadata": {},
   "source": [
    "# Bytearrays: continued\n",
    "Bytearrays resemble lists in many respects. For example, they are mutable, they're a subject of the `len()` function, and you can access any of their elements using conventional indexing.\n",
    "\n",
    "There is one important limitation - `you mustn't set any byte array elements with a value which is not an integer` (violating this rule will cause a TypeError exception) and you're `not allowed to assign a value that doesn't come from the range 0 to 255 inclusive` (unless you want to provoke a ValueError exception).\n",
    "\n",
    "You can `treat any byte array elements as integer values` - just like in the example in the editor.\n",
    "\n",
    "Note: we've used two methods to iterate the byte arrays, and made use of the `hex()` function to see the elements printed as hexadecimal values.\n",
    "\n",
    "Now we're going to show you `how to write a byte array to a binary file` - binary, as we don't want to save its readable representation - we want to write a one-to-one copy of the physical memory content, byte by byte.\n",
    "\n"
   ]
  },
  {
   "cell_type": "code",
   "execution_count": 4,
   "id": "parallel-valley",
   "metadata": {},
   "outputs": [
    {
     "name": "stdout",
     "output_type": "stream",
     "text": [
      "0xa\n",
      "0x9\n",
      "0x8\n",
      "0x7\n",
      "0x6\n",
      "0x5\n",
      "0x4\n",
      "0x3\n",
      "0x2\n",
      "0x1\n"
     ]
    }
   ],
   "source": [
    "data = bytearray(10)\n",
    "\n",
    "for i in range(len(data)):\n",
    "    data[i] = 10 - i\n",
    "\n",
    "for b in data:\n",
    "    print(hex(b))"
   ]
  },
  {
   "cell_type": "markdown",
   "id": "celtic-twist",
   "metadata": {},
   "source": [
    "# Bytearrays: continued\n",
    "So, how do we write a byte array to a binary file?\n",
    "\n",
    "Look at the code in the editor. Let's analyze it:"
   ]
  },
  {
   "cell_type": "code",
   "execution_count": 5,
   "id": "continent-prairie",
   "metadata": {},
   "outputs": [],
   "source": [
    "from os import strerror\n",
    "\n",
    "data = bytearray(10)\n",
    "\n",
    "for i in range(len(data)):\n",
    "    data[i] = 10 + i\n",
    "\n",
    "try:\n",
    "    bf = open('file.bin', 'wb')\n",
    "    bf.write(data)\n",
    "    bf.close()\n",
    "except IOError as e:\n",
    "    print(\"I/O error occurred:\", strerror(e.errno))\n",
    "\n",
    "# Your code that reads bytes from the stream should go here.\n"
   ]
  },
  {
   "cell_type": "markdown",
   "id": "educated-abortion",
   "metadata": {},
   "source": [
    "  - first, we initialize `bytearray` with subsequent values starting from `10`; if you want the file's contents to be clearly readable, replace `10` with something like `ord('a')` - this will produce bytes containing values corresponding to the alphabetical part of the ASCII code (don't think it will make the file a text file - it's still binary, as it was created with a `wb` flag);\n",
    "  - then, we create the file using the `open()` function - the only difference compared to the previous variants is the open mode containing the `b` flag;\n",
    "  - the `write()` method takes its argument (`bytearray`) and sends it (as a whole) to the file;\n",
    "  - the stream is then closed in a routine way.\n",
    "  \n",
    "The `write()` method returns a number of successfully written bytes.\n",
    "\n",
    "If the values differ from the length of the method's arguments, it may announce some write errors.\n",
    "\n",
    "In this case, we haven't made use of the result - this may not be appropriate in every case.\n",
    "\n",
    "Try to run the code and analyze the contents of the newly created output file.\n",
    "\n",
    "You're going to use it in the next step."
   ]
  },
  {
   "cell_type": "markdown",
   "id": "confused-mexican",
   "metadata": {},
   "source": [
    "# How to read bytes from a stream\n",
    "Reading from a binary file requires use of a specialized method name `readinto()`, as the method doesn't create a new byte array object, but fills a previously created one with the values taken from the binary file.\n",
    "\n",
    "#### Note:\n",
    "\n",
    "  - the method returns the number of successfully read bytes;\n",
    "  - the method tries to fill the whole space available inside its argument; if there are more data in the file than space in the argument, the read operation will stop before the end of the file; otherwise, the method's result may indicate that the byte array has only been filled fragmentarily (the result will show you that, too, and the part of the array not being used by the newly read contents remains untouched)\n",
    "  \n",
    "Look at the complete code below:"
   ]
  },
  {
   "cell_type": "code",
   "execution_count": 6,
   "id": "expired-indicator",
   "metadata": {},
   "outputs": [
    {
     "name": "stdout",
     "output_type": "stream",
     "text": [
      "0xa 0xb 0xc 0xd 0xe 0xf 0x10 0x11 0x12 0x13 "
     ]
    }
   ],
   "source": [
    "from os import strerror\n",
    "\n",
    "data = bytearray(10)\n",
    "\n",
    "try:\n",
    "    bf = open('file.bin', 'rb')\n",
    "    bf.readinto(data)\n",
    "    bf.close()\n",
    "\n",
    "    for b in data:\n",
    "        print(hex(b), end=' ')\n",
    "except IOError as e:\n",
    "    print(\"I/O error occurred:\", strerror(e.errno))"
   ]
  },
  {
   "cell_type": "markdown",
   "id": "organizational-subscription",
   "metadata": {},
   "source": [
    "Let's analyze it:\n",
    "\n",
    "  - first, we open the file (the one you created using the previous code) with the mode described as `rb`;\n",
    "  - then, we read its contents into the byte array named `data`, of size ten bytes;\n",
    "  - finally, we print the byte array contents - are they the same as you expected?\n",
    "  \n",
    "Run the code and check if it's working."
   ]
  },
  {
   "cell_type": "markdown",
   "id": "burning-inclusion",
   "metadata": {},
   "source": [
    "# How to read bytes from a stream\n",
    "An alternative way of reading the contents of a binary file is offered by the method named `read()`.\n",
    "\n",
    "Invoked without arguments, it tries to `read all the contents of the file into the memory`, making them a part of a newly created object of the bytes class.\n",
    "\n",
    "This class has some similarities to `bytearray`, with the exception of one significant difference - it's `immutable`.\n",
    "\n",
    "Fortunately, there are no obstacles to creating a byte array by taking its initial value directly from the bytes object, just like here:"
   ]
  },
  {
   "cell_type": "code",
   "execution_count": 7,
   "id": "criminal-microwave",
   "metadata": {},
   "outputs": [
    {
     "name": "stdout",
     "output_type": "stream",
     "text": [
      "0xa 0xb 0xc 0xd 0xe 0xf 0x10 0x11 0x12 0x13 "
     ]
    }
   ],
   "source": [
    "from os import strerror\n",
    "\n",
    "try:\n",
    "    bf = open('file.bin', 'rb')\n",
    "    data = bytearray(bf.read())\n",
    "    bf.close()\n",
    "\n",
    "    for b in data:\n",
    "        print(hex(b), end=' ')\n",
    "\n",
    "except IOError as e:\n",
    "    print(\"I/O error occurred:\", strerror(e.errno))"
   ]
  },
  {
   "cell_type": "markdown",
   "id": "cubic-state",
   "metadata": {},
   "source": [
    "Be careful - `don't use this kind of read if you're not sure that the file's contents will fit the available memory`."
   ]
  },
  {
   "cell_type": "code",
   "execution_count": 8,
   "id": "shared-berkeley",
   "metadata": {},
   "outputs": [],
   "source": [
    "from os import strerror\n",
    "\n",
    "data = bytearray(10)\n",
    "\n",
    "for i in range(len(data)):\n",
    "    data[i] = 10 + i\n",
    "\n",
    "try:\n",
    "    bf = open('file.bin', 'wb')\n",
    "    bf.write(data)\n",
    "    bf.close()\n",
    "except IOError as e:\n",
    "    print(\"I/O error occurred:\", strerror(e.errno))\n",
    "\n",
    "# Your code that reads bytes from the stream should go here."
   ]
  },
  {
   "cell_type": "markdown",
   "id": "steady-tournament",
   "metadata": {},
   "source": [
    "# How to read bytes from a stream: continued\n",
    "If the `read()` method is invoked with an argument, it `specifies the maximum number of bytes to be read`.\n",
    "\n",
    "The method tries to read the desired number of bytes from the file, and the length of the returned object can be used to determine the number of bytes actually read.\n",
    "\n",
    "You can use the method just like here:"
   ]
  },
  {
   "cell_type": "code",
   "execution_count": 9,
   "id": "tracked-headquarters",
   "metadata": {},
   "outputs": [
    {
     "name": "stdout",
     "output_type": "stream",
     "text": [
      "0xa 0xb 0xc 0xd 0xe "
     ]
    }
   ],
   "source": [
    "try:\n",
    "    bf = open('file.bin', 'rb')\n",
    "    data = bytearray(bf.read(5))\n",
    "    bf.close()\n",
    "\n",
    "    for b in data:\n",
    "        print(hex(b), end=' ')\n",
    "\n",
    "except IOError as e:\n",
    "    print(\"I/O error occurred:\", strerror(e.errno))"
   ]
  },
  {
   "cell_type": "markdown",
   "id": "increasing-chicken",
   "metadata": {},
   "source": [
    "Note: the first five bytes of the file have been read by the code - the next five are still waiting to be processed."
   ]
  },
  {
   "cell_type": "code",
   "execution_count": 10,
   "id": "determined-uzbekistan",
   "metadata": {},
   "outputs": [],
   "source": [
    "from os import strerror\n",
    "\n",
    "data = bytearray(10)\n",
    "\n",
    "for i in range(len(data)):\n",
    "    data[i] = 10 + i\n",
    "\n",
    "try:\n",
    "    bf = open('file.bin', 'wb')\n",
    "    bf.write(data)\n",
    "    bf.close()\n",
    "except IOError as e:\n",
    "    print(\"I/O error occurred:\", strerror(e.errno))\n",
    "\n",
    "# Your code that reads bytes from the stream should go here."
   ]
  },
  {
   "cell_type": "markdown",
   "id": "civilian-swedish",
   "metadata": {},
   "source": [
    "# Copying files - a simple and functional tool\n",
    "Now you're going to amalgamate all this new knowledge, add some fresh elements to it, and use it to write a real code which is able to actually copy a file's contents.\n",
    "\n",
    "Of course, the purpose is not to make a better replacement for commands like copy (MS Windows) or cp (Unix/Linux) but to see one possible way of creating a working tool, even if nobody wants to use it.\n",
    "\n",
    "Look at the code in the editor. Let's analyze it:"
   ]
  },
  {
   "cell_type": "code",
   "execution_count": 11,
   "id": "expensive-tonight",
   "metadata": {},
   "outputs": [
    {
     "name": "stdout",
     "output_type": "stream",
     "text": [
      "Enter the source file name: asep\n",
      "Cannot open the source file:  No such file or directory\n",
      "Enter the destination file name: text.txt\n"
     ]
    },
    {
     "ename": "NameError",
     "evalue": "name 'src' is not defined",
     "output_type": "error",
     "traceback": [
      "\u001b[1;31m---------------------------------------------------------------------------\u001b[0m",
      "\u001b[1;31mNameError\u001b[0m                                 Traceback (most recent call last)",
      "\u001b[1;32m<ipython-input-11-91a759b04968>\u001b[0m in \u001b[0;36m<module>\u001b[1;34m\u001b[0m\n\u001b[0;32m     19\u001b[0m \u001b[0mtotal\u001b[0m  \u001b[1;33m=\u001b[0m \u001b[1;36m0\u001b[0m\u001b[1;33m\u001b[0m\u001b[0m\n\u001b[0;32m     20\u001b[0m \u001b[1;32mtry\u001b[0m\u001b[1;33m:\u001b[0m\u001b[1;33m\u001b[0m\u001b[0m\n\u001b[1;32m---> 21\u001b[1;33m     \u001b[0mreadin\u001b[0m \u001b[1;33m=\u001b[0m \u001b[0msrc\u001b[0m\u001b[1;33m.\u001b[0m\u001b[0mreadinto\u001b[0m\u001b[1;33m(\u001b[0m\u001b[0mbuffer\u001b[0m\u001b[1;33m)\u001b[0m\u001b[1;33m\u001b[0m\u001b[0m\n\u001b[0m\u001b[0;32m     22\u001b[0m     \u001b[1;32mwhile\u001b[0m \u001b[0mreadin\u001b[0m \u001b[1;33m>\u001b[0m \u001b[1;36m0\u001b[0m\u001b[1;33m:\u001b[0m\u001b[1;33m\u001b[0m\u001b[0m\n\u001b[0;32m     23\u001b[0m         \u001b[0mwritten\u001b[0m \u001b[1;33m=\u001b[0m \u001b[0mdst\u001b[0m\u001b[1;33m.\u001b[0m\u001b[0mwrite\u001b[0m\u001b[1;33m(\u001b[0m\u001b[0mbuffer\u001b[0m\u001b[1;33m[\u001b[0m\u001b[1;33m:\u001b[0m\u001b[0mreadin\u001b[0m\u001b[1;33m]\u001b[0m\u001b[1;33m)\u001b[0m\u001b[1;33m\u001b[0m\u001b[0m\n",
      "\u001b[1;31mNameError\u001b[0m: name 'src' is not defined"
     ]
    }
   ],
   "source": [
    "from os import strerror\n",
    "\n",
    "srcname = input(\"Enter the source file name: \")\n",
    "try:\n",
    "    src = open(srcname, 'rb')\n",
    "except IOError as e:\n",
    "    print(\"Cannot open the source file: \", strerror(e.errno))\n",
    "    exit(e.errno)\t\n",
    "\n",
    "dstname = input(\"Enter the destination file name: \")\n",
    "try:\n",
    "    dst = open(dstname, 'wb')\n",
    "except Exception as e:\n",
    "    print(\"Cannot create the destination file: \", strerror(e.errno))\n",
    "    src.close()\n",
    "    exit(e.errno)\t\n",
    "\n",
    "buffer = bytearray(65536)\n",
    "total  = 0\n",
    "try:\n",
    "    readin = src.readinto(buffer)\n",
    "    while readin > 0:\n",
    "        written = dst.write(buffer[:readin])\n",
    "        total += written\n",
    "        readin = src.readinto(buffer)\n",
    "except IOError as e:\n",
    "    print(\"Cannot create the destination file: \", strerror(e.errno))\n",
    "    exit(e.errno)\t\n",
    "    \n",
    "print(total,'byte(s) succesfully written')\n",
    "src.close()\n",
    "dst.close()\n"
   ]
  },
  {
   "cell_type": "markdown",
   "id": "historical-offer",
   "metadata": {},
   "source": [
    "  - lines 3 through 8: ask the user for the name of the file to copy, and try to open it to read; terminate the program execution if the open fails; note: use the `exit()` function to stop program execution and to pass the completion code to the OS; any completion code other than `0` says that the program has encountered some problems; use the `errno` value to specify the nature of the issue;\n",
    "  - lines 10 through 16: repeat nearly the same action, but this time for the output file;\n",
    "  - line 18: prepare a piece of memory for transferring data from the source file to the target one; such a transfer area is often called a buffer, hence the name of the variable; the size of the buffer is arbitrary - in this case, we decided to use 64 kilobytes; technically, a larger buffer is faster at copying items, as a larger buffer means fewer I/O operations; actually, there is always a limit, the crossing of which renders no further improvements; test it yourself if you want.\n",
    "  - line 19: count the bytes copied - this is the counter and its initial value;\n",
    "  - line 21: try to fill the buffer for the very first time;\n",
    "  - line 22: as long as you get a non-zero number of bytes, repeat the same actions;\n",
    "  - line 23: write the buffer's contents to the output file (note: we've used a slice to limit the number of bytes being written, as `write()` always prefer to write the whole buffer)\n",
    "  - line 24: update the counter;\n",
    "  - line 25: read the next file chunk;\n",
    "  - lines 30 through 32: some final cleaning - the job is done."
   ]
  },
  {
   "cell_type": "code",
   "execution_count": null,
   "id": "heavy-rugby",
   "metadata": {},
   "outputs": [],
   "source": []
  }
 ],
 "metadata": {
  "kernelspec": {
   "display_name": "Python 3",
   "language": "python",
   "name": "python3"
  },
  "language_info": {
   "codemirror_mode": {
    "name": "ipython",
    "version": 3
   },
   "file_extension": ".py",
   "mimetype": "text/x-python",
   "name": "python",
   "nbconvert_exporter": "python",
   "pygments_lexer": "ipython3",
   "version": "3.6.1"
  },
  "toc": {
   "base_numbering": 1,
   "nav_menu": {},
   "number_sections": false,
   "sideBar": false,
   "skip_h1_title": false,
   "title_cell": "Table of Contents",
   "title_sidebar": "Contents",
   "toc_cell": false,
   "toc_position": {},
   "toc_section_display": false,
   "toc_window_display": false
  }
 },
 "nbformat": 4,
 "nbformat_minor": 5
}
