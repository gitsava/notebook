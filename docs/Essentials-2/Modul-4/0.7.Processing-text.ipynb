{
 "cells": [
  {
   "cell_type": "markdown",
   "id": "greater-quick",
   "metadata": {},
   "source": [
    "# Processing text files\n",
    "In this lesson we're going to prepare a simple text file with some short, simple content.\n",
    "\n",
    "We're going to show you some basic techniques you can utilize to `read the file contents` in order to process them.\n",
    "\n",
    "The processing will be very simple - you're going to copy the file's contents to the console, and count all the characters the program has read in.\n",
    "\n",
    "But remember - our understanding of a text file is very strict. In our sense, it's a plain text file - it may contain only text, without any additional decorations (formatting, different fonts, etc.).\n",
    "\n",
    "That's why you should avoid creating the file using any advanced text processor like MS Word, LibreOffice Writer, or something like this. Use the very basics your OS offers: Notepad, vim, gedit, etc.\n",
    "\n",
    "If your text files contain some national characters not covered by the standard ASCII charset, you may need an additional step. Your `open()` function invocation may require an argument denoting specific text encoding.\n",
    "\n",
    "For example, if you're using a Unix/Linux OS configured to use UTF-8 as a system-wide setting, the `open()` function may look as follows:\n",
    "```py\n",
    "stream = open('file.txt', 'rt', encoding='utf-8')\n",
    "```\n",
    "\n",
    "where the encoding argument has to be set to a value which is a string representing proper text encoding (UTF-8, here).\n",
    "\n",
    "Consult your OS documentation to find an encoding name adequate to your environment.\n",
    "\n",
    "\n",
    "### Note\n",
    "```s\n",
    "For the purposes of our experiments with file processing carried out in this section, we're going to use a pre-uploaded set of files (i.e., tzop.txt, or text.txt files) which you'll be able to work with. If you'd like to work with your own files locally on your machine, we strongly encourage you to do so, and to use IDLE (or any other IDE that you may prefer) to carry out your own tests.\n",
    "```"
   ]
  },
  {
   "cell_type": "code",
   "execution_count": 3,
   "id": "physical-manner",
   "metadata": {},
   "outputs": [
    {
     "ename": "OSError",
     "evalue": "[Errno 22] Invalid argument: 'C:\\\\dev\\\\programming-docs\\\\Python\\\\Essentials-2\\\\Modul-4\\tzop.txt'",
     "output_type": "error",
     "traceback": [
      "\u001b[1;31m---------------------------------------------------------------------------\u001b[0m",
      "\u001b[1;31mOSError\u001b[0m                                   Traceback (most recent call last)",
      "\u001b[1;32m<ipython-input-3-35c6f55643d6>\u001b[0m in \u001b[0;36m<module>\u001b[1;34m\u001b[0m\n\u001b[0;32m      1\u001b[0m \u001b[1;31m# Opening tzop.txt in read mode, returning it as a file object:\u001b[0m\u001b[1;33m\u001b[0m\u001b[1;33m\u001b[0m\u001b[0m\n\u001b[1;32m----> 2\u001b[1;33m \u001b[0mstream\u001b[0m \u001b[1;33m=\u001b[0m \u001b[0mopen\u001b[0m\u001b[1;33m(\u001b[0m\u001b[1;34m\"C:\\dev\\programming-docs\\Python\\Essentials-2\\Modul-4\\tzop.txt\"\u001b[0m\u001b[1;33m,\u001b[0m \u001b[1;34m\"rt\"\u001b[0m\u001b[1;33m,\u001b[0m \u001b[0mencoding\u001b[0m \u001b[1;33m=\u001b[0m \u001b[1;34m\"utf-8\"\u001b[0m\u001b[1;33m)\u001b[0m\u001b[1;33m\u001b[0m\u001b[0m\n\u001b[0m\u001b[0;32m      3\u001b[0m \u001b[1;33m\u001b[0m\u001b[0m\n\u001b[0;32m      4\u001b[0m \u001b[0mprint\u001b[0m\u001b[1;33m(\u001b[0m\u001b[0mstream\u001b[0m\u001b[1;33m.\u001b[0m\u001b[0mread\u001b[0m\u001b[1;33m(\u001b[0m\u001b[1;33m)\u001b[0m\u001b[1;33m)\u001b[0m \u001b[1;31m# printing the content of the file\u001b[0m\u001b[1;33m\u001b[0m\u001b[0m\n",
      "\u001b[1;31mOSError\u001b[0m: [Errno 22] Invalid argument: 'C:\\\\dev\\\\programming-docs\\\\Python\\\\Essentials-2\\\\Modul-4\\tzop.txt'"
     ]
    }
   ],
   "source": [
    "# Opening tzop.txt in read mode, returning it as a file object:\n",
    "stream = open(\"C:\\dev\\programming-docs\\Python\\Essentials-2\\Modul-4\\tzop.txt\", \"rt\", encoding = \"utf-8\")\n",
    "\n",
    "print(stream.read()) # printing the content of the file"
   ]
  },
  {
   "cell_type": "markdown",
   "id": "directed-blond",
   "metadata": {},
   "source": [
    "# Processing text files: continued\n",
    "Reading a text file's contents can be performed using several different methods - none of them is any better or worse than any other. It's up to you which of them you prefer and like.\n",
    "\n",
    "Some of them will sometimes be handier, and sometimes more troublesome. Be flexible. Don't be afraid to change your preferences.\n",
    "\n",
    "The most basic of these methods is the one offered by the `read()` function, which you were able to see in action in the previous lesson.\n",
    "\n",
    "If applied to a text file, the function is able to:\n",
    "\n",
    "  - read a desired number of characters (including just one) from the file, and return them as a string;\n",
    "  - read all the file contents, and return them as a string;\n",
    "  - if there is nothing more to read (the virtual reading head reaches the end of the file), the function returns an empty string.\n",
    "\n",
    "We'll start with the simplest variant and use a file named `text.txt`. The file has the following contents:\n",
    "```s\n",
    "Beautiful is better than ugly.\n",
    "Explicit is better than implicit.\n",
    "Simple is better than complex.\n",
    "Complex is better than complicated.\n",
    "```\n",
    "text.txt\n",
    "\n",
    "Now look at the code in the editor, and let's analyze it."
   ]
  },
  {
   "cell_type": "code",
   "execution_count": 4,
   "id": "advised-understanding",
   "metadata": {},
   "outputs": [
    {
     "name": "stdout",
     "output_type": "stream",
     "text": [
      "Beautiful is better than ugly.\n",
      "Explicit is better than implicit.\n",
      "Simple is better than complex.\n",
      "Complex is better than complicated.\n",
      "\n",
      "Characters in file: 131\n"
     ]
    }
   ],
   "source": [
    "from os import strerror\n",
    "\n",
    "try:\n",
    "    cnt = 0\n",
    "    s = open('text.txt', \"rt\")\n",
    "    ch = s.read(1)\n",
    "    while ch != '':\n",
    "        print(ch, end='')\n",
    "        cnt += 1\n",
    "        ch = s.read(1)\n",
    "    s.close()\n",
    "    print(\"\\n\\nCharacters in file:\", cnt)\n",
    "except IOError as e:\n",
    "    print(\"I/O error occurred: \", strerror(e.errno))"
   ]
  },
  {
   "cell_type": "markdown",
   "id": "impaired-embassy",
   "metadata": {},
   "source": [
    "The routine is rather simple:\n",
    "\n",
    "  - use the try-except mechanism and open the file of the predetermined name (text.txt in our case)\n",
    "  - try to read the very first character from the file (`ch = s.read(1)`)\n",
    "  - if you succeed (this is proven by a positive result of the `while` condition check), output the character (note the `end=` argument - it's important! You don't want to skip to a new line after every character!);\n",
    "  - update the counter (`cnt`), too;\n",
    "  - try to read the next character, and the process repeats."
   ]
  },
  {
   "cell_type": "markdown",
   "id": "ecological-desire",
   "metadata": {},
   "source": [
    "# Processing text files: continued\n",
    "If you're absolutely sure that the file's length is safe and you can read the whole file to the memory at once, you can do it - the `read()` function, invoked without any arguments or with an argument that evaluates to `None`, will do the job for you.\n",
    "\n",
    "Remember - `reading a terabyte-long file using this method may corrupt your OS`.\n",
    "\n",
    "Don't expect miracles - computer memory isn't stretchable.\n",
    "\n",
    "Look at the code in the editor. What do you think of it?"
   ]
  },
  {
   "cell_type": "code",
   "execution_count": 5,
   "id": "promotional-queensland",
   "metadata": {},
   "outputs": [
    {
     "name": "stdout",
     "output_type": "stream",
     "text": [
      "Beautiful is better than ugly.\n",
      "Explicit is better than implicit.\n",
      "Simple is better than complex.\n",
      "Complex is better than complicated.\n",
      "\n",
      "Characters in file: 131\n"
     ]
    }
   ],
   "source": [
    "from os import strerror\n",
    "\n",
    "try:\n",
    "    cnt = 0\n",
    "    s = open('text.txt', \"rt\")\n",
    "    content = s.read()\n",
    "    for ch in content:\n",
    "        print(ch, end='')\n",
    "        cnt += 1\n",
    "    s.close()\n",
    "    print(\"\\n\\nCharacters in file:\", cnt)\n",
    "except IOError as e:\n",
    "    print(\"I/O error occurred: \", strerr(e.errno))"
   ]
  },
  {
   "cell_type": "markdown",
   "id": "violent-robinson",
   "metadata": {},
   "source": [
    "Let's analyze it:\n",
    "\n",
    "  - open the file as previously;\n",
    "  - read its contents by one `read()` function invocation;\n",
    "  - next, process the text, iterating through it with a regular `for` loop, and updating the counter value at each turn of the loop;\n",
    "  \n",
    "The result will be exactly the same as previously."
   ]
  },
  {
   "cell_type": "markdown",
   "id": "warming-cooler",
   "metadata": {},
   "source": [
    "# Processing text files: readline()\n",
    "If you want to treat the file's contents `as a set of lines`, not a bunch of characters, the `readline()` method will help you with that.\n",
    "\n",
    "The method tries to `read a complete line of text from the file`, and returns it as a string in the case of success. Otherwise, it returns an empty string.\n",
    "\n",
    "This opens up new opportunities - now you can also count lines easily, not only characters.\n",
    "\n",
    "Let's make use of it. Look at the code in the editor."
   ]
  },
  {
   "cell_type": "code",
   "execution_count": 6,
   "id": "composed-commander",
   "metadata": {},
   "outputs": [
    {
     "name": "stdout",
     "output_type": "stream",
     "text": [
      "Beautiful is better than ugly.\n",
      "Explicit is better than implicit.\n",
      "Simple is better than complex.\n",
      "Complex is better than complicated.\n",
      "\n",
      "Characters in file: 131\n",
      "Lines in file:      4\n"
     ]
    }
   ],
   "source": [
    "from os import strerror\n",
    "\n",
    "try:\n",
    "    ccnt = lcnt = 0\n",
    "    s = open('text.txt', 'rt')\n",
    "    line = s.readline()\n",
    "    while line != '':\n",
    "        lcnt += 1\n",
    "        for ch in line:\n",
    "            print(ch, end='')\n",
    "            ccnt += 1\n",
    "        line = s.readline()\n",
    "    s.close()\n",
    "    print(\"\\n\\nCharacters in file:\", ccnt)\n",
    "    print(\"Lines in file:     \", lcnt)\n",
    "except IOError as e:\n",
    "    print(\"I/O error occurred:\", strerror(e.errno))"
   ]
  },
  {
   "cell_type": "markdown",
   "id": "careful-senegal",
   "metadata": {},
   "source": [
    "As you can see, the general idea is exactly the same as in both previous examples.\n"
   ]
  },
  {
   "cell_type": "markdown",
   "id": "hollywood-gibson",
   "metadata": {},
   "source": [
    "# Processing text files: readlines()\n",
    "Another method, which treats text file as a set of lines, not characters, is `readlines()`.\n",
    "\n",
    "The `readlines()` method, when invoked without arguments, tries to `read all the file contents, and returns a list of strings, one element per file line`.\n",
    "\n",
    "If you're not sure if the file size is small enough and don't want to test the OS, you can convince the `readlines()` method to read not more than a specified number of bytes at once (the returning value remains the same - it's a list of a string).\n",
    "\n",
    "Feel free to experiment with the following example code to understand how the `readlines()` method works:"
   ]
  },
  {
   "cell_type": "code",
   "execution_count": 7,
   "id": "regulation-mathematics",
   "metadata": {},
   "outputs": [
    {
     "name": "stdout",
     "output_type": "stream",
     "text": [
      "['Beautiful is better than ugly.\\n']\n",
      "['Explicit is better than implicit.\\n']\n",
      "['Simple is better than complex.\\n']\n",
      "['Complex is better than complicated.']\n"
     ]
    }
   ],
   "source": [
    "s = open(\"text.txt\")\n",
    "print(s.readlines(20))\n",
    "print(s.readlines(20))\n",
    "print(s.readlines(20))\n",
    "print(s.readlines(20))\n",
    "s.close()\n"
   ]
  },
  {
   "cell_type": "markdown",
   "id": "confused-morris",
   "metadata": {},
   "source": [
    "#### The maximum accepted input buffer size is passed to the method as its argument.\n",
    "\n",
    "You may expect that `readlines()` can process a file's contents more effectively than `readline()`, as it may need to be invoked fewer times.\n",
    "\n",
    "Note: when there is nothing to read from the file, the method returns an empty list. Use it to detect the end of the file.\n",
    "\n",
    "To the extent of the buffer's size, you can expect that increasing it may improve input performance, but there is no golden rule for it - try to find the optimal values yourself.\n",
    "\n",
    "Look at the code in the editor. We've modified it to show you how to use `readlines()`."
   ]
  },
  {
   "cell_type": "code",
   "execution_count": 8,
   "id": "czech-evans",
   "metadata": {},
   "outputs": [
    {
     "name": "stdout",
     "output_type": "stream",
     "text": [
      "Beautiful is better than ugly.\n",
      "Explicit is better than implicit.\n",
      "Simple is better than complex.\n",
      "Complex is better than complicated.\n",
      "\n",
      "Characters in file: 131\n",
      "Lines in file:      4\n"
     ]
    }
   ],
   "source": [
    "from os import strerror\n",
    "\n",
    "try:\n",
    "    ccnt = lcnt = 0\n",
    "    s = open('text.txt', 'rt')\n",
    "    lines = s.readlines(20)\n",
    "    while len(lines) != 0:\n",
    "        for line in lines:\n",
    "            lcnt += 1\n",
    "            for ch in line:\n",
    "                print(ch, end='')\n",
    "                ccnt += 1\n",
    "        lines = s.readlines(10)\n",
    "    s.close()\n",
    "    print(\"\\n\\nCharacters in file:\", ccnt)\n",
    "    print(\"Lines in file:     \", lcnt)\n",
    "except IOError as e:\n",
    "    print(\"I/O error occurred:\", strerror(e.errno))"
   ]
  },
  {
   "cell_type": "markdown",
   "id": "stopped-interest",
   "metadata": {},
   "source": [
    "We've decided to use a 15-byte-long buffer. Don't think it's a recommendation.\n",
    "\n",
    "We've used such a value to avoid the situation in which the first `readlines()` invocation consumes the whole file.\n",
    "\n",
    "We want the method to be forced to work harder, and to demonstrate its capabilities.\n",
    "\n",
    "There are `two nested loops in the code`: the outer one uses `readlines()`'s result to iterate through it, while the inner one prints the lines character by character.\n"
   ]
  },
  {
   "cell_type": "code",
   "execution_count": null,
   "id": "ecological-ultimate",
   "metadata": {},
   "outputs": [],
   "source": []
  }
 ],
 "metadata": {
  "kernelspec": {
   "display_name": "Python 3",
   "language": "python",
   "name": "python3"
  },
  "language_info": {
   "codemirror_mode": {
    "name": "ipython",
    "version": 3
   },
   "file_extension": ".py",
   "mimetype": "text/x-python",
   "name": "python",
   "nbconvert_exporter": "python",
   "pygments_lexer": "ipython3",
   "version": "3.6.1"
  },
  "toc": {
   "base_numbering": 1,
   "nav_menu": {},
   "number_sections": false,
   "sideBar": false,
   "skip_h1_title": false,
   "title_cell": "Table of Contents",
   "title_sidebar": "Contents",
   "toc_cell": false,
   "toc_position": {},
   "toc_section_display": false,
   "toc_window_display": false
  }
 },
 "nbformat": 4,
 "nbformat_minor": 5
}
