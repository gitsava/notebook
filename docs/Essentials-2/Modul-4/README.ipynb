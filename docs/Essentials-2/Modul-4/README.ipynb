{
 "cells": [
  {
   "cell_type": "markdown",
   "id": "christian-mortality",
   "metadata": {},
   "source": [
    "# Python Essentials 2: Module 4\n",
    "`Miscellaneous`\n",
    "\n",
    "In this module, you will learn about:\n",
    "\n",
    "  - Generators, iterators and closures;\n",
    "  - Working with file-system, directory tree and files;\n",
    "  - Selected Python Standard Library modules (os, datetime, time, and calendar.)"
   ]
  },
  {
   "cell_type": "code",
   "execution_count": null,
   "id": "scheduled-childhood",
   "metadata": {},
   "outputs": [],
   "source": []
  }
 ],
 "metadata": {
  "kernelspec": {
   "display_name": "Python 3",
   "language": "python",
   "name": "python3"
  },
  "language_info": {
   "codemirror_mode": {
    "name": "ipython",
    "version": 3
   },
   "file_extension": ".py",
   "mimetype": "text/x-python",
   "name": "python",
   "nbconvert_exporter": "python",
   "pygments_lexer": "ipython3",
   "version": "3.6.1"
  },
  "toc": {
   "base_numbering": 1,
   "nav_menu": {},
   "number_sections": false,
   "sideBar": false,
   "skip_h1_title": false,
   "title_cell": "Table of Contents",
   "title_sidebar": "Contents",
   "toc_cell": false,
   "toc_position": {},
   "toc_section_display": false,
   "toc_window_display": false
  }
 },
 "nbformat": 4,
 "nbformat_minor": 5
}
