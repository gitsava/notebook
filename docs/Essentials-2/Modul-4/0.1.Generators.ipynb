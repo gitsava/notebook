{
 "cells": [
  {
   "cell_type": "markdown",
   "id": "searching-seeker",
   "metadata": {},
   "source": [
    "# More about list comprehensions: continued\n",
    "There is a very interesting syntax we want to show you now. Its usability is not limited to list comprehensions, but we have to admit that comprehensions are the ideal environment for it.\n",
    "\n",
    "It's a `conditional expression - a way of selecting one of two different values based on the result of a Boolean expression`.\n",
    "\n",
    "Look:\n",
    "\n",
    "expression_one if condition else expression_two\n",
    "\n",
    "It may look a bit surprising at first glance, but you have to keep in mind that it is `not a conditional instruction`. Moreover, it's not an instruction at all. It's an operator.\n",
    "\n",
    "The value it provides is equal to expression_one when the condition is `True`, and expression_two otherwise.\n",
    "\n",
    "A good example will tell you more. Look at the code in the editor."
   ]
  },
  {
   "cell_type": "code",
   "execution_count": 1,
   "id": "regulation-possibility",
   "metadata": {},
   "outputs": [
    {
     "name": "stdout",
     "output_type": "stream",
     "text": [
      "[1, 0, 1, 0, 1, 0, 1, 0, 1, 0]\n"
     ]
    }
   ],
   "source": [
    "the_list = []\n",
    "\n",
    "for x in range(10):\n",
    "    the_list.append(1 if x % 2 == 0 else 0)\n",
    "\n",
    "print(the_list)"
   ]
  },
  {
   "cell_type": "markdown",
   "id": "cooperative-advancement",
   "metadata": {},
   "source": [
    "The code fills a list with `1`'s and `0`s - if the index of a particular element is odd, the element is set to `0`, and to `1` otherwise.\n",
    "\n",
    "Simple? Maybe not at first glance. Elegant? Indisputably.\n",
    "\n",
    "Can you use the same trick within a list comprehension? Yes, you can."
   ]
  },
  {
   "cell_type": "markdown",
   "id": "alone-failure",
   "metadata": {},
   "source": [
    "# More about list comprehensions: continued\n",
    "Look at the example in the editor."
   ]
  },
  {
   "cell_type": "code",
   "execution_count": 2,
   "id": "documented-fifth",
   "metadata": {},
   "outputs": [
    {
     "name": "stdout",
     "output_type": "stream",
     "text": [
      "[1, 0, 1, 0, 1, 0, 1, 0, 1, 0]\n"
     ]
    }
   ],
   "source": [
    "the_list = [1 if x % 2 == 0 else 0 for x in range(10)]\n",
    "\n",
    "print(the_list)"
   ]
  },
  {
   "cell_type": "markdown",
   "id": "acoustic-dietary",
   "metadata": {},
   "source": [
    "Compactness and elegance - these two words come to mind when looking at the code.\n",
    "\n",
    "So, what do they have in common, generators and list comprehensions? Is there any connection between them? Yes. A rather loose connection, but an unequivocal one.\n",
    "\n",
    "Just one change can `turn any list comprehension into a generator`.\n",
    "\n",
    "\n",
    "### List comprehensions vs. generators\n",
    "\n",
    "Now look at the code below and see if you can find the detail that turns a list comprehension into a generator:"
   ]
  },
  {
   "cell_type": "code",
   "execution_count": 3,
   "id": "indoor-desperate",
   "metadata": {},
   "outputs": [
    {
     "name": "stdout",
     "output_type": "stream",
     "text": [
      "1 0 1 0 1 0 1 0 1 0 \n",
      "1 0 1 0 1 0 1 0 1 0 \n"
     ]
    }
   ],
   "source": [
    "the_list = [1 if x % 2 == 0 else 0 for x in range(10)]\n",
    "the_generator = (1 if x % 2 == 0 else 0 for x in range(10))\n",
    "\n",
    "for v in the_list:\n",
    "    print(v, end=\" \")\n",
    "print()\n",
    "\n",
    "for v in the_generator:\n",
    "    print(v, end=\" \")\n",
    "print()"
   ]
  },
  {
   "cell_type": "markdown",
   "id": "cubic-burton",
   "metadata": {},
   "source": [
    "It's the `parentheses`. The brackets make a comprehension, the parentheses make a generator.\n",
    "\n",
    "The code, however, when run, produces two identical lines:\n",
    "```s\n",
    "1 0 1 0 1 0 1 0 1 0\n",
    "1 0 1 0 1 0 1 0 1 0\n",
    "```\n",
    "\n",
    "How can you know that the second assignment creates a generator, not a list?\n",
    "\n",
    "There is some proof we can show you. Apply the `len()` function to both these entities.\n",
    "\n",
    "`len(the_list)` will evaluate to `10`. Clear and predictable. `len(the_generator)` will raise an exception, and you will see the following message:\n",
    "```s\n",
    "TypeError: object of type 'generator' has no len()\n",
    "```\n",
    "\n",
    "Of course, saving either the list or the generator is not necessary - you can create them exactly in the place where you need them - just like here:\n",
    "```py\n",
    "for v in [1 if x % 2 == 0 else 0 for x in range(10)]:\n",
    "    print(v, end=\" \")\n",
    "print()\n",
    "\n",
    "for v in (1 if x % 2 == 0 else 0 for x in range(10)):\n",
    "    print(v, end=\" \")\n",
    "print()\n",
    "```\n",
    "\n",
    "Note: the same appearance of the output doesn't mean that both loops work in the same way. In the first loop, the list is created (and iterated through) as a whole - it actually exists when the loop is being executed.\n",
    "\n",
    "In the second loop, there is no list at all - there are only subsequent values produced by the generator, one by one.\n",
    "\n",
    "Carry out your own experiments."
   ]
  },
  {
   "cell_type": "markdown",
   "id": "civic-resolution",
   "metadata": {},
   "source": [
    "# The lambda function\n",
    "The `lambda` function is a concept borrowed from mathematics, more specifically, from a part called the Lambda calculus, but these two phenomena are not the same.\n",
    "\n",
    "Mathematicians use the Lambda calculus in many formal systems connected with logic, recursion, or theorem provability. Programmers use the `lambda` function to simplify the code, to make it clearer and easier to understand.\n",
    "\n",
    "A `lambda` function is a function without a name (you can also call it `an anonymous function`). Of course, such a statement immediately raises the question: how do you use anything that cannot be identified?\n",
    "\n",
    "Fortunately, it's not a problem, as you can name such a function if you really need, but, in fact, in many cases the `lambda` function can exist and work while remaining fully incognito.\n",
    "\n",
    "The declaration of the `lambda` function doesn't resemble a normal function declaration in any way - see for yourself:\n",
    "```\n",
    "lambda parameters: expression\n",
    "```\n",
    "\n",
    "Such a `clause returns the value of the expression when taking into account the current value of the current lambda argument`.\n",
    "\n",
    "As usual, an example will be helpful. Our example uses three `lambda` functions, but gives them names. Look at it carefully:"
   ]
  },
  {
   "cell_type": "code",
   "execution_count": 5,
   "id": "imported-grill",
   "metadata": {},
   "outputs": [
    {
     "name": "stdout",
     "output_type": "stream",
     "text": [
      "4 4\n",
      "1 1\n",
      "0 0\n",
      "1 1\n",
      "4 4\n"
     ]
    }
   ],
   "source": [
    "two = lambda: 2\n",
    "sqr = lambda x: x * x\n",
    "pwr = lambda x, y: x ** y\n",
    "\n",
    "for a in range(-2, 3):\n",
    "    print(sqr(a), end=\" \")\n",
    "    print(pwr(a, two()))\n"
   ]
  },
  {
   "cell_type": "markdown",
   "id": "neural-length",
   "metadata": {},
   "source": [
    "Let's analzye it:\n",
    "\n",
    "  - the first `lambda` is an anonymous `parameterless function` that always returns `2`. As we've `assigned it to a variable named two`, we can say that the function is not anonymous anymore, and we can use the name to invoke it.\n",
    "\n",
    "  - the second one is a `one-parameter anonymous function` that returns the value of its squared argument. We've named it as such, too.\n",
    "\n",
    "  - the third `lambda takes two parameters` and returns the value of the first one raised to the power of the second one. The name of the variable which carries the `lambda` speaks for itself. We don't use `pow` to avoid confusion with the built-in function of the same name and the same purpose.\n",
    "\n",
    "The program produces the following output:\n",
    "```s\n",
    "4 4\n",
    "1 1\n",
    "0 0\n",
    "1 1\n",
    "4 4\n",
    "```\n",
    "\n",
    "This example is clear enough to show how `lambda`s are declared and how they behave, but it says nothing about why they're necessary, and what they're used for, since they can all be replaced with routine Python functions.\n",
    "\n",
    "Where is the benefit?"
   ]
  },
  {
   "cell_type": "markdown",
   "id": "elect-blame",
   "metadata": {},
   "source": [
    "# How to use lambdas and what for?\n",
    "The most interesting part of using lambdas appears when you can use them in their pure form - `as anonymous parts of code intended to evaluate a result`.\n",
    "\n",
    "Imagine that we need a function (we'll name it `print_function`) which prints the values of a given (other) function for a set of selected arguments.\n",
    "\n",
    "We want `print_function` to be universal - it should accept a set of arguments put in a list and a function to be evaluated, both as arguments - we don't want to hardcode anything.\n",
    "\n",
    "Look at the example in the editor. This is how we've implemented the idea."
   ]
  },
  {
   "cell_type": "code",
   "execution_count": 6,
   "id": "painful-singles",
   "metadata": {},
   "outputs": [
    {
     "name": "stdout",
     "output_type": "stream",
     "text": [
      "f(-2)=18\n",
      "f(-1)=8\n",
      "f(0)=2\n",
      "f(1)=0\n",
      "f(2)=2\n"
     ]
    }
   ],
   "source": [
    "def print_function(args, fun):\n",
    "    for x in args:\n",
    "        print('f(', x,')=', fun(x), sep='')\n",
    "\n",
    "\n",
    "def poly(x):\n",
    "    return 2 * x**2 - 4 * x + 2\n",
    "\n",
    "\n",
    "print_function([x for x in range(-2, 3)], poly)"
   ]
  },
  {
   "cell_type": "markdown",
   "id": "unique-index",
   "metadata": {},
   "source": [
    "Let's analyze it. The `print_function()` function takes two parameters:\n",
    "\n",
    "  - the first, a list of arguments for which we want to print the results;\n",
    "  - the second, a function which should be invoked as many times as the number of values that are collected inside the first parameter.\n",
    "  \n",
    "Note: we've also defined a function named `poly()` - this is the function whose values we're going to print. The calculation the function performs isn't very sophisticated - it's the polynomial (hence its name) of a form:\n",
    "\n",
    "$f(x) = 2x^{2} - 4x + 2$\n",
    "\n",
    "The name of the function is then passed to the `print_function()` along with a set of five different arguments - the set is built with a list comprehension clause.\n",
    "\n",
    "The code prints the following lines:\n",
    "```s\n",
    "f(-2)=18\n",
    "f(-1)=8\n",
    "f(0)=2\n",
    "f(1)=0\n",
    "f(2)=2\n",
    "```\n",
    "\n",
    "Can we avoid defining the `poly()` function, as we're not going to use it more than once? Yes, we can - this is the benefit a lambda can bring.\n",
    "\n",
    "\n",
    "Look at the example below. Can you see the difference?"
   ]
  },
  {
   "cell_type": "code",
   "execution_count": 7,
   "id": "moral-vitamin",
   "metadata": {},
   "outputs": [
    {
     "name": "stdout",
     "output_type": "stream",
     "text": [
      "f(-2)=18\n",
      "f(-1)=8\n",
      "f(0)=2\n",
      "f(1)=0\n",
      "f(2)=2\n"
     ]
    }
   ],
   "source": [
    "def print_function(args, fun):\n",
    "    for x in args:\n",
    "        print('f(', x,')=', fun(x), sep='')\n",
    "\n",
    "print_function([x for x in range(-2, 3)], lambda x: 2 * x**2 - 4 * x + 2)"
   ]
  },
  {
   "cell_type": "markdown",
   "id": "ideal-postage",
   "metadata": {},
   "source": [
    "The `print_function()` has remained exactly the same, but there is no `poly()` function. We don't need it anymore, as the polynomial is now directly inside the `print_function()` invocation in the form of a lambda defined in the following way:\n",
    "```py\n",
    "lambda x: 2 * x**2 - 4 * x + 2\n",
    "```\n",
    "\n",
    "The code has become shorter, clearer, and more legible.\n",
    "\n",
    "Let us show you another place where lambdas can be useful. We'll start with a description of `map()`, a built-in Python function. Its name isn't too descriptive, its idea is simple, and the function itself is really usable."
   ]
  },
  {
   "cell_type": "code",
   "execution_count": null,
   "id": "conservative-perception",
   "metadata": {},
   "outputs": [],
   "source": []
  }
 ],
 "metadata": {
  "kernelspec": {
   "display_name": "Python 3",
   "language": "python",
   "name": "python3"
  },
  "language_info": {
   "codemirror_mode": {
    "name": "ipython",
    "version": 3
   },
   "file_extension": ".py",
   "mimetype": "text/x-python",
   "name": "python",
   "nbconvert_exporter": "python",
   "pygments_lexer": "ipython3",
   "version": "3.6.1"
  },
  "toc": {
   "base_numbering": 1,
   "nav_menu": {},
   "number_sections": false,
   "sideBar": false,
   "skip_h1_title": false,
   "title_cell": "Table of Contents",
   "title_sidebar": "Contents",
   "toc_cell": false,
   "toc_position": {},
   "toc_section_display": false,
   "toc_window_display": false
  }
 },
 "nbformat": 4,
 "nbformat_minor": 5
}
