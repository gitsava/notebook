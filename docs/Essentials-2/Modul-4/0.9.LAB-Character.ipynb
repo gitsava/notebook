{
 "cells": [
  {
   "cell_type": "markdown",
   "id": "computational-control",
   "metadata": {},
   "source": [
    "# LAB: Character frequency histogram\n",
    "## Estimated time\n",
    "30-60 minutes\n",
    "\n",
    "## Level of difficulty\n",
    "Medium\n",
    "\n",
    "## Objectives\n",
    "  - improving the student's skills in operating with files (reading)\n",
    "  - using data collections for counting numerous data.\n",
    "  \n",
    "## Scenario\n",
    "A text file contains some text (nothing unusual) but we need to know how often (or how rare) each letter appears in the text. Such an analysis may be useful in cryptography, so we want to be able to do that in reference to the Latin alphabet.\n",
    "\n",
    "Your task is to write a program which:\n",
    "\n",
    "  - asks the user for the input file's name;\n",
    "  - reads the file (if possible) and counts all the Latin letters (lower- and upper-case letters are treated as equal)\n",
    "  - prints a simple histogram in alphabetical order (only non-zero counts should be presented)\n",
    "  \n",
    "Create a test file for the code, and check if your histogram contains valid results.\n",
    "\n",
    "Assuming that the test file contains just one line filled with:\n",
    "```\n",
    "aBc\n",
    "```\n",
    "samplefile.txt\n",
    "\n",
    "the expected output should look as follows:\n",
    "```s\n",
    "a -> 1\n",
    "b -> 1\n",
    "c -> 1\n",
    "```\n",
    "\n",
    "`Tip:` We think that a dictionary is a perfect data collection medium for storing the counts. The letters may be keys while the counters can be values."
   ]
  },
  {
   "cell_type": "code",
   "execution_count": null,
   "id": "expired-allergy",
   "metadata": {},
   "outputs": [],
   "source": []
  }
 ],
 "metadata": {
  "kernelspec": {
   "display_name": "Python 3",
   "language": "python",
   "name": "python3"
  },
  "language_info": {
   "codemirror_mode": {
    "name": "ipython",
    "version": 3
   },
   "file_extension": ".py",
   "mimetype": "text/x-python",
   "name": "python",
   "nbconvert_exporter": "python",
   "pygments_lexer": "ipython3",
   "version": "3.6.1"
  },
  "toc": {
   "base_numbering": 1,
   "nav_menu": {},
   "number_sections": false,
   "sideBar": false,
   "skip_h1_title": false,
   "title_cell": "Table of Contents",
   "title_sidebar": "Contents",
   "toc_cell": false,
   "toc_position": {},
   "toc_section_display": false,
   "toc_window_display": false
  }
 },
 "nbformat": 4,
 "nbformat_minor": 5
}
