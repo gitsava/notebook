{
 "cells": [
  {
   "cell_type": "markdown",
   "metadata": {},
   "source": [
    "# Introduction to OOPs in Python\n",
    "\n",
    "source: https://www.programiz.com/python-programming/object-oriented-programming\n",
    "\n",
    "Python itu adalah sebuah bahasa pemrograman multi purpose dan multi paradigm, artinya python dapat men support berbagai pendekatan pemrograman.\n",
    "\n",
    "Salah satu pendekatan yang populer, adalah Object Oriented Programming, atau pemrograman berorientasi objek. Nah selama ini, kita sebetulnya menggunakan pendekatan pemrograman prosedural. Bagaimana perbedaan antara paradigma pemrograman prosedural dengan yang berbasis objek?\n",
    "\n",
    "Sebelumnya kita membahasa dulu apa itu objek. Jadi, objek itu memiliki dua karakteristik.\n",
    "\n",
    "1. attributes\n",
    "2. behavior\n",
    "\n",
    "Mari kita lihat contohnya:\n",
    "\n",
    "Parrot (burung beo) adalah sebuah objek,\n",
    "\n",
    "name, age, color (nama, usia, warna) adalah atributnya\n",
    "singing, dancing (menyanyi, menari) adalah behavior nya\n",
    "\n",
    "Konsep dari OOP dalam python ini berfokus dalam pembuatan kode yang reusable (dapat digunakan kembali). Konsep ini juga dikenal dengan DRY (Don't Repeat Yourself).\n",
    "\n",
    "Dalam python, konsep OOP memiliki beberapa prinsip dasar:\n",
    "\n",
    "| Sifat   | Deskripsi   |\n",
    "|---------------|---------------------------------------------------------------------------------|\n",
    "| Inheritance   | Proses dalam menggunakan atribut dan behaviour dari class yang telah ada sebelumnya.   |\n",
    "| Encapsulation | Menyembunyikan atribut dan behavior yang bersifat private dari kelas lainnya.                       |\n",
    "| Polymorphism  | Sebuah konsep untuk menggunakan operasi yang sama dengan cara yang berbeda pada kelas lain. |\n",
    "\n",
    "Konsep ini akan terlihat lebih mudah dalam prakteknya nanti"
   ]
  },
  {
   "cell_type": "markdown",
   "metadata": {},
   "source": [
    "# Class\n",
    "\n",
    "Class adalah sebuah blueprint untuk objek.\n",
    "\n",
    "Kalau kita berbicara mengenai parrot (burung beo), blueprint atau desainnya, parrot tersebut akan memiliki nama, warna, ukuran, dll. Parrot juga nantinya bisa singing dan dancing. Oleh karena itu kita bisa membuat parrot menjadi sebuah kelas.\n",
    "\n",
    "Untuk membuat kelas parrot yang sederhana kita bisa menuliskan kode berikut :\n",
    "\n",
    "```python\n",
    "class Parrot:\n",
    "```\n",
    "\n",
    "Kata kunci `class` diikuti dengan `Parrot` mendefinisikan blueprint dari class parrot. Blueprint ini nantinya akan di realisasikan dalam sebuah instance.\n"
   ]
  },
  {
   "cell_type": "markdown",
   "metadata": {},
   "source": [
    "# Object / Instance\n",
    "\n",
    "Sebuah objek (instance) adalah perwujudan dari sebuah class.\n",
    "\n",
    "Contoh dari membuat sebuah objek (instance) adalah sebagai berikut:\n",
    "```python\n",
    "papi = Parrot()\n",
    "```\n",
    "\n",
    "Disini, `papi` adalah perwujudan `Parrot`\n",
    "\n",
    "Sekarang coba kita lihat kode lengkap dari pembuatan objek dan class"
   ]
  },
  {
   "cell_type": "code",
   "execution_count": 1,
   "metadata": {},
   "outputs": [
    {
     "name": "stdout",
     "output_type": "stream",
     "text": [
      "Papi is a bird\n",
      "Greeny is also a bird\n",
      "Papi is 3 years old\n",
      "Greeny is 5 years old\n"
     ]
    }
   ],
   "source": [
    "class Parrot:\n",
    "\n",
    "    # class attribute\n",
    "    species = \"bird\"\n",
    "\n",
    "    # instance attribute\n",
    "    # constructor\n",
    "    def __init__(self, name, age):\n",
    "        self.name = name\n",
    "        self.age = age\n",
    "\n",
    "# # instantiate the Parrot class\n",
    "papi = Parrot(\"Papi\", 3)\n",
    "greeny = Parrot(\"Greeny\", 5)\n",
    "\n",
    "# access the class attributes\n",
    "print(\"Papi is a \" + papi.species)\n",
    "print(\"Greeny is also a \" + greeny.species)\n",
    "\n",
    "# access the instance attributes\n",
    "print(papi.name + \" is \" + str(papi.age) + \" years old\")\n",
    "print(greeny.name + \" is \" + str(greeny.age) + \" years old\")"
   ]
  },
  {
   "cell_type": "markdown",
   "metadata": {},
   "source": [
    "# Buatlah sebuah Objek bernama Siswa \n",
    "yang memiliki atribut:\n",
    "- nis\n",
    "- nama\n",
    "- alamat\n",
    "- daftar mata pelajaran diambil\n",
    "- daftar nilai dari mata pelajaran tersebut\n",
    "\n",
    "atribut ini di deklarasikan di konstruktor.\n",
    "\n",
    "Buatlah method untuk:\n",
    "- Menampilkan detail siswa (`tampilkan()`)\n",
    "- Mengisikan data ke `mapel` dan `n` dengan method `tambahNilai(mapel,n)` \n",
    "- Menampilkan mata_pelajaran dan nilainya dengan method `tampilkanNilai()`\n",
    "- Menampilkan rata-rata nilai dengan method `tampilkanRataNilai()`\n"
   ]
  },
  {
   "cell_type": "code",
   "execution_count": 56,
   "metadata": {},
   "outputs": [
    {
     "name": "stdout",
     "output_type": "stream",
     "text": [
      "====================\n",
      "12345 Ani Widayati Yogyakarta\n",
      "1 Matematika 98\n",
      "2 IPA 90\n",
      "3 Bahasa Inggris 70\n",
      "Rata-Rata Nilai 86.0\n",
      "====================\n",
      "====================\n",
      "56789 Budi Raharjo Sleman\n",
      "1 TIK 99\n",
      "Rata-Rata Nilai 99.0\n",
      "Jurusan TI\n",
      "Melaksanakan Kerja Industri\n",
      "====================\n"
     ]
    }
   ],
   "source": [
    "class Siswa:\n",
    "\n",
    "    def __init__(self,nis,nama,alamat):\n",
    "        self.nis = nis\n",
    "        self.nama = nama\n",
    "        self.alamat = alamat\n",
    "        self.__mata_pelajaran = []\n",
    "        self.__nilai = []\n",
    "        \n",
    "    def tampilkan(self):\n",
    "        print(\"=\"*20)\n",
    "        print(self.nis,self.nama,self.alamat)\n",
    "        self.tampilkanNilai()\n",
    "        self.tampilkanRataNilai()\n",
    "        print(\"=\"*20)\n",
    "        \n",
    "    def tambahNilai(self, mapel, n):\n",
    "        self.__mata_pelajaran.append(mapel)\n",
    "        self.__nilai.append(n)\n",
    "        \n",
    "    def tampilkanNilai(self):\n",
    "        for i,j in enumerate(self.__mata_pelajaran):\n",
    "            print(i+1,self.__mata_pelajaran[i],self.__nilai[i])\n",
    "    \n",
    "    def tampilkanRataNilai(self):\n",
    "        jumlah = 0\n",
    "        for n in self.__nilai:\n",
    "            jumlah += n\n",
    "        rata = jumlah / len(self.__nilai)\n",
    "        print(\"Rata-Rata Nilai\",rata)\n",
    "        \n",
    "\n",
    "class SiswaSMK(Siswa):\n",
    "    def __init__(self, nis, nama, alamat, jurusan):\n",
    "        self.jurusan = jurusan\n",
    "        super().__init__(nis, nama, alamat)\n",
    "        \n",
    "    def kerjaIndustri(self):\n",
    "        print(\"Melaksanakan Kerja Industri\")\n",
    "        \n",
    "    def tampilkan(self):\n",
    "        print(\"=\"*20)\n",
    "        print(self.nis,self.nama,self.alamat)\n",
    "        super().tampilkanNilai()\n",
    "        super().tampilkanRataNilai()\n",
    "        print(\"Jurusan\",self.jurusan)\n",
    "        self.kerjaIndustri()\n",
    "        print(\"=\"*20)\n",
    "    \n",
    "ani = Siswa(\"12345\", \"Ani Widayati\", \"Yogyakarta\")\n",
    "budi = SiswaSMK(\"56789\", \"Budi Raharjo\", \"Sleman\", \"TI\")\n",
    "\n",
    "ani.tambahNilai(\"Matematika\",98)\n",
    "ani.tambahNilai(\"IPA\",90)\n",
    "ani.tambahNilai(\"Bahasa Inggris\",70)\n",
    "\n",
    "budi.tambahNilai(\"TIK\",99)\n",
    "\n",
    "ani.tampilkan()\n",
    "budi.tampilkan()"
   ]
  },
  {
   "cell_type": "code",
   "execution_count": 44,
   "metadata": {},
   "outputs": [
    {
     "name": "stdout",
     "output_type": "stream",
     "text": [
      "<class '__main__.Vehicle'> <class '__main__.Vehicle'> True\r\n",
      "<class '__main__.Vehicle'> <class '__main__.LandVehicle'> False\r\n",
      "<class '__main__.Vehicle'> <class '__main__.TrackedVehicle'> False\r\n",
      "\n",
      "<class '__main__.LandVehicle'> <class '__main__.Vehicle'> True\r\n",
      "<class '__main__.LandVehicle'> <class '__main__.LandVehicle'> True\r\n",
      "<class '__main__.LandVehicle'> <class '__main__.TrackedVehicle'> False\r\n",
      "\n",
      "<class '__main__.TrackedVehicle'> <class '__main__.Vehicle'> True\r\n",
      "<class '__main__.TrackedVehicle'> <class '__main__.LandVehicle'> True\r\n",
      "<class '__main__.TrackedVehicle'> <class '__main__.TrackedVehicle'> True\r\n",
      "\n"
     ]
    }
   ],
   "source": [
    "class Vehicle:\n",
    "    pass\n",
    "\n",
    "class LandVehicle(Vehicle):\n",
    "    pass\n",
    "\n",
    "class TrackedVehicle(LandVehicle):\n",
    "    pass\n",
    "\n",
    "\n",
    "for cls1 in [Vehicle, LandVehicle, TrackedVehicle]:\n",
    "    for cls2 in [Vehicle, LandVehicle, TrackedVehicle]:\n",
    "        print(cls1,cls2,issubclass(cls1, cls2), end=\"\\r\\n\")\n",
    "    print()"
   ]
  },
  {
   "cell_type": "code",
   "execution_count": 58,
   "metadata": {},
   "outputs": [
    {
     "name": "stdout",
     "output_type": "stream",
     "text": [
      "Everything went fine\n",
      "It's time to say goodbye\n",
      "0.5\n",
      "==========\n",
      "Division failed\n",
      "It's time to say goodbye\n",
      "None\n"
     ]
    }
   ],
   "source": [
    "def reciprocal(n):\n",
    "    try:\n",
    "        n = 1 / n\n",
    "    except ZeroDivisionError:\n",
    "        print(\"Division failed\")\n",
    "        n = None\n",
    "    else:\n",
    "        print(\"Everything went fine\")\n",
    "    finally:\n",
    "        print(\"It's time to say goodbye\")\n",
    "        return n\n",
    "\n",
    "print(reciprocal(2))\n",
    "print(\"=\"*10)\n",
    "print(reciprocal(0))"
   ]
  },
  {
   "cell_type": "code",
   "execution_count": 59,
   "metadata": {},
   "outputs": [
    {
     "name": "stdout",
     "output_type": "stream",
     "text": [
      "invalid literal for int() with base 10: 'Hello!'\n",
      "invalid literal for int() with base 10: 'Hello!'\n"
     ]
    }
   ],
   "source": [
    "try:\n",
    "    i = int(\"Hello!\")\n",
    "except Exception as e:\n",
    "    print(e)\n",
    "    print(e.__str__())"
   ]
  },
  {
   "cell_type": "code",
   "execution_count": 45,
   "metadata": {},
   "outputs": [
    {
     "name": "stdout",
     "output_type": "stream",
     "text": [
      "False\n",
      "False\n",
      "True\n",
      "1 2 1\n",
      "True False\n"
     ]
    }
   ],
   "source": [
    "class SampleClass:\n",
    "    def __init__(self, val):\n",
    "        self.val = val\n",
    "\n",
    "ob1 = SampleClass(0)\n",
    "ob2 = SampleClass(2)\n",
    "ob3 = ob1\n",
    "ob3.val += 1\n",
    "\n",
    "print(ob1 is ob2)\n",
    "print(ob2 is ob3)\n",
    "print(ob3 is ob1)\n",
    "print(ob1.val, ob2.val, ob3.val)\n",
    "\n",
    "str1 = \"Mary had a little \"\n",
    "str2 = \"Mary had a little lamb\"\n",
    "str1 += \"lamb\"\n",
    "\n",
    "print(str1 == str2, str1 is str2)"
   ]
  },
  {
   "cell_type": "code",
   "execution_count": 60,
   "metadata": {},
   "outputs": [
    {
     "name": "stdout",
     "output_type": "stream",
     "text": [
      "__init__\n",
      "__iter__\n",
      "__next__\n",
      "1\n",
      "__next__\n",
      "1\n",
      "__next__\n",
      "2\n",
      "__next__\n",
      "3\n",
      "__next__\n",
      "5\n",
      "__next__\n",
      "8\n",
      "__next__\n",
      "13\n",
      "__next__\n",
      "21\n",
      "__next__\n",
      "34\n",
      "__next__\n",
      "55\n",
      "__next__\n"
     ]
    }
   ],
   "source": [
    "class Fib:\n",
    "    def __init__(self, nn):\n",
    "        print(\"__init__\")\n",
    "\t\tself.__n = nn\n",
    "\t\tself.__i = 0\n",
    "\t\tself.__p1 = self.__p2 = 1\n",
    "\n",
    "\tdef __iter__(self):\n",
    "\t\tprint(\"__iter__\")\t\t\n",
    "\t\treturn self\n",
    "\n",
    "\tdef __next__(self):\n",
    "\t\tprint(\"__next__\")\t\t\t\t\n",
    "\t\tself.__i += 1\n",
    "\t\tif self.__i > self.__n:\n",
    "\t\t\traise StopIteration\n",
    "\t\tif self.__i in [1, 2]:\n",
    "\t\t\treturn 1\n",
    "\t\tret = self.__p1 + self.__p2\n",
    "\t\tself.__p1, self.__p2 = self.__p2, ret\n",
    "\t\treturn ret\n",
    "\n",
    "for i in Fib(10):\n",
    "\tprint(i)"
   ]
  },
  {
   "cell_type": "code",
   "execution_count": 67,
   "metadata": {},
   "outputs": [],
   "source": [
    "import random\n",
    "\n",
    "f = open(\"G:/Daftar_Nilai_Random.txt\",\"w\")\n",
    "for i in range(100):\n",
    "    f.write(str(random.randint(0,100))+\" \")\n",
    "    \n",
    "f.close()\n",
    "\n"
   ]
  },
  {
   "cell_type": "code",
   "execution_count": 69,
   "metadata": {},
   "outputs": [
    {
     "name": "stdout",
     "output_type": "stream",
     "text": [
      "JAKARTA, KOMPAS.com — Sandiaga Salahuddin Uno ingin rehat sejenak dari aktivitas politik termasuk urusan kepartaian setelah Pemilihan Presiden (Pilpres) 2019. Sandiaga ingin fokus dalam upaya mendorong ekonomi kerakyatan melalui program OK OCE dan  Rumah Siap Kerja. Lalu, bagaimana perkembangan program OK OCE saat ini? Ketua Umum OK OCE Indonesia Iim Rusyamsi mengatakan, tercatat 100.000 pelaku usaha mikro kecil dan menengah (UMKM) tergabung dalam program OK OCE di Indonesia. Baca juga: Sandiaga: Jadi Wakil Presiden atau Tidak, OK OCE Tetap Berjalan... \"Total sekarang kurang lebih 100.000 (pelaku UMKM yang tergabung dalam program OK OCE) secara nasional. Untuk Pemprov DKI sekarang ini ada 40.000. Sementara pada 2018 tercatat 65.000 yang tergabung,\" kata Iim saat dihubungi Kompas.com, Kamis (4/7/2019). Untuk pelaku UMKM di wilayah DKI Jakarta, Iim menyebut program tersebut didukung oleh pemerintah daerah. Oleh karena itu, Pemprov DKI membantu memfasilitasi pembinaan pengembangan pelaku usaha. Sementara itu, program OK OCE dibantu para penggerak komunitas yang tersebar di seluruh daerah di Indonesia. Baca juga: Meski Kalah, Sandiaga Janji OK OCE Tetap Jalan di Seluruh Indonesia \"Penggerak komunitas ada di seluruh indonesia. Jadi, ada perwakilan di daerah-daerah tapi belum semasif di Jakarta. Fokusnya memang di Jakarta, tapi kami lagi dorong teman-teman di daerah untuk mengembangkan UMKM,\" ungkap Iim. Iim mengungkapkan, program OK OCE tetap berjalan dengan baik walaupun Sandiaga tidak menjabat sebagai wakil gubernur DKI Jakarta. Sandiaga tetap berkontribusi membangun Indonesia walaupun tidak memiliki jabatan dalam pemerintahan. \"Bapak Sandi kan pendiri dari gerakan program OK OCE ini. Beliau memang ingin berbakti membangun bangsa walaupun sudah tidak (menjabat) di pemerintahan. Kan masih banyak jalan membangun bangsa ini,\" ujar Iim. \n",
      "\n",
      "Artikel ini telah tayang di Kompas.com dengan judul \"Sandiaga Fokus Kembangkan OK OCE, Bagaimana Kabar Programnya Saat Ini?\", https://megapolitan.kompas.com/read/2019/07/04/11580611/sandiaga-fokus-kembangkan-ok-oce-bagaimana-kabar-programnya-saat-ini. \n",
      "Penulis : Rindi Nuris Velarosdela\n",
      "Editor : Jessi Carina\n"
     ]
    }
   ],
   "source": [
    "stream = open(\"G:/file_coba.txt\", \"rt\") \n",
    "print(stream.read()) "
   ]
  },
  {
   "cell_type": "code",
   "execution_count": 4,
   "metadata": {},
   "outputs": [
    {
     "name": "stdout",
     "output_type": "stream",
     "text": [
      "JAKARTA, KOMPAS.com — Sandiaga Salahuddin Uno ingin rehat sejenak dari aktivitas politik termasuk urusan kepartaian setelah Pemilihan Presiden (Pilpres) 2019. \n",
      "====================\n",
      "Sandiaga ingin fokus dalam upaya mendorong ekonomi kerakyatan melalui program OK OCE dan  Rumah Siap Kerja. \n",
      "====================\n",
      "Lalu, bagaimana perkembangan program OK OCE saat ini? Ketua Umum OK OCE Indonesia Iim Rusyamsi mengatakan, tercatat 100.000 pelaku usaha mikro kecil dan menengah (UMKM) tergabung dalam program OK OCE di Indonesia. \n",
      "====================\n",
      "Baca juga: Sandiaga: Jadi Wakil Presiden atau Tidak, OK OCE Tetap Berjalan... \"Total sekarang kurang lebih 100.000 (pelaku UMKM yang tergabung dalam program OK OCE) secara nasional. Untuk Pemprov DKI sekarang ini ada 40.000. \n",
      "====================\n",
      "Sementara pada 2018 tercatat 65.000 yang tergabung,\" kata Iim saat dihubungi Kompas.com, Kamis (4/7/2019). Untuk pelaku UMKM di wilayah DKI Jakarta, Iim menyebut program tersebut didukung oleh pemerintah daerah. \n",
      "====================\n",
      "Oleh karena itu, Pemprov DKI membantu memfasilitasi pembinaan pengembangan pelaku usaha. Sementara itu, program OK OCE dibantu para penggerak komunitas yang tersebar di seluruh daerah di Indonesia. \n",
      "====================\n",
      "Baca juga: Meski Kalah, Sandiaga Janji OK OCE Tetap Jalan di Seluruh Indonesia \"Penggerak komunitas ada di seluruh indonesia. Jadi, ada perwakilan di daerah-daerah tapi belum semasif di Jakarta. Fokusnya memang di Jakarta, tapi kami lagi dorong teman-teman di daerah untuk mengembangkan UMKM,\" ungkap Iim. \n",
      "====================\n",
      "Iim mengungkapkan, program OK OCE tetap berjalan dengan baik walaupun Sandiaga tidak menjabat sebagai wakil gubernur DKI Jakarta. \n",
      "====================\n",
      "Sandiaga tetap berkontribusi membangun Indonesia walaupun tidak memiliki jabatan dalam pemerintahan. \"Bapak Sandi kan pendiri dari gerakan program OK OCE ini. \n",
      "====================\n",
      "Beliau memang ingin berbakti membangun bangsa walaupun sudah tidak (menjabat) di pemerintahan. Kan masih banyak jalan membangun bangsa ini,\" ujar Iim. \n",
      "====================\n",
      "\n",
      "====================\n",
      "Artikel ini telah tayang di Kompas.com dengan judul \"Sandiaga Fokus Kembangkan OK OCE, Bagaimana Kabar Programnya Saat Ini?\", https://megapolitan.kompas.com/read/2019/07/04/11580611/sandiaga-fokus-kembangkan-ok-oce-bagaimana-kabar-programnya-saat-ini. \n",
      "====================\n",
      "Penulis : Rindi Nuris Velarosdela\n",
      "====================\n",
      "Editor : Jessi Carina====================\n",
      "\n",
      "\n",
      "Characters in file: 2181\n",
      "Lines in file:      14\n"
     ]
    }
   ],
   "source": [
    "from os import strerror\n",
    "\n",
    "try:\n",
    "    ccnt = lcnt = 0\n",
    "    s = open('G:/file_coba.txt', 'rt')\n",
    "    line = s.readline()\n",
    "    while line != '':\n",
    "        lcnt += 1\n",
    "        for ch in line:\n",
    "            print(ch, end='')\n",
    "            ccnt += 1\n",
    "        line = s.readline()\n",
    "        print(\"=\"*20)\n",
    "    s.close()\n",
    "    print(\"\\n\\nCharacters in file:\", ccnt)\n",
    "    print(\"Lines in file:     \", lcnt)\n",
    "except IOError as e:\n",
    "    print(\"I/O error occurred:\", strerr(e.errno))"
   ]
  },
  {
   "cell_type": "code",
   "execution_count": 6,
   "metadata": {},
   "outputs": [
    {
     "name": "stdout",
     "output_type": "stream",
     "text": [
      "JAKARTA, KOMPAS.com — Sandiaga Salahuddin Uno ingin rehat sejenak dari aktivitas politik termasuk urusan kepartaian setelah Pemilihan Presiden (Pilpres) 2019. \n",
      "\n",
      "====================\n",
      "Sandiaga ingin fokus dalam upaya mendorong ekonomi kerakyatan melalui program OK OCE dan  Rumah Siap Kerja. \n",
      "\n",
      "====================\n",
      "Lalu, bagaimana perkembangan program OK OCE saat ini? Ketua Umum OK OCE Indonesia Iim Rusyamsi mengatakan, tercatat 100.000 pelaku usaha mikro kecil dan menengah (UMKM) tergabung dalam program OK OCE di Indonesia. \n",
      "\n",
      "====================\n",
      "Baca juga: Sandiaga: Jadi Wakil Presiden atau Tidak, OK OCE Tetap Berjalan... \"Total sekarang kurang lebih 100.000 (pelaku UMKM yang tergabung dalam program OK OCE) secara nasional. Untuk Pemprov DKI sekarang ini ada 40.000. \n",
      "\n",
      "====================\n",
      "Sementara pada 2018 tercatat 65.000 yang tergabung,\" kata Iim saat dihubungi Kompas.com, Kamis (4/7/2019). Untuk pelaku UMKM di wilayah DKI Jakarta, Iim menyebut program tersebut didukung oleh pemerintah daerah. \n",
      "\n",
      "====================\n",
      "Oleh karena itu, Pemprov DKI membantu memfasilitasi pembinaan pengembangan pelaku usaha. Sementara itu, program OK OCE dibantu para penggerak komunitas yang tersebar di seluruh daerah di Indonesia. \n",
      "\n",
      "====================\n",
      "Baca juga: Meski Kalah, Sandiaga Janji OK OCE Tetap Jalan di Seluruh Indonesia \"Penggerak komunitas ada di seluruh indonesia. Jadi, ada perwakilan di daerah-daerah tapi belum semasif di Jakarta. Fokusnya memang di Jakarta, tapi kami lagi dorong teman-teman di daerah untuk mengembangkan UMKM,\" ungkap Iim. \n",
      "\n",
      "====================\n",
      "Iim mengungkapkan, program OK OCE tetap berjalan dengan baik walaupun Sandiaga tidak menjabat sebagai wakil gubernur DKI Jakarta. \n",
      "\n",
      "====================\n",
      "Sandiaga tetap berkontribusi membangun Indonesia walaupun tidak memiliki jabatan dalam pemerintahan. \"Bapak Sandi kan pendiri dari gerakan program OK OCE ini. \n",
      "\n",
      "====================\n",
      "Beliau memang ingin berbakti membangun bangsa walaupun sudah tidak (menjabat) di pemerintahan. Kan masih banyak jalan membangun bangsa ini,\" ujar Iim. \n",
      "\n",
      "====================\n",
      "\n",
      "\n",
      "====================\n",
      "Artikel ini telah tayang di Kompas.com dengan judul \"Sandiaga Fokus Kembangkan OK OCE, Bagaimana Kabar Programnya Saat Ini?\", https://megapolitan.kompas.com/read/2019/07/04/11580611/sandiaga-fokus-kembangkan-ok-oce-bagaimana-kabar-programnya-saat-ini. \n",
      "\n",
      "====================\n",
      "Penulis : Rindi Nuris Velarosdela\n",
      "\n",
      "====================\n",
      "Editor : Jessi Carina\n",
      "====================\n"
     ]
    }
   ],
   "source": [
    "for baris in open('G:/file_coba.txt','rt'):\n",
    "    print(baris)\n",
    "    print(\"=\"*20)"
   ]
  },
  {
   "cell_type": "code",
   "execution_count": 5,
   "metadata": {},
   "outputs": [
    {
     "name": "stdout",
     "output_type": "stream",
     "text": [
      "Baju dan Celana\n",
      "IPA / IPS / Bahasa\n",
      "Baju dan Celana\n",
      "TI / Kelistrikan\n"
     ]
    }
   ],
   "source": [
    "class Siswa:\n",
    "    seragam = \"Baju dan Celana\"\n",
    "    \n",
    "class SiswaSMA(Siswa):\n",
    "    jurusan = \"IPA / IPS / Bahasa\"\n",
    "    \n",
    "class SiswaSMK(Siswa):\n",
    "    jurusan = \"TI / Kelistrikan\"\n",
    "    \n",
    "ani = SiswaSMA()\n",
    "print(ani.seragam)\n",
    "print(ani.jurusan) \n",
    "\n",
    "budi = SiswaSMK()\n",
    "print(budi.seragam)\n",
    "print(budi.jurusan)\n"
   ]
  },
  {
   "cell_type": "markdown",
   "metadata": {},
   "source": [
    "Dalam program diatas, kita baru saja membuat class dengan nama `Parrot`. Kemudian, kita mendifinisikan atribut dari parrot yaitu `name` dan `age`. Atribut merupakan karakteristik dari objek.\n",
    "\n",
    "Kemudian, kita membuat instance, atau realisasi, atau perwujudan dari class `Parrot`. Disini `papi` dan `greeny` adalah instance-nya.\n",
    "\n",
    "Kemudian, kita dapat mengakses atributnya melalui instance dengan diikuti tanda `.`"
   ]
  },
  {
   "cell_type": "markdown",
   "metadata": {},
   "source": [
    "# Methods\n",
    "\n",
    "Methods adalah function yang didefinisikan dalam sebuah class. Function ini seharusnya mendefinisikan behavior dari objeknya."
   ]
  },
  {
   "cell_type": "code",
   "execution_count": 52,
   "metadata": {},
   "outputs": [
    {
     "name": "stdout",
     "output_type": "stream",
     "text": [
      "Papi sings 'Happy'\n",
      "Papi is now dancing\n"
     ]
    }
   ],
   "source": [
    "class Parrot:\n",
    "    \n",
    "    # instance attributes\n",
    "    def __init__(self, name, age):\n",
    "        self.name = name\n",
    "        self.age = age\n",
    "    \n",
    "    # instance method\n",
    "    def sing(self, song):\n",
    "        return \"{} sings {}\".format(self.name, song)\n",
    "\n",
    "    def dance(self):\n",
    "        return \"{} is now dancing\".format(self.name)\n",
    "\n",
    "# instantiate the object\n",
    "papi = Parrot(\"Papi\", 10)\n",
    "\n",
    "# call our instance methods\n",
    "print(papi.sing(\"'Happy'\"))\n",
    "print(papi.dance())"
   ]
  },
  {
   "cell_type": "markdown",
   "metadata": {},
   "source": [
    "Dalam program diatas, kita mendefinisikan dua method yaitu `sing` dan `dance`. Mereka adalah `instance method` yang dipanggil pada instance objek yaitu `papi`."
   ]
  },
  {
   "cell_type": "markdown",
   "metadata": {},
   "source": [
    "# Inheritance / Pewarisan\n",
    "\n",
    "Inheritance adalah sebuah cara untuk membuat class baru dengan menggunakan detail dari kelas lainnya. Kelas yang baru ini akan mewariskan atribut serta method yang sudah didefinisikan dari class utamanya. Kelas yang baru ini sering disebut dengan `child class` dan kelas yang digunakan detailnya sering disebut sebagai `parent class`.\n",
    "\n"
   ]
  },
  {
   "cell_type": "code",
   "execution_count": 60,
   "metadata": {},
   "outputs": [
    {
     "name": "stdout",
     "output_type": "stream",
     "text": [
      "Bird is ready\n",
      "Penguin is ready\n",
      "Penguin\n",
      "Swim faster\n",
      "Run faster\n"
     ]
    }
   ],
   "source": [
    "# parent class\n",
    "class Bird:\n",
    "    \n",
    "    def __init__(self):\n",
    "        print(\"Bird is ready\")\n",
    "\n",
    "    def whoisThis(self):\n",
    "        print(\"Bird\")\n",
    "\n",
    "    def swim(self):\n",
    "        print(\"Swim faster\")\n",
    "\n",
    "# child class\n",
    "class Penguin(Bird):\n",
    "\n",
    "    def __init__(self):\n",
    "        # call super() function\n",
    "        super().__init__()\n",
    "        print(\"Penguin is ready\")\n",
    "\n",
    "    def whoisThis(self):\n",
    "        print(\"Penguin\")\n",
    "\n",
    "    def run(self):\n",
    "        print(\"Run faster\")\n",
    "\n",
    "peggy = Penguin()\n",
    "peggy.whoisThis()\n",
    "peggy.swim()\n",
    "peggy.run()"
   ]
  },
  {
   "cell_type": "markdown",
   "metadata": {},
   "source": [
    "Hal penting yang dapat diperhatikan:\n",
    "- Bird adalah parent class dari Penguin dengan sintaks `Penguin(Bird)`. Relasi pewarisan ini harus di validasi dengan hubungan \"is a\". Contohnya Penguin is a Bird merupakan valid karena Penguin adalah termasuk Bird.\n",
    "- `super().__init__()` memanggil konstruktor dari kelas parent nya\n",
    "- method `whoisThis()` yang ditulis ulang di `Penguin` akan menimpa atau override method yang sudah ada di parent class (`Bird`).\n",
    "- method swim dapat dipanggil oleh instance dari `Penguin` karena `Penguin` sudah mewarisi seluruh method yang ada pada kelas `Bird`."
   ]
  },
  {
   "cell_type": "markdown",
   "metadata": {},
   "source": [
    "# Encapsulation\n",
    "\n",
    "Kita dapat membatasi akses atribut dan method dalam sebuah kelas dengan memanfaatkan sifat private yang di definisikan dengan garis bawah atau underscore single `_` atau double `__`\n"
   ]
  },
  {
   "cell_type": "code",
   "execution_count": 83,
   "metadata": {},
   "outputs": [
    {
     "name": "stdout",
     "output_type": "stream",
     "text": [
      "Saldo saat ini 1000\n",
      "Gagal Debit, Jumlah melebihi Saldo!\n"
     ]
    }
   ],
   "source": [
    "class Rekening:\n",
    "    def __init__(self):\n",
    "        self.__saldo = 0\n",
    "        \n",
    "    def kredit(self, jumlah):\n",
    "        if jumlah < 0:\n",
    "            print(\"Gagal Kredit, Jumlah tidak bisa kurang dari 0\")\n",
    "            return\n",
    "        \n",
    "        self.__saldo += jumlah\n",
    "        \n",
    "    def debit(self, jumlah):\n",
    "        if jumlah > self.__saldo:\n",
    "            print(\"Gagal Debit, Jumlah melebihi Saldo!\")\n",
    "            return\n",
    "        \n",
    "        if jumlah < 0:\n",
    "            print(\"Gagal Debit, Jumlah tidak bisa kurang dari 0\")\n",
    "            return\n",
    "        \n",
    "        self.__saldo -= jumlah\n",
    "        \n",
    "    def cetakSaldo(self):\n",
    "        print(\"Saldo saat ini \" + str(self.__saldo))\n",
    "\n",
    "bniBudi = Rekening()\n",
    "bniBudi.kredit(1000)\n",
    "bniBudi.cetakSaldo()\n",
    "bniBudi.debit(100000)\n"
   ]
  },
  {
   "cell_type": "markdown",
   "metadata": {},
   "source": [
    "Pada program diatas, atribut `saldo` bersifat private karena kita memberikan underscore `__saldo`. Oleh karena itu, kita tidak bisa meruba nya secara langsung seperti dengan sintaks `c.__saldo = 1000`. Pada umumnya, atribut private ini dapat kita rubah dengan melewatkan pada sebuah method yang publik. Dalam hal ini method tersebut adalah `kredit()` dan `debit()`."
   ]
  },
  {
   "cell_type": "markdown",
   "metadata": {},
   "source": [
    "# CONTOH DARI NETACAD"
   ]
  },
  {
   "cell_type": "markdown",
   "metadata": {},
   "source": [
    "<img src=\"images/stack.PNG\" width=200 />\n",
    "\n",
    "Lihat kode dengan paradigma prosedural berikut:"
   ]
  },
  {
   "cell_type": "code",
   "execution_count": 85,
   "metadata": {},
   "outputs": [
    {
     "name": "stdout",
     "output_type": "stream",
     "text": [
      "1\n",
      "2\n",
      "3\n"
     ]
    }
   ],
   "source": [
    "stack = []\n",
    "\n",
    "def push(val):\n",
    "    stack.append(val)\n",
    "\n",
    "\n",
    "def pop():\n",
    "    val = stack[-1]\n",
    "    del stack[-1]\n",
    "    return val\n",
    "\n",
    "push(3)\n",
    "push(2)\n",
    "push(1)\n",
    "\n",
    "print(pop())\n",
    "print(pop())\n",
    "print(pop())"
   ]
  },
  {
   "cell_type": "markdown",
   "metadata": {},
   "source": [
    "### Pertama buat atributnya"
   ]
  },
  {
   "cell_type": "code",
   "execution_count": null,
   "metadata": {},
   "outputs": [],
   "source": [
    "class Stack:\n",
    "    def __init__(self):\n",
    "        self.stackList = []\n",
    "\n",
    "stackObject = Stack()\n",
    "print(len(stackObject.stackList))"
   ]
  },
  {
   "cell_type": "markdown",
   "metadata": {},
   "source": [
    "### Kemudian ubah atributnya menjadi private"
   ]
  },
  {
   "cell_type": "code",
   "execution_count": null,
   "metadata": {},
   "outputs": [],
   "source": [
    "class Stack:\n",
    "    def __init__(self):\n",
    "        self.__stackList = [] # __ membuat private\n",
    "\n",
    "stackObject = Stack()\n",
    "print(len(stackObject.__stackList))"
   ]
  },
  {
   "cell_type": "markdown",
   "metadata": {},
   "source": [
    "### Tambahkan method push dan pop nya"
   ]
  },
  {
   "cell_type": "code",
   "execution_count": null,
   "metadata": {},
   "outputs": [],
   "source": [
    "class Stack:\n",
    "    def __init__(self):\n",
    "        self.__stackList = []\n",
    "\n",
    "    def push(self, val):\n",
    "        self.__stackList.append(val)\n",
    "\n",
    "    def pop(self):\n",
    "        val = self.__stackList[-1]\n",
    "        del self.__stackList[-1]\n",
    "        return val\n",
    "\n",
    "\n",
    "stackObject = Stack()\n",
    "\n",
    "stackObject.push(3)\n",
    "stackObject.push(2)\n",
    "stackObject.push(1)\n",
    "\n",
    "print(stackObject.pop())\n",
    "print(stackObject.pop())\n",
    "print(stackObject.pop())"
   ]
  },
  {
   "cell_type": "markdown",
   "metadata": {},
   "source": [
    "### Contoh dengan beberapa Instance"
   ]
  },
  {
   "cell_type": "code",
   "execution_count": null,
   "metadata": {},
   "outputs": [],
   "source": [
    "class Stack:\n",
    "    def __init__(self):\n",
    "        self.__stackList = []\n",
    "\n",
    "    def push(self, val):\n",
    "        self.__stackList.append(val)\n",
    "\n",
    "    def pop(self):\n",
    "        val = self.__stackList[-1]\n",
    "        del self.__stackList[-1]\n",
    "        return val\n",
    "\n",
    "littleStack = Stack()\n",
    "anotherStack = Stack()\n",
    "funnyStack = Stack()\n",
    "\n",
    "littleStack.push(1)\n",
    "anotherStack.push(littleStack.pop() + 1)\n",
    "funnyStack.push(anotherStack.pop() - 2)\n",
    "\n",
    "print(funnyStack.pop())"
   ]
  },
  {
   "cell_type": "markdown",
   "metadata": {},
   "source": [
    "### Inheritance"
   ]
  },
  {
   "cell_type": "code",
   "execution_count": 87,
   "metadata": {},
   "outputs": [
    {
     "name": "stdout",
     "output_type": "stream",
     "text": [
      "10\n",
      "4\n",
      "3\n",
      "2\n",
      "1\n",
      "0\n"
     ]
    }
   ],
   "source": [
    "class Stack:\n",
    "    def __init__(self):\n",
    "        self.__stackList = []\n",
    "\n",
    "    def push(self, val):\n",
    "        self.__stackList.append(val)\n",
    "\n",
    "    def pop(self):\n",
    "        val = self.__stackList[-1]\n",
    "        del self.__stackList[-1]\n",
    "        return val\n",
    "\n",
    "\n",
    "class AddingStack(Stack):\n",
    "    def __init__(self):\n",
    "        Stack.__init__(self)\n",
    "        self.__sum = 0\n",
    "\n",
    "    def getSum(self):\n",
    "        return self.__sum\n",
    "\n",
    "    def push(self, val):\n",
    "        self.__sum += val\n",
    "        Stack.push(self, val)\n",
    "\n",
    "    def pop(self):\n",
    "        val = Stack.pop(self)\n",
    "        self.__sum -= val\n",
    "        return val\n",
    "\n",
    "\n",
    "stackObject = AddingStack()\n",
    "\n",
    "for i in range(5):\n",
    "    stackObject.push(i)\n",
    "print(stackObject.getSum())\n",
    "\n",
    "for i in range(5):\n",
    "    print(stackObject.pop())"
   ]
  },
  {
   "cell_type": "code",
   "execution_count": 11,
   "metadata": {},
   "outputs": [
    {
     "name": "stdout",
     "output_type": "stream",
     "text": [
      "Guntur\n",
      "Guntur\n",
      "Matematika 90\n",
      "Biologi 80\n"
     ]
    }
   ],
   "source": [
    "class Siswa:\n",
    "    #class atribut\n",
    "    __jmlMapel = 0\n",
    "    __mapel = []\n",
    "    __nilai = []\n",
    "\n",
    "    def __init__(self, nama, alamat):\n",
    "        self.nama = nama\n",
    "        self.alamat = alamat\n",
    "        \n",
    "    def getNama(self):\n",
    "        return self.nama\n",
    "    \n",
    "    def tambahNilaiMapel(self,mapel,nilai):\n",
    "        self.__mapel.append(mapel)\n",
    "        self.__nilai.append(nilai)\n",
    "        \n",
    "    def cetakNilai(self):\n",
    "        for i,j in enumerate(self.__mapel):\n",
    "            print(self.__mapel[i], self.__nilai[i])\n",
    "    \n",
    "    \n",
    "s = Siswa(\"Guntur\",\"Jogja\")\n",
    "print(s.nama) # boleh karena publik\n",
    "print(s.getNama()) # bisa juga\n",
    "s.tambahNilaiMapel(\"Matematika\",90)\n",
    "s.tambahNilaiMapel(\"Biologi\",80)\n",
    "\n",
    "s.cetakNilai() # akses nilai hanya lewat sini\n",
    "\n",
    "# print(s.nilai) # ga boleh karena private\n",
    "# print(s.__nilai) # ga boleh karena private"
   ]
  },
  {
   "cell_type": "markdown",
   "metadata": {},
   "source": [
    "# Exception Once Again\n",
    "\n"
   ]
  },
  {
   "cell_type": "markdown",
   "metadata": {},
   "source": [
    "### Else"
   ]
  },
  {
   "cell_type": "code",
   "execution_count": 38,
   "metadata": {},
   "outputs": [
    {
     "name": "stdout",
     "output_type": "stream",
     "text": [
      "Everything went fine\n",
      "0.5\n",
      "Division failed\n",
      "None\n"
     ]
    }
   ],
   "source": [
    "def reciprocal(n):\n",
    "    try:\n",
    "        n = 1 / n\n",
    "    except ZeroDivisionError:\n",
    "        print(\"Division failed\")\n",
    "        return None\n",
    "    else:\n",
    "        print(\"Everything went fine\")\n",
    "        return n\n",
    "\n",
    "print(reciprocal(2))\n",
    "print(reciprocal(0))"
   ]
  },
  {
   "cell_type": "markdown",
   "metadata": {},
   "source": [
    "### Finally"
   ]
  },
  {
   "cell_type": "code",
   "execution_count": 39,
   "metadata": {},
   "outputs": [
    {
     "name": "stdout",
     "output_type": "stream",
     "text": [
      "Everything went fine\n",
      "It's time to say goodbye\n",
      "0.5\n",
      "Division failed\n",
      "It's time to say goodbye\n",
      "None\n"
     ]
    }
   ],
   "source": [
    "def reciprocal(n):\n",
    "    try:\n",
    "        n = 1 / n\n",
    "    except ZeroDivisionError:\n",
    "        print(\"Division failed\")\n",
    "        n = None\n",
    "    else:\n",
    "        print(\"Everything went fine\")\n",
    "    finally:\n",
    "        print(\"It's time to say goodbye\")\n",
    "        return n\n",
    "\n",
    "print(reciprocal(2))\n",
    "print(reciprocal(0))"
   ]
  },
  {
   "cell_type": "markdown",
   "metadata": {},
   "source": [
    "### Any Class Exception"
   ]
  },
  {
   "cell_type": "code",
   "execution_count": 40,
   "metadata": {},
   "outputs": [
    {
     "name": "stdout",
     "output_type": "stream",
     "text": [
      "invalid literal for int() with base 10: 'Hello!'\n",
      "invalid literal for int() with base 10: 'Hello!'\n"
     ]
    }
   ],
   "source": [
    "try:\n",
    "    i = int(\"Hello!\")\n",
    "except Exception as e:\n",
    "    print(e)\n",
    "    print(e.__str__())"
   ]
  },
  {
   "cell_type": "markdown",
   "metadata": {},
   "source": [
    "# Generators"
   ]
  },
  {
   "cell_type": "code",
   "execution_count": 1,
   "metadata": {},
   "outputs": [
    {
     "name": "stdout",
     "output_type": "stream",
     "text": [
      "__init__\n",
      "__iter__\n",
      "__next__\n",
      "1\n",
      "__next__\n",
      "1\n",
      "__next__\n",
      "2\n",
      "__next__\n",
      "3\n",
      "__next__\n",
      "5\n",
      "__next__\n",
      "8\n",
      "__next__\n",
      "13\n",
      "__next__\n",
      "21\n",
      "__next__\n",
      "34\n",
      "__next__\n",
      "55\n",
      "__next__\n"
     ]
    }
   ],
   "source": [
    "class Fib:\n",
    "\tdef __init__(self, nn):\n",
    "\t\tprint(\"__init__\")\n",
    "\t\tself.__n = nn\n",
    "\t\tself.__i = 0\n",
    "\t\tself.__p1 = self.__p2 = 1\n",
    "\n",
    "\tdef __iter__(self):\n",
    "\t\tprint(\"__iter__\")\t\t\n",
    "\t\treturn self\n",
    "\n",
    "\tdef __next__(self):\n",
    "\t\tprint(\"__next__\")\t\t\t\t\n",
    "\t\tself.__i += 1\n",
    "\t\tif self.__i > self.__n:\n",
    "\t\t\traise StopIteration\n",
    "\t\tif self.__i in [1, 2]:\n",
    "\t\t\treturn 1\n",
    "\t\tret = self.__p1 + self.__p2\n",
    "\t\tself.__p1, self.__p2 = self.__p2, ret\n",
    "\t\treturn ret\n",
    "\n",
    "for i in Fib(10):\n",
    "\tprint(i)"
   ]
  },
  {
   "cell_type": "code",
   "execution_count": 2,
   "metadata": {},
   "outputs": [
    {
     "name": "stdout",
     "output_type": "stream",
     "text": [
      "1\n",
      "2\n",
      "4\n",
      "8\n",
      "16\n",
      "32\n",
      "64\n",
      "128\n"
     ]
    }
   ],
   "source": [
    "def powersOf2(n):\n",
    "    pow = 1\n",
    "    for i in range(n):\n",
    "        yield pow\n",
    "        pow *= 2\n",
    "\n",
    "for v in powersOf2(8):\n",
    "    print(v)"
   ]
  },
  {
   "cell_type": "markdown",
   "metadata": {},
   "source": [
    "# Processing Files"
   ]
  },
  {
   "cell_type": "code",
   "execution_count": 3,
   "metadata": {},
   "outputs": [
    {
     "name": "stdout",
     "output_type": "stream",
     "text": [
      "Hello this is a text file\n"
     ]
    }
   ],
   "source": [
    "stream = open(\"tzop.txt\", \"rt\", encoding = \"utf-8\") # opening tzop.txt in read mode, returning it as a file object\n",
    "print(stream.read()) # printing the content of the file"
   ]
  },
  {
   "cell_type": "code",
   "execution_count": null,
   "metadata": {},
   "outputs": [],
   "source": [
    "from os import strerror\n",
    "\n",
    "try:\n",
    "    cnt = 0\n",
    "    s = open('tzop.txt', \"rt\")\n",
    "    ch = s.read(1)\n",
    "    while ch != '':\n",
    "        print(ch, end='')\n",
    "        cnt += 1\n",
    "        ch = s.read(1)\n",
    "    s.close()\n",
    "    print(\"\\n\\nCharacters in file:\", cnt)\n",
    "except IOError as e:\n",
    "    print(\"I/O error occurred: \", strerr(e.errno))"
   ]
  },
  {
   "cell_type": "code",
   "execution_count": null,
   "metadata": {},
   "outputs": [],
   "source": [
    "from os import strerror\n",
    "\n",
    "try:\n",
    "    ccnt = lcnt = 0\n",
    "    s = open('bangun_tidur.txt', 'rt')\n",
    "    line = s.readline()\n",
    "    while line != '':\n",
    "        lcnt += 1\n",
    "        for ch in line:\n",
    "            print(ch, end='')\n",
    "            ccnt += 1\n",
    "        line = s.readline()\n",
    "    s.close()\n",
    "    print(\"\\n\\nCharacters in file:\", ccnt)\n",
    "    print(\"Lines in file:     \", lcnt)\n",
    "except IOError as e:\n",
    "    print(\"I/O error occurred:\", strerr(e.errno))"
   ]
  },
  {
   "cell_type": "code",
   "execution_count": null,
   "metadata": {},
   "outputs": [],
   "source": [
    "from os import strerror\n",
    "\n",
    "try:\n",
    "    ccnt = lcnt = 0\n",
    "    s = open('bangun_tidur.txt', 'rt')\n",
    "    lines = s.readlines(20)\n",
    "    while len(lines) != 0:\n",
    "        for line in lines:\n",
    "            lcnt += 1\n",
    "            for ch in line:\n",
    "                print(ch, end='')\n",
    "                ccnt += 1\n",
    "        lines = s.readlines(10)\n",
    "    s.close()\n",
    "    print(\"\\n\\nCharacters in file:\", ccnt)\n",
    "    print(\"Lines in file:     \", lcnt)\n",
    "except IOError as e:\n",
    "    print(\"I/O error occurred:\", strerr(e.errno))"
   ]
  },
  {
   "cell_type": "markdown",
   "metadata": {},
   "source": [
    "Standar jam kerja karyawan per minggu adalah 40 jam. Jika karyawan tersebut bekerja lebih dari 40 jam maka dia akan dikenakan biaya lembur per jamnya. Buat program untuk menginputkan gaji pokok karyawan per bulan, dan lama kerja karyawan dalam satu bulan. Outputkan gaji total yang dia terima.\n",
    "Asumsi : \n",
    "- 1 bulan = 4 minggu\n",
    "- Biaya lembur per jam = 2.5% dari Gaji Pokok.\n"
   ]
  },
  {
   "cell_type": "code",
   "execution_count": 9,
   "metadata": {},
   "outputs": [
    {
     "name": "stdout",
     "output_type": "stream",
     "text": [
      "Masukkan Gaji Pokok = 2000000\n",
      "Masukkan Jam kerja = 2\n",
      "Gaji yang diterima  2000000\n"
     ]
    }
   ],
   "source": [
    "gaji_pokok = int(input(\"Masukkan Gaji Pokok = \"))\n",
    "jam_kerja = int(input(\"Masukkan Jam kerja = \"))\n",
    "biaya_lembur = 0.025 * gaji_pokok\n",
    "\n",
    "jam_standar = 160\n",
    "\n",
    "if jam_kerja>jam_standar:\n",
    "    tambahan_gaji = biaya_lembur * (jam_kerja - jam_standar)\n",
    "    print(\"Gaji yang diterima \",gaji_pokok+tambahan_gaji)\n",
    "else:\n",
    "    print(\"Gaji yang diterima \",gaji_pokok)\n"
   ]
  },
  {
   "cell_type": "markdown",
   "metadata": {},
   "source": [
    "Buatlah sebuah program yang meminta user untuk menginput nilai, kemudian keluarkan nilainya jika mendapat >80 maka lulus 60 - 80 maka mengulang, selain itu tidak lulus"
   ]
  },
  {
   "cell_type": "code",
   "execution_count": 10,
   "metadata": {},
   "outputs": [
    {
     "name": "stdout",
     "output_type": "stream",
     "text": [
      "Masukkan Nilai = 90\n",
      "Lulus\n"
     ]
    }
   ],
   "source": [
    "nilai = int(input(\"Masukkan Nilai = \"))\n",
    "\n",
    "if nilai>80:\n",
    "    print(\"Lulus\")\n",
    "elif nilai >= 60:\n",
    "    print(\"Mengulang\")\n",
    "else:\n",
    "    print(\"Tidak Lulus\")"
   ]
  },
  {
   "cell_type": "code",
   "execution_count": 17,
   "metadata": {},
   "outputs": [
    {
     "name": "stdout",
     "output_type": "stream",
     "text": [
      "4 10 22 46 94 190 "
     ]
    }
   ],
   "source": [
    "i = 4\n",
    "while i<200:\n",
    "    print(i, end=\" \")\n",
    "    i = i*2 + 2\n",
    "    \n"
   ]
  },
  {
   "cell_type": "code",
   "execution_count": 24,
   "metadata": {},
   "outputs": [
    {
     "name": "stdout",
     "output_type": "stream",
     "text": [
      "Masukkan Angka Hari = 5\n",
      "Jum'at\n"
     ]
    }
   ],
   "source": [
    "hari = ['Minggu','Senin','Selasa','Rabu','Kamis','Jum\\'at','Sabtu']\n",
    "angka = int(input(\"Masukkan Angka Hari = \"))\n",
    "\n",
    "try:\n",
    "    print(hari[angka])\n",
    "except:\n",
    "    print(\"Tidak ada hari tersebut\")"
   ]
  },
  {
   "cell_type": "code",
   "execution_count": 36,
   "metadata": {},
   "outputs": [
    {
     "name": "stdout",
     "output_type": "stream",
     "text": [
      "Masukkan Kata = digital\n",
      "Kata dibalik =  ['l', 'a', 't', 'i', 'g', 'i', 'd']\n"
     ]
    }
   ],
   "source": [
    "kata = input(\"Masukkan Kata = \")\n",
    "kata = ''.join([k for k in reversed(kata)])\n",
    "print(\"Kata dibalik = \",kata)"
   ]
  },
  {
   "cell_type": "markdown",
   "metadata": {},
   "source": [
    "## Latihan OOP\n",
    "![Circle Class](https://www.ntu.edu.sg/home/ehchua/programming/java/images/OOP_Circle.png)\n",
    "\n"
   ]
  },
  {
   "cell_type": "code",
   "execution_count": 2,
   "metadata": {},
   "outputs": [
    {
     "name": "stdout",
     "output_type": "stream",
     "text": [
      "12.566370614359172\n",
      "12.566370614359172\n",
      "3.141592653589793\n"
     ]
    }
   ],
   "source": [
    "import math\n",
    "class Circle:\n",
    "    def __init__(self, radius, color):\n",
    "        self.__radius = radius\n",
    "        self.__color = color\n",
    "        \n",
    "    def getRadius(self):\n",
    "        return self.__radius\n",
    "    \n",
    "    def setRadius(self,radius):\n",
    "        self.__radius = radius\n",
    "    \n",
    "    def getColor(self):\n",
    "        return self.__color\n",
    "    \n",
    "    def setColor(self,color):\n",
    "        self.__color = color\n",
    "    \n",
    "    def getArea(self):\n",
    "        return math.pi * self.__radius ** 2\n",
    "    \n",
    "\n",
    "# radius = 2, color = blue\n",
    "c1 = Circle(2,\"blue\")\n",
    "# c1.setRadius(2)\n",
    "# c1.setColor(\"blue\")\n",
    "print(c1.getArea())\n",
    "\n",
    "# radius = 2, color = red\n",
    "c2 = Circle(2,\"red\")\n",
    "# c2.setRadius(2)\n",
    "# c2.setColor(\"red\")\n",
    "print(c2.getArea())\n",
    "\n",
    "# radius = 1, color = red\n",
    "c3 = Circle(1,\"red\")\n",
    "# c3.setRadius(1)\n",
    "# c3.setColor(\"red\")\n",
    "print(c3.getArea())"
   ]
  },
  {
   "cell_type": "markdown",
   "metadata": {},
   "source": [
    "![Student Class](https://www.ntu.edu.sg/home/ehchua/programming/java/images/ClassDiagram_Student.png)"
   ]
  },
  {
   "cell_type": "code",
   "execution_count": 2,
   "metadata": {},
   "outputs": [
    {
     "name": "stdout",
     "output_type": "stream",
     "text": [
      "Masukkan Jumlah Siswa = 3\n",
      "Masukkkan Jumlah Course = 2\n",
      "Masukkan Nama Siswa = Ani\n",
      "Masukkan Alamat Siswa = Jogja\n",
      "Masukkan Nama Mapel Siswa Ani = Matematika\n",
      "Masukkan Nilai Mapel Siswa Ani = 80\n",
      "Masukkan Nama Mapel Siswa Ani = Bahasa\n",
      "Masukkan Nilai Mapel Siswa Ani = 90\n",
      "Masukkan Nama Siswa = Budi\n",
      "Masukkan Alamat Siswa = Jakarta\n",
      "Masukkan Nama Mapel Siswa Budi = Matematika\n",
      "Masukkan Nilai Mapel Siswa Budi = 85\n",
      "Masukkan Nama Mapel Siswa Budi = Bahasa\n",
      "Masukkan Nilai Mapel Siswa Budi = 70\n",
      "Masukkan Nama Siswa = Cakra\n",
      "Masukkan Alamat Siswa = Bandung\n",
      "Masukkan Nama Mapel Siswa Cakra = Matematika\n",
      "Masukkan Nilai Mapel Siswa Cakra = 60\n",
      "Masukkan Nama Mapel Siswa Cakra = Bahasa\n",
      "Masukkan Nilai Mapel Siswa Cakra = 50\n",
      "Hasil\n",
      "Matematika : 80\n",
      "Bahasa : 90\n",
      "Rata-Rata :  85.0\n",
      "Matematika : 85\n",
      "Bahasa : 70\n",
      "Rata-Rata :  77.5\n",
      "Matematika : 60\n",
      "Bahasa : 50\n",
      "Rata-Rata :  55.0\n"
     ]
    }
   ],
   "source": [
    "class Student:\n",
    "    def __init__(self,name,address):\n",
    "        self.__name = name\n",
    "        self.__address = address\n",
    "        self.__numCourses = 0\n",
    "        self.__courses = []\n",
    "        self.__grades = []\n",
    "        \n",
    "    def getName(self):\n",
    "        return self.__name\n",
    "    \n",
    "    def getAddress(self):\n",
    "        return self.__address\n",
    "    \n",
    "    def setAddress(self,address):\n",
    "        self.__address = address\n",
    "        \n",
    "    def addCourseGrade(self,course,grade):\n",
    "        self.__courses.append(course)\n",
    "        self.__grades.append(grade)\n",
    "        self.__numCourses += 1\n",
    "        \n",
    "    def printGrades(self):\n",
    "        for i in range(len(self.__courses)):\n",
    "            print(self.__courses[i] +\" : \"+ str(self.__grades[i]))\n",
    "            \n",
    "    def getAverageGrade(self):\n",
    "        sum = 0\n",
    "        for n in self.__grades:\n",
    "            sum += n\n",
    "        return sum / len(self.__grades)\n",
    "            \n",
    "\n",
    "n_siswa = int(input(\"Masukkan Jumlah Siswa = \"))\n",
    "n_course = int(input(\"Masukkkan Jumlah Course = \"))\n",
    "\n",
    "siswa = []\n",
    "for i in range(n_siswa):\n",
    "    nama = input(\"Masukkan Nama Siswa = \")\n",
    "    alamat = input(\"Masukkan Alamat Siswa = \")\n",
    "    siswa.append(Student(nama,alamat))\n",
    "    for j in range(n_course):\n",
    "        mapel = input(\"Masukkan Nama Mapel Siswa \"+nama+\" = \")\n",
    "        nilai = int(input(\"Masukkan Nilai Mapel Siswa \"+nama+\" = \"))\n",
    "        siswa[i].addCourseGrade(mapel,nilai)\n",
    "\n",
    "print(\"Hasil\")\n",
    "for i in range(n_siswa):\n",
    "    print(s1.getName(),s1.getAddress())\n",
    "    siswa[i].printGrades()\n",
    "    print(\"Rata-Rata : \", siswa[i].getAverageGrade())\n",
    "\n",
    "# s1 = Student(\"Ani\",\"Yogyakarta\")\n",
    "# print(s1.getName(),s1.getAddress())\n",
    "# s1.addCourseGrade(\"Matematika\",95)\n",
    "# s1.addCourseGrade(\"IPA\",90)\n",
    "# s1.addCourseGrade(\"Bahasa Indonesia\",85)\n",
    "# s1.printGrades()\n",
    "# print(\"Rata-Rata : \", s1.getAverageGrade())\n",
    "\n",
    "# print()\n",
    "# s2 = Student(\"Budi\",\"Jakarta\")\n",
    "# print(s2.getName(),s2.getAddress())\n",
    "# s2.addCourseGrade(\"Matematika\",60)\n",
    "# s2.addCourseGrade(\"IPA\",70)\n",
    "# s2.addCourseGrade(\"Bahasa Indonesia\",100)\n",
    "# s2.printGrades()\n",
    "# print(\"Rata-Rata : \", s2.getAverageGrade())"
   ]
  },
  {
   "cell_type": "markdown",
   "metadata": {},
   "source": [
    "![employee class](https://www.ntu.edu.sg/home/ehchua/programming/java/images/ExerciseOOP_Employee.png)"
   ]
  },
  {
   "cell_type": "code",
   "execution_count": 18,
   "metadata": {},
   "outputs": [
    {
     "name": "stdout",
     "output_type": "stream",
     "text": [
      "Guntur Budi\n",
      "69000\n"
     ]
    }
   ],
   "source": [
    "class Employee:\n",
    "    def __init__(self,idEmp,firstName,lastName,salary):\n",
    "        self.__idEmp = idEmp\n",
    "        self.__firstName = firstName\n",
    "        self.__lastName = lastName\n",
    "        self.__salary = salary\n",
    "    \n",
    "    def getID(self):\n",
    "        return self.__idEmp\n",
    "    \n",
    "    def getFirstName(self):\n",
    "        return self.__firstName\n",
    "    \n",
    "    def getLastName(self):\n",
    "        return self.__lastName\n",
    "    \n",
    "    def getName(self):\n",
    "        return self.__firstName + \" \" + self.__lastName\n",
    "    \n",
    "    def getSalary(self):\n",
    "        return self.__salary\n",
    "    \n",
    "    def setSalary(self,salary):\n",
    "        self.__salary = salary\n",
    "        \n",
    "    def getAnnualSalary(self):\n",
    "        return self.__salary * 12\n",
    "    \n",
    "    def raiseSalary(self,percent):\n",
    "        self.__salary += self.__salary * (percent/100)\n",
    "        return self.__salary\n",
    "    \n",
    "    def __str__(self):\n",
    "        return self.getName() + \" \" + str(self.getSalary())\n",
    "        \n",
    "\n",
    "class Manager(Employee):\n",
    "    def __init__(self,idEmp,firstName,lastName,salary,bonus):\n",
    "        super().__init__(idEmp,firstName,lastName,salary)\n",
    "        self.__bonus = bonus\n",
    "        \n",
    "    def setBranch(self, branch):\n",
    "        self.__branch = branch\n",
    "    \n",
    "    def getBranch(self, branch):\n",
    "        return self.__branch\n",
    "    \n",
    "    def getBonus(self, bonus):\n",
    "        return self.__bonus\n",
    "    \n",
    "    def setBonus(self, bonus):\n",
    "        self.__bonus = bonus\n",
    "        \n",
    "    def getAnnualSalary(self):\n",
    "        return super().getSalary() * 12 + self.__bonus\n",
    "        \n",
    "\n",
    "m1 = Manager(1234,\"Guntur\",\"Budi\",5000,9000)\n",
    "print(m1.getName())\n",
    "print(m1.getAnnualSalary())\n",
    "\n",
    "# e1 = Employee(1234,\"Guntur\",\"Budi\",5000)\n",
    "# print(e1.getSalary())\n",
    "# print(e1.getAnnualSalary())\n",
    "# print(e1.raiseSalary(50))\n",
    "# print(e1.getAnnualSalary())\n",
    "# print(e1)"
   ]
  },
  {
   "cell_type": "markdown",
   "metadata": {},
   "source": [
    "![turunan people](https://www.ntu.edu.sg/home/ehchua/programming/java/images/OOP_PersonStudnetTeacher.png)"
   ]
  },
  {
   "cell_type": "code",
   "execution_count": 44,
   "metadata": {},
   "outputs": [],
   "source": [
    "class Person:\n",
    "    def __init__(self,name,address):\n",
    "        self.__name = name\n",
    "        self.__address = address\n",
    "    \n",
    "    def getName(self):\n",
    "        return self.__name\n",
    "    \n",
    "    def getAddress(self):\n",
    "        return self.__address\n",
    "    \n",
    "    def setName(name):\n",
    "        self.__name = name\n",
    "        \n",
    "    def __str__(self):\n",
    "        return self.__name+\" \"+self.__address\n",
    "        "
   ]
  },
  {
   "cell_type": "code",
   "execution_count": 45,
   "metadata": {},
   "outputs": [],
   "source": [
    "class Student(Person):\n",
    "    def __init__(self,name,address):\n",
    "        super().__init__(name,address)\n",
    "        self.__numCourses = 0\n",
    "        self.__courses = []\n",
    "        self.__grades = []        \n",
    "    \n",
    "    def addCourseGrade(self,course,grade):\n",
    "        self.__courses.append(course)\n",
    "        self.__grades.append(grade)\n",
    "        self.__numCourses += 1\n",
    "        \n",
    "    def printGrades(self):\n",
    "        for i in range(len(self.__courses)):\n",
    "            print(self.__courses[i] +\" : \"+ str(self.__grades[i]))\n",
    "            \n",
    "    def getAverageGrade(self):\n",
    "        sum = 0\n",
    "        for n in self.__grades:\n",
    "            sum += n\n",
    "        return sum / len(self.__grades)\n",
    "    \n",
    "    def __str__(self):\n",
    "        return \"Student: \" + super().getName() + \" \" +super().getAddress()"
   ]
  },
  {
   "cell_type": "code",
   "execution_count": 46,
   "metadata": {},
   "outputs": [],
   "source": [
    "class Teacher(Person):\n",
    "    def __init__(self,name,address):\n",
    "        super().__init__(name,address)\n",
    "        self.__numCourses = 0\n",
    "        self.__courses = []\n",
    "        \n",
    "    def addCourse(self, course):\n",
    "        if course not in self.__courses:\n",
    "            self.__courses.append(course)\n",
    "            return True\n",
    "        else:\n",
    "            return False\n",
    "        \n",
    "    def removeCourse(self, course):\n",
    "        if course in self.__courses:\n",
    "            i = self.__courses.index(course)\n",
    "            del self.__courses[i]\n",
    "            return True\n",
    "        else:\n",
    "            return False\n",
    "        \n",
    "    def printCourse(self):\n",
    "        print(self.__courses)\n",
    "        \n",
    "    def __str__(self):\n",
    "        return \"Teacher: \" + super().getName() + \" \" +super().getAddress()"
   ]
  },
  {
   "cell_type": "code",
   "execution_count": 47,
   "metadata": {},
   "outputs": [
    {
     "name": "stdout",
     "output_type": "stream",
     "text": [
      "Teacher: Pak Budi Jakarta\n",
      "['Matematika', 'Fisika']\n",
      "Gagal Dihapus\n",
      "['Matematika', 'Fisika']\n"
     ]
    }
   ],
   "source": [
    "t1 = Teacher(\"Pak Budi\",\"Jakarta\")\n",
    "print(t1)\n",
    "\n",
    "t1.addCourse(\"Matematika\")\n",
    "t1.addCourse(\"Fisika\")\n",
    "\n",
    "t1.printCourse()\n",
    "if(t1.removeCourse(\"Biologi\")):\n",
    "    print(\"Berhasil Dihapus\")\n",
    "else:\n",
    "    print(\"Gagal Dihapus\")\n",
    "t1.printCourse()\n"
   ]
  },
  {
   "cell_type": "code",
   "execution_count": null,
   "metadata": {},
   "outputs": [],
   "source": []
  }
 ],
 "metadata": {
  "kernelspec": {
   "display_name": "Python 3",
   "language": "python",
   "name": "python3"
  },
  "language_info": {
   "codemirror_mode": {
    "name": "ipython",
    "version": 3
   },
   "file_extension": ".py",
   "mimetype": "text/x-python",
   "name": "python",
   "nbconvert_exporter": "python",
   "pygments_lexer": "ipython3",
   "version": "3.6.9"
  }
 },
 "nbformat": 4,
 "nbformat_minor": 2
}
